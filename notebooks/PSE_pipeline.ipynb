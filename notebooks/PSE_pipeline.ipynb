{
 "cells": [
  {
   "cell_type": "markdown",
   "id": "c019f48c",
   "metadata": {},
   "source": [
    "There are two main scripts in repo. One is used for converting .pdf files to .pkl files (text files) and called PDF_converted.ipynb and the second one is PSE_pipeline notebook (PSE_pipeline.ipynb).\n",
    "\n",
    "\n",
    "!Important, for each of this notebooks there are different python enviroment, each folder contains the following files with should be run as commands in command line:\n",
    "*env-create.cmd\n",
    "*env-update.cmd\n",
    "After successful running we can run the following run to start Jupyter Notebook:\n",
    "*notebook.cmd \n",
    "\n",
    "\n",
    "Our entrypoints are Jupyter notebooks and should be run in Jupyter Hub.\n",
    "\n",
    "\n",
    "To run pipeline we need correctly set up all variables (folders and files paths) in 2nd section called \"Constant/variables\". This section contains data for training (already reviewed articles) and test data (for which we should generate labels), apart from it section contains paths to all additional/useful files, e.g. mappings. All files are placed in data folder in github repo. For running the scripts, please download full repo and in 2ns section \"Constant/variables\" change DATA_FOLDER parameter.\n",
    "\n",
    "\n",
    "Details about pipeline steps:\n",
    "\t• Title extraction:\n",
    "\t• Year extraction: for year extraction we are searching for first mentioned year in first 3 pages with condition that year should be placed between 1980 and 2022.\n",
    "\t• Publishing Institution: institutions are extracted based on list provided in Airtable just using search.\n",
    "\t• Countries: countries are extracted by names (using pycountry library), for each country we calculate frequency of mentioning, then based on frequency we select only countries with percentage of mentioning equal or greater than 1 / NUMBER_OF_ALL_MENTIONED_COUNTIERS, it helps to filter all \"once mentioned countries\".\n",
    "\t• USAID-region: based on extracted and selected countries and USAID-region - country mapping file, we assign for each country region and then aggregate all regions.\n",
    "\t• USAID-funded:\n",
    "\t• Special consideration: because category has multioutput (one or more labels per sample), we train model for each labels separately, it means that number of models equals to number of different labels for Special consideration. Training set is split to train and test as 85% / 15%. After we apply obtained model to test set.\n",
    "\t• PSE Ways We Engage: for generating labels, we are using student spans for training set; for test set we analyze 5 first pages sentence by sentence and trying to match sentence from text with each student span; therefore in the end we will have for text and all categories confidence score, which equals to maximum similarity between each pair of sentence text and all student spans for this category.\n",
    "\t• PSE Key Values/ PSE Key Values USAID offer: the same approach as doe PSE Ways We Engage.\n"
   ]
  },
  {
   "cell_type": "markdown",
   "id": "9fbe7852",
   "metadata": {},
   "source": [
    "## Imports"
   ]
  },
  {
   "cell_type": "code",
   "execution_count": 5,
   "id": "22230b04",
   "metadata": {},
   "outputs": [],
   "source": [
    "import pandas as pd\n",
    "import requests\n",
    "import json\n",
    "import re\n",
    "import sys\n",
    "import numpy as np\n",
    "import os\n",
    "import nltk\n",
    "import pickle\n",
    "import glob\n",
    "import nltk\n",
    "from nltk.stem.snowball import SnowballStemmer\n",
    "from nltk.stem.wordnet import WordNetLemmatizer\n",
    "from sklearn.utils import shuffle\n",
    "from importlib import reload\n",
    "from dateutil.parser import parse\n",
    "from time import time\n",
    "import pycountry"
   ]
  },
  {
   "cell_type": "code",
   "execution_count": 92,
   "id": "70314686",
   "metadata": {},
   "outputs": [],
   "source": [
    "# from sklearn import naive_bayes\n",
    "from sklearn import pipeline\n",
    "from sklearn import metrics\n",
    "from sklearn.linear_model import LogisticRegression\n",
    "from sklearn.preprocessing import MultiLabelBinarizer\n",
    "from sklearn.multiclass import OneVsRestClassifier\n",
    "from sklearn.utils import shuffle\n",
    "from sklearn import feature_extraction, model_selection, naive_bayes, pipeline, manifold, preprocessing\n",
    "from sklearn.metrics import accuracy_score\n",
    "import matplotlib.pyplot as plt\n",
    "import seaborn as sns"
   ]
  },
  {
   "cell_type": "code",
   "execution_count": null,
   "id": "60bdcddb",
   "metadata": {},
   "outputs": [],
   "source": [
    "from sentence_transformers import SentenceTransformer"
   ]
  },
  {
   "cell_type": "markdown",
   "id": "51c188f7",
   "metadata": {},
   "source": [
    "## Constants/variables"
   ]
  },
  {
   "cell_type": "code",
   "execution_count": 146,
   "id": "fe0424f0",
   "metadata": {},
   "outputs": [],
   "source": [
    "DATA_FOLDER = r'C:\\Users\\Volha_Skidan\\projects\\HavosAi\\data\\Phase 2 Working Folder (EGM Documents)'\n",
    "\n",
    "TRAINING_ARTICLE_FOLDERS = ['1st doc subset_ PSE EGM Documents (without BHA)', '2nd doc subset_ PSE EGM BHA Documents']\n",
    "TRAINING_METADATA_FILES = ['Categorization Matrix-Grid view Full.csv', 'Categorization Matrix-Grid view Second.csv']\n",
    "\n",
    "TEST_ARTICLE_FOLDER = ['PHASE 2 EGM Documents']\n",
    "TEST_METADATA_FILES = ['Categorization Matrix-Grid view Phase 2.csv']"
   ]
  },
  {
   "cell_type": "code",
   "execution_count": 51,
   "id": "2edf95e6",
   "metadata": {},
   "outputs": [],
   "source": [
    "PRIVATE_SECTOR_PARTNERS_FILE_PATH = r\"Private Sector Partners-Grid view.csv\"\n",
    "PUBL_INSTITUTION_FILE_PATH = r\"Publishing Institution-Grid view.csv\"\n",
    "COUNTRY_USAID_REGION_MAPPING_FILE_PATH = r\"USAID Countries by Region.csv\""
   ]
  },
  {
   "cell_type": "markdown",
   "id": "2a372840",
   "metadata": {},
   "source": [
    "## Data"
   ]
  },
  {
   "cell_type": "markdown",
   "id": "7c4837ae",
   "metadata": {},
   "source": [
    "### Data load"
   ]
  },
  {
   "cell_type": "markdown",
   "id": "498ba22b",
   "metadata": {},
   "source": [
    "#### Read pdf texts"
   ]
  },
  {
   "cell_type": "code",
   "execution_count": 160,
   "id": "32fe3a4a",
   "metadata": {},
   "outputs": [],
   "source": [
    "def read_data_frm_pkl(folder):\n",
    "    pkl_df = pd.DataFrame(columns=['doc_name', 'content'])\n",
    "    reviewd_files = os.listdir(folder)\n",
    "    for file_name in reviewd_files:\n",
    "        if not '.pkl' in file_name:\n",
    "            continue\n",
    "        \n",
    "        file_path = os.path.join(folder, file_name)\n",
    "\n",
    "        with open(file_path, 'rb') as f:\n",
    "            text_arr = pickle.load(f)\n",
    "            text = ' '.join(text_arr[1:5])  + ' '.join(text_arr[-4:])\n",
    "\n",
    "        pkl_df = pkl_df.append(\n",
    "                        {'doc_name': file_name,\n",
    "                        'content': text,\n",
    "                        'full_content': text_arr}, ignore_index=True)\n",
    "    return pkl_df"
   ]
  },
  {
   "cell_type": "code",
   "execution_count": 161,
   "id": "bcb6857c",
   "metadata": {},
   "outputs": [],
   "source": [
    "df = None\n",
    "for folder in TRAINING_ARTICLE_FOLDERS:\n",
    "    folder_path = os.path.join(DATA_FOLDER, folder)\n",
    "    df = pd.concat([df, read_data_frm_pkl(folder_path)])"
   ]
  },
  {
   "cell_type": "code",
   "execution_count": 140,
   "id": "3aeb8ccf",
   "metadata": {},
   "outputs": [
    {
     "data": {
      "text/plain": [
       "(772, 3)"
      ]
     },
     "execution_count": 140,
     "metadata": {},
     "output_type": "execute_result"
    }
   ],
   "source": [
    "df.shape"
   ]
  },
  {
   "cell_type": "code",
   "execution_count": 162,
   "id": "88c3f08d",
   "metadata": {},
   "outputs": [],
   "source": [
    "test_df = None\n",
    "for folder in TEST_ARTICLE_FOLDER:\n",
    "    folder_path = os.path.join(DATA_FOLDER, folder)\n",
    "    test_df = pd.concat([test_df, read_data_frm_pkl(folder_path)])"
   ]
  },
  {
   "cell_type": "code",
   "execution_count": 163,
   "id": "57d34752",
   "metadata": {},
   "outputs": [
    {
     "data": {
      "text/plain": [
       "(18, 3)"
      ]
     },
     "execution_count": 163,
     "metadata": {},
     "output_type": "execute_result"
    }
   ],
   "source": [
    "test_df.shape"
   ]
  },
  {
   "cell_type": "markdown",
   "id": "76fd55ee",
   "metadata": {},
   "source": [
    "#### Read metadata"
   ]
  },
  {
   "cell_type": "code",
   "execution_count": 164,
   "id": "25269df9",
   "metadata": {},
   "outputs": [],
   "source": [
    "metadata_df = None\n",
    "for file in TRAINING_METADATA_FILES:\n",
    "    file_path = os.path.join(DATA_FOLDER, file)\n",
    "    metadata_df = pd.concat([metadata_df, pd.read_csv(file_path)])"
   ]
  },
  {
   "cell_type": "code",
   "execution_count": 165,
   "id": "bc7d756a",
   "metadata": {},
   "outputs": [
    {
     "data": {
      "text/plain": [
       "(879, 25)"
      ]
     },
     "execution_count": 165,
     "metadata": {},
     "output_type": "execute_result"
    }
   ],
   "source": [
    "metadata_df.shape"
   ]
  },
  {
   "cell_type": "code",
   "execution_count": 166,
   "id": "8e3b9d45",
   "metadata": {},
   "outputs": [],
   "source": [
    "test_metadata_df = None\n",
    "for file in TEST_METADATA_FILES:\n",
    "    file_path = os.path.join(DATA_FOLDER, file)\n",
    "    test_metadata_df = pd.concat([test_metadata_df, pd.read_csv(file_path)])"
   ]
  },
  {
   "cell_type": "code",
   "execution_count": 167,
   "id": "c289b1da",
   "metadata": {},
   "outputs": [
    {
     "data": {
      "text/plain": [
       "(111, 25)"
      ]
     },
     "execution_count": 167,
     "metadata": {},
     "output_type": "execute_result"
    }
   ],
   "source": [
    "test_metadata_df.shape"
   ]
  },
  {
   "cell_type": "markdown",
   "id": "29a15740",
   "metadata": {},
   "source": [
    "### Data Merge"
   ]
  },
  {
   "cell_type": "markdown",
   "id": "85780012",
   "metadata": {},
   "source": [
    "#### Merge training data"
   ]
  },
  {
   "cell_type": "code",
   "execution_count": 168,
   "id": "cb222f54",
   "metadata": {},
   "outputs": [
    {
     "data": {
      "text/html": [
       "<div>\n",
       "<style scoped>\n",
       "    .dataframe tbody tr th:only-of-type {\n",
       "        vertical-align: middle;\n",
       "    }\n",
       "\n",
       "    .dataframe tbody tr th {\n",
       "        vertical-align: top;\n",
       "    }\n",
       "\n",
       "    .dataframe thead th {\n",
       "        text-align: right;\n",
       "    }\n",
       "</style>\n",
       "<table border=\"1\" class=\"dataframe\">\n",
       "  <thead>\n",
       "    <tr style=\"text-align: right;\">\n",
       "      <th></th>\n",
       "      <th>doc_name</th>\n",
       "      <th>content</th>\n",
       "      <th>full_content</th>\n",
       "    </tr>\n",
       "  </thead>\n",
       "  <tbody>\n",
       "    <tr>\n",
       "      <th>0</th>\n",
       "      <td>0000-APLU-PAK.pkl</td>\n",
       "      <td>\\n \\n \\n \\n\\nAcknowledgements \\n\\nMany people...</td>\n",
       "      <td>[ \\n\\n   \\n\\n \\n\\n \\n\\nFeasibility Study of th...</td>\n",
       "    </tr>\n",
       "    <tr>\n",
       "      <th>1</th>\n",
       "      <td>0000-Chile-ZMB.pkl</td>\n",
       "      <td>\\n\\n \\n\\n \\n\\n \\n\\n \\n\\nRepublic of Zambia \\n...</td>\n",
       "      <td>[ \\n\\n \\n \\n\\n \\n\\n \\n\\n \\n\\nRepublic of Zambi...</td>\n",
       "    </tr>\n",
       "  </tbody>\n",
       "</table>\n",
       "</div>"
      ],
      "text/plain": [
       "             doc_name                                            content  \\\n",
       "0   0000-APLU-PAK.pkl   \\n \\n \\n \\n\\nAcknowledgements \\n\\nMany people...   \n",
       "1  0000-Chile-ZMB.pkl   \\n\\n \\n\\n \\n\\n \\n\\n \\n\\nRepublic of Zambia \\n...   \n",
       "\n",
       "                                        full_content  \n",
       "0  [ \\n\\n   \\n\\n \\n\\n \\n\\nFeasibility Study of th...  \n",
       "1  [ \\n\\n \\n \\n\\n \\n\\n \\n\\n \\n\\nRepublic of Zambi...  "
      ]
     },
     "execution_count": 168,
     "metadata": {},
     "output_type": "execute_result"
    }
   ],
   "source": [
    "df.head(2)"
   ]
  },
  {
   "cell_type": "code",
   "execution_count": 169,
   "id": "13869e9a",
   "metadata": {},
   "outputs": [
    {
     "data": {
      "text/plain": [
       "784"
      ]
     },
     "execution_count": 169,
     "metadata": {},
     "output_type": "execute_result"
    }
   ],
   "source": [
    "len(set(metadata_df['Document ID'].values))"
   ]
  },
  {
   "cell_type": "code",
   "execution_count": 170,
   "id": "20cb1436",
   "metadata": {},
   "outputs": [
    {
     "data": {
      "text/html": [
       "<div>\n",
       "<style scoped>\n",
       "    .dataframe tbody tr th:only-of-type {\n",
       "        vertical-align: middle;\n",
       "    }\n",
       "\n",
       "    .dataframe tbody tr th {\n",
       "        vertical-align: top;\n",
       "    }\n",
       "\n",
       "    .dataframe thead th {\n",
       "        text-align: right;\n",
       "    }\n",
       "</style>\n",
       "<table border=\"1\" class=\"dataframe\">\n",
       "  <thead>\n",
       "    <tr style=\"text-align: right;\">\n",
       "      <th></th>\n",
       "      <th>Document ID</th>\n",
       "      <th>Document Title</th>\n",
       "      <th>Author(s)</th>\n",
       "      <th>Name of Private Sector Partner(s)</th>\n",
       "      <th>Publishing Institution(s)</th>\n",
       "      <th>Year</th>\n",
       "      <th>Technical Sector</th>\n",
       "      <th>Special Considerations</th>\n",
       "      <th>Private Sector Industry</th>\n",
       "      <th>Type of Enterprise</th>\n",
       "      <th>...</th>\n",
       "      <th>PSE Key Values</th>\n",
       "      <th>PSE Key Values USAID Offers</th>\n",
       "      <th>Key Findings</th>\n",
       "      <th>Key Recommendations</th>\n",
       "      <th>Document Attachment</th>\n",
       "      <th>Google Drive Link</th>\n",
       "      <th>Internet URL of Document</th>\n",
       "      <th>Reviewer Name</th>\n",
       "      <th>Review Complete?</th>\n",
       "      <th>Review Stage</th>\n",
       "    </tr>\n",
       "  </thead>\n",
       "  <tbody>\n",
       "    <tr>\n",
       "      <th>0</th>\n",
       "      <td>0000-APLU-PAK</td>\n",
       "      <td>Feasibility Study of the US-Pakistan Knowledge...</td>\n",
       "      <td>Association for Public and Land-grant Universi...</td>\n",
       "      <td>NaN</td>\n",
       "      <td>USAID</td>\n",
       "      <td>NaN</td>\n",
       "      <td>Education and Social Services</td>\n",
       "      <td>Youth</td>\n",
       "      <td>Educational Services</td>\n",
       "      <td>NaN</td>\n",
       "      <td>...</td>\n",
       "      <td>\"Scale, Sustainability, and Reach\",\"Innovation...</td>\n",
       "      <td>Sectoral Expertise and Knowledge,Support to St...</td>\n",
       "      <td>We can learn from past individual training pro...</td>\n",
       "      <td>Recommendations for aligning program goals:\\n1...</td>\n",
       "      <td>0000-APLU-PAK.pdf (https://dl.airtable.com/.at...</td>\n",
       "      <td>https://drive.google.com/open?id=1foT7HO75eCJ-...</td>\n",
       "      <td>https://pdf.usaid.gov/pdf_docs/PA00N7DN.pdf</td>\n",
       "      <td>Mehak,Anna</td>\n",
       "      <td>checked</td>\n",
       "      <td>Second Review</td>\n",
       "    </tr>\n",
       "    <tr>\n",
       "      <th>1</th>\n",
       "      <td>0000-Chile-ZMB</td>\n",
       "      <td>Teacher Effectiveness. Towards Sustainable Del...</td>\n",
       "      <td>John Chileshe,Geoffrey Tambulukani</td>\n",
       "      <td>NaN</td>\n",
       "      <td>USAID</td>\n",
       "      <td>NaN</td>\n",
       "      <td>Education and Social Services</td>\n",
       "      <td>NaN</td>\n",
       "      <td>NaN</td>\n",
       "      <td>NaN</td>\n",
       "      <td>...</td>\n",
       "      <td>Efficiency and Effectiveness</td>\n",
       "      <td>Sectoral Expertise and Knowledge</td>\n",
       "      <td>According to this article, the head teacher is...</td>\n",
       "      <td>The following are examples of key best practic...</td>\n",
       "      <td>0000-Chile-ZMB.pdf (https://dl.airtable.com/.a...</td>\n",
       "      <td>https://drive.google.com/open?id=1dzE6kGKQRTK-...</td>\n",
       "      <td>https://pdf.usaid.gov/pdf_docs/PA00MWT9.pdf</td>\n",
       "      <td>Mehak,Lauren</td>\n",
       "      <td>checked</td>\n",
       "      <td>Second Review</td>\n",
       "    </tr>\n",
       "  </tbody>\n",
       "</table>\n",
       "<p>2 rows × 25 columns</p>\n",
       "</div>"
      ],
      "text/plain": [
       "      Document ID                                     Document Title  \\\n",
       "0   0000-APLU-PAK  Feasibility Study of the US-Pakistan Knowledge...   \n",
       "1  0000-Chile-ZMB  Teacher Effectiveness. Towards Sustainable Del...   \n",
       "\n",
       "                                           Author(s)  \\\n",
       "0  Association for Public and Land-grant Universi...   \n",
       "1                 John Chileshe,Geoffrey Tambulukani   \n",
       "\n",
       "  Name of Private Sector Partner(s) Publishing Institution(s)  Year  \\\n",
       "0                               NaN                     USAID   NaN   \n",
       "1                               NaN                     USAID   NaN   \n",
       "\n",
       "                Technical Sector Special Considerations  \\\n",
       "0  Education and Social Services                  Youth   \n",
       "1  Education and Social Services                    NaN   \n",
       "\n",
       "  Private Sector Industry Type of Enterprise  ...  \\\n",
       "0    Educational Services                NaN  ...   \n",
       "1                     NaN                NaN  ...   \n",
       "\n",
       "                                      PSE Key Values  \\\n",
       "0  \"Scale, Sustainability, and Reach\",\"Innovation...   \n",
       "1                       Efficiency and Effectiveness   \n",
       "\n",
       "                         PSE Key Values USAID Offers  \\\n",
       "0  Sectoral Expertise and Knowledge,Support to St...   \n",
       "1                   Sectoral Expertise and Knowledge   \n",
       "\n",
       "                                        Key Findings  \\\n",
       "0  We can learn from past individual training pro...   \n",
       "1  According to this article, the head teacher is...   \n",
       "\n",
       "                                 Key Recommendations  \\\n",
       "0  Recommendations for aligning program goals:\\n1...   \n",
       "1  The following are examples of key best practic...   \n",
       "\n",
       "                                 Document Attachment  \\\n",
       "0  0000-APLU-PAK.pdf (https://dl.airtable.com/.at...   \n",
       "1  0000-Chile-ZMB.pdf (https://dl.airtable.com/.a...   \n",
       "\n",
       "                                   Google Drive Link  \\\n",
       "0  https://drive.google.com/open?id=1foT7HO75eCJ-...   \n",
       "1  https://drive.google.com/open?id=1dzE6kGKQRTK-...   \n",
       "\n",
       "                      Internet URL of Document Reviewer Name Review Complete?  \\\n",
       "0  https://pdf.usaid.gov/pdf_docs/PA00N7DN.pdf    Mehak,Anna          checked   \n",
       "1  https://pdf.usaid.gov/pdf_docs/PA00MWT9.pdf  Mehak,Lauren          checked   \n",
       "\n",
       "    Review Stage  \n",
       "0  Second Review  \n",
       "1  Second Review  \n",
       "\n",
       "[2 rows x 25 columns]"
      ]
     },
     "execution_count": 170,
     "metadata": {},
     "output_type": "execute_result"
    }
   ],
   "source": [
    "metadata_df.head(2)"
   ]
  },
  {
   "cell_type": "code",
   "execution_count": 171,
   "id": "874505ce",
   "metadata": {},
   "outputs": [
    {
     "data": {
      "text/plain": [
       "(772, 3)"
      ]
     },
     "execution_count": 171,
     "metadata": {},
     "output_type": "execute_result"
    }
   ],
   "source": [
    "df.shape"
   ]
  },
  {
   "cell_type": "code",
   "execution_count": 172,
   "id": "06802fac",
   "metadata": {},
   "outputs": [
    {
     "data": {
      "text/plain": [
       "(879, 25)"
      ]
     },
     "execution_count": 172,
     "metadata": {},
     "output_type": "execute_result"
    }
   ],
   "source": [
    "metadata_df.shape"
   ]
  },
  {
   "cell_type": "code",
   "execution_count": 173,
   "id": "9946bd80",
   "metadata": {},
   "outputs": [],
   "source": [
    "df['Document ID'] = df['doc_name'].str.split('.').str[0].str.lower().str.strip().str.replace('-pr', \"\")\n",
    "\n",
    "metadata_df = metadata_df.drop_duplicates(subset=['Document ID'])\n",
    "metadata_df['Document ID'] = metadata_df['Document ID'].str.lower().str.strip().str.replace('-pr', \"\")\n",
    "\n",
    "df_text = pd.merge(df, metadata_df,\n",
    "                  how='inner',\n",
    "                  on='Document ID')"
   ]
  },
  {
   "cell_type": "code",
   "execution_count": 174,
   "id": "b91ca8f2",
   "metadata": {},
   "outputs": [
    {
     "data": {
      "text/plain": [
       "(731, 28)"
      ]
     },
     "execution_count": 174,
     "metadata": {},
     "output_type": "execute_result"
    }
   ],
   "source": [
    "df_text.shape"
   ]
  },
  {
   "cell_type": "code",
   "execution_count": 175,
   "id": "76a2bcbe",
   "metadata": {},
   "outputs": [
    {
     "data": {
      "text/plain": [
       "779"
      ]
     },
     "execution_count": 175,
     "metadata": {},
     "output_type": "execute_result"
    }
   ],
   "source": [
    "len(set(metadata_df['Document ID'].values))"
   ]
  },
  {
   "cell_type": "code",
   "execution_count": 176,
   "id": "955e0ec9",
   "metadata": {},
   "outputs": [
    {
     "data": {
      "text/plain": [
       "772"
      ]
     },
     "execution_count": 176,
     "metadata": {},
     "output_type": "execute_result"
    }
   ],
   "source": [
    "len(set(df['Document ID'].values))"
   ]
  },
  {
   "cell_type": "markdown",
   "id": "31b86366",
   "metadata": {},
   "source": [
    "#### Merge test data"
   ]
  },
  {
   "cell_type": "code",
   "execution_count": 154,
   "id": "d6695e4a",
   "metadata": {},
   "outputs": [],
   "source": [
    "test_df['Document ID'] = test_df['doc_name'].str.split('.').str[0].str.lower().str.strip().str.replace('-pr', \"\")\n",
    "\n",
    "test_metadata_df = test_metadata_df.drop_duplicates(subset=['Document ID'])\n",
    "test_metadata_df['Document ID'] = test_metadata_df['Document ID'].str.lower().str.strip().str.replace('-pr', \"\")\n",
    "\n",
    "test_df_text = pd.merge(test_df, test_metadata_df,\n",
    "                  how='inner',\n",
    "                  on='Document ID')"
   ]
  },
  {
   "cell_type": "code",
   "execution_count": 155,
   "id": "96984c20",
   "metadata": {},
   "outputs": [
    {
     "data": {
      "text/plain": [
       "(0, 27)"
      ]
     },
     "execution_count": 155,
     "metadata": {},
     "output_type": "execute_result"
    }
   ],
   "source": [
    "test_df_text.shape"
   ]
  },
  {
   "cell_type": "markdown",
   "id": "255e7fa2",
   "metadata": {},
   "source": [
    "### Text processing"
   ]
  },
  {
   "cell_type": "code",
   "execution_count": 156,
   "id": "ade9f7ef",
   "metadata": {},
   "outputs": [
    {
     "data": {
      "text/plain": [
       "['i', 'me']"
      ]
     },
     "execution_count": 156,
     "metadata": {},
     "output_type": "execute_result"
    }
   ],
   "source": [
    "def utils_preprocess_text(text, flg_stemm=False, flg_lemm=True, lst_stopwords=None):\n",
    "    ## clean (convert to lowercase and remove punctuations and characters and then strip)\n",
    "    text = re.sub(r'[^\\w\\se]', '', str(text).lower().strip())\n",
    "    text = text.replace('\\n',\"\").replace('\\t',\"\")\n",
    "            \n",
    "    ## Tokenize (convert from string to list)\n",
    "    lst_text = text.split()\n",
    "    ## remove Stopwords\n",
    "    if lst_stopwords is not None:\n",
    "        lst_text = [word for word in lst_text if word not in \n",
    "                    lst_stopwords]\n",
    "    \n",
    "    #remove shorts\n",
    "    lst_text = [word for word in lst_text if len(word) > 2]\n",
    "        \n",
    "    ## Stemming (remove -ing, -ly, ...)\n",
    "    if flg_stemm == True:\n",
    "        ps = nltk.stem.porter.PorterStemmer()\n",
    "        lst_text = [ps.stem(word) for word in lst_text]\n",
    "                \n",
    "    ## Lemmatisation (convert the word into root word)\n",
    "    if flg_lemm == True:\n",
    "        lem = nltk.stem.wordnet.WordNetLemmatizer()\n",
    "        lst_text = [lem.lemmatize(word) for word in lst_text]\n",
    "            \n",
    "    ## back to string from list\n",
    "    text = \" \".join(lst_text)\n",
    "\n",
    "    return text\n",
    "\n",
    "lst_stopwords = nltk.corpus.stopwords.words(\"english\")\n",
    "lst_stopwords[:2]"
   ]
  },
  {
   "cell_type": "code",
   "execution_count": 30,
   "id": "8616b61f",
   "metadata": {},
   "outputs": [],
   "source": [
    "df_text[\"text_clean\"] = df_text[\"content\"].apply(lambda x: \n",
    "          utils_preprocess_text(x, flg_stemm=False, flg_lemm=True, \n",
    "          lst_stopwords=lst_stopwords))\n",
    "\n",
    "test_df_text[\"text_clean\"] = test_df_text[\"content\"].apply(lambda x: \n",
    "          utils_preprocess_text(x, flg_stemm=False, flg_lemm=True, \n",
    "          lst_stopwords=lst_stopwords))"
   ]
  },
  {
   "cell_type": "markdown",
   "id": "8abbd445",
   "metadata": {},
   "source": [
    "## Information Extraction"
   ]
  },
  {
   "cell_type": "code",
   "execution_count": 31,
   "id": "5ed2b6fd",
   "metadata": {},
   "outputs": [
    {
     "data": {
      "text/html": [
       "<div>\n",
       "<style scoped>\n",
       "    .dataframe tbody tr th:only-of-type {\n",
       "        vertical-align: middle;\n",
       "    }\n",
       "\n",
       "    .dataframe tbody tr th {\n",
       "        vertical-align: top;\n",
       "    }\n",
       "\n",
       "    .dataframe thead th {\n",
       "        text-align: right;\n",
       "    }\n",
       "</style>\n",
       "<table border=\"1\" class=\"dataframe\">\n",
       "  <thead>\n",
       "    <tr style=\"text-align: right;\">\n",
       "      <th></th>\n",
       "      <th>Unnamed: 0</th>\n",
       "      <th>document_name</th>\n",
       "      <th>title_found</th>\n",
       "      <th>authors_organizations</th>\n",
       "      <th>authors_institutions</th>\n",
       "      <th>publishing_institutions</th>\n",
       "    </tr>\n",
       "  </thead>\n",
       "  <tbody>\n",
       "    <tr>\n",
       "      <th>0</th>\n",
       "      <td>0</td>\n",
       "      <td>0000-BOMM-COD.pdf</td>\n",
       "      <td>Changing aid industry norms applying the marke...</td>\n",
       "      <td>set()</td>\n",
       "      <td>{'Marco Venier', 'Diane Bommart', 'Kim Beevers'}</td>\n",
       "      <td>set()</td>\n",
       "    </tr>\n",
       "    <tr>\n",
       "      <th>1</th>\n",
       "      <td>1</td>\n",
       "      <td>0000-BOURI-GLO.pdf</td>\n",
       "      <td>Unleashing private capital for global health i...</td>\n",
       "      <td>{'USAID'}</td>\n",
       "      <td>{'Amit Bouri'}</td>\n",
       "      <td>{'USAID'}</td>\n",
       "    </tr>\n",
       "  </tbody>\n",
       "</table>\n",
       "</div>"
      ],
      "text/plain": [
       "   Unnamed: 0       document_name  \\\n",
       "0           0   0000-BOMM-COD.pdf   \n",
       "1           1  0000-BOURI-GLO.pdf   \n",
       "\n",
       "                                         title_found authors_organizations  \\\n",
       "0  Changing aid industry norms applying the marke...                 set()   \n",
       "1  Unleashing private capital for global health i...             {'USAID'}   \n",
       "\n",
       "                               authors_institutions publishing_institutions  \n",
       "0  {'Marco Venier', 'Diane Bommart', 'Kim Beevers'}                   set()  \n",
       "1                                    {'Amit Bouri'}               {'USAID'}  "
      ]
     },
     "execution_count": 31,
     "metadata": {},
     "output_type": "execute_result"
    }
   ],
   "source": [
    "title_author_path = r\"C:\\Users\\Volha_Skidan\\projects\\HavosAi\\data\\Phase 2 Working Folder (EGM Documents)\\Titles, authors and publishers (2nd doc subset).csv\"\n",
    "title_author_df = pd.read_csv(title_author_path, sep=';')\n",
    "title_author_df.head(2)"
   ]
  },
  {
   "cell_type": "code",
   "execution_count": 33,
   "id": "64f14b73",
   "metadata": {},
   "outputs": [],
   "source": [
    "# title_author_df['document_name'] = title_author_df['document_name'].str.split('.').str[0]\n",
    "# df_te['document_name'] = df_small_text['doc_name'].str.split('.').str[0]"
   ]
  },
  {
   "cell_type": "code",
   "execution_count": 34,
   "id": "ff302bfa",
   "metadata": {},
   "outputs": [],
   "source": [
    "# df_small_text = pd.merge(df_small_text, title_author_df,\n",
    "#                  on = 'document_name')"
   ]
  },
  {
   "cell_type": "code",
   "execution_count": 35,
   "id": "2c645a06",
   "metadata": {},
   "outputs": [],
   "source": [
    "# df_small_text.shape"
   ]
  },
  {
   "cell_type": "markdown",
   "id": "5b3a1d10",
   "metadata": {},
   "source": [
    "### Title extraction"
   ]
  },
  {
   "cell_type": "code",
   "execution_count": null,
   "id": "ebb017e0",
   "metadata": {},
   "outputs": [],
   "source": []
  },
  {
   "cell_type": "markdown",
   "id": "f09549b1",
   "metadata": {},
   "source": [
    "### Author extraction - not yet"
   ]
  },
  {
   "cell_type": "markdown",
   "id": "cad8bd70",
   "metadata": {},
   "source": [
    "### Year extraction"
   ]
  },
  {
   "cell_type": "code",
   "execution_count": 36,
   "id": "34a663b5",
   "metadata": {},
   "outputs": [],
   "source": [
    "def extract_first_4digits(s):\n",
    "    if s is None:\n",
    "        return None\n",
    "    text = ' '.join(s[:3])\n",
    "    possible_years = re.findall(r\"[^\\d]\\d\\d\\d\\d[^\\d]\", text)\n",
    "    for year in possible_years:\n",
    "        year = re.findall(r'\\d+', year)[0]\n",
    "        if int(year) < 2022 and int(year) > 1980:\n",
    "            return float(year)\n",
    "    return None\n",
    "\n",
    "# # Check for accuracy\n",
    "df_text['found_year'] = df_text['full_content'].apply(extract_first_4digits)\n",
    "df_text['Year'] = df_text['Year'].astype('float')\n",
    "\n",
    "test_df_text['found_year'] = test_df_text['full_content'].apply(extract_first_4digits)\n",
    "test_df_text['Year'] = test_df_text['Year'].astype('float')"
   ]
  },
  {
   "cell_type": "code",
   "execution_count": 37,
   "id": "c2c68be7",
   "metadata": {},
   "outputs": [
    {
     "name": "stdout",
     "output_type": "stream",
     "text": [
      "Matched years:  572\n",
      "Non-empty years:  701\n",
      "Correct part:  0.8159771754636234\n"
     ]
    }
   ],
   "source": [
    "print(\"Matched years: \", df_text[(df_text['Year'].notna()) & (abs(df_text['Year'] - df_text['found_year'])) < 0.1].shape[0])\n",
    "print(\"Non-empty years: \", df_text[df_text['Year'].notna()].shape[0])\n",
    "print(\"Correct part: \", df_text[(df_text['Year'].notna()) & (abs(df_text['Year'] - df_text['found_year'])) < 0.1].shape[0] / df_text[df_text['Year'].notna()].shape[0])"
   ]
  },
  {
   "cell_type": "code",
   "execution_count": 38,
   "id": "ecdb45a7",
   "metadata": {},
   "outputs": [
    {
     "data": {
      "text/html": [
       "<div>\n",
       "<style scoped>\n",
       "    .dataframe tbody tr th:only-of-type {\n",
       "        vertical-align: middle;\n",
       "    }\n",
       "\n",
       "    .dataframe tbody tr th {\n",
       "        vertical-align: top;\n",
       "    }\n",
       "\n",
       "    .dataframe thead th {\n",
       "        text-align: right;\n",
       "    }\n",
       "</style>\n",
       "<table border=\"1\" class=\"dataframe\">\n",
       "  <thead>\n",
       "    <tr style=\"text-align: right;\">\n",
       "      <th></th>\n",
       "      <th>doc_name</th>\n",
       "      <th>Year</th>\n",
       "      <th>found_year</th>\n",
       "    </tr>\n",
       "  </thead>\n",
       "  <tbody>\n",
       "    <tr>\n",
       "      <th>20</th>\n",
       "      <td>0000-USAID-UGA-C.pkl</td>\n",
       "      <td>NaN</td>\n",
       "      <td>2018.0</td>\n",
       "    </tr>\n",
       "    <tr>\n",
       "      <th>21</th>\n",
       "      <td>0400-Diara-MLT-pr.pkl</td>\n",
       "      <td>2004.0</td>\n",
       "      <td>2004.0</td>\n",
       "    </tr>\n",
       "    <tr>\n",
       "      <th>22</th>\n",
       "      <td>0402-Newel-NPL-pr.pkl</td>\n",
       "      <td>2004.0</td>\n",
       "      <td>NaN</td>\n",
       "    </tr>\n",
       "    <tr>\n",
       "      <th>23</th>\n",
       "      <td>0408-Bull-GLO-pr.pkl</td>\n",
       "      <td>2004.0</td>\n",
       "      <td>NaN</td>\n",
       "    </tr>\n",
       "    <tr>\n",
       "      <th>24</th>\n",
       "      <td>0701-Ochie-MLT-pr.pkl</td>\n",
       "      <td>2007.0</td>\n",
       "      <td>2007.0</td>\n",
       "    </tr>\n",
       "  </tbody>\n",
       "</table>\n",
       "</div>"
      ],
      "text/plain": [
       "                 doc_name    Year  found_year\n",
       "20   0000-USAID-UGA-C.pkl     NaN      2018.0\n",
       "21  0400-Diara-MLT-pr.pkl  2004.0      2004.0\n",
       "22  0402-Newel-NPL-pr.pkl  2004.0         NaN\n",
       "23   0408-Bull-GLO-pr.pkl  2004.0         NaN\n",
       "24  0701-Ochie-MLT-pr.pkl  2007.0      2007.0"
      ]
     },
     "execution_count": 38,
     "metadata": {},
     "output_type": "execute_result"
    }
   ],
   "source": [
    "df_text[['doc_name', 'Year', 'found_year']].iloc[20:25]"
   ]
  },
  {
   "cell_type": "markdown",
   "id": "dcadaa50",
   "metadata": {},
   "source": [
    "### Private Sector Partners (not used) - Search from list - Need additional development"
   ]
  },
  {
   "cell_type": "code",
   "execution_count": 40,
   "id": "b721602f",
   "metadata": {},
   "outputs": [],
   "source": [
    "# priv_sect_partners_df = pd.read_csv(PRIVATE_SECTOR_PARTNERS_FILE_PATH)\n",
    "# priv_sect_partners_list = list(priv_sect_partners_df[priv_sect_partners_df['Private Sector Partner Name'].notna()]['Private Sector Partner Name'])"
   ]
  },
  {
   "cell_type": "code",
   "execution_count": 41,
   "id": "70b89042",
   "metadata": {},
   "outputs": [],
   "source": [
    "# def search_priv_sector_partner(s):\n",
    "#     partner_list = []\n",
    "#     for partner in priv_sect_partners_list:\n",
    "#         if partner.lower() in s.lower():\n",
    "#             partner_list.append(partner)\n",
    "#     return partner_list\n",
    "\n",
    "# df_text['priv_sect_partners_found'] = df_text['content'].apply(search_priv_sector_partner)"
   ]
  },
  {
   "cell_type": "code",
   "execution_count": 42,
   "id": "10025de3",
   "metadata": {
    "scrolled": true
   },
   "outputs": [],
   "source": [
    "# df_text[['doc_name', 'Name of Private Sector Partner(s)', 'priv_sect_partners_found']][26:30]"
   ]
  },
  {
   "cell_type": "markdown",
   "id": "fb24ceae",
   "metadata": {},
   "source": [
    "### Publishing Institurion - Search from list"
   ]
  },
  {
   "cell_type": "code",
   "execution_count": 46,
   "id": "0972afff",
   "metadata": {},
   "outputs": [],
   "source": [
    "publ_inst_df = pd.read_csv(PUBL_INSTITUTION_FILE_PATH)\n",
    "publ_inst_list = list(publ_inst_df[publ_inst_df['Name'].notna()]['Name'])"
   ]
  },
  {
   "cell_type": "code",
   "execution_count": 47,
   "id": "16e371b2",
   "metadata": {},
   "outputs": [],
   "source": [
    "def search_institution(s):\n",
    "    institution_list = []\n",
    "    if s is None:\n",
    "        return None\n",
    "    text = ' '.join(s[:3])\n",
    "    for institution in publ_inst_list:\n",
    "        if institution.lower() in text.lower():\n",
    "            institution_list.append(institution)\n",
    "    return institution_list\n",
    "\n",
    "# Check for accuracy\n",
    "df_text['institution_found'] = df_text['full_content'].apply(search_institution)\n",
    "# Pipeline step\n",
    "test_df_text['institution_found'] = test_df_text['full_content'].apply(search_institution)"
   ]
  },
  {
   "cell_type": "code",
   "execution_count": 48,
   "id": "2e44b54e",
   "metadata": {
    "scrolled": true
   },
   "outputs": [
    {
     "data": {
      "text/html": [
       "<div>\n",
       "<style scoped>\n",
       "    .dataframe tbody tr th:only-of-type {\n",
       "        vertical-align: middle;\n",
       "    }\n",
       "\n",
       "    .dataframe tbody tr th {\n",
       "        vertical-align: top;\n",
       "    }\n",
       "\n",
       "    .dataframe thead th {\n",
       "        text-align: right;\n",
       "    }\n",
       "</style>\n",
       "<table border=\"1\" class=\"dataframe\">\n",
       "  <thead>\n",
       "    <tr style=\"text-align: right;\">\n",
       "      <th></th>\n",
       "      <th>doc_name</th>\n",
       "      <th>Publishing Institution(s)</th>\n",
       "      <th>institution_found</th>\n",
       "    </tr>\n",
       "  </thead>\n",
       "  <tbody>\n",
       "    <tr>\n",
       "      <th>7</th>\n",
       "      <td>0000-Sloan-UGA.pkl</td>\n",
       "      <td>Feed the Future</td>\n",
       "      <td>[USAID, Feed the Future]</td>\n",
       "    </tr>\n",
       "    <tr>\n",
       "      <th>8</th>\n",
       "      <td>0000-Solow-IDN.pkl</td>\n",
       "      <td>USAID,Kementerian Kesehatan Republik Indonesia</td>\n",
       "      <td>[USAID]</td>\n",
       "    </tr>\n",
       "    <tr>\n",
       "      <th>9</th>\n",
       "      <td>0000-USAID-GHA-B.pkl</td>\n",
       "      <td>USAID,\"Climate Change, Agriculture, and Food S...</td>\n",
       "      <td>[USAID, CGIAR, CCAFS, Root Capital, World Coco...</td>\n",
       "    </tr>\n",
       "    <tr>\n",
       "      <th>10</th>\n",
       "      <td>0000-USAID-GHA-C.pkl</td>\n",
       "      <td>Feed the Future,USAID,\"Climate Change, Agricul...</td>\n",
       "      <td>[USAID, Feed the Future, Sustainable Food Lab,...</td>\n",
       "    </tr>\n",
       "    <tr>\n",
       "      <th>11</th>\n",
       "      <td>0000-USAID-GHA-D.pkl</td>\n",
       "      <td>USAID</td>\n",
       "      <td>[USAID]</td>\n",
       "    </tr>\n",
       "    <tr>\n",
       "      <th>12</th>\n",
       "      <td>0000-USAID-GLO-A.pkl</td>\n",
       "      <td>U.S. Government</td>\n",
       "      <td>[U.S. Government, SustainAbility]</td>\n",
       "    </tr>\n",
       "    <tr>\n",
       "      <th>13</th>\n",
       "      <td>0000-USAID-GLO-C.pkl</td>\n",
       "      <td>USAID</td>\n",
       "      <td>[USAID, SustainAbility, SEED, Vision]</td>\n",
       "    </tr>\n",
       "    <tr>\n",
       "      <th>14</th>\n",
       "      <td>0000-USAID-LBR.pkl</td>\n",
       "      <td>DAI,USAID</td>\n",
       "      <td>[USAID, PSI, DAI, SustainAbility]</td>\n",
       "    </tr>\n",
       "    <tr>\n",
       "      <th>15</th>\n",
       "      <td>0000-USAID-MLT-A.pkl</td>\n",
       "      <td>USAID</td>\n",
       "      <td>[Insight, USAID]</td>\n",
       "    </tr>\n",
       "    <tr>\n",
       "      <th>16</th>\n",
       "      <td>0000-USAID-MLT-B.pkl</td>\n",
       "      <td>USAID</td>\n",
       "      <td>[USAID, SustainAbility]</td>\n",
       "    </tr>\n",
       "    <tr>\n",
       "      <th>17</th>\n",
       "      <td>0000-USAID-NPL.pkl</td>\n",
       "      <td>USAID</td>\n",
       "      <td>[USAID, GH Pro, Feed the Future, U.S. Governme...</td>\n",
       "    </tr>\n",
       "    <tr>\n",
       "      <th>18</th>\n",
       "      <td>0000-USAID-UGA-A.pkl</td>\n",
       "      <td>USAID,Feed the Future,\"Climate Change, Agricul...</td>\n",
       "      <td>[USAID, CGIAR, International Institute of Trop...</td>\n",
       "    </tr>\n",
       "    <tr>\n",
       "      <th>19</th>\n",
       "      <td>0000-USAID-UGA-B.pkl</td>\n",
       "      <td>Feed the Future,\"Climate Change, Agriculture, ...</td>\n",
       "      <td>[Insight, USAID, Sustainable Food Lab, CGIAR, ...</td>\n",
       "    </tr>\n",
       "    <tr>\n",
       "      <th>20</th>\n",
       "      <td>0000-USAID-UGA-C.pkl</td>\n",
       "      <td>USAID,\"Climate Change, Agriculture, and Food S...</td>\n",
       "      <td>[USAID, Feed the Future, CGIAR, CCAFS, Interna...</td>\n",
       "    </tr>\n",
       "    <tr>\n",
       "      <th>21</th>\n",
       "      <td>0400-Diara-MLT-pr.pkl</td>\n",
       "      <td>Society for International Development</td>\n",
       "      <td>[USAID, Society for International Development]</td>\n",
       "    </tr>\n",
       "    <tr>\n",
       "      <th>22</th>\n",
       "      <td>0402-Newel-NPL-pr.pkl</td>\n",
       "      <td>Bulletin of the World Health Organization</td>\n",
       "      <td>[Bulletin of the World Health Organization]</td>\n",
       "    </tr>\n",
       "    <tr>\n",
       "      <th>23</th>\n",
       "      <td>0408-Bull-GLO-pr.pkl</td>\n",
       "      <td>Global Governance</td>\n",
       "      <td>[Global Governance]</td>\n",
       "    </tr>\n",
       "    <tr>\n",
       "      <th>24</th>\n",
       "      <td>0701-Ochie-MLT-pr.pkl</td>\n",
       "      <td>Journal of Modern African Studies</td>\n",
       "      <td>[GH Pro, International Food Policy Research In...</td>\n",
       "    </tr>\n",
       "    <tr>\n",
       "      <th>25</th>\n",
       "      <td>0807-Frew-MLT-pr.pkl</td>\n",
       "      <td>Health Affairs</td>\n",
       "      <td>[Health Affairs]</td>\n",
       "    </tr>\n",
       "    <tr>\n",
       "      <th>26</th>\n",
       "      <td>0900-Gu-MLT-pr.pkl</td>\n",
       "      <td>European Journal of Development Research</td>\n",
       "      <td>[European Journal of Development Research]</td>\n",
       "    </tr>\n",
       "    <tr>\n",
       "      <th>27</th>\n",
       "      <td>0902-Bled-GLO-pr.pkl</td>\n",
       "      <td>\"International Environmental Agreements: Polit...</td>\n",
       "      <td>[Springer Science+Business Media, Int Environ ...</td>\n",
       "    </tr>\n",
       "    <tr>\n",
       "      <th>28</th>\n",
       "      <td>0903-Lee-CHN-pr.pkl</td>\n",
       "      <td>Water Resources Management</td>\n",
       "      <td>[Insight, World Bank, Springer Science+Busines...</td>\n",
       "    </tr>\n",
       "    <tr>\n",
       "      <th>29</th>\n",
       "      <td>0904-Scott-GLO-pr.pkl</td>\n",
       "      <td>Journal of Technology Transfer</td>\n",
       "      <td>[Springer Science+Business Media]</td>\n",
       "    </tr>\n",
       "    <tr>\n",
       "      <th>30</th>\n",
       "      <td>1000-Baxi-GLO-pr.pkl</td>\n",
       "      <td>Vision: The Journal of Business Perspective</td>\n",
       "      <td>[GAO, SustainAbility, SEED, Vision]</td>\n",
       "    </tr>\n",
       "    <tr>\n",
       "      <th>31</th>\n",
       "      <td>1000-Nelso-MLT-pr.pkl</td>\n",
       "      <td>Brookings Institution</td>\n",
       "      <td>[]</td>\n",
       "    </tr>\n",
       "    <tr>\n",
       "      <th>32</th>\n",
       "      <td>1000-Spiel-GLO-pr.pkl</td>\n",
       "      <td>Public Administration and Development,Wiley On...</td>\n",
       "      <td>[World Bank, CGIAR, International Food Policy ...</td>\n",
       "    </tr>\n",
       "    <tr>\n",
       "      <th>33</th>\n",
       "      <td>1001-Ticar-SVN-pr.pkl</td>\n",
       "      <td>Review of Central and East European Law</td>\n",
       "      <td>[]</td>\n",
       "    </tr>\n",
       "    <tr>\n",
       "      <th>34</th>\n",
       "      <td>1003-Hayll-HKG-pr.pkl</td>\n",
       "      <td>Australian Journal of Public Administration</td>\n",
       "      <td>[World Economic Forum, PSI, OECD, SustainAbili...</td>\n",
       "    </tr>\n",
       "    <tr>\n",
       "      <th>35</th>\n",
       "      <td>1006-Blowf-KEN-pr.pkl</td>\n",
       "      <td>Journal of Business Ethics</td>\n",
       "      <td>[Rainforest Alliance, Journal of Business Ethics]</td>\n",
       "    </tr>\n",
       "    <tr>\n",
       "      <th>36</th>\n",
       "      <td>1008-Abbot-GLO-pr.pkl</td>\n",
       "      <td>The Review of International Organizations</td>\n",
       "      <td>[Springer Science+Business Media]</td>\n",
       "    </tr>\n",
       "    <tr>\n",
       "      <th>...</th>\n",
       "      <td>...</td>\n",
       "      <td>...</td>\n",
       "      <td>...</td>\n",
       "    </tr>\n",
       "    <tr>\n",
       "      <th>701</th>\n",
       "      <td>2100-LANTA-GLO.pkl</td>\n",
       "      <td>Elrha</td>\n",
       "      <td>[Insight]</td>\n",
       "    </tr>\n",
       "    <tr>\n",
       "      <th>702</th>\n",
       "      <td>2100-Lawso-GLO.pkl</td>\n",
       "      <td>NaN</td>\n",
       "      <td>[World Bank, World Vision, Vision]</td>\n",
       "    </tr>\n",
       "    <tr>\n",
       "      <th>703</th>\n",
       "      <td>2100-MENAS-CIV.pkl</td>\n",
       "      <td>Inter-agency Network for Education in Emergenc...</td>\n",
       "      <td>[]</td>\n",
       "    </tr>\n",
       "    <tr>\n",
       "      <th>704</th>\n",
       "      <td>2101-KIRN-GLO.pkl</td>\n",
       "      <td>World Economic Forum</td>\n",
       "      <td>[World Economic Forum, World Bank]</td>\n",
       "    </tr>\n",
       "    <tr>\n",
       "      <th>705</th>\n",
       "      <td>2101-MCMILL-COD.pkl</td>\n",
       "      <td>USAID</td>\n",
       "      <td>[USAID, Tetra Tech, Mercy Corps, ME&amp;A, Feed th...</td>\n",
       "    </tr>\n",
       "    <tr>\n",
       "      <th>706</th>\n",
       "      <td>2101-MERCY-UGA.pkl</td>\n",
       "      <td>Mercy Corps</td>\n",
       "      <td>[Insight, Mercy Corps]</td>\n",
       "    </tr>\n",
       "    <tr>\n",
       "      <th>707</th>\n",
       "      <td>2103-COZZO-GLO.pkl</td>\n",
       "      <td>MDPI</td>\n",
       "      <td>[Insight, SustainAbility]</td>\n",
       "    </tr>\n",
       "    <tr>\n",
       "      <th>708</th>\n",
       "      <td>2103-GSMA-ETH.pkl</td>\n",
       "      <td>GSM Association (GSMA)</td>\n",
       "      <td>[Insight]</td>\n",
       "    </tr>\n",
       "    <tr>\n",
       "      <th>709</th>\n",
       "      <td>2103-IFC-GLO.pkl</td>\n",
       "      <td>International Finance Corporation</td>\n",
       "      <td>[World Bank]</td>\n",
       "    </tr>\n",
       "    <tr>\n",
       "      <th>710</th>\n",
       "      <td>2103-OCHA-GLO.pkl</td>\n",
       "      <td>OCHA,UNDP,Connecting Business Initiative</td>\n",
       "      <td>[]</td>\n",
       "    </tr>\n",
       "    <tr>\n",
       "      <th>711</th>\n",
       "      <td>2103-USAID-GLO.pkl</td>\n",
       "      <td>USAID From the American People</td>\n",
       "      <td>[USAID, Tetra Tech, Social Impact]</td>\n",
       "    </tr>\n",
       "    <tr>\n",
       "      <th>712</th>\n",
       "      <td>2103-USAID-SND.pkl</td>\n",
       "      <td>USAID</td>\n",
       "      <td>[USAID, CRS, US Global Development Lab]</td>\n",
       "    </tr>\n",
       "    <tr>\n",
       "      <th>713</th>\n",
       "      <td>2104-OCHA-GLO.pkl</td>\n",
       "      <td>OCHA</td>\n",
       "      <td>[World Bank, United Nations Foundation]</td>\n",
       "    </tr>\n",
       "    <tr>\n",
       "      <th>714</th>\n",
       "      <td>2104-USAID-IDN.pkl</td>\n",
       "      <td>USAID</td>\n",
       "      <td>[USAID]</td>\n",
       "    </tr>\n",
       "    <tr>\n",
       "      <th>715</th>\n",
       "      <td>2105-MAURI-GLO.pkl</td>\n",
       "      <td>CIES-Iscte</td>\n",
       "      <td>[]</td>\n",
       "    </tr>\n",
       "    <tr>\n",
       "      <th>716</th>\n",
       "      <td>2105-PIERR-HTI.pkl</td>\n",
       "      <td>U.S Department of Agriculture</td>\n",
       "      <td>[USDA, CRS]</td>\n",
       "    </tr>\n",
       "    <tr>\n",
       "      <th>717</th>\n",
       "      <td>2106-BYRNE-GLO.pkl</td>\n",
       "      <td>Beam Exchange</td>\n",
       "      <td>[Insight, USAID, OECD]</td>\n",
       "    </tr>\n",
       "    <tr>\n",
       "      <th>718</th>\n",
       "      <td>2106-KLING-VNM.pkl</td>\n",
       "      <td>BMJ Innov</td>\n",
       "      <td>[DAI]</td>\n",
       "    </tr>\n",
       "    <tr>\n",
       "      <th>719</th>\n",
       "      <td>2106-PDRF-PHL.pkl</td>\n",
       "      <td>Philippine Disaster Resilience Foundation (PDR...</td>\n",
       "      <td>[Insight]</td>\n",
       "    </tr>\n",
       "    <tr>\n",
       "      <th>720</th>\n",
       "      <td>2106-PDRF-VAN.pkl</td>\n",
       "      <td>Connecting Business Initiative,Philippine Disa...</td>\n",
       "      <td>[]</td>\n",
       "    </tr>\n",
       "    <tr>\n",
       "      <th>721</th>\n",
       "      <td>2107-FEMA-MLT.pkl</td>\n",
       "      <td>NaN</td>\n",
       "      <td>[]</td>\n",
       "    </tr>\n",
       "    <tr>\n",
       "      <th>722</th>\n",
       "      <td>2107-GSMA-GLO.pkl</td>\n",
       "      <td>GSM Association (GSMA),EXXUS</td>\n",
       "      <td>[Insight]</td>\n",
       "    </tr>\n",
       "    <tr>\n",
       "      <th>723</th>\n",
       "      <td>2107-MERCY-GLO.pkl</td>\n",
       "      <td>Mercy Corps</td>\n",
       "      <td>[Mercy Corps]</td>\n",
       "    </tr>\n",
       "    <tr>\n",
       "      <th>724</th>\n",
       "      <td>2107-Osori-GLO.pkl</td>\n",
       "      <td>Beam Exchange</td>\n",
       "      <td>[Insight, World Bank, SustainAbility]</td>\n",
       "    </tr>\n",
       "    <tr>\n",
       "      <th>725</th>\n",
       "      <td>2108-Shokr-IRN.pkl</td>\n",
       "      <td>International Journal of Disaster Risk Reduction</td>\n",
       "      <td>[Insight, Vision, International Journal]</td>\n",
       "    </tr>\n",
       "    <tr>\n",
       "      <th>726</th>\n",
       "      <td>2109-BRITO-CLO.pkl</td>\n",
       "      <td>Miyamoto International,USAID</td>\n",
       "      <td>[USAID]</td>\n",
       "    </tr>\n",
       "    <tr>\n",
       "      <th>727</th>\n",
       "      <td>2109-Cozzo-GLO.pkl</td>\n",
       "      <td>MDPI</td>\n",
       "      <td>[Insight, SustainAbility]</td>\n",
       "    </tr>\n",
       "    <tr>\n",
       "      <th>728</th>\n",
       "      <td>2109-MAOR-GLO.pkl</td>\n",
       "      <td>USAID</td>\n",
       "      <td>[Insight, USAID, Feed the Future, DAI]</td>\n",
       "    </tr>\n",
       "    <tr>\n",
       "      <th>729</th>\n",
       "      <td>2110-CBI-GLO.pkl</td>\n",
       "      <td>NaN</td>\n",
       "      <td>[Vision]</td>\n",
       "    </tr>\n",
       "    <tr>\n",
       "      <th>730</th>\n",
       "      <td>2110-OCHA-PHL.pkl</td>\n",
       "      <td>Connecting Business Initiative</td>\n",
       "      <td>[PSI]</td>\n",
       "    </tr>\n",
       "  </tbody>\n",
       "</table>\n",
       "<p>724 rows × 3 columns</p>\n",
       "</div>"
      ],
      "text/plain": [
       "                  doc_name                          Publishing Institution(s)  \\\n",
       "7       0000-Sloan-UGA.pkl                                    Feed the Future   \n",
       "8       0000-Solow-IDN.pkl     USAID,Kementerian Kesehatan Republik Indonesia   \n",
       "9     0000-USAID-GHA-B.pkl  USAID,\"Climate Change, Agriculture, and Food S...   \n",
       "10    0000-USAID-GHA-C.pkl  Feed the Future,USAID,\"Climate Change, Agricul...   \n",
       "11    0000-USAID-GHA-D.pkl                                              USAID   \n",
       "12    0000-USAID-GLO-A.pkl                                    U.S. Government   \n",
       "13    0000-USAID-GLO-C.pkl                                              USAID   \n",
       "14      0000-USAID-LBR.pkl                                          DAI,USAID   \n",
       "15    0000-USAID-MLT-A.pkl                                              USAID   \n",
       "16    0000-USAID-MLT-B.pkl                                              USAID   \n",
       "17      0000-USAID-NPL.pkl                                              USAID   \n",
       "18    0000-USAID-UGA-A.pkl  USAID,Feed the Future,\"Climate Change, Agricul...   \n",
       "19    0000-USAID-UGA-B.pkl  Feed the Future,\"Climate Change, Agriculture, ...   \n",
       "20    0000-USAID-UGA-C.pkl  USAID,\"Climate Change, Agriculture, and Food S...   \n",
       "21   0400-Diara-MLT-pr.pkl              Society for International Development   \n",
       "22   0402-Newel-NPL-pr.pkl          Bulletin of the World Health Organization   \n",
       "23    0408-Bull-GLO-pr.pkl                                  Global Governance   \n",
       "24   0701-Ochie-MLT-pr.pkl                  Journal of Modern African Studies   \n",
       "25    0807-Frew-MLT-pr.pkl                                     Health Affairs   \n",
       "26      0900-Gu-MLT-pr.pkl           European Journal of Development Research   \n",
       "27    0902-Bled-GLO-pr.pkl  \"International Environmental Agreements: Polit...   \n",
       "28     0903-Lee-CHN-pr.pkl                         Water Resources Management   \n",
       "29   0904-Scott-GLO-pr.pkl                     Journal of Technology Transfer   \n",
       "30    1000-Baxi-GLO-pr.pkl        Vision: The Journal of Business Perspective   \n",
       "31   1000-Nelso-MLT-pr.pkl                              Brookings Institution   \n",
       "32   1000-Spiel-GLO-pr.pkl  Public Administration and Development,Wiley On...   \n",
       "33   1001-Ticar-SVN-pr.pkl            Review of Central and East European Law   \n",
       "34   1003-Hayll-HKG-pr.pkl        Australian Journal of Public Administration   \n",
       "35   1006-Blowf-KEN-pr.pkl                         Journal of Business Ethics   \n",
       "36   1008-Abbot-GLO-pr.pkl          The Review of International Organizations   \n",
       "..                     ...                                                ...   \n",
       "701     2100-LANTA-GLO.pkl                                              Elrha   \n",
       "702     2100-Lawso-GLO.pkl                                                NaN   \n",
       "703     2100-MENAS-CIV.pkl  Inter-agency Network for Education in Emergenc...   \n",
       "704      2101-KIRN-GLO.pkl                               World Economic Forum   \n",
       "705    2101-MCMILL-COD.pkl                                              USAID   \n",
       "706     2101-MERCY-UGA.pkl                                        Mercy Corps   \n",
       "707     2103-COZZO-GLO.pkl                                               MDPI   \n",
       "708      2103-GSMA-ETH.pkl                             GSM Association (GSMA)   \n",
       "709       2103-IFC-GLO.pkl                  International Finance Corporation   \n",
       "710      2103-OCHA-GLO.pkl           OCHA,UNDP,Connecting Business Initiative   \n",
       "711     2103-USAID-GLO.pkl                     USAID From the American People   \n",
       "712     2103-USAID-SND.pkl                                              USAID   \n",
       "713      2104-OCHA-GLO.pkl                                               OCHA   \n",
       "714     2104-USAID-IDN.pkl                                              USAID   \n",
       "715     2105-MAURI-GLO.pkl                                         CIES-Iscte   \n",
       "716     2105-PIERR-HTI.pkl                      U.S Department of Agriculture   \n",
       "717     2106-BYRNE-GLO.pkl                                      Beam Exchange   \n",
       "718     2106-KLING-VNM.pkl                                          BMJ Innov   \n",
       "719      2106-PDRF-PHL.pkl  Philippine Disaster Resilience Foundation (PDR...   \n",
       "720      2106-PDRF-VAN.pkl  Connecting Business Initiative,Philippine Disa...   \n",
       "721      2107-FEMA-MLT.pkl                                                NaN   \n",
       "722      2107-GSMA-GLO.pkl                       GSM Association (GSMA),EXXUS   \n",
       "723     2107-MERCY-GLO.pkl                                        Mercy Corps   \n",
       "724     2107-Osori-GLO.pkl                                      Beam Exchange   \n",
       "725     2108-Shokr-IRN.pkl   International Journal of Disaster Risk Reduction   \n",
       "726     2109-BRITO-CLO.pkl                       Miyamoto International,USAID   \n",
       "727     2109-Cozzo-GLO.pkl                                               MDPI   \n",
       "728      2109-MAOR-GLO.pkl                                              USAID   \n",
       "729       2110-CBI-GLO.pkl                                                NaN   \n",
       "730      2110-OCHA-PHL.pkl                     Connecting Business Initiative   \n",
       "\n",
       "                                     institution_found  \n",
       "7                             [USAID, Feed the Future]  \n",
       "8                                              [USAID]  \n",
       "9    [USAID, CGIAR, CCAFS, Root Capital, World Coco...  \n",
       "10   [USAID, Feed the Future, Sustainable Food Lab,...  \n",
       "11                                             [USAID]  \n",
       "12                   [U.S. Government, SustainAbility]  \n",
       "13               [USAID, SustainAbility, SEED, Vision]  \n",
       "14                   [USAID, PSI, DAI, SustainAbility]  \n",
       "15                                    [Insight, USAID]  \n",
       "16                             [USAID, SustainAbility]  \n",
       "17   [USAID, GH Pro, Feed the Future, U.S. Governme...  \n",
       "18   [USAID, CGIAR, International Institute of Trop...  \n",
       "19   [Insight, USAID, Sustainable Food Lab, CGIAR, ...  \n",
       "20   [USAID, Feed the Future, CGIAR, CCAFS, Interna...  \n",
       "21      [USAID, Society for International Development]  \n",
       "22         [Bulletin of the World Health Organization]  \n",
       "23                                 [Global Governance]  \n",
       "24   [GH Pro, International Food Policy Research In...  \n",
       "25                                    [Health Affairs]  \n",
       "26          [European Journal of Development Research]  \n",
       "27   [Springer Science+Business Media, Int Environ ...  \n",
       "28   [Insight, World Bank, Springer Science+Busines...  \n",
       "29                   [Springer Science+Business Media]  \n",
       "30                 [GAO, SustainAbility, SEED, Vision]  \n",
       "31                                                  []  \n",
       "32   [World Bank, CGIAR, International Food Policy ...  \n",
       "33                                                  []  \n",
       "34   [World Economic Forum, PSI, OECD, SustainAbili...  \n",
       "35   [Rainforest Alliance, Journal of Business Ethics]  \n",
       "36                   [Springer Science+Business Media]  \n",
       "..                                                 ...  \n",
       "701                                          [Insight]  \n",
       "702                 [World Bank, World Vision, Vision]  \n",
       "703                                                 []  \n",
       "704                 [World Economic Forum, World Bank]  \n",
       "705  [USAID, Tetra Tech, Mercy Corps, ME&A, Feed th...  \n",
       "706                             [Insight, Mercy Corps]  \n",
       "707                          [Insight, SustainAbility]  \n",
       "708                                          [Insight]  \n",
       "709                                       [World Bank]  \n",
       "710                                                 []  \n",
       "711                 [USAID, Tetra Tech, Social Impact]  \n",
       "712            [USAID, CRS, US Global Development Lab]  \n",
       "713            [World Bank, United Nations Foundation]  \n",
       "714                                            [USAID]  \n",
       "715                                                 []  \n",
       "716                                        [USDA, CRS]  \n",
       "717                             [Insight, USAID, OECD]  \n",
       "718                                              [DAI]  \n",
       "719                                          [Insight]  \n",
       "720                                                 []  \n",
       "721                                                 []  \n",
       "722                                          [Insight]  \n",
       "723                                      [Mercy Corps]  \n",
       "724              [Insight, World Bank, SustainAbility]  \n",
       "725           [Insight, Vision, International Journal]  \n",
       "726                                            [USAID]  \n",
       "727                          [Insight, SustainAbility]  \n",
       "728             [Insight, USAID, Feed the Future, DAI]  \n",
       "729                                           [Vision]  \n",
       "730                                              [PSI]  \n",
       "\n",
       "[724 rows x 3 columns]"
      ]
     },
     "execution_count": 48,
     "metadata": {},
     "output_type": "execute_result"
    }
   ],
   "source": [
    "df_text[['doc_name', 'Publishing Institution(s)', 'institution_found' ]][7:]"
   ]
  },
  {
   "cell_type": "markdown",
   "id": "29ab96cb",
   "metadata": {},
   "source": [
    "### Countries"
   ]
  },
  {
   "cell_type": "code",
   "execution_count": 55,
   "id": "d5b59c6e",
   "metadata": {},
   "outputs": [],
   "source": [
    "def search_countries(s):\n",
    "    if s is None:\n",
    "        return None\n",
    "    text = ' '.join(s) #[:5]) + ' '.join(s[-5:])\n",
    "    countries = {}\n",
    "    for country in pycountry.countries:\n",
    "        if country.name in text:\n",
    "            countries[country.name] = text.count(country.name)\n",
    "    return countries\n",
    "        \n",
    "# Accuracy check\n",
    "df_text['countries_found'] = df_text['full_content'].apply(search_countries)\n",
    "# Pipeline step\n",
    "test_df_text['countries_found'] = test_df_text['full_content'].apply(search_countries)"
   ]
  },
  {
   "cell_type": "code",
   "execution_count": 56,
   "id": "340ffaab",
   "metadata": {},
   "outputs": [],
   "source": [
    "def limit_countries(s):\n",
    "    countries = []\n",
    "    freq_sum = sum(s.values())\n",
    "    for k,v in s.items():\n",
    "        if v / freq_sum > 0.9 / len(s):\n",
    "            countries.append(k)\n",
    "    return countries\n",
    "        \n",
    "# Accuracy check\n",
    "df_text['countries_limited_by_freq_found'] = df_text['countries_found'].apply(limit_countries)\n",
    "# Pipeline step\n",
    "test_df_text['countries_limited_by_freq_found'] = test_df_text['countries_found'].apply(limit_countries)"
   ]
  },
  {
   "cell_type": "code",
   "execution_count": 57,
   "id": "a5c89a75",
   "metadata": {},
   "outputs": [
    {
     "data": {
      "text/html": [
       "<div>\n",
       "<style scoped>\n",
       "    .dataframe tbody tr th:only-of-type {\n",
       "        vertical-align: middle;\n",
       "    }\n",
       "\n",
       "    .dataframe tbody tr th {\n",
       "        vertical-align: top;\n",
       "    }\n",
       "\n",
       "    .dataframe thead th {\n",
       "        text-align: right;\n",
       "    }\n",
       "</style>\n",
       "<table border=\"1\" class=\"dataframe\">\n",
       "  <thead>\n",
       "    <tr style=\"text-align: right;\">\n",
       "      <th></th>\n",
       "      <th>doc_name</th>\n",
       "      <th>Country(ies)</th>\n",
       "      <th>countries_found</th>\n",
       "      <th>countries_limited_by_freq_found</th>\n",
       "    </tr>\n",
       "  </thead>\n",
       "  <tbody>\n",
       "    <tr>\n",
       "      <th>0</th>\n",
       "      <td>0000-APLU-PAK.pkl</td>\n",
       "      <td>Pakistan</td>\n",
       "      <td>{'Australia': 1, 'Belgium': 1, 'Brazil': 9, 'C...</td>\n",
       "      <td>[Pakistan, United States]</td>\n",
       "    </tr>\n",
       "    <tr>\n",
       "      <th>1</th>\n",
       "      <td>0000-Chile-ZMB.pkl</td>\n",
       "      <td>Zambia</td>\n",
       "      <td>{'Chile': 2, 'Japan': 2, 'Malawi': 1, 'United ...</td>\n",
       "      <td>[Zambia]</td>\n",
       "    </tr>\n",
       "    <tr>\n",
       "      <th>2</th>\n",
       "      <td>0000-INMED-GLO.pkl</td>\n",
       "      <td>Global,Uganda,Brazil,Angola,Indonesia,Poland,C...</td>\n",
       "      <td>{'Angola': 2, 'Brazil': 2, 'China': 3, 'Ghana'...</td>\n",
       "      <td>[Angola, Brazil, China, Indonesia, Nicaragua]</td>\n",
       "    </tr>\n",
       "  </tbody>\n",
       "</table>\n",
       "</div>"
      ],
      "text/plain": [
       "             doc_name                                       Country(ies)  \\\n",
       "0   0000-APLU-PAK.pkl                                           Pakistan   \n",
       "1  0000-Chile-ZMB.pkl                                             Zambia   \n",
       "2  0000-INMED-GLO.pkl  Global,Uganda,Brazil,Angola,Indonesia,Poland,C...   \n",
       "\n",
       "                                     countries_found  \\\n",
       "0  {'Australia': 1, 'Belgium': 1, 'Brazil': 9, 'C...   \n",
       "1  {'Chile': 2, 'Japan': 2, 'Malawi': 1, 'United ...   \n",
       "2  {'Angola': 2, 'Brazil': 2, 'China': 3, 'Ghana'...   \n",
       "\n",
       "                 countries_limited_by_freq_found  \n",
       "0                      [Pakistan, United States]  \n",
       "1                                       [Zambia]  \n",
       "2  [Angola, Brazil, China, Indonesia, Nicaragua]  "
      ]
     },
     "execution_count": 57,
     "metadata": {},
     "output_type": "execute_result"
    }
   ],
   "source": [
    "df_text[['doc_name', 'Country(ies)', 'countries_found', 'countries_limited_by_freq_found']].head(3)"
   ]
  },
  {
   "cell_type": "markdown",
   "id": "de237031",
   "metadata": {},
   "source": [
    "### USAID-region / USAID-founded (ask Devon for mapping)"
   ]
  },
  {
   "cell_type": "code",
   "execution_count": 52,
   "id": "f3f36beb",
   "metadata": {},
   "outputs": [
    {
     "data": {
      "text/html": [
       "<div>\n",
       "<style scoped>\n",
       "    .dataframe tbody tr th:only-of-type {\n",
       "        vertical-align: middle;\n",
       "    }\n",
       "\n",
       "    .dataframe tbody tr th {\n",
       "        vertical-align: top;\n",
       "    }\n",
       "\n",
       "    .dataframe thead th {\n",
       "        text-align: right;\n",
       "    }\n",
       "</style>\n",
       "<table border=\"1\" class=\"dataframe\">\n",
       "  <thead>\n",
       "    <tr style=\"text-align: right;\">\n",
       "      <th></th>\n",
       "      <th>Country</th>\n",
       "      <th>USAID Region</th>\n",
       "    </tr>\n",
       "  </thead>\n",
       "  <tbody>\n",
       "    <tr>\n",
       "      <th>0</th>\n",
       "      <td>Afghanistan</td>\n",
       "      <td>Afghanistan and Pakistan</td>\n",
       "    </tr>\n",
       "    <tr>\n",
       "      <th>1</th>\n",
       "      <td>Albania</td>\n",
       "      <td>Europe and Eurasia</td>\n",
       "    </tr>\n",
       "    <tr>\n",
       "      <th>2</th>\n",
       "      <td>Algeria</td>\n",
       "      <td>Africa</td>\n",
       "    </tr>\n",
       "    <tr>\n",
       "      <th>3</th>\n",
       "      <td>Angola</td>\n",
       "      <td>Africa</td>\n",
       "    </tr>\n",
       "    <tr>\n",
       "      <th>4</th>\n",
       "      <td>Armenia</td>\n",
       "      <td>Europe and Eurasia</td>\n",
       "    </tr>\n",
       "  </tbody>\n",
       "</table>\n",
       "</div>"
      ],
      "text/plain": [
       "      Country              USAID Region \n",
       "0  Afghanistan  Afghanistan and Pakistan\n",
       "1      Albania       Europe and Eurasia \n",
       "2      Algeria                    Africa\n",
       "3       Angola                    Africa\n",
       "4      Armenia       Europe and Eurasia "
      ]
     },
     "execution_count": 52,
     "metadata": {},
     "output_type": "execute_result"
    }
   ],
   "source": [
    "country_region_df = pd.read_csv(COUNTRY_USAID_REGION_MAPPING_FILE_PATH)\n",
    "country_region_dict = dict(zip(country_region_df['Country '], country_region_df['USAID Region ']))\n",
    "country_region_df.head(5)"
   ]
  },
  {
   "cell_type": "code",
   "execution_count": 58,
   "id": "35233991",
   "metadata": {},
   "outputs": [],
   "source": [
    "def search_regions(s):\n",
    "    regions = set()\n",
    "    for country in s:\n",
    "        if country not in country_region_dict:\n",
    "            continue\n",
    "        regions.add(country_region_dict[country])\n",
    "    return list(regions)\n",
    "    \n",
    "# Accuracy check\n",
    "df_text['usaid_region_found'] = df_text['countries_limited_by_freq_found'].apply(search_regions)\n",
    "# Pepiline step\n",
    "test_df_text['usaid_region_found'] = test_df_text['countries_limited_by_freq_found'].apply(search_regions)"
   ]
  },
  {
   "cell_type": "code",
   "execution_count": 60,
   "id": "816802b5",
   "metadata": {
    "scrolled": false
   },
   "outputs": [
    {
     "data": {
      "text/html": [
       "<div>\n",
       "<style scoped>\n",
       "    .dataframe tbody tr th:only-of-type {\n",
       "        vertical-align: middle;\n",
       "    }\n",
       "\n",
       "    .dataframe tbody tr th {\n",
       "        vertical-align: top;\n",
       "    }\n",
       "\n",
       "    .dataframe thead th {\n",
       "        text-align: right;\n",
       "    }\n",
       "</style>\n",
       "<table border=\"1\" class=\"dataframe\">\n",
       "  <thead>\n",
       "    <tr style=\"text-align: right;\">\n",
       "      <th></th>\n",
       "      <th>doc_name</th>\n",
       "      <th>Country(ies)</th>\n",
       "      <th>countries_found</th>\n",
       "      <th>USAID Region</th>\n",
       "      <th>usaid_region_found</th>\n",
       "    </tr>\n",
       "  </thead>\n",
       "  <tbody>\n",
       "    <tr>\n",
       "      <th>0</th>\n",
       "      <td>0000-APLU-PAK.pkl</td>\n",
       "      <td>Pakistan</td>\n",
       "      <td>{'Australia': 1, 'Belgium': 1, 'Brazil': 9, 'C...</td>\n",
       "      <td>Afghanistan and Pakistan</td>\n",
       "      <td>[Afghanistan and Pakistan]</td>\n",
       "    </tr>\n",
       "    <tr>\n",
       "      <th>1</th>\n",
       "      <td>0000-Chile-ZMB.pkl</td>\n",
       "      <td>Zambia</td>\n",
       "      <td>{'Chile': 2, 'Japan': 2, 'Malawi': 1, 'United ...</td>\n",
       "      <td>Africa</td>\n",
       "      <td>[Africa]</td>\n",
       "    </tr>\n",
       "    <tr>\n",
       "      <th>2</th>\n",
       "      <td>0000-INMED-GLO.pkl</td>\n",
       "      <td>Global,Uganda,Brazil,Angola,Indonesia,Poland,C...</td>\n",
       "      <td>{'Angola': 2, 'Brazil': 2, 'China': 3, 'Ghana'...</td>\n",
       "      <td>Latin America and the Carribean</td>\n",
       "      <td>[Asia, Africa, Latin America and the Caribbean]</td>\n",
       "    </tr>\n",
       "  </tbody>\n",
       "</table>\n",
       "</div>"
      ],
      "text/plain": [
       "             doc_name                                       Country(ies)  \\\n",
       "0   0000-APLU-PAK.pkl                                           Pakistan   \n",
       "1  0000-Chile-ZMB.pkl                                             Zambia   \n",
       "2  0000-INMED-GLO.pkl  Global,Uganda,Brazil,Angola,Indonesia,Poland,C...   \n",
       "\n",
       "                                     countries_found  \\\n",
       "0  {'Australia': 1, 'Belgium': 1, 'Brazil': 9, 'C...   \n",
       "1  {'Chile': 2, 'Japan': 2, 'Malawi': 1, 'United ...   \n",
       "2  {'Angola': 2, 'Brazil': 2, 'China': 3, 'Ghana'...   \n",
       "\n",
       "                      USAID Region  \\\n",
       "0         Afghanistan and Pakistan   \n",
       "1                           Africa   \n",
       "2  Latin America and the Carribean   \n",
       "\n",
       "                                usaid_region_found  \n",
       "0                       [Afghanistan and Pakistan]  \n",
       "1                                         [Africa]  \n",
       "2  [Asia, Africa, Latin America and the Caribbean]  "
      ]
     },
     "execution_count": 60,
     "metadata": {},
     "output_type": "execute_result"
    }
   ],
   "source": [
    "df_text[['doc_name', 'Country(ies)', 'countries_found', 'USAID Region', 'usaid_region_found']].head(3)"
   ]
  },
  {
   "cell_type": "markdown",
   "id": "278fbe89",
   "metadata": {},
   "source": [
    "### USAID-funded"
   ]
  },
  {
   "cell_type": "code",
   "execution_count": 62,
   "id": "4f296bce",
   "metadata": {},
   "outputs": [
    {
     "name": "stdout",
     "output_type": "stream",
     "text": [
      "USAID-funded values:  ['checked' nan]\n"
     ]
    }
   ],
   "source": [
    "print(\"USAID-funded values: \", df_text['USAID-Funded?'].unique())"
   ]
  },
  {
   "cell_type": "code",
   "execution_count": 717,
   "id": "1d386673",
   "metadata": {},
   "outputs": [],
   "source": [
    "# Coding correctly USAID-funded flag\n",
    "df_text['usaid_funded'] = df_text[\"USAID-Funded?\"] == 'checked'\n",
    "test_df_text['usaid_funded'] = test_df_text[\"USAID-Funded?\"] == 'checked'"
   ]
  },
  {
   "cell_type": "code",
   "execution_count": 718,
   "id": "d614c973",
   "metadata": {},
   "outputs": [
    {
     "name": "stdout",
     "output_type": "stream",
     "text": [
      "(554, 39)\n"
     ]
    }
   ],
   "source": [
    "from sklearn.utils import shuffle\n",
    "from sklearn import feature_extraction, model_selection, naive_bayes, pipeline, manifold, preprocessing\n",
    "\n",
    "df_text_enriched = df_text[df_text['text_clean'].str.len() > 1000]\n",
    "print(df_text_enriched.shape)\n",
    "df_text_enriched = shuffle(df_text_enriched)\n",
    "df_train, df_test = model_selection.train_test_split(df_text_enriched, test_size=0.15)\n",
    "## get target\n",
    "y_train = df_train[\"usaid_funded\"].values\n",
    "y_test = df_test[\"usaid_funded\"].values"
   ]
  },
  {
   "cell_type": "code",
   "execution_count": 719,
   "id": "b47389c9",
   "metadata": {},
   "outputs": [
    {
     "data": {
      "text/plain": [
       "True     401\n",
       "False    153\n",
       "Name: usaid_funded, dtype: int64"
      ]
     },
     "execution_count": 719,
     "metadata": {},
     "output_type": "execute_result"
    }
   ],
   "source": [
    "df_text_enriched['usaid_funded'].value_counts()"
   ]
  },
  {
   "cell_type": "code",
   "execution_count": 720,
   "id": "a34cffd1",
   "metadata": {},
   "outputs": [],
   "source": [
    "vectorizer = feature_extraction.text.TfidfVectorizer(max_features=10000, ngram_range=(1,2))"
   ]
  },
  {
   "cell_type": "code",
   "execution_count": 721,
   "id": "946d60f7",
   "metadata": {},
   "outputs": [],
   "source": [
    "corpus = df_train[\"text_clean\"]\n",
    "vectorizer.fit(corpus)\n",
    "X_train = vectorizer.transform(corpus)\n",
    "dic_vocabulary = vectorizer.vocabulary_"
   ]
  },
  {
   "cell_type": "code",
   "execution_count": 722,
   "id": "02546fd1",
   "metadata": {},
   "outputs": [],
   "source": [
    "classifier = LogisticRegression()\n",
    "## pipeline\n",
    "model = pipeline.Pipeline([(\"vectorizer\", vectorizer),  \n",
    "                           (\"classifier\", classifier)])\n",
    "## train classifier\n",
    "model.fit(df_train[\"text_clean\"].values, y_train)\n",
    "## test\n",
    "X_test = df_test[\"text_clean\"].values\n",
    "predicted = model.predict(X_test)\n",
    "predicted_prob = model.predict_proba(X_test)"
   ]
  },
  {
   "cell_type": "code",
   "execution_count": 723,
   "id": "429d19b0",
   "metadata": {},
   "outputs": [
    {
     "data": {
      "text/plain": [
       "0.8214285714285714"
      ]
     },
     "execution_count": 723,
     "metadata": {},
     "output_type": "execute_result"
    }
   ],
   "source": [
    "from sklearn.metrics import accuracy_score\n",
    "accuracy_score(df_test['usaid_funded'], predicted)"
   ]
  },
  {
   "cell_type": "code",
   "execution_count": 724,
   "id": "255a1547",
   "metadata": {},
   "outputs": [],
   "source": [
    "# df_test[(df_test['doc_type_label'] == 2) & (df_test['source'] == 'pse')]"
   ]
  },
  {
   "cell_type": "code",
   "execution_count": 730,
   "id": "5309d75c",
   "metadata": {
    "scrolled": true
   },
   "outputs": [
    {
     "data": {
      "text/plain": [
       "(array([0.5, 1.5]), <a list of 2 Text yticklabel objects>)"
      ]
     },
     "execution_count": 730,
     "metadata": {},
     "output_type": "execute_result"
    },
    {
     "data": {
      "image/png": "[encoded data removed]",
      "text/plain": [
       "<Figure size 432x288 with 1 Axes>"
      ]
     },
     "metadata": {
      "needs_background": "light"
     },
     "output_type": "display_data"
    }
   ],
   "source": [
    "## Plot confusion matrix\n",
    "cm = metrics.confusion_matrix(df_test['usaid_funded'], predicted)\n",
    "fig, ax = plt.subplots()\n",
    "sns.heatmap(cm, annot=True, fmt='d', ax=ax, cmap=plt.cm.Blues, \n",
    "            cbar=False)\n",
    "ax.set(xlabel=\"Pred\", ylabel=\"True\", xticklabels=('No', 'Yes'), \n",
    "       yticklabels=('No', 'Yes'), title=\"Confusion matrix\")\n",
    "plt.yticks(rotation=0)"
   ]
  },
  {
   "cell_type": "markdown",
   "id": "743d17ac",
   "metadata": {},
   "source": [
    "### Type of Doc classification based on full-text"
   ]
  },
  {
   "cell_type": "markdown",
   "id": "01377844",
   "metadata": {},
   "source": [
    "#### Synonym list"
   ]
  },
  {
   "cell_type": "code",
   "execution_count": 413,
   "id": "2aff194e",
   "metadata": {},
   "outputs": [
    {
     "data": {
      "text/html": [
       "<div>\n",
       "<style scoped>\n",
       "    .dataframe tbody tr th:only-of-type {\n",
       "        vertical-align: middle;\n",
       "    }\n",
       "\n",
       "    .dataframe tbody tr th {\n",
       "        vertical-align: top;\n",
       "    }\n",
       "\n",
       "    .dataframe thead th {\n",
       "        text-align: right;\n",
       "    }\n",
       "</style>\n",
       "<table border=\"1\" class=\"dataframe\">\n",
       "  <thead>\n",
       "    <tr style=\"text-align: right;\">\n",
       "      <th></th>\n",
       "      <th>Landscape Analysis</th>\n",
       "      <th>Performance evaluation report</th>\n",
       "      <th>Impact Evaluation Report</th>\n",
       "      <th>Use case/case study</th>\n",
       "      <th>Industry Publication</th>\n",
       "      <th>Peer-reviewed article or other research report</th>\n",
       "      <th>Systematic review or Meta-analysis</th>\n",
       "      <th>White Paper/Think Tank Report</th>\n",
       "    </tr>\n",
       "  </thead>\n",
       "  <tbody>\n",
       "    <tr>\n",
       "      <th>0</th>\n",
       "      <td>Landscape assessment</td>\n",
       "      <td>Progress report</td>\n",
       "      <td>Impact</td>\n",
       "      <td>Case Study</td>\n",
       "      <td>Market intelligence</td>\n",
       "      <td>Series</td>\n",
       "      <td>Systematic review</td>\n",
       "      <td>Think tank</td>\n",
       "    </tr>\n",
       "    <tr>\n",
       "      <th>1</th>\n",
       "      <td>Rapid assessment</td>\n",
       "      <td>Annual report</td>\n",
       "      <td>Outcomes</td>\n",
       "      <td>Use Case</td>\n",
       "      <td>baseline assessment</td>\n",
       "      <td>Literature</td>\n",
       "      <td>Meta-analysis</td>\n",
       "      <td>Guidance</td>\n",
       "    </tr>\n",
       "    <tr>\n",
       "      <th>2</th>\n",
       "      <td>Categorization</td>\n",
       "      <td>Program Report</td>\n",
       "      <td>Impacts</td>\n",
       "      <td>Case examples</td>\n",
       "      <td>(can we look at author here? written from industry association, organization, conglomerate, etc)</td>\n",
       "      <td>Research</td>\n",
       "      <td>Analysis</td>\n",
       "      <td>NaN</td>\n",
       "    </tr>\n",
       "    <tr>\n",
       "      <th>3</th>\n",
       "      <td>Categorizing</td>\n",
       "      <td>Midterm evaluation</td>\n",
       "      <td>Sustained impact evaluation</td>\n",
       "      <td>Case Studies</td>\n",
       "      <td>Solution</td>\n",
       "      <td>Thesis</td>\n",
       "      <td>Comprehensive review</td>\n",
       "      <td>NaN</td>\n",
       "    </tr>\n",
       "  </tbody>\n",
       "</table>\n",
       "</div>"
      ],
      "text/plain": [
       "     Landscape Analysis Performance evaluation report  \\\n",
       "0  Landscape assessment  Progress report                \n",
       "1  Rapid assessment      Annual report                  \n",
       "2  Categorization        Program Report                 \n",
       "3  Categorizing          Midterm evaluation             \n",
       "\n",
       "      Impact Evaluation Report Use case/case study  \\\n",
       "0  Impact                       Case Study           \n",
       "1  Outcomes                     Use Case             \n",
       "2  Impacts                      Case examples        \n",
       "3  Sustained impact evaluation  Case Studies         \n",
       "\n",
       "                                                                               Industry Publication  \\\n",
       "0  Market intelligence                                                                                \n",
       "1  baseline assessment                                                                                \n",
       "2  (can we look at author here? written from industry association, organization, conglomerate, etc)   \n",
       "3  Solution                                                                                           \n",
       "\n",
       "  Peer-reviewed article or other research report  \\\n",
       "0  Series                                          \n",
       "1  Literature                                      \n",
       "2  Research                                        \n",
       "3  Thesis                                          \n",
       "\n",
       "  Systematic review or Meta-analysis White Paper/Think Tank Report  \n",
       "0  Systematic review                  Think tank                    \n",
       "1  Meta-analysis                      Guidance                      \n",
       "2  Analysis                           NaN                           \n",
       "3  Comprehensive review               NaN                           "
      ]
     },
     "execution_count": 413,
     "metadata": {},
     "output_type": "execute_result"
    }
   ],
   "source": [
    "synonym_type_doc_path = r\"C:\\Users\\Volha_Skidan\\projects\\HavosAi\\data\\Phase 2 Working Folder (EGM Documents)\\Document Type Synonyms.csv\"\n",
    "synonym_type_doc_df = pd.read_csv(synonym_type_doc_path)\n",
    "synonym_type_doc_df.head(4)"
   ]
  },
  {
   "cell_type": "code",
   "execution_count": 414,
   "id": "a190a58c",
   "metadata": {},
   "outputs": [],
   "source": [
    "type_doc_syn_dict = {}\n",
    "for col in synonym_type_doc_df.columns:\n",
    "    type_doc_syn_dict[col] = []\n",
    "    for item in  synonym_type_doc_df[col][synonym_type_doc_df[col].notna()]:\n",
    "        type_doc_syn_dict[col].append(item)"
   ]
  },
  {
   "cell_type": "code",
   "execution_count": 415,
   "id": "f3b4d602",
   "metadata": {},
   "outputs": [],
   "source": [
    "def search_doc_type(s):\n",
    "    frequency = {}\n",
    "    text = ' '.join(s[1:5]) + ' '.join(s[-4:]) \n",
    "    for doc_type in type_doc_syn_dict:\n",
    "        frequency[doc_type] = 0\n",
    "        for phrase in type_doc_syn_dict[doc_type]:\n",
    "            frequency[doc_type] += text.lower().count(phrase.lower())\n",
    "    return max(frequency, key=frequency.get)\n",
    "        \n",
    "df_small_text['type_doc_synonym_found'] = df_small_text['full_content'].apply(search_doc_type)\n",
    "df_text['type_doc_synonym_found'] = df_text['full_content'].apply(search_doc_type)"
   ]
  },
  {
   "cell_type": "code",
   "execution_count": 477,
   "id": "94938d1c",
   "metadata": {},
   "outputs": [
    {
     "data": {
      "text/plain": [
       "0.40657439446366783"
      ]
     },
     "execution_count": 477,
     "metadata": {},
     "output_type": "execute_result"
    }
   ],
   "source": [
    "from sklearn.metrics import accuracy_score\n",
    "df_text[df_text['type_doc_synonym_found'] == df_text['Type of Document']].shape[0] / df_text.shape[0]"
   ]
  },
  {
   "cell_type": "code",
   "execution_count": 416,
   "id": "06f06e33",
   "metadata": {},
   "outputs": [
    {
     "data": {
      "text/plain": [
       "0.25766871165644173"
      ]
     },
     "execution_count": 416,
     "metadata": {},
     "output_type": "execute_result"
    }
   ],
   "source": [
    "from sklearn.metrics import accuracy_score\n",
    "df_small_text[df_small_text['type_doc_synonym_found'] == df_small_text['Type of Document']].shape[0] / df_small_text.shape[0]"
   ]
  },
  {
   "cell_type": "markdown",
   "id": "cc6f39d7",
   "metadata": {},
   "source": [
    "#### Model"
   ]
  },
  {
   "cell_type": "code",
   "execution_count": 63,
   "id": "e4056d68",
   "metadata": {},
   "outputs": [
    {
     "data": {
      "text/html": [
       "<div>\n",
       "<style scoped>\n",
       "    .dataframe tbody tr th:only-of-type {\n",
       "        vertical-align: middle;\n",
       "    }\n",
       "\n",
       "    .dataframe tbody tr th {\n",
       "        vertical-align: top;\n",
       "    }\n",
       "\n",
       "    .dataframe thead th {\n",
       "        text-align: right;\n",
       "    }\n",
       "</style>\n",
       "<table border=\"1\" class=\"dataframe\">\n",
       "  <thead>\n",
       "    <tr style=\"text-align: right;\">\n",
       "      <th></th>\n",
       "      <th>doc_name</th>\n",
       "      <th>content</th>\n",
       "      <th>full_content</th>\n",
       "      <th>Document ID</th>\n",
       "      <th>Document Title</th>\n",
       "      <th>Author(s)</th>\n",
       "      <th>Name of Private Sector Partner(s)</th>\n",
       "      <th>Publishing Institution(s)</th>\n",
       "      <th>Year</th>\n",
       "      <th>Technical Sector</th>\n",
       "      <th>...</th>\n",
       "      <th>Reviewer Name</th>\n",
       "      <th>Review Complete?</th>\n",
       "      <th>Review Stage</th>\n",
       "      <th>text_clean</th>\n",
       "      <th>found_year</th>\n",
       "      <th>institution_found</th>\n",
       "      <th>countries_found</th>\n",
       "      <th>countries_limited_by_freq_found</th>\n",
       "      <th>usaid_region_found</th>\n",
       "      <th>doc_type_label</th>\n",
       "    </tr>\n",
       "  </thead>\n",
       "  <tbody>\n",
       "    <tr>\n",
       "      <th>0</th>\n",
       "      <td>0000-APLU-PAK.pkl</td>\n",
       "      <td>\\n \\n \\n \\n\\nAcknowledgements \\n\\nMany people...</td>\n",
       "      <td>[ \\n\\n   \\n\\n \\n\\n \\n\\nFeasibility Study of th...</td>\n",
       "      <td>0000-aplu-pak</td>\n",
       "      <td>Feasibility Study of the US-Pakistan Knowledge...</td>\n",
       "      <td>Association for Public and Land-grant Universi...</td>\n",
       "      <td>NaN</td>\n",
       "      <td>USAID</td>\n",
       "      <td>NaN</td>\n",
       "      <td>Education and Social Services</td>\n",
       "      <td>...</td>\n",
       "      <td>Mehak,Anna</td>\n",
       "      <td>checked</td>\n",
       "      <td>Second Review</td>\n",
       "      <td>acknowledgement many people contributed develo...</td>\n",
       "      <td>NaN</td>\n",
       "      <td>[Insight, USAID, APLU]</td>\n",
       "      <td>{'Australia': 1, 'Belgium': 1, 'Brazil': 9, 'C...</td>\n",
       "      <td>[Pakistan, United States]</td>\n",
       "      <td>[Afghanistan and Pakistan]</td>\n",
       "      <td>0</td>\n",
       "    </tr>\n",
       "    <tr>\n",
       "      <th>1</th>\n",
       "      <td>0000-Chile-ZMB.pkl</td>\n",
       "      <td>\\n\\n \\n\\n \\n\\n \\n\\n \\n\\nRepublic of Zambia \\n...</td>\n",
       "      <td>[ \\n\\n \\n \\n\\n \\n\\n \\n\\n \\n\\nRepublic of Zambi...</td>\n",
       "      <td>0000-chile-zmb</td>\n",
       "      <td>Teacher Effectiveness. Towards Sustainable Del...</td>\n",
       "      <td>John Chileshe,Geoffrey Tambulukani</td>\n",
       "      <td>NaN</td>\n",
       "      <td>USAID</td>\n",
       "      <td>NaN</td>\n",
       "      <td>Education and Social Services</td>\n",
       "      <td>...</td>\n",
       "      <td>Mehak,Lauren</td>\n",
       "      <td>checked</td>\n",
       "      <td>Second Review</td>\n",
       "      <td>republic zambia ministry general education tea...</td>\n",
       "      <td>NaN</td>\n",
       "      <td>[USAID, Creative Associates International, Inc.]</td>\n",
       "      <td>{'Chile': 2, 'Japan': 2, 'Malawi': 1, 'United ...</td>\n",
       "      <td>[Zambia]</td>\n",
       "      <td>[Africa]</td>\n",
       "      <td>0</td>\n",
       "    </tr>\n",
       "  </tbody>\n",
       "</table>\n",
       "<p>2 rows × 35 columns</p>\n",
       "</div>"
      ],
      "text/plain": [
       "             doc_name                                            content  \\\n",
       "0   0000-APLU-PAK.pkl   \\n \\n \\n \\n\\nAcknowledgements \\n\\nMany people...   \n",
       "1  0000-Chile-ZMB.pkl   \\n\\n \\n\\n \\n\\n \\n\\n \\n\\nRepublic of Zambia \\n...   \n",
       "\n",
       "                                        full_content     Document ID  \\\n",
       "0  [ \\n\\n   \\n\\n \\n\\n \\n\\nFeasibility Study of th...   0000-aplu-pak   \n",
       "1  [ \\n\\n \\n \\n\\n \\n\\n \\n\\n \\n\\nRepublic of Zambi...  0000-chile-zmb   \n",
       "\n",
       "                                      Document Title  \\\n",
       "0  Feasibility Study of the US-Pakistan Knowledge...   \n",
       "1  Teacher Effectiveness. Towards Sustainable Del...   \n",
       "\n",
       "                                           Author(s)  \\\n",
       "0  Association for Public and Land-grant Universi...   \n",
       "1                 John Chileshe,Geoffrey Tambulukani   \n",
       "\n",
       "  Name of Private Sector Partner(s) Publishing Institution(s)  Year  \\\n",
       "0                               NaN                     USAID   NaN   \n",
       "1                               NaN                     USAID   NaN   \n",
       "\n",
       "                Technical Sector  ... Reviewer Name Review Complete?  \\\n",
       "0  Education and Social Services  ...    Mehak,Anna          checked   \n",
       "1  Education and Social Services  ...  Mehak,Lauren          checked   \n",
       "\n",
       "    Review Stage                                         text_clean  \\\n",
       "0  Second Review  acknowledgement many people contributed develo...   \n",
       "1  Second Review  republic zambia ministry general education tea...   \n",
       "\n",
       "  found_year                                 institution_found  \\\n",
       "0        NaN                            [Insight, USAID, APLU]   \n",
       "1        NaN  [USAID, Creative Associates International, Inc.]   \n",
       "\n",
       "                                     countries_found  \\\n",
       "0  {'Australia': 1, 'Belgium': 1, 'Brazil': 9, 'C...   \n",
       "1  {'Chile': 2, 'Japan': 2, 'Malawi': 1, 'United ...   \n",
       "\n",
       "  countries_limited_by_freq_found          usaid_region_found doc_type_label  \n",
       "0       [Pakistan, United States]  [Afghanistan and Pakistan]              0  \n",
       "1                        [Zambia]                    [Africa]              0  \n",
       "\n",
       "[2 rows x 35 columns]"
      ]
     },
     "execution_count": 63,
     "metadata": {},
     "output_type": "execute_result"
    }
   ],
   "source": [
    "df_text['doc_type_label'], doc_type_uniques = pd.factorize(df_text[\"Type of Document\"])\n",
    "df_text.head(2)"
   ]
  },
  {
   "cell_type": "code",
   "execution_count": 64,
   "id": "94f29c7e",
   "metadata": {},
   "outputs": [
    {
     "name": "stdout",
     "output_type": "stream",
     "text": [
      "(712, 35)\n"
     ]
    }
   ],
   "source": [
    "from sklearn.utils import shuffle\n",
    "from sklearn import feature_extraction, model_selection, naive_bayes, pipeline, manifold, preprocessing\n",
    "\n",
    "df_text_enriched = df_text[df_text['text_clean'].str.len() > 1000]\n",
    "print(df_text_enriched.shape)\n",
    "df_text_enriched = shuffle(df_text_enriched)\n",
    "df_train, df_test = model_selection.train_test_split(df_text_enriched, test_size=0.15)\n",
    "## get target\n",
    "y_train = df_train[\"doc_type_label\"].values\n",
    "y_test = df_test[\"doc_type_label\"].values"
   ]
  },
  {
   "cell_type": "code",
   "execution_count": 65,
   "id": "7af29be8",
   "metadata": {},
   "outputs": [
    {
     "data": {
      "text/plain": [
       " 0    248\n",
       " 2    186\n",
       " 5    133\n",
       " 7     41\n",
       " 1     33\n",
       " 8     29\n",
       " 3     19\n",
       " 6     18\n",
       "-1      3\n",
       " 4      2\n",
       "Name: doc_type_label, dtype: int64"
      ]
     },
     "execution_count": 65,
     "metadata": {},
     "output_type": "execute_result"
    }
   ],
   "source": [
    "df_text_enriched['doc_type_label'].value_counts()"
   ]
  },
  {
   "cell_type": "code",
   "execution_count": 66,
   "id": "f99e69ed",
   "metadata": {},
   "outputs": [
    {
     "data": {
      "text/plain": [
       "Index(['Use case/case study', 'White Paper/Think Tank Report',\n",
       "       'Performance evaluation report', 'Systematic review or Meta-analysis',\n",
       "       'Political Economy Analysis',\n",
       "       'Peer-reviewed article or other research report',\n",
       "       'Impact Evaluation Report', 'Industry Publication',\n",
       "       'Landscape Analysis'],\n",
       "      dtype='object')"
      ]
     },
     "execution_count": 66,
     "metadata": {},
     "output_type": "execute_result"
    }
   ],
   "source": [
    "doc_type_uniques"
   ]
  },
  {
   "cell_type": "code",
   "execution_count": 67,
   "id": "90a1e4b4",
   "metadata": {},
   "outputs": [],
   "source": [
    "vectorizer = feature_extraction.text.TfidfVectorizer(max_features=10000, ngram_range=(1,2))"
   ]
  },
  {
   "cell_type": "code",
   "execution_count": 68,
   "id": "081e9706",
   "metadata": {},
   "outputs": [],
   "source": [
    "corpus = df_train[\"text_clean\"]\n",
    "vectorizer.fit(corpus)\n",
    "X_train = vectorizer.transform(corpus)\n",
    "dic_vocabulary = vectorizer.vocabulary_"
   ]
  },
  {
   "cell_type": "code",
   "execution_count": 69,
   "id": "a23d8cb5",
   "metadata": {},
   "outputs": [
    {
     "name": "stderr",
     "output_type": "stream",
     "text": [
      "C:\\Users\\Volha_Skidan\\Anaconda3\\envs\\havos\\lib\\site-packages\\sklearn\\linear_model\\logistic.py:433: FutureWarning: Default solver will be changed to 'lbfgs' in 0.22. Specify a solver to silence this warning.\n",
      "  FutureWarning)\n",
      "C:\\Users\\Volha_Skidan\\Anaconda3\\envs\\havos\\lib\\site-packages\\sklearn\\linear_model\\logistic.py:460: FutureWarning: Default multi_class will be changed to 'auto' in 0.22. Specify the multi_class option to silence this warning.\n",
      "  \"this warning.\", FutureWarning)\n"
     ]
    }
   ],
   "source": [
    "classifier = LogisticRegression()\n",
    "## pipeline\n",
    "model = pipeline.Pipeline([(\"vectorizer\", vectorizer),  \n",
    "                           (\"classifier\", classifier)])\n",
    "## train classifier\n",
    "model.fit(df_train[\"text_clean\"].values, y_train)\n",
    "## test\n",
    "X_test = df_test[\"text_clean\"].values\n",
    "predicted = model.predict(X_test)\n",
    "predicted_prob = model.predict_proba(X_test)"
   ]
  },
  {
   "cell_type": "code",
   "execution_count": 70,
   "id": "8ccdc009",
   "metadata": {},
   "outputs": [
    {
     "data": {
      "text/plain": [
       "0.6074766355140186"
      ]
     },
     "execution_count": 70,
     "metadata": {},
     "output_type": "execute_result"
    }
   ],
   "source": [
    "from sklearn.metrics import accuracy_score\n",
    "accuracy_score(df_test['doc_type_label'], predicted)"
   ]
  },
  {
   "cell_type": "code",
   "execution_count": 71,
   "id": "35b5e639",
   "metadata": {},
   "outputs": [],
   "source": [
    "# df_test[(df_test['doc_type_label'] == 2) & (df_test['source'] == 'pse')]"
   ]
  },
  {
   "cell_type": "code",
   "execution_count": 72,
   "id": "f779b121",
   "metadata": {
    "scrolled": true
   },
   "outputs": [
    {
     "data": {
      "text/plain": [
       "(array([0.5, 1.5, 2.5, 3.5, 4.5, 5.5, 6.5, 7.5, 8.5]),\n",
       " <a list of 9 Text yticklabel objects>)"
      ]
     },
     "execution_count": 72,
     "metadata": {},
     "output_type": "execute_result"
    },
    {
     "data": {
      "image/png": "[encoded data removed]",
      "text/plain": [
       "<Figure size 432x288 with 1 Axes>"
      ]
     },
     "metadata": {
      "needs_background": "light"
     },
     "output_type": "display_data"
    }
   ],
   "source": [
    "## Plot confusion matrix\n",
    "cm = metrics.confusion_matrix(df_test['doc_type_label'], predicted)\n",
    "fig, ax = plt.subplots()\n",
    "sns.heatmap(cm, annot=True, fmt='d', ax=ax, cmap=plt.cm.Blues, \n",
    "            cbar=False)\n",
    "ax.set(xlabel=\"Pred\", ylabel=\"True\", xticklabels=range(0, 8), \n",
    "       yticklabels=doc_type_uniques, title=\"Confusion matrix\")\n",
    "plt.yticks(rotation=0)"
   ]
  },
  {
   "cell_type": "code",
   "execution_count": 76,
   "id": "6955733e",
   "metadata": {},
   "outputs": [
    {
     "name": "stdout",
     "output_type": "stream",
     "text": [
      "Words:  [('health', 0.2178028859887671), ('development', 0.15997106619508406), ('humanitarian', 0.15342913325769547), ('evaluation', 0.13149871619109857), ('project', 0.12869261961700904), ('private', 0.11088205806502568), ('program', 0.10733014657115866), ('management', 0.10226815048274068), ('usaid', 0.09928808440331449), ('policy', 0.0990092473664689)]\n"
     ]
    }
   ],
   "source": [
    "feature_names = vectorizer.get_feature_names()\n",
    "\n",
    "def get_ifidf_for_words(text):\n",
    "    tfidf_matrix= vectorizer.transform([text]).todense()\n",
    "    feature_index = tfidf_matrix[0,:].nonzero()[1]\n",
    "    tfidf_scores = zip([feature_names[i] for i in feature_index], [tfidf_matrix[0, x] for x in feature_index])\n",
    "    return dict(tfidf_scores)\n",
    "\n",
    "text = ' '.join(vectorizer.get_feature_names())\n",
    "d = get_ifidf_for_words(text)\n",
    "print(\"Words: \", sorted(d.items(), key=lambda x: x[1], reverse=True)[0:10])"
   ]
  },
  {
   "cell_type": "markdown",
   "id": "e0d0af19",
   "metadata": {},
   "source": [
    "### Special consideration"
   ]
  },
  {
   "cell_type": "markdown",
   "id": "b243a4bb",
   "metadata": {},
   "source": [
    "#### Train model"
   ]
  },
  {
   "cell_type": "code",
   "execution_count": 157,
   "id": "af325bba",
   "metadata": {},
   "outputs": [],
   "source": [
    "def code_multioutput_cat_column(df, col_name, new_col_name):\n",
    "    df[new_col_name] = df[col_name].str.split(',')\n",
    "    nulls = df_text[pd.isnull(df[new_col_name])]\n",
    "\n",
    "    for i, ni in enumerate(nulls.index[:len(df)]):\n",
    "        df[new_col_name].loc[ni] = []\n",
    "    \n",
    "    mlb = MultiLabelBinarizer()\n",
    "    labels = mlb.fit_transform(df[new_col_name])\n",
    "    return labels, mlb.classes_\n",
    "\n",
    "def split_dataset(features, labels):\n",
    "    fts, target = shuffle(features, labels)\n",
    "    return model_selection.train_test_split(fts, target, test_size=0.15)\n",
    "\n",
    "def create_tf_idf_classifier_pipeline(classifier):\n",
    "    vectorizer = feature_extraction.text.TfidfVectorizer(max_features=10000, ngram_range=(1,2))\n",
    "    model = pipeline.Pipeline([(\"vectorizer\", vectorizer),  \n",
    "                               (\"classifier\", classifier)])\n",
    "    return model\n",
    "\n",
    "def plot_conf_matrix(predicted, true, classes):\n",
    "    for ind, class_ in enumerate(classes):\n",
    "        pred_class = predicted[:, ind]\n",
    "#         prob = predicted_prob[:, ind]\n",
    "        true_class = true[:, ind]\n",
    "        print(f\"Accuracy for class {class_} is {accuracy_score(true_class, pred_class)}\")\n",
    "\n",
    "        ## Plot confusion matrix\n",
    "        cm = metrics.confusion_matrix(true_class, pred_class)\n",
    "        fig, ax = plt.subplots()\n",
    "        sns.heatmap(cm, annot=True, fmt='d', ax=ax, cmap=plt.cm.Blues, \n",
    "                    cbar=False)\n",
    "        ax.set(xlabel=\"Pred\", ylabel=\"True\", xticklabels=range(0, 2), \n",
    "               yticklabels=[f'not_{class_}', class_], title=\"Confusion matrix\")\n",
    "        plt.yticks(rotation=0)"
   ]
  },
  {
   "cell_type": "code",
   "execution_count": 158,
   "id": "526d6315",
   "metadata": {
    "scrolled": true
   },
   "outputs": [
    {
     "name": "stderr",
     "output_type": "stream",
     "text": [
      "C:\\Users\\Volha_Skidan\\Anaconda3\\envs\\havos\\lib\\site-packages\\pandas\\core\\indexing.py:190: SettingWithCopyWarning: \n",
      "A value is trying to be set on a copy of a slice from a DataFrame\n",
      "\n",
      "See the caveats in the documentation: http://pandas.pydata.org/pandas-docs/stable/indexing.html#indexing-view-versus-copy\n",
      "  self._setitem_with_indexer(indexer, value)\n"
     ]
    },
    {
     "ename": "NameError",
     "evalue": "name 'spec_consideration_labels' is not defined",
     "output_type": "error",
     "traceback": [
      "\u001b[1;31m---------------------------------------------------------------------------\u001b[0m",
      "\u001b[1;31mNameError\u001b[0m                                 Traceback (most recent call last)",
      "\u001b[1;32m<ipython-input-158-90ebab32546f>\u001b[0m in \u001b[0;36m<module>\u001b[1;34m()\u001b[0m\n\u001b[0;32m      1\u001b[0m \u001b[0mspec_consider_coded\u001b[0m\u001b[1;33m,\u001b[0m \u001b[0mclasses\u001b[0m \u001b[1;33m=\u001b[0m \u001b[0mcode_multioutput_cat_column\u001b[0m\u001b[1;33m(\u001b[0m\u001b[0mdf_text\u001b[0m\u001b[1;33m,\u001b[0m \u001b[1;34m'Special Considerations'\u001b[0m\u001b[1;33m,\u001b[0m \u001b[1;34m'spec_consideration_labels'\u001b[0m\u001b[1;33m)\u001b[0m\u001b[1;33m\u001b[0m\u001b[0m\n\u001b[1;32m----> 2\u001b[1;33m \u001b[0mdf_train\u001b[0m\u001b[1;33m,\u001b[0m \u001b[0mdf_test\u001b[0m\u001b[1;33m,\u001b[0m \u001b[0my_train\u001b[0m\u001b[1;33m,\u001b[0m \u001b[0my_test\u001b[0m \u001b[1;33m=\u001b[0m \u001b[0msplit_dataset\u001b[0m\u001b[1;33m(\u001b[0m\u001b[0mdf_text\u001b[0m\u001b[1;33m[\u001b[0m\u001b[1;34m'text_clean'\u001b[0m\u001b[1;33m]\u001b[0m\u001b[1;33m,\u001b[0m \u001b[0mspec_consideration_labels\u001b[0m\u001b[1;33m)\u001b[0m\u001b[1;33m\u001b[0m\u001b[0m\n\u001b[0m\u001b[0;32m      3\u001b[0m \u001b[0mprint\u001b[0m\u001b[1;33m(\u001b[0m\u001b[1;34mf\"Category distribution: {pd.Series([item for sublist in df_text['technical_sector_labels'] for item in sublist]).value_counts()}\"\u001b[0m\u001b[1;33m)\u001b[0m\u001b[1;33m\u001b[0m\u001b[0m\n\u001b[0;32m      4\u001b[0m \u001b[1;33m\u001b[0m\u001b[0m\n\u001b[0;32m      5\u001b[0m \u001b[0mmodel\u001b[0m \u001b[1;33m=\u001b[0m \u001b[0mcreate_tf_idf_classifier_pipeline\u001b[0m\u001b[1;33m(\u001b[0m\u001b[0mOneVsRestClassifier\u001b[0m\u001b[1;33m(\u001b[0m\u001b[0mLogisticRegression\u001b[0m\u001b[1;33m(\u001b[0m\u001b[1;33m)\u001b[0m\u001b[1;33m)\u001b[0m\u001b[1;33m)\u001b[0m\u001b[1;33m\u001b[0m\u001b[0m\n",
      "\u001b[1;31mNameError\u001b[0m: name 'spec_consideration_labels' is not defined"
     ]
    }
   ],
   "source": [
    "spec_consider_coded, classes = code_multioutput_cat_column(df_text, 'Special Considerations', 'spec_consideration_labels')\n",
    "df_train, df_test, y_train, y_test = split_dataset(df_text['text_clean'], spec_consideration_labels)\n",
    "print(f\"Category distribution: {pd.Series([item for sublist in df_text['technical_sector_labels'] for item in sublist]).value_counts()}\")\n",
    "\n",
    "model = create_tf_idf_classifier_pipeline(OneVsRestClassifier(LogisticRegression()))\n",
    "## train classifier\n",
    "model.fit(df_train, y_train)\n",
    "## test\n",
    "predicted = model.predict(df_test)\n",
    "predicted_prob = model.predict_proba(X_test)\n",
    "\n",
    "plot_conf_matrix(predicted, y_test, classes)"
   ]
  },
  {
   "cell_type": "markdown",
   "id": "79970866",
   "metadata": {},
   "source": [
    "#### Apply model"
   ]
  },
  {
   "cell_type": "code",
   "execution_count": 119,
   "id": "9289d249",
   "metadata": {},
   "outputs": [],
   "source": [
    "X_test = df_small_text['text_clean'].values\n",
    "predicted = model.predict(X_test)\n",
    "predicted_prob = model.predict_proba(X_test)\n",
    "df_small_text['gender_woman_empower_predicted'] = predicted[:, 1]\n",
    "df_small_text['youth_predicted'] = predicted[:, 2]"
   ]
  },
  {
   "cell_type": "code",
   "execution_count": null,
   "id": "e7d8bac4",
   "metadata": {},
   "outputs": [],
   "source": [
    "np.where(df_small_text['gender_woman_empower_predicted'] == 1, 'Gender - Women’s Economic Empowerment')"
   ]
  },
  {
   "cell_type": "markdown",
   "id": "2ae9f42a",
   "metadata": {},
   "source": [
    "#### Dictionary for class assignments"
   ]
  },
  {
   "cell_type": "code",
   "execution_count": 136,
   "id": "17222b52",
   "metadata": {},
   "outputs": [
    {
     "data": {
      "text/html": [
       "<div>\n",
       "<style scoped>\n",
       "    .dataframe tbody tr th:only-of-type {\n",
       "        vertical-align: middle;\n",
       "    }\n",
       "\n",
       "    .dataframe tbody tr th {\n",
       "        vertical-align: top;\n",
       "    }\n",
       "\n",
       "    .dataframe thead th {\n",
       "        text-align: right;\n",
       "    }\n",
       "</style>\n",
       "<table border=\"1\" class=\"dataframe\">\n",
       "  <thead>\n",
       "    <tr style=\"text-align: right;\">\n",
       "      <th></th>\n",
       "      <th>Conflict</th>\n",
       "      <th>Gender - Women’s Economic Empowerment</th>\n",
       "      <th>Youth</th>\n",
       "      <th>COVID-19</th>\n",
       "      <th>Cost-benefit</th>\n",
       "      <th>Digital Dev/Finance</th>\n",
       "      <th>Vulnerable</th>\n",
       "    </tr>\n",
       "  </thead>\n",
       "  <tbody>\n",
       "    <tr>\n",
       "      <th>0</th>\n",
       "      <td>Refugee</td>\n",
       "      <td>Gender inclusion</td>\n",
       "      <td>Youth</td>\n",
       "      <td>COVID-19</td>\n",
       "      <td>Cost-effectiveness</td>\n",
       "      <td>Digital development</td>\n",
       "      <td>Emergencies</td>\n",
       "    </tr>\n",
       "    <tr>\n",
       "      <th>1</th>\n",
       "      <td>Suffering</td>\n",
       "      <td>Women’s organizations</td>\n",
       "      <td>Youth development</td>\n",
       "      <td>COVID-19 pandemic</td>\n",
       "      <td>Cost-benefit</td>\n",
       "      <td>Digital finance</td>\n",
       "      <td>Vulnerable populations</td>\n",
       "    </tr>\n",
       "    <tr>\n",
       "      <th>2</th>\n",
       "      <td>Conflict Resolution</td>\n",
       "      <td>Gender</td>\n",
       "      <td>Youth Empowerment</td>\n",
       "      <td>COVID-19 outbreak</td>\n",
       "      <td>NaN</td>\n",
       "      <td>ITC</td>\n",
       "      <td>Marginalized communities</td>\n",
       "    </tr>\n",
       "    <tr>\n",
       "      <th>3</th>\n",
       "      <td>Armed conflict</td>\n",
       "      <td>Empowering women</td>\n",
       "      <td>Youth populations</td>\n",
       "      <td>COVID-19 response</td>\n",
       "      <td>NaN</td>\n",
       "      <td>Mobile Money</td>\n",
       "      <td>People with disabilities</td>\n",
       "    </tr>\n",
       "  </tbody>\n",
       "</table>\n",
       "</div>"
      ],
      "text/plain": [
       "               Conflict Gender - Women’s Economic Empowerment  \\\n",
       "0               Refugee                     Gender inclusion    \n",
       "1            Suffering                 Women’s organizations    \n",
       "2  Conflict Resolution                                 Gender   \n",
       "3       Armed conflict                      Empowering women    \n",
       "\n",
       "                Youth            COVID-19        Cost-benefit  \\\n",
       "0               Youth           COVID-19   Cost-effectiveness   \n",
       "1  Youth development   COVID-19 pandemic         Cost-benefit   \n",
       "2  Youth Empowerment   COVID-19 outbreak                  NaN   \n",
       "3  Youth populations   COVID-19 response                  NaN   \n",
       "\n",
       "    Digital Dev/Finance                 Vulnerable  \n",
       "0  Digital development                Emergencies   \n",
       "1      Digital finance     Vulnerable populations   \n",
       "2                   ITC  Marginalized communities   \n",
       "3          Mobile Money  People with disabilities   "
      ]
     },
     "execution_count": 136,
     "metadata": {},
     "output_type": "execute_result"
    }
   ],
   "source": [
    "consider_doc_path = r\"C:\\Users\\Volha_Skidan\\projects\\HavosAi\\data\\Phase 2 Working Folder (EGM Documents)\\spec_consider.xlsx\"\n",
    "spec_cons_df = pd.read_excel(consider_doc_path)\n",
    "spec_cons_df.head(4)"
   ]
  },
  {
   "cell_type": "code",
   "execution_count": 230,
   "id": "0f790863",
   "metadata": {},
   "outputs": [],
   "source": [
    "def search_spec_consider(s):\n",
    "    frequency = {}\n",
    "    text = ' '.join(s[1:5]) + ' '.join(s[-4:]) \n",
    "    for spec in spec_cons_df.columns:\n",
    "        if spec == 'COVID-19':\n",
    "            continue\n",
    "        frequency[spec] = 0\n",
    "        for phrase in spec_cons_df[spec]:\n",
    "            if str(phrase) == 'nan':\n",
    "                continue\n",
    "            frequency[spec] += text.lower().count(phrase.lower())\n",
    "    freq_sum = sum(frequency.values())\n",
    "    spec_list = set()\n",
    "    \n",
    "    for k, v in frequency.items():\n",
    "        if (v > 1 and k != 'Conflict') or (k == 'Conflict' and v > 10):\n",
    "            spec_list.add(k)\n",
    "#     print(frequency)\n",
    "    return list(spec_list)\n",
    "#     return max(frequency, key=frequency.get)\n",
    "        \n",
    "df_small_text['spec_consider_found'] = df_small_text['full_content'].apply(search_spec_consider)\n",
    "df_text['spec_consider_found'] = df_text['full_content'].apply(search_spec_consider)"
   ]
  },
  {
   "cell_type": "code",
   "execution_count": 231,
   "id": "25c4df54",
   "metadata": {},
   "outputs": [],
   "source": [
    "mapping = {'Conflict' : 'BB3_Conflict',\n",
    "'Cost-benefit':'BB3_Cost-Benefit',\n",
    "'Digital Dev/Finance':'BB3_Digital Dev/Finance',\n",
    "'Gender - Women’s Economic Empowerment':'BB3_Gender',\n",
    "'Vulnerable':'BB3_Vulnerable',\n",
    "'Youth':'BB3_Youth'}\n",
    "\n",
    "def mapping_to_codes(s):\n",
    "    labels=set()\n",
    "    for label in s:\n",
    "        labels.add(mapping[label])\n",
    "    return list(labels)"
   ]
  },
  {
   "cell_type": "code",
   "execution_count": 232,
   "id": "869d8dce",
   "metadata": {},
   "outputs": [],
   "source": [
    "df_small_text['B3_USAID Themes'] = df_small_text['spec_consider_found']\n",
    "df_small_text['B3_USAID Themes'] = np.where(df_small_text['gender_woman_empower_predicted'] == 1, df_small_text['B3_USAID Themes'] + ['Gender - Women’s Economic Empowerment' for x in range(163)], df_small_text['B3_USAID Themes']) \n",
    "df_small_text['B3_USAID Themes'] = np.where(df_small_text['youth_predicted'] == 1, df_small_text['B3_USAID Themes'] + ['Youth' for x in range(163)], df_small_text['B3_USAID Themes']) \n",
    "# df_small_text['B3_USAID Themes'] = df_small_text['B3_USAID Themes'].apply(lambda x: list(set(x)))\n",
    "df_small_text['B3_USAID Themes'] = df_small_text['B3_USAID Themes'].apply(mapping_to_codes)"
   ]
  },
  {
   "cell_type": "code",
   "execution_count": 233,
   "id": "ac632c3a",
   "metadata": {},
   "outputs": [
    {
     "data": {
      "text/html": [
       "<div>\n",
       "<style scoped>\n",
       "    .dataframe tbody tr th:only-of-type {\n",
       "        vertical-align: middle;\n",
       "    }\n",
       "\n",
       "    .dataframe tbody tr th {\n",
       "        vertical-align: top;\n",
       "    }\n",
       "\n",
       "    .dataframe thead th {\n",
       "        text-align: right;\n",
       "    }\n",
       "</style>\n",
       "<table border=\"1\" class=\"dataframe\">\n",
       "  <thead>\n",
       "    <tr style=\"text-align: right;\">\n",
       "      <th></th>\n",
       "      <th>B3_USAID Themes</th>\n",
       "      <th>Special Considerations</th>\n",
       "    </tr>\n",
       "  </thead>\n",
       "  <tbody>\n",
       "    <tr>\n",
       "      <th>0</th>\n",
       "      <td>[]</td>\n",
       "      <td>NaN</td>\n",
       "    </tr>\n",
       "    <tr>\n",
       "      <th>1</th>\n",
       "      <td>[BB3_Conflict]</td>\n",
       "      <td>Conflict</td>\n",
       "    </tr>\n",
       "    <tr>\n",
       "      <th>2</th>\n",
       "      <td>[BB3_Gender, BB3_Conflict, BB3_Digital Dev/Fin...</td>\n",
       "      <td>NaN</td>\n",
       "    </tr>\n",
       "    <tr>\n",
       "      <th>3</th>\n",
       "      <td>[BB3_Gender, BB3_Conflict, BB3_Digital Dev/Fin...</td>\n",
       "      <td>NaN</td>\n",
       "    </tr>\n",
       "    <tr>\n",
       "      <th>4</th>\n",
       "      <td>[BB3_Gender, BB3_Conflict, BB3_Digital Dev/Fin...</td>\n",
       "      <td>NaN</td>\n",
       "    </tr>\n",
       "    <tr>\n",
       "      <th>5</th>\n",
       "      <td>[]</td>\n",
       "      <td>NaN</td>\n",
       "    </tr>\n",
       "    <tr>\n",
       "      <th>6</th>\n",
       "      <td>[BB3_Gender, BB3_Conflict]</td>\n",
       "      <td>NaN</td>\n",
       "    </tr>\n",
       "    <tr>\n",
       "      <th>7</th>\n",
       "      <td>[BB3_Gender]</td>\n",
       "      <td>NaN</td>\n",
       "    </tr>\n",
       "    <tr>\n",
       "      <th>8</th>\n",
       "      <td>[BB3_Gender, BB3_Digital Dev/Finance]</td>\n",
       "      <td>NaN</td>\n",
       "    </tr>\n",
       "    <tr>\n",
       "      <th>9</th>\n",
       "      <td>[]</td>\n",
       "      <td>NaN</td>\n",
       "    </tr>\n",
       "    <tr>\n",
       "      <th>10</th>\n",
       "      <td>[BB3_Gender]</td>\n",
       "      <td>NaN</td>\n",
       "    </tr>\n",
       "    <tr>\n",
       "      <th>11</th>\n",
       "      <td>[]</td>\n",
       "      <td>NaN</td>\n",
       "    </tr>\n",
       "    <tr>\n",
       "      <th>12</th>\n",
       "      <td>[BB3_Gender]</td>\n",
       "      <td>NaN</td>\n",
       "    </tr>\n",
       "    <tr>\n",
       "      <th>13</th>\n",
       "      <td>[BB3_Conflict]</td>\n",
       "      <td>NaN</td>\n",
       "    </tr>\n",
       "    <tr>\n",
       "      <th>14</th>\n",
       "      <td>[]</td>\n",
       "      <td>NaN</td>\n",
       "    </tr>\n",
       "    <tr>\n",
       "      <th>15</th>\n",
       "      <td>[]</td>\n",
       "      <td>NaN</td>\n",
       "    </tr>\n",
       "    <tr>\n",
       "      <th>16</th>\n",
       "      <td>[BB3_Gender]</td>\n",
       "      <td>NaN</td>\n",
       "    </tr>\n",
       "    <tr>\n",
       "      <th>17</th>\n",
       "      <td>[]</td>\n",
       "      <td>NaN</td>\n",
       "    </tr>\n",
       "    <tr>\n",
       "      <th>18</th>\n",
       "      <td>[]</td>\n",
       "      <td>NaN</td>\n",
       "    </tr>\n",
       "    <tr>\n",
       "      <th>19</th>\n",
       "      <td>[]</td>\n",
       "      <td>NaN</td>\n",
       "    </tr>\n",
       "    <tr>\n",
       "      <th>20</th>\n",
       "      <td>[]</td>\n",
       "      <td>NaN</td>\n",
       "    </tr>\n",
       "    <tr>\n",
       "      <th>21</th>\n",
       "      <td>[BB3_Gender]</td>\n",
       "      <td>Conflict</td>\n",
       "    </tr>\n",
       "    <tr>\n",
       "      <th>22</th>\n",
       "      <td>[]</td>\n",
       "      <td>NaN</td>\n",
       "    </tr>\n",
       "    <tr>\n",
       "      <th>23</th>\n",
       "      <td>[BB3_Gender]</td>\n",
       "      <td>NaN</td>\n",
       "    </tr>\n",
       "    <tr>\n",
       "      <th>24</th>\n",
       "      <td>[]</td>\n",
       "      <td>NaN</td>\n",
       "    </tr>\n",
       "    <tr>\n",
       "      <th>25</th>\n",
       "      <td>[BB3_Gender, BB3_Digital Dev/Finance]</td>\n",
       "      <td>NaN</td>\n",
       "    </tr>\n",
       "    <tr>\n",
       "      <th>26</th>\n",
       "      <td>[BB3_Gender]</td>\n",
       "      <td>NaN</td>\n",
       "    </tr>\n",
       "    <tr>\n",
       "      <th>27</th>\n",
       "      <td>[BB3_Youth]</td>\n",
       "      <td>NaN</td>\n",
       "    </tr>\n",
       "    <tr>\n",
       "      <th>28</th>\n",
       "      <td>[BB3_Youth]</td>\n",
       "      <td>NaN</td>\n",
       "    </tr>\n",
       "    <tr>\n",
       "      <th>29</th>\n",
       "      <td>[]</td>\n",
       "      <td>NaN</td>\n",
       "    </tr>\n",
       "    <tr>\n",
       "      <th>...</th>\n",
       "      <td>...</td>\n",
       "      <td>...</td>\n",
       "    </tr>\n",
       "    <tr>\n",
       "      <th>133</th>\n",
       "      <td>[BB3_Gender]</td>\n",
       "      <td>NaN</td>\n",
       "    </tr>\n",
       "    <tr>\n",
       "      <th>134</th>\n",
       "      <td>[BB3_Gender, BB3_Conflict, BB3_Digital Dev/Fin...</td>\n",
       "      <td>COVID-19</td>\n",
       "    </tr>\n",
       "    <tr>\n",
       "      <th>135</th>\n",
       "      <td>[BB3_Gender, BB3_Youth]</td>\n",
       "      <td>Youth</td>\n",
       "    </tr>\n",
       "    <tr>\n",
       "      <th>136</th>\n",
       "      <td>[]</td>\n",
       "      <td>COVID-19</td>\n",
       "    </tr>\n",
       "    <tr>\n",
       "      <th>137</th>\n",
       "      <td>[BB3_Gender, BB3_Youth]</td>\n",
       "      <td>Gender &amp; Women's Economic Empowerment</td>\n",
       "    </tr>\n",
       "    <tr>\n",
       "      <th>138</th>\n",
       "      <td>[BB3_Gender, BB3_Conflict, BB3_Digital Dev/Fin...</td>\n",
       "      <td>NaN</td>\n",
       "    </tr>\n",
       "    <tr>\n",
       "      <th>139</th>\n",
       "      <td>[]</td>\n",
       "      <td>NaN</td>\n",
       "    </tr>\n",
       "    <tr>\n",
       "      <th>140</th>\n",
       "      <td>[BB3_Gender, BB3_Youth, BB3_Digital Dev/Finance]</td>\n",
       "      <td>NaN</td>\n",
       "    </tr>\n",
       "    <tr>\n",
       "      <th>141</th>\n",
       "      <td>[BB3_Gender]</td>\n",
       "      <td>COVID-19,Gender &amp; Women's Economic Empowerment</td>\n",
       "    </tr>\n",
       "    <tr>\n",
       "      <th>142</th>\n",
       "      <td>[]</td>\n",
       "      <td>Conflict</td>\n",
       "    </tr>\n",
       "    <tr>\n",
       "      <th>143</th>\n",
       "      <td>[BB3_Gender, BB3_Youth]</td>\n",
       "      <td>COVID-19,Gender &amp; Women's Economic Empowerment...</td>\n",
       "    </tr>\n",
       "    <tr>\n",
       "      <th>144</th>\n",
       "      <td>[]</td>\n",
       "      <td>NaN</td>\n",
       "    </tr>\n",
       "    <tr>\n",
       "      <th>145</th>\n",
       "      <td>[BB3_Gender]</td>\n",
       "      <td>NaN</td>\n",
       "    </tr>\n",
       "    <tr>\n",
       "      <th>146</th>\n",
       "      <td>[BB3_Gender]</td>\n",
       "      <td>NaN</td>\n",
       "    </tr>\n",
       "    <tr>\n",
       "      <th>147</th>\n",
       "      <td>[BB3_Gender]</td>\n",
       "      <td>COVID-19</td>\n",
       "    </tr>\n",
       "    <tr>\n",
       "      <th>148</th>\n",
       "      <td>[BB3_Gender, BB3_Youth]</td>\n",
       "      <td>COVID-19</td>\n",
       "    </tr>\n",
       "    <tr>\n",
       "      <th>149</th>\n",
       "      <td>[BB3_Gender, BB3_Conflict]</td>\n",
       "      <td>Conflict,COVID-19</td>\n",
       "    </tr>\n",
       "    <tr>\n",
       "      <th>150</th>\n",
       "      <td>[BB3_Gender]</td>\n",
       "      <td>COVID-19</td>\n",
       "    </tr>\n",
       "    <tr>\n",
       "      <th>151</th>\n",
       "      <td>[BB3_Gender]</td>\n",
       "      <td>COVID-19</td>\n",
       "    </tr>\n",
       "    <tr>\n",
       "      <th>152</th>\n",
       "      <td>[BB3_Gender]</td>\n",
       "      <td>COVID-19</td>\n",
       "    </tr>\n",
       "    <tr>\n",
       "      <th>153</th>\n",
       "      <td>[BB3_Gender]</td>\n",
       "      <td>NaN</td>\n",
       "    </tr>\n",
       "    <tr>\n",
       "      <th>154</th>\n",
       "      <td>[BB3_Gender, BB3_Digital Dev/Finance]</td>\n",
       "      <td>COVID-19</td>\n",
       "    </tr>\n",
       "    <tr>\n",
       "      <th>155</th>\n",
       "      <td>[BB3_Gender, BB3_Youth]</td>\n",
       "      <td>COVID-19</td>\n",
       "    </tr>\n",
       "    <tr>\n",
       "      <th>156</th>\n",
       "      <td>[BB3_Gender, BB3_Youth, BB3_Digital Dev/Finance]</td>\n",
       "      <td>NaN</td>\n",
       "    </tr>\n",
       "    <tr>\n",
       "      <th>157</th>\n",
       "      <td>[BB3_Gender, BB3_Conflict]</td>\n",
       "      <td>NaN</td>\n",
       "    </tr>\n",
       "    <tr>\n",
       "      <th>158</th>\n",
       "      <td>[BB3_Gender]</td>\n",
       "      <td>COVID-19</td>\n",
       "    </tr>\n",
       "    <tr>\n",
       "      <th>159</th>\n",
       "      <td>[]</td>\n",
       "      <td>NaN</td>\n",
       "    </tr>\n",
       "    <tr>\n",
       "      <th>160</th>\n",
       "      <td>[BB3_Gender]</td>\n",
       "      <td>Conflict</td>\n",
       "    </tr>\n",
       "    <tr>\n",
       "      <th>161</th>\n",
       "      <td>[BB3_Gender]</td>\n",
       "      <td>COVID-19</td>\n",
       "    </tr>\n",
       "    <tr>\n",
       "      <th>162</th>\n",
       "      <td>[BB3_Gender, BB3_Youth]</td>\n",
       "      <td>Youth,Gender &amp; Women's Economic Empowerment,CO...</td>\n",
       "    </tr>\n",
       "  </tbody>\n",
       "</table>\n",
       "<p>163 rows × 2 columns</p>\n",
       "</div>"
      ],
      "text/plain": [
       "                                       B3_USAID Themes  \\\n",
       "0                                                   []   \n",
       "1                                       [BB3_Conflict]   \n",
       "2    [BB3_Gender, BB3_Conflict, BB3_Digital Dev/Fin...   \n",
       "3    [BB3_Gender, BB3_Conflict, BB3_Digital Dev/Fin...   \n",
       "4    [BB3_Gender, BB3_Conflict, BB3_Digital Dev/Fin...   \n",
       "5                                                   []   \n",
       "6                           [BB3_Gender, BB3_Conflict]   \n",
       "7                                         [BB3_Gender]   \n",
       "8                [BB3_Gender, BB3_Digital Dev/Finance]   \n",
       "9                                                   []   \n",
       "10                                        [BB3_Gender]   \n",
       "11                                                  []   \n",
       "12                                        [BB3_Gender]   \n",
       "13                                      [BB3_Conflict]   \n",
       "14                                                  []   \n",
       "15                                                  []   \n",
       "16                                        [BB3_Gender]   \n",
       "17                                                  []   \n",
       "18                                                  []   \n",
       "19                                                  []   \n",
       "20                                                  []   \n",
       "21                                        [BB3_Gender]   \n",
       "22                                                  []   \n",
       "23                                        [BB3_Gender]   \n",
       "24                                                  []   \n",
       "25               [BB3_Gender, BB3_Digital Dev/Finance]   \n",
       "26                                        [BB3_Gender]   \n",
       "27                                         [BB3_Youth]   \n",
       "28                                         [BB3_Youth]   \n",
       "29                                                  []   \n",
       "..                                                 ...   \n",
       "133                                       [BB3_Gender]   \n",
       "134  [BB3_Gender, BB3_Conflict, BB3_Digital Dev/Fin...   \n",
       "135                            [BB3_Gender, BB3_Youth]   \n",
       "136                                                 []   \n",
       "137                            [BB3_Gender, BB3_Youth]   \n",
       "138  [BB3_Gender, BB3_Conflict, BB3_Digital Dev/Fin...   \n",
       "139                                                 []   \n",
       "140   [BB3_Gender, BB3_Youth, BB3_Digital Dev/Finance]   \n",
       "141                                       [BB3_Gender]   \n",
       "142                                                 []   \n",
       "143                            [BB3_Gender, BB3_Youth]   \n",
       "144                                                 []   \n",
       "145                                       [BB3_Gender]   \n",
       "146                                       [BB3_Gender]   \n",
       "147                                       [BB3_Gender]   \n",
       "148                            [BB3_Gender, BB3_Youth]   \n",
       "149                         [BB3_Gender, BB3_Conflict]   \n",
       "150                                       [BB3_Gender]   \n",
       "151                                       [BB3_Gender]   \n",
       "152                                       [BB3_Gender]   \n",
       "153                                       [BB3_Gender]   \n",
       "154              [BB3_Gender, BB3_Digital Dev/Finance]   \n",
       "155                            [BB3_Gender, BB3_Youth]   \n",
       "156   [BB3_Gender, BB3_Youth, BB3_Digital Dev/Finance]   \n",
       "157                         [BB3_Gender, BB3_Conflict]   \n",
       "158                                       [BB3_Gender]   \n",
       "159                                                 []   \n",
       "160                                       [BB3_Gender]   \n",
       "161                                       [BB3_Gender]   \n",
       "162                            [BB3_Gender, BB3_Youth]   \n",
       "\n",
       "                                Special Considerations  \n",
       "0                                                  NaN  \n",
       "1                                             Conflict  \n",
       "2                                                  NaN  \n",
       "3                                                  NaN  \n",
       "4                                                  NaN  \n",
       "5                                                  NaN  \n",
       "6                                                  NaN  \n",
       "7                                                  NaN  \n",
       "8                                                  NaN  \n",
       "9                                                  NaN  \n",
       "10                                                 NaN  \n",
       "11                                                 NaN  \n",
       "12                                                 NaN  \n",
       "13                                                 NaN  \n",
       "14                                                 NaN  \n",
       "15                                                 NaN  \n",
       "16                                                 NaN  \n",
       "17                                                 NaN  \n",
       "18                                                 NaN  \n",
       "19                                                 NaN  \n",
       "20                                                 NaN  \n",
       "21                                            Conflict  \n",
       "22                                                 NaN  \n",
       "23                                                 NaN  \n",
       "24                                                 NaN  \n",
       "25                                                 NaN  \n",
       "26                                                 NaN  \n",
       "27                                                 NaN  \n",
       "28                                                 NaN  \n",
       "29                                                 NaN  \n",
       "..                                                 ...  \n",
       "133                                                NaN  \n",
       "134                                           COVID-19  \n",
       "135                                              Youth  \n",
       "136                                           COVID-19  \n",
       "137              Gender & Women's Economic Empowerment  \n",
       "138                                                NaN  \n",
       "139                                                NaN  \n",
       "140                                                NaN  \n",
       "141     COVID-19,Gender & Women's Economic Empowerment  \n",
       "142                                           Conflict  \n",
       "143  COVID-19,Gender & Women's Economic Empowerment...  \n",
       "144                                                NaN  \n",
       "145                                                NaN  \n",
       "146                                                NaN  \n",
       "147                                           COVID-19  \n",
       "148                                           COVID-19  \n",
       "149                                  Conflict,COVID-19  \n",
       "150                                           COVID-19  \n",
       "151                                           COVID-19  \n",
       "152                                           COVID-19  \n",
       "153                                                NaN  \n",
       "154                                           COVID-19  \n",
       "155                                           COVID-19  \n",
       "156                                                NaN  \n",
       "157                                                NaN  \n",
       "158                                           COVID-19  \n",
       "159                                                NaN  \n",
       "160                                           Conflict  \n",
       "161                                           COVID-19  \n",
       "162  Youth,Gender & Women's Economic Empowerment,CO...  \n",
       "\n",
       "[163 rows x 2 columns]"
      ]
     },
     "execution_count": 233,
     "metadata": {},
     "output_type": "execute_result"
    }
   ],
   "source": [
    "df_small_text[['B3_USAID Themes', 'Special Considerations']]"
   ]
  },
  {
   "cell_type": "markdown",
   "id": "f759e52e",
   "metadata": {},
   "source": [
    "### Technical sector"
   ]
  },
  {
   "cell_type": "markdown",
   "id": "879e8991",
   "metadata": {},
   "source": [
    "#### Train model"
   ]
  },
  {
   "cell_type": "code",
   "execution_count": 110,
   "id": "3eadc7a9",
   "metadata": {},
   "outputs": [
    {
     "name": "stderr",
     "output_type": "stream",
     "text": [
      "C:\\Users\\Volha_Skidan\\Anaconda3\\envs\\havos\\lib\\site-packages\\pandas\\core\\indexing.py:190: SettingWithCopyWarning: \n",
      "A value is trying to be set on a copy of a slice from a DataFrame\n",
      "\n",
      "See the caveats in the documentation: http://pandas.pydata.org/pandas-docs/stable/indexing.html#indexing-view-versus-copy\n",
      "  self._setitem_with_indexer(indexer, value)\n",
      "C:\\Users\\Volha_Skidan\\Anaconda3\\envs\\havos\\lib\\site-packages\\sklearn\\linear_model\\logistic.py:433: FutureWarning: Default solver will be changed to 'lbfgs' in 0.22. Specify a solver to silence this warning.\n",
      "  FutureWarning)\n"
     ]
    },
    {
     "name": "stdout",
     "output_type": "stream",
     "text": [
      "Accuracy for class  & Governance\" is 0.8909090909090909\n",
      "Accuracy for class  Human Rights is 0.8909090909090909\n",
      "Accuracy for class \"Democracy is 0.8909090909090909\n",
      "Accuracy for class Agriculture and Food Security is 0.8454545454545455\n",
      "Accuracy for class Economic Growth is 0.7454545454545455\n",
      "Accuracy for class Education and Social Services is 0.9\n",
      "Accuracy for class Environment/Climate Change is 0.8454545454545455\n",
      "Accuracy for class Health  is 0.8727272727272727\n",
      "Accuracy for class Humanitarian Assistance is 0.9272727272727272\n",
      "Accuracy for class Peace & Security is 0.9727272727272728\n"
     ]
    },
    {
     "data": {
      "image/png": "[encoded data removed]",
      "text/plain": [
       "<Figure size 432x288 with 1 Axes>"
      ]
     },
     "metadata": {
      "needs_background": "light"
     },
     "output_type": "display_data"
    },
    {
     "data": {
      "image/png": "[encoded data removed]",
      "text/plain": [
       "<Figure size 432x288 with 1 Axes>"
      ]
     },
     "metadata": {
      "needs_background": "light"
     },
     "output_type": "display_data"
    },
    {
     "data": {
      "image/png": "[encoded data removed]",
      "text/plain": [
       "<Figure size 432x288 with 1 Axes>"
      ]
     },
     "metadata": {
      "needs_background": "light"
     },
     "output_type": "display_data"
    },
    {
     "data": {
      "image/png": "[encoded data removed]",
      "text/plain": [
       "<Figure size 432x288 with 1 Axes>"
      ]
     },
     "metadata": {
      "needs_background": "light"
     },
     "output_type": "display_data"
    },
    {
     "data": {
      "image/png": "[encoded data removed]",
      "text/plain": [
       "<Figure size 432x288 with 1 Axes>"
      ]
     },
     "metadata": {
      "needs_background": "light"
     },
     "output_type": "display_data"
    },
    {
     "data": {
      "image/png": "[encoded data removed]",
      "text/plain": [
       "<Figure size 432x288 with 1 Axes>"
      ]
     },
     "metadata": {
      "needs_background": "light"
     },
     "output_type": "display_data"
    },
    {
     "data": {
      "image/png": "[encoded data removed]",
      "text/plain": [
       "<Figure size 432x288 with 1 Axes>"
      ]
     },
     "metadata": {
      "needs_background": "light"
     },
     "output_type": "display_data"
    },
    {
     "data": {
      "image/png": "[encoded data removed]",
      "text/plain": [
       "<Figure size 432x288 with 1 Axes>"
      ]
     },
     "metadata": {
      "needs_background": "light"
     },
     "output_type": "display_data"
    },
    {
     "data": {
      "image/png": "[encoded data removed]",
      "text/plain": [
       "<Figure size 432x288 with 1 Axes>"
      ]
     },
     "metadata": {
      "needs_background": "light"
     },
     "output_type": "display_data"
    },
    {
     "data": {
      "image/png": "[encoded data removed]",
      "text/plain": [
       "<Figure size 432x288 with 1 Axes>"
      ]
     },
     "metadata": {
      "needs_background": "light"
     },
     "output_type": "display_data"
    }
   ],
   "source": [
    "tech_sec_coded, classes = code_multioutput_cat_column(df_text, 'Technical Sector', 'technical_sector_labels')\n",
    "df_train, df_test, y_train, y_test = split_dataset(df_text['text_clean'], tech_sec_coded)\n",
    "print(f\"Category distribution: {pd.Series([item for sublist in df_text['technical_sector_labels'] for item in sublist]).value_counts()}\")\n",
    "\n",
    "model = create_tf_idf_classifier_pipeline(OneVsRestClassifier(LogisticRegression()))\n",
    "## train classifier\n",
    "model.fit(df_train, y_train)\n",
    "## test\n",
    "predicted = model.predict(df_test)\n",
    "predicted_prob = model.predict_proba(X_test)\n",
    "\n",
    "plot_conf_matrix(predicted, y_test, classes)"
   ]
  },
  {
   "cell_type": "markdown",
   "id": "4260c5d2",
   "metadata": {},
   "source": [
    "### PSE Ways We Engaged"
   ]
  },
  {
   "cell_type": "markdown",
   "id": "9620ff4a",
   "metadata": {},
   "source": [
    "#### Train model"
   ]
  },
  {
   "cell_type": "code",
   "execution_count": 112,
   "id": "7eeb5e2e",
   "metadata": {},
   "outputs": [
    {
     "name": "stderr",
     "output_type": "stream",
     "text": [
      "C:\\Users\\Volha_Skidan\\Anaconda3\\envs\\havos\\lib\\site-packages\\pandas\\core\\indexing.py:190: SettingWithCopyWarning: \n",
      "A value is trying to be set on a copy of a slice from a DataFrame\n",
      "\n",
      "See the caveats in the documentation: http://pandas.pydata.org/pandas-docs/stable/indexing.html#indexing-view-versus-copy\n",
      "  self._setitem_with_indexer(indexer, value)\n",
      "C:\\Users\\Volha_Skidan\\Anaconda3\\envs\\havos\\lib\\site-packages\\sklearn\\linear_model\\logistic.py:433: FutureWarning: Default solver will be changed to 'lbfgs' in 0.22. Specify a solver to silence this warning.\n",
      "  FutureWarning)\n"
     ]
    },
    {
     "name": "stdout",
     "output_type": "stream",
     "text": [
      "Accuracy for class Advancing Learning and Market Research; is 0.8454545454545455\n",
      "Accuracy for class Catalyzing Private-Sector Resources; is 0.6181818181818182\n",
      "Accuracy for class Harnessing Private-Sector Expertise and Innovation; is 0.6545454545454545\n",
      "Accuracy for class Information-Sharing and Strategic Alignment is 0.5181818181818182\n",
      "Accuracy for class Strengthening the Enabling Environment is 0.7272727272727273\n"
     ]
    },
    {
     "data": {
      "image/png": "[encoded data removed]",
      "text/plain": [
       "<Figure size 432x288 with 1 Axes>"
      ]
     },
     "metadata": {
      "needs_background": "light"
     },
     "output_type": "display_data"
    },
    {
     "data": {
      "image/png": "[encoded data removed]",
      "text/plain": [
       "<Figure size 432x288 with 1 Axes>"
      ]
     },
     "metadata": {
      "needs_background": "light"
     },
     "output_type": "display_data"
    },
    {
     "data": {
      "image/png": "[encoded data removed]",
      "text/plain": [
       "<Figure size 432x288 with 1 Axes>"
      ]
     },
     "metadata": {
      "needs_background": "light"
     },
     "output_type": "display_data"
    },
    {
     "data": {
      "image/png": "[encoded data removed]",
      "text/plain": [
       "<Figure size 432x288 with 1 Axes>"
      ]
     },
     "metadata": {
      "needs_background": "light"
     },
     "output_type": "display_data"
    },
    {
     "data": {
      "image/png": "[encoded data removed]",
      "text/plain": [
       "<Figure size 432x288 with 1 Axes>"
      ]
     },
     "metadata": {
      "needs_background": "light"
     },
     "output_type": "display_data"
    }
   ],
   "source": [
    "pse_ways_coded, classes = code_multioutput_cat_column(df_text, 'PSE Ways We Engage', 'pse_wwe_labels')\n",
    "df_train, df_test, y_train, y_test = split_dataset(df_text['text_clean'], pse_ways_coded)\n",
    "print(f\"Category distribution: {pd.Series([item for sublist in df_text['technical_sector_labels'] for item in sublist]).value_counts()}\")\n",
    "\n",
    "model = create_tf_idf_classifier_pipeline(OneVsRestClassifier(LogisticRegression()))\n",
    "## train classifier\n",
    "model.fit(df_train, y_train)\n",
    "## test\n",
    "predicted = model.predict(df_test)\n",
    "predicted_prob = model.predict_proba(X_test)\n",
    "\n",
    "plot_conf_matrix(predicted, y_test, classes)"
   ]
  },
  {
   "cell_type": "markdown",
   "id": "82ea0397",
   "metadata": {},
   "source": [
    "#### Apply model"
   ]
  },
  {
   "cell_type": "code",
   "execution_count": 147,
   "id": "9a359b8e",
   "metadata": {},
   "outputs": [],
   "source": [
    "df_text[\"pse_ways_predicted\"] = None\n",
    "df_text[\"pse_ways_probability_predicted\"] = None"
   ]
  },
  {
   "cell_type": "code",
   "execution_count": 148,
   "id": "cf7046d6",
   "metadata": {},
   "outputs": [],
   "source": [
    "for i in range(predicted_full.shape[0]):\n",
    "    df_text[\"pse_ways_predicted\"].values[i] = []\n",
    "    df_text[\"pse_ways_probability_predicted\"].values[i] = {}\n",
    "    for j in range(5):\n",
    "        label = mlb.classes_[j]\n",
    "        if predicted_full[i][j] == 1:\n",
    "            df_text[\"pse_ways_predicted\"].values[i].append(label)\n",
    "        df_text[\"pse_ways_probability_predicted\"].values[i][label] = predicted_proba_full[i][j]"
   ]
  },
  {
   "cell_type": "code",
   "execution_count": 149,
   "id": "ef693649",
   "metadata": {},
   "outputs": [],
   "source": [
    "similar_spans = pd.read_csv(\"tmp.csv\")"
   ]
  },
  {
   "cell_type": "code",
   "execution_count": 151,
   "id": "a21448f3",
   "metadata": {},
   "outputs": [],
   "source": [
    "df_model = df_text[['doc_name', 'pse_ways_predicted', 'pse_ways_probability_predicted']]\n",
    "\n",
    "df_enriched = pd.merge(similar_spans,\n",
    "                      df_model,\n",
    "                      on='doc_name',\n",
    "                      how='inner')"
   ]
  },
  {
   "cell_type": "code",
   "execution_count": 152,
   "id": "54a45590",
   "metadata": {},
   "outputs": [],
   "source": [
    "df_enriched.to_csv(\"pse_ways_comparison.csv\")"
   ]
  },
  {
   "cell_type": "markdown",
   "id": "2a17c533",
   "metadata": {},
   "source": [
    "### PSE Key Values"
   ]
  },
  {
   "cell_type": "code",
   "execution_count": 272,
   "id": "155bfef6",
   "metadata": {},
   "outputs": [
    {
     "data": {
      "text/html": [
       "<div>\n",
       "<style scoped>\n",
       "    .dataframe tbody tr th:only-of-type {\n",
       "        vertical-align: middle;\n",
       "    }\n",
       "\n",
       "    .dataframe tbody tr th {\n",
       "        vertical-align: top;\n",
       "    }\n",
       "\n",
       "    .dataframe thead th {\n",
       "        text-align: right;\n",
       "    }\n",
       "</style>\n",
       "<table border=\"1\" class=\"dataframe\">\n",
       "  <thead>\n",
       "    <tr style=\"text-align: right;\">\n",
       "      <th></th>\n",
       "      <th>doc_name</th>\n",
       "      <th>content</th>\n",
       "      <th>full_content</th>\n",
       "      <th>Document ID</th>\n",
       "      <th>Document Title</th>\n",
       "      <th>Author(s)</th>\n",
       "      <th>Name of Private Sector Partner(s)</th>\n",
       "      <th>Publishing Institution(s)</th>\n",
       "      <th>Year</th>\n",
       "      <th>Technical Sector</th>\n",
       "      <th>Special Considerations</th>\n",
       "      <th>Private Sector Industry</th>\n",
       "      <th>Type of Enterprise</th>\n",
       "      <th>Country(ies)</th>\n",
       "      <th>USAID Region</th>\n",
       "      <th>USAID-Funded?</th>\n",
       "      <th>Type of Document</th>\n",
       "      <th>PSE Ways We Engage</th>\n",
       "      <th>PSE Key Values</th>\n",
       "      <th>PSE Key Values USAID Offers</th>\n",
       "      <th>Key Findings</th>\n",
       "      <th>Key Recommendations</th>\n",
       "      <th>Document Attachment</th>\n",
       "      <th>Google Drive Link</th>\n",
       "      <th>Internet URL of Document</th>\n",
       "      <th>Reviewer Name</th>\n",
       "      <th>Review Complete?</th>\n",
       "      <th>Review Stage</th>\n",
       "      <th>text_clean</th>\n",
       "      <th>authors_found</th>\n",
       "      <th>found_year</th>\n",
       "      <th>priv_sect_partners_found</th>\n",
       "      <th>spec_consideration_labels</th>\n",
       "      <th>pse_wwe_labels</th>\n",
       "      <th>pse_ways_labels</th>\n",
       "      <th>pse_ways_predicted</th>\n",
       "      <th>pse_ways_probability_predicted</th>\n",
       "      <th>pse_keys_labels</th>\n",
       "      <th>PSE_key_values</th>\n",
       "      <th>pse_keys_offer_labels</th>\n",
       "    </tr>\n",
       "  </thead>\n",
       "  <tbody>\n",
       "    <tr>\n",
       "      <th>0</th>\n",
       "      <td>0000-APLU-PAK.pkl</td>\n",
       "      <td>\\n \\n \\n \\n\\nAcknowledgements \\n\\nMany people...</td>\n",
       "      <td>[ \\n\\n   \\n\\n \\n\\n \\n\\nFeasibility Study of th...</td>\n",
       "      <td>0000-APLU-PAK</td>\n",
       "      <td>Feasibility Study of the US-Pakistan Knowledge...</td>\n",
       "      <td>Association for Public and Land-grant Universi...</td>\n",
       "      <td>NaN</td>\n",
       "      <td>USAID</td>\n",
       "      <td>NaN</td>\n",
       "      <td>Education and Social Services</td>\n",
       "      <td>Youth</td>\n",
       "      <td>Educational Services</td>\n",
       "      <td>NaN</td>\n",
       "      <td>Pakistan</td>\n",
       "      <td>Afghanistan and Pakistan</td>\n",
       "      <td>checked</td>\n",
       "      <td>Use case/case study</td>\n",
       "      <td>Advancing Learning and Market Research;,Harnes...</td>\n",
       "      <td>\"Scale, Sustainability, and Reach\",\"Innovation...</td>\n",
       "      <td>Sectoral Expertise and Knowledge,Support to St...</td>\n",
       "      <td>We can learn from past individual training pro...</td>\n",
       "      <td>Recommendations for aligning program goals:\\n1...</td>\n",
       "      <td>0000-APLU-PAK.pdf (https://dl.airtable.com/.at...</td>\n",
       "      <td>https://drive.google.com/open?id=1foT7HO75eCJ-...</td>\n",
       "      <td>https://pdf.usaid.gov/pdf_docs/PA00N7DN.pdf</td>\n",
       "      <td>Mehak,Anna</td>\n",
       "      <td>checked</td>\n",
       "      <td>Second Review</td>\n",
       "      <td>acknowledgement many people contributed develo...</td>\n",
       "      <td>[Landgrant Universities, Erica Rounsefell, Kev...</td>\n",
       "      <td>NaN</td>\n",
       "      <td>[BT, Ecom, GOAL, Google, Intel, PATH, SIM, UPS...</td>\n",
       "      <td>[Youth]</td>\n",
       "      <td>[Advancing Learning and Market Research;, Harn...</td>\n",
       "      <td>[Advancing Learning and Market Research;, Harn...</td>\n",
       "      <td>[Advancing Learning and Market Research;, Harn...</td>\n",
       "      <td>{'Advancing Learning and Market Research;': 0....</td>\n",
       "      <td>[Scale, Sustainability, and Reach, Innovation,...</td>\n",
       "      <td>Scale, Sustainability, and Reach;Innovation, E...</td>\n",
       "      <td>[Sectoral Expertise and Knowledge, Support to ...</td>\n",
       "    </tr>\n",
       "    <tr>\n",
       "      <th>1</th>\n",
       "      <td>0000-Chile-ZMB.pkl</td>\n",
       "      <td>\\n\\n \\n\\n \\n\\n \\n\\n \\n\\nRepublic of Zambia \\n...</td>\n",
       "      <td>[ \\n\\n \\n \\n\\n \\n\\n \\n\\n \\n\\nRepublic of Zambi...</td>\n",
       "      <td>0000-Chile-ZMB</td>\n",
       "      <td>Teacher Effectiveness. Towards Sustainable Del...</td>\n",
       "      <td>John Chileshe,Geoffrey Tambulukani</td>\n",
       "      <td>NaN</td>\n",
       "      <td>USAID</td>\n",
       "      <td>NaN</td>\n",
       "      <td>Education and Social Services</td>\n",
       "      <td>NaN</td>\n",
       "      <td>NaN</td>\n",
       "      <td>NaN</td>\n",
       "      <td>Zambia</td>\n",
       "      <td>Africa</td>\n",
       "      <td>checked</td>\n",
       "      <td>Use case/case study</td>\n",
       "      <td>Information-Sharing and Strategic Alignment,Ca...</td>\n",
       "      <td>Efficiency and Effectiveness</td>\n",
       "      <td>Sectoral Expertise and Knowledge</td>\n",
       "      <td>According to this article, the head teacher is...</td>\n",
       "      <td>The following are examples of key best practic...</td>\n",
       "      <td>0000-Chile-ZMB.pdf (https://dl.airtable.com/.a...</td>\n",
       "      <td>https://drive.google.com/open?id=1dzE6kGKQRTK-...</td>\n",
       "      <td>https://pdf.usaid.gov/pdf_docs/PA00MWT9.pdf</td>\n",
       "      <td>Mehak,Lauren</td>\n",
       "      <td>checked</td>\n",
       "      <td>Second Review</td>\n",
       "      <td>republic zambia ministry general education tea...</td>\n",
       "      <td>[John Chileshe]</td>\n",
       "      <td>NaN</td>\n",
       "      <td>[Amul, Creative Associates International, SIM,...</td>\n",
       "      <td>[]</td>\n",
       "      <td>[Information-Sharing and Strategic Alignment, ...</td>\n",
       "      <td>[Information-Sharing and Strategic Alignment, ...</td>\n",
       "      <td>[Catalyzing Private-Sector Resources;, Informa...</td>\n",
       "      <td>{'Advancing Learning and Market Research;': 0....</td>\n",
       "      <td>[Efficiency and Effectiveness]</td>\n",
       "      <td>Efficiency and Effectiveness</td>\n",
       "      <td>[Sectoral Expertise and Knowledge]</td>\n",
       "    </tr>\n",
       "  </tbody>\n",
       "</table>\n",
       "</div>"
      ],
      "text/plain": [
       "             doc_name                                            content  \\\n",
       "0   0000-APLU-PAK.pkl   \\n \\n \\n \\n\\nAcknowledgements \\n\\nMany people...   \n",
       "1  0000-Chile-ZMB.pkl   \\n\\n \\n\\n \\n\\n \\n\\n \\n\\nRepublic of Zambia \\n...   \n",
       "\n",
       "                                        full_content     Document ID  \\\n",
       "0  [ \\n\\n   \\n\\n \\n\\n \\n\\nFeasibility Study of th...   0000-APLU-PAK   \n",
       "1  [ \\n\\n \\n \\n\\n \\n\\n \\n\\n \\n\\nRepublic of Zambi...  0000-Chile-ZMB   \n",
       "\n",
       "                                      Document Title  \\\n",
       "0  Feasibility Study of the US-Pakistan Knowledge...   \n",
       "1  Teacher Effectiveness. Towards Sustainable Del...   \n",
       "\n",
       "                                           Author(s)  \\\n",
       "0  Association for Public and Land-grant Universi...   \n",
       "1                 John Chileshe,Geoffrey Tambulukani   \n",
       "\n",
       "  Name of Private Sector Partner(s) Publishing Institution(s)  Year  \\\n",
       "0                               NaN                     USAID   NaN   \n",
       "1                               NaN                     USAID   NaN   \n",
       "\n",
       "                Technical Sector Special Considerations  \\\n",
       "0  Education and Social Services                  Youth   \n",
       "1  Education and Social Services                    NaN   \n",
       "\n",
       "  Private Sector Industry Type of Enterprise Country(ies)  \\\n",
       "0    Educational Services                NaN     Pakistan   \n",
       "1                     NaN                NaN       Zambia   \n",
       "\n",
       "               USAID Region USAID-Funded?     Type of Document  \\\n",
       "0  Afghanistan and Pakistan       checked  Use case/case study   \n",
       "1                    Africa       checked  Use case/case study   \n",
       "\n",
       "                                  PSE Ways We Engage  \\\n",
       "0  Advancing Learning and Market Research;,Harnes...   \n",
       "1  Information-Sharing and Strategic Alignment,Ca...   \n",
       "\n",
       "                                      PSE Key Values  \\\n",
       "0  \"Scale, Sustainability, and Reach\",\"Innovation...   \n",
       "1                       Efficiency and Effectiveness   \n",
       "\n",
       "                         PSE Key Values USAID Offers  \\\n",
       "0  Sectoral Expertise and Knowledge,Support to St...   \n",
       "1                   Sectoral Expertise and Knowledge   \n",
       "\n",
       "                                        Key Findings  \\\n",
       "0  We can learn from past individual training pro...   \n",
       "1  According to this article, the head teacher is...   \n",
       "\n",
       "                                 Key Recommendations  \\\n",
       "0  Recommendations for aligning program goals:\\n1...   \n",
       "1  The following are examples of key best practic...   \n",
       "\n",
       "                                 Document Attachment  \\\n",
       "0  0000-APLU-PAK.pdf (https://dl.airtable.com/.at...   \n",
       "1  0000-Chile-ZMB.pdf (https://dl.airtable.com/.a...   \n",
       "\n",
       "                                   Google Drive Link  \\\n",
       "0  https://drive.google.com/open?id=1foT7HO75eCJ-...   \n",
       "1  https://drive.google.com/open?id=1dzE6kGKQRTK-...   \n",
       "\n",
       "                      Internet URL of Document Reviewer Name Review Complete?  \\\n",
       "0  https://pdf.usaid.gov/pdf_docs/PA00N7DN.pdf    Mehak,Anna          checked   \n",
       "1  https://pdf.usaid.gov/pdf_docs/PA00MWT9.pdf  Mehak,Lauren          checked   \n",
       "\n",
       "    Review Stage                                         text_clean  \\\n",
       "0  Second Review  acknowledgement many people contributed develo...   \n",
       "1  Second Review  republic zambia ministry general education tea...   \n",
       "\n",
       "                                       authors_found  found_year  \\\n",
       "0  [Landgrant Universities, Erica Rounsefell, Kev...         NaN   \n",
       "1                                    [John Chileshe]         NaN   \n",
       "\n",
       "                            priv_sect_partners_found  \\\n",
       "0  [BT, Ecom, GOAL, Google, Intel, PATH, SIM, UPS...   \n",
       "1  [Amul, Creative Associates International, SIM,...   \n",
       "\n",
       "  spec_consideration_labels  \\\n",
       "0                   [Youth]   \n",
       "1                        []   \n",
       "\n",
       "                                      pse_wwe_labels  \\\n",
       "0  [Advancing Learning and Market Research;, Harn...   \n",
       "1  [Information-Sharing and Strategic Alignment, ...   \n",
       "\n",
       "                                     pse_ways_labels  \\\n",
       "0  [Advancing Learning and Market Research;, Harn...   \n",
       "1  [Information-Sharing and Strategic Alignment, ...   \n",
       "\n",
       "                                  pse_ways_predicted  \\\n",
       "0  [Advancing Learning and Market Research;, Harn...   \n",
       "1  [Catalyzing Private-Sector Resources;, Informa...   \n",
       "\n",
       "                      pse_ways_probability_predicted  \\\n",
       "0  {'Advancing Learning and Market Research;': 0....   \n",
       "1  {'Advancing Learning and Market Research;': 0....   \n",
       "\n",
       "                                     pse_keys_labels  \\\n",
       "0  [Scale, Sustainability, and Reach, Innovation,...   \n",
       "1                     [Efficiency and Effectiveness]   \n",
       "\n",
       "                                      PSE_key_values  \\\n",
       "0  Scale, Sustainability, and Reach;Innovation, E...   \n",
       "1                       Efficiency and Effectiveness   \n",
       "\n",
       "                               pse_keys_offer_labels  \n",
       "0  [Sectoral Expertise and Knowledge, Support to ...  \n",
       "1                 [Sectoral Expertise and Knowledge]  "
      ]
     },
     "execution_count": 272,
     "metadata": {},
     "output_type": "execute_result"
    }
   ],
   "source": [
    "df_text.head(2)"
   ]
  },
  {
   "cell_type": "code",
   "execution_count": 273,
   "id": "e7d8711d",
   "metadata": {},
   "outputs": [],
   "source": [
    "def replace_inner_commas(s):\n",
    "    cur = False\n",
    "    s = list(str(s))\n",
    "    for i in range(len(s)):\n",
    "        ch = s[i]\n",
    "        if ch == ',' and cur == True:\n",
    "            s[i] = '+'\n",
    "            continue\n",
    "        if ch == '\"' and cur == False:\n",
    "            cur = True\n",
    "            continue\n",
    "        if ch == '\"' and cur == True:\n",
    "            cur = False\n",
    "    s = ''.join(s)\n",
    "    s = s.replace('\"', '').replace(',', ';').replace('+', ',')\n",
    "    if 'nan' in s:\n",
    "        s = ''\n",
    "    return s\n",
    "\n",
    "df_text['PSE_key_values'] = df_text['PSE Key Values'].apply(replace_inner_commas)"
   ]
  },
  {
   "cell_type": "code",
   "execution_count": 274,
   "id": "9aee7f11",
   "metadata": {},
   "outputs": [],
   "source": [
    "# df_text['Technical Sector'].value_counts()\n",
    "df_text['pse_keys_labels'] = df_text['PSE_key_values'].str.split(';')\n",
    "\n",
    "for i, ni in enumerate(nulls.index[:len(df_text)]):\n",
    "    df_text['pse_keys_labels'].loc[ni] = []\n",
    "from sklearn.preprocessing import MultiLabelBinarizer\n",
    "mlb = MultiLabelBinarizer()\n",
    "tech_keys_coded = mlb.fit_transform(df_text['pse_keys_labels'])\n",
    "# df_text.head(2)"
   ]
  },
  {
   "cell_type": "code",
   "execution_count": 275,
   "id": "e6f231a6",
   "metadata": {
    "scrolled": true
   },
   "outputs": [
    {
     "data": {
      "text/plain": [
       "Scale, Sustainability, and Reach           344\n",
       "Innovation, Expertise, and Capabilities    243\n",
       "Efficiency and Effectiveness               193\n",
       "Ability to Influence Policy                 83\n",
       "                                            56\n",
       "Flexibility and Pace                        37\n",
       "dtype: int64"
      ]
     },
     "execution_count": 275,
     "metadata": {},
     "output_type": "execute_result"
    }
   ],
   "source": [
    "pd.Series([item for sublist in df_text['pse_keys_labels'] for item in sublist]).value_counts()"
   ]
  },
  {
   "cell_type": "code",
   "execution_count": 276,
   "id": "46809159",
   "metadata": {},
   "outputs": [
    {
     "data": {
      "text/plain": [
       "array([[0, 0, 0, 0, 1, 1],\n",
       "       [0, 0, 1, 0, 0, 0],\n",
       "       [0, 0, 1, 0, 1, 1],\n",
       "       ...,\n",
       "       [0, 0, 0, 0, 1, 1],\n",
       "       [0, 0, 0, 0, 1, 0],\n",
       "       [0, 1, 0, 0, 1, 0]])"
      ]
     },
     "execution_count": 276,
     "metadata": {},
     "output_type": "execute_result"
    }
   ],
   "source": [
    "tech_keys_coded"
   ]
  },
  {
   "cell_type": "code",
   "execution_count": 277,
   "id": "20659364",
   "metadata": {},
   "outputs": [
    {
     "data": {
      "text/plain": [
       "array(['', 'Ability to Influence Policy', 'Efficiency and Effectiveness',\n",
       "       'Flexibility and Pace', 'Innovation, Expertise, and Capabilities',\n",
       "       'Scale, Sustainability, and Reach'], dtype=object)"
      ]
     },
     "execution_count": 277,
     "metadata": {},
     "output_type": "execute_result"
    }
   ],
   "source": [
    "mlb.classes_"
   ]
  },
  {
   "cell_type": "code",
   "execution_count": 278,
   "id": "3f8d2892",
   "metadata": {},
   "outputs": [],
   "source": [
    "from sklearn.utils import shuffle\n",
    "from sklearn import feature_extraction, model_selection, naive_bayes, pipeline, manifold, preprocessing\n",
    "\n",
    "df_text_fts, target = shuffle(df_text['text_clean'], tech_keys_coded)\n",
    "df_train, df_test, y_train, y_test = model_selection.train_test_split(df_text_fts, target, test_size=0.15)"
   ]
  },
  {
   "cell_type": "code",
   "execution_count": 279,
   "id": "4d6ff52b",
   "metadata": {},
   "outputs": [],
   "source": [
    "vectorizer = feature_extraction.text.TfidfVectorizer(max_features=10000, ngram_range=(1,2))\n",
    "vectorizer.fit(df_train)\n",
    "X_train = vectorizer.transform(df_train)\n",
    "dic_vocabulary = vectorizer.vocabulary_"
   ]
  },
  {
   "cell_type": "code",
   "execution_count": 280,
   "id": "066f51f8",
   "metadata": {
    "scrolled": true
   },
   "outputs": [],
   "source": [
    "from sklearn.multiclass import OneVsRestClassifier\n",
    "from sklearn.naive_bayes import MultinomialNB\n",
    "from sklearn.ensemble import RandomForestClassifier\n",
    "from sklearn.ensemble import AdaBoostClassifier\n",
    "from sklearn import svm\n",
    "\n",
    "classifier = OneVsRestClassifier(LogisticRegression())\n",
    "# forest = RandomForestClassifier(random_state=1)\n",
    "# multi_target_forest = MultiOutputClassifier(forest, n_jobs=-1)\n",
    "## pipeline\n",
    "model = pipeline.Pipeline([(\"vectorizer\", vectorizer),  \n",
    "                           (\"classifier\", classifier)])\n",
    "## train classifier\n",
    "model.fit(df_train, y_train)\n",
    "## test\n",
    "X_test = df_test\n",
    "predicted = model.predict(X_test)\n",
    "predicted_prob = model.predict_proba(X_test)"
   ]
  },
  {
   "cell_type": "code",
   "execution_count": 281,
   "id": "78082863",
   "metadata": {
    "scrolled": false
   },
   "outputs": [
    {
     "name": "stdout",
     "output_type": "stream",
     "text": [
      "0.8850574712643678\n",
      "0.7816091954022989\n",
      "0.8850574712643678\n",
      "0.5862068965517241\n",
      "0.6206896551724138\n"
     ]
    },
    {
     "data": {
      "image/png": "[encoded data removed]",
      "text/plain": [
       "<Figure size 432x288 with 1 Axes>"
      ]
     },
     "metadata": {
      "needs_background": "light"
     },
     "output_type": "display_data"
    },
    {
     "data": {
      "image/png": "[encoded data removed]",
      "text/plain": [
       "<Figure size 432x288 with 1 Axes>"
      ]
     },
     "metadata": {
      "needs_background": "light"
     },
     "output_type": "display_data"
    },
    {
     "data": {
      "image/png": "[encoded data removed]",
      "text/plain": [
       "<Figure size 432x288 with 1 Axes>"
      ]
     },
     "metadata": {
      "needs_background": "light"
     },
     "output_type": "display_data"
    },
    {
     "data": {
      "image/png": "[encoded data removed]",
      "text/plain": [
       "<Figure size 432x288 with 1 Axes>"
      ]
     },
     "metadata": {
      "needs_background": "light"
     },
     "output_type": "display_data"
    },
    {
     "data": {
      "image/png": "[encoded data removed]",
      "text/plain": [
       "<Figure size 432x288 with 1 Axes>"
      ]
     },
     "metadata": {
      "needs_background": "light"
     },
     "output_type": "display_data"
    }
   ],
   "source": [
    "from sklearn.metrics import accuracy_score\n",
    "\n",
    "for i in range(1, 6):\n",
    "    pred = predicted[:, i]\n",
    "    prob = predicted_prob[:, i]\n",
    "    true = y_test[:, i]\n",
    "    print(accuracy_score(true, pred))\n",
    "\n",
    "    ## Plot confusion matrix\n",
    "    cm = metrics.confusion_matrix(true, pred)\n",
    "    fig, ax = plt.subplots()\n",
    "    sns.heatmap(cm, annot=True, fmt='d', ax=ax, cmap=plt.cm.Blues, \n",
    "                cbar=False)\n",
    "    ax.set(xlabel=\"Pred\", ylabel=\"True\", xticklabels=range(0, 2), \n",
    "           yticklabels=[f'Not {mlb.classes_[i]}', mlb.classes_[i]], title=\"Confusion matrix\")\n",
    "    plt.yticks(rotation=0)"
   ]
  },
  {
   "cell_type": "code",
   "execution_count": 282,
   "id": "23d6989a",
   "metadata": {},
   "outputs": [],
   "source": [
    "predicted_full = model.predict(df_text['text_clean'])\n",
    "predicted_proba_full = model.predict_proba(df_text['text_clean'])"
   ]
  },
  {
   "cell_type": "code",
   "execution_count": 283,
   "id": "23e31d0e",
   "metadata": {
    "scrolled": true
   },
   "outputs": [
    {
     "data": {
      "text/plain": [
       "(578, 6)"
      ]
     },
     "execution_count": 283,
     "metadata": {},
     "output_type": "execute_result"
    }
   ],
   "source": [
    "predicted_full.shape"
   ]
  },
  {
   "cell_type": "code",
   "execution_count": 284,
   "id": "090f5f5e",
   "metadata": {},
   "outputs": [
    {
     "data": {
      "text/plain": [
       "(578, 40)"
      ]
     },
     "execution_count": 284,
     "metadata": {},
     "output_type": "execute_result"
    }
   ],
   "source": [
    "df_text.shape"
   ]
  },
  {
   "cell_type": "code",
   "execution_count": 286,
   "id": "a6dc29bb",
   "metadata": {},
   "outputs": [],
   "source": [
    "df_text[\"pse_keys_predicted\"] = None\n",
    "df_text[\"pse_keys_probability_predicted\"] = None"
   ]
  },
  {
   "cell_type": "code",
   "execution_count": 287,
   "id": "4fe4de32",
   "metadata": {},
   "outputs": [],
   "source": [
    "for i in range(predicted_full.shape[0]):\n",
    "    df_text[\"pse_keys_predicted\"].values[i] = []\n",
    "    df_text[\"pse_keys_probability_predicted\"].values[i] = {}\n",
    "    for j in range(1,6):\n",
    "        label = mlb.classes_[j]\n",
    "        if predicted_full[i][j] == 1:\n",
    "            df_text[\"pse_keys_predicted\"].values[i].append(label)\n",
    "        df_text[\"pse_keys_probability_predicted\"].values[i][label] = predicted_proba_full[i][j]"
   ]
  },
  {
   "cell_type": "code",
   "execution_count": 288,
   "id": "e8be373c",
   "metadata": {},
   "outputs": [],
   "source": [
    "similar_spans = pd.read_csv(\"tmp_keys_pse.csv\")"
   ]
  },
  {
   "cell_type": "code",
   "execution_count": 289,
   "id": "cafae80b",
   "metadata": {},
   "outputs": [],
   "source": [
    "df_model = df_text[['doc_name', 'pse_keys_predicted', 'pse_keys_probability_predicted']]\n",
    "\n",
    "df_enriched = pd.merge(similar_spans,\n",
    "                      df_model,\n",
    "                      on='doc_name',\n",
    "                      how='inner')"
   ]
  },
  {
   "cell_type": "code",
   "execution_count": 290,
   "id": "2be0ba76",
   "metadata": {},
   "outputs": [],
   "source": [
    "df_enriched.to_csv(\"pse_keys_comparison.csv\")"
   ]
  },
  {
   "cell_type": "markdown",
   "id": "6389f6eb",
   "metadata": {},
   "source": [
    "### PSE Key Values USAID Offers"
   ]
  },
  {
   "cell_type": "markdown",
   "id": "26ee529e",
   "metadata": {},
   "source": [
    "#### Train model"
   ]
  },
  {
   "cell_type": "code",
   "execution_count": 115,
   "id": "1f35ec6b",
   "metadata": {
    "scrolled": true
   },
   "outputs": [
    {
     "name": "stderr",
     "output_type": "stream",
     "text": [
      "C:\\Users\\Volha_Skidan\\Anaconda3\\envs\\havos\\lib\\site-packages\\pandas\\core\\indexing.py:190: SettingWithCopyWarning: \n",
      "A value is trying to be set on a copy of a slice from a DataFrame\n",
      "\n",
      "See the caveats in the documentation: http://pandas.pydata.org/pandas-docs/stable/indexing.html#indexing-view-versus-copy\n",
      "  self._setitem_with_indexer(indexer, value)\n"
     ]
    },
    {
     "name": "stdout",
     "output_type": "stream",
     "text": [
      "Category distribution: Strong In-Country Networks and Relationships    269\n",
      "Sectoral Expertise and Knowledge                238\n",
      "Support to Strengthen Enabling Environments     230\n",
      "Reputation and Credible Convening Power          98\n",
      "Risk-Mitigation and Flexible Authorities         74\n",
      "dtype: int64\n"
     ]
    },
    {
     "name": "stderr",
     "output_type": "stream",
     "text": [
      "C:\\Users\\Volha_Skidan\\Anaconda3\\envs\\havos\\lib\\site-packages\\sklearn\\linear_model\\logistic.py:433: FutureWarning: Default solver will be changed to 'lbfgs' in 0.22. Specify a solver to silence this warning.\n",
      "  FutureWarning)\n"
     ]
    },
    {
     "name": "stdout",
     "output_type": "stream",
     "text": [
      "Accuracy for class Reputation and Credible Convening Power is 0.8363636363636363\n",
      "Accuracy for class Risk-Mitigation and Flexible Authorities is 0.8272727272727273\n",
      "Accuracy for class Sectoral Expertise and Knowledge is 0.7181818181818181\n",
      "Accuracy for class Strong In-Country Networks and Relationships is 0.6\n",
      "Accuracy for class Support to Strengthen Enabling Environments is 0.7454545454545455\n"
     ]
    },
    {
     "data": {
      "image/png": "[encoded data removed]",
      "text/plain": [
       "<Figure size 432x288 with 1 Axes>"
      ]
     },
     "metadata": {
      "needs_background": "light"
     },
     "output_type": "display_data"
    },
    {
     "data": {
      "image/png": "[encoded data removed]",
      "text/plain": [
       "<Figure size 432x288 with 1 Axes>"
      ]
     },
     "metadata": {
      "needs_background": "light"
     },
     "output_type": "display_data"
    },
    {
     "data": {
      "image/png": "[encoded data removed]",
      "text/plain": [
       "<Figure size 432x288 with 1 Axes>"
      ]
     },
     "metadata": {
      "needs_background": "light"
     },
     "output_type": "display_data"
    },
    {
     "data": {
      "image/png": "[encoded data removed]",
      "text/plain": [
       "<Figure size 432x288 with 1 Axes>"
      ]
     },
     "metadata": {
      "needs_background": "light"
     },
     "output_type": "display_data"
    },
    {
     "data": {
      "image/png": "[encoded data removed]",
      "text/plain": [
       "<Figure size 432x288 with 1 Axes>"
      ]
     },
     "metadata": {
      "needs_background": "light"
     },
     "output_type": "display_data"
    }
   ],
   "source": [
    "pse_key_offer_coded, classes = code_multioutput_cat_column(df_text, 'PSE Key Values USAID Offers', 'pse_keys_offer_labels')\n",
    "df_train, df_test, y_train, y_test = split_dataset(df_text['text_clean'], pse_key_offer_coded)\n",
    "print(f\"Category distribution: {pd.Series([item for sublist in df_text['pse_keys_offer_labels'] for item in sublist]).value_counts()}\")\n",
    "\n",
    "model = create_tf_idf_classifier_pipeline(OneVsRestClassifier(LogisticRegression()))\n",
    "## train classifier\n",
    "model.fit(df_train, y_train)\n",
    "## test\n",
    "predicted = model.predict(df_test)\n",
    "predicted_prob = model.predict_proba(X_test)\n",
    "\n",
    "plot_conf_matrix(predicted, y_test, classes)"
   ]
  },
  {
   "cell_type": "code",
   "execution_count": 291,
   "id": "affb8389",
   "metadata": {},
   "outputs": [
    {
     "data": {
      "text/html": [
       "<div>\n",
       "<style scoped>\n",
       "    .dataframe tbody tr th:only-of-type {\n",
       "        vertical-align: middle;\n",
       "    }\n",
       "\n",
       "    .dataframe tbody tr th {\n",
       "        vertical-align: top;\n",
       "    }\n",
       "\n",
       "    .dataframe thead th {\n",
       "        text-align: right;\n",
       "    }\n",
       "</style>\n",
       "<table border=\"1\" class=\"dataframe\">\n",
       "  <thead>\n",
       "    <tr style=\"text-align: right;\">\n",
       "      <th></th>\n",
       "      <th>doc_name</th>\n",
       "      <th>content</th>\n",
       "      <th>full_content</th>\n",
       "      <th>Document ID</th>\n",
       "      <th>Document Title</th>\n",
       "      <th>Author(s)</th>\n",
       "      <th>Name of Private Sector Partner(s)</th>\n",
       "      <th>Publishing Institution(s)</th>\n",
       "      <th>Year</th>\n",
       "      <th>Technical Sector</th>\n",
       "      <th>Special Considerations</th>\n",
       "      <th>Private Sector Industry</th>\n",
       "      <th>Type of Enterprise</th>\n",
       "      <th>Country(ies)</th>\n",
       "      <th>USAID Region</th>\n",
       "      <th>USAID-Funded?</th>\n",
       "      <th>Type of Document</th>\n",
       "      <th>PSE Ways We Engage</th>\n",
       "      <th>PSE Key Values</th>\n",
       "      <th>PSE Key Values USAID Offers</th>\n",
       "      <th>Key Findings</th>\n",
       "      <th>Key Recommendations</th>\n",
       "      <th>Document Attachment</th>\n",
       "      <th>Google Drive Link</th>\n",
       "      <th>Internet URL of Document</th>\n",
       "      <th>Reviewer Name</th>\n",
       "      <th>Review Complete?</th>\n",
       "      <th>Review Stage</th>\n",
       "      <th>text_clean</th>\n",
       "      <th>authors_found</th>\n",
       "      <th>found_year</th>\n",
       "      <th>priv_sect_partners_found</th>\n",
       "      <th>spec_consideration_labels</th>\n",
       "      <th>pse_wwe_labels</th>\n",
       "      <th>pse_ways_labels</th>\n",
       "      <th>pse_ways_predicted</th>\n",
       "      <th>pse_ways_probability_predicted</th>\n",
       "      <th>pse_keys_labels</th>\n",
       "      <th>PSE_key_values</th>\n",
       "      <th>pse_keys_offer_labels</th>\n",
       "      <th>pse_keys_predicted</th>\n",
       "      <th>pse_keys_probability_predicted</th>\n",
       "    </tr>\n",
       "  </thead>\n",
       "  <tbody>\n",
       "    <tr>\n",
       "      <th>0</th>\n",
       "      <td>0000-APLU-PAK.pkl</td>\n",
       "      <td>\\n \\n \\n \\n\\nAcknowledgements \\n\\nMany people...</td>\n",
       "      <td>[ \\n\\n   \\n\\n \\n\\n \\n\\nFeasibility Study of th...</td>\n",
       "      <td>0000-APLU-PAK</td>\n",
       "      <td>Feasibility Study of the US-Pakistan Knowledge...</td>\n",
       "      <td>Association for Public and Land-grant Universi...</td>\n",
       "      <td>NaN</td>\n",
       "      <td>USAID</td>\n",
       "      <td>NaN</td>\n",
       "      <td>Education and Social Services</td>\n",
       "      <td>Youth</td>\n",
       "      <td>Educational Services</td>\n",
       "      <td>NaN</td>\n",
       "      <td>Pakistan</td>\n",
       "      <td>Afghanistan and Pakistan</td>\n",
       "      <td>checked</td>\n",
       "      <td>Use case/case study</td>\n",
       "      <td>Advancing Learning and Market Research;,Harnes...</td>\n",
       "      <td>\"Scale, Sustainability, and Reach\",\"Innovation...</td>\n",
       "      <td>Sectoral Expertise and Knowledge,Support to St...</td>\n",
       "      <td>We can learn from past individual training pro...</td>\n",
       "      <td>Recommendations for aligning program goals:\\n1...</td>\n",
       "      <td>0000-APLU-PAK.pdf (https://dl.airtable.com/.at...</td>\n",
       "      <td>https://drive.google.com/open?id=1foT7HO75eCJ-...</td>\n",
       "      <td>https://pdf.usaid.gov/pdf_docs/PA00N7DN.pdf</td>\n",
       "      <td>Mehak,Anna</td>\n",
       "      <td>checked</td>\n",
       "      <td>Second Review</td>\n",
       "      <td>acknowledgement many people contributed develo...</td>\n",
       "      <td>[Landgrant Universities, Erica Rounsefell, Kev...</td>\n",
       "      <td>NaN</td>\n",
       "      <td>[BT, Ecom, GOAL, Google, Intel, PATH, SIM, UPS...</td>\n",
       "      <td>[Youth]</td>\n",
       "      <td>[Advancing Learning and Market Research;, Harn...</td>\n",
       "      <td>[Advancing Learning and Market Research;, Harn...</td>\n",
       "      <td>[Advancing Learning and Market Research;, Harn...</td>\n",
       "      <td>{'Advancing Learning and Market Research;': 0....</td>\n",
       "      <td>[Scale, Sustainability, and Reach, Innovation,...</td>\n",
       "      <td>Scale, Sustainability, and Reach;Innovation, E...</td>\n",
       "      <td>[Sectoral Expertise and Knowledge, Support to ...</td>\n",
       "      <td>[Scale, Sustainability, and Reach]</td>\n",
       "      <td>{'Ability to Influence Policy': 0.140421245890...</td>\n",
       "    </tr>\n",
       "    <tr>\n",
       "      <th>1</th>\n",
       "      <td>0000-Chile-ZMB.pkl</td>\n",
       "      <td>\\n\\n \\n\\n \\n\\n \\n\\n \\n\\nRepublic of Zambia \\n...</td>\n",
       "      <td>[ \\n\\n \\n \\n\\n \\n\\n \\n\\n \\n\\nRepublic of Zambi...</td>\n",
       "      <td>0000-Chile-ZMB</td>\n",
       "      <td>Teacher Effectiveness. Towards Sustainable Del...</td>\n",
       "      <td>John Chileshe,Geoffrey Tambulukani</td>\n",
       "      <td>NaN</td>\n",
       "      <td>USAID</td>\n",
       "      <td>NaN</td>\n",
       "      <td>Education and Social Services</td>\n",
       "      <td>NaN</td>\n",
       "      <td>NaN</td>\n",
       "      <td>NaN</td>\n",
       "      <td>Zambia</td>\n",
       "      <td>Africa</td>\n",
       "      <td>checked</td>\n",
       "      <td>Use case/case study</td>\n",
       "      <td>Information-Sharing and Strategic Alignment,Ca...</td>\n",
       "      <td>Efficiency and Effectiveness</td>\n",
       "      <td>Sectoral Expertise and Knowledge</td>\n",
       "      <td>According to this article, the head teacher is...</td>\n",
       "      <td>The following are examples of key best practic...</td>\n",
       "      <td>0000-Chile-ZMB.pdf (https://dl.airtable.com/.a...</td>\n",
       "      <td>https://drive.google.com/open?id=1dzE6kGKQRTK-...</td>\n",
       "      <td>https://pdf.usaid.gov/pdf_docs/PA00MWT9.pdf</td>\n",
       "      <td>Mehak,Lauren</td>\n",
       "      <td>checked</td>\n",
       "      <td>Second Review</td>\n",
       "      <td>republic zambia ministry general education tea...</td>\n",
       "      <td>[John Chileshe]</td>\n",
       "      <td>NaN</td>\n",
       "      <td>[Amul, Creative Associates International, SIM,...</td>\n",
       "      <td>[]</td>\n",
       "      <td>[Information-Sharing and Strategic Alignment, ...</td>\n",
       "      <td>[Information-Sharing and Strategic Alignment, ...</td>\n",
       "      <td>[Catalyzing Private-Sector Resources;, Informa...</td>\n",
       "      <td>{'Advancing Learning and Market Research;': 0....</td>\n",
       "      <td>[Efficiency and Effectiveness]</td>\n",
       "      <td>Efficiency and Effectiveness</td>\n",
       "      <td>[Sectoral Expertise and Knowledge]</td>\n",
       "      <td>[Scale, Sustainability, and Reach]</td>\n",
       "      <td>{'Ability to Influence Policy': 0.116197455655...</td>\n",
       "    </tr>\n",
       "  </tbody>\n",
       "</table>\n",
       "</div>"
      ],
      "text/plain": [
       "             doc_name                                            content  \\\n",
       "0   0000-APLU-PAK.pkl   \\n \\n \\n \\n\\nAcknowledgements \\n\\nMany people...   \n",
       "1  0000-Chile-ZMB.pkl   \\n\\n \\n\\n \\n\\n \\n\\n \\n\\nRepublic of Zambia \\n...   \n",
       "\n",
       "                                        full_content     Document ID  \\\n",
       "0  [ \\n\\n   \\n\\n \\n\\n \\n\\nFeasibility Study of th...   0000-APLU-PAK   \n",
       "1  [ \\n\\n \\n \\n\\n \\n\\n \\n\\n \\n\\nRepublic of Zambi...  0000-Chile-ZMB   \n",
       "\n",
       "                                      Document Title  \\\n",
       "0  Feasibility Study of the US-Pakistan Knowledge...   \n",
       "1  Teacher Effectiveness. Towards Sustainable Del...   \n",
       "\n",
       "                                           Author(s)  \\\n",
       "0  Association for Public and Land-grant Universi...   \n",
       "1                 John Chileshe,Geoffrey Tambulukani   \n",
       "\n",
       "  Name of Private Sector Partner(s) Publishing Institution(s)  Year  \\\n",
       "0                               NaN                     USAID   NaN   \n",
       "1                               NaN                     USAID   NaN   \n",
       "\n",
       "                Technical Sector Special Considerations  \\\n",
       "0  Education and Social Services                  Youth   \n",
       "1  Education and Social Services                    NaN   \n",
       "\n",
       "  Private Sector Industry Type of Enterprise Country(ies)  \\\n",
       "0    Educational Services                NaN     Pakistan   \n",
       "1                     NaN                NaN       Zambia   \n",
       "\n",
       "               USAID Region USAID-Funded?     Type of Document  \\\n",
       "0  Afghanistan and Pakistan       checked  Use case/case study   \n",
       "1                    Africa       checked  Use case/case study   \n",
       "\n",
       "                                  PSE Ways We Engage  \\\n",
       "0  Advancing Learning and Market Research;,Harnes...   \n",
       "1  Information-Sharing and Strategic Alignment,Ca...   \n",
       "\n",
       "                                      PSE Key Values  \\\n",
       "0  \"Scale, Sustainability, and Reach\",\"Innovation...   \n",
       "1                       Efficiency and Effectiveness   \n",
       "\n",
       "                         PSE Key Values USAID Offers  \\\n",
       "0  Sectoral Expertise and Knowledge,Support to St...   \n",
       "1                   Sectoral Expertise and Knowledge   \n",
       "\n",
       "                                        Key Findings  \\\n",
       "0  We can learn from past individual training pro...   \n",
       "1  According to this article, the head teacher is...   \n",
       "\n",
       "                                 Key Recommendations  \\\n",
       "0  Recommendations for aligning program goals:\\n1...   \n",
       "1  The following are examples of key best practic...   \n",
       "\n",
       "                                 Document Attachment  \\\n",
       "0  0000-APLU-PAK.pdf (https://dl.airtable.com/.at...   \n",
       "1  0000-Chile-ZMB.pdf (https://dl.airtable.com/.a...   \n",
       "\n",
       "                                   Google Drive Link  \\\n",
       "0  https://drive.google.com/open?id=1foT7HO75eCJ-...   \n",
       "1  https://drive.google.com/open?id=1dzE6kGKQRTK-...   \n",
       "\n",
       "                      Internet URL of Document Reviewer Name Review Complete?  \\\n",
       "0  https://pdf.usaid.gov/pdf_docs/PA00N7DN.pdf    Mehak,Anna          checked   \n",
       "1  https://pdf.usaid.gov/pdf_docs/PA00MWT9.pdf  Mehak,Lauren          checked   \n",
       "\n",
       "    Review Stage                                         text_clean  \\\n",
       "0  Second Review  acknowledgement many people contributed develo...   \n",
       "1  Second Review  republic zambia ministry general education tea...   \n",
       "\n",
       "                                       authors_found  found_year  \\\n",
       "0  [Landgrant Universities, Erica Rounsefell, Kev...         NaN   \n",
       "1                                    [John Chileshe]         NaN   \n",
       "\n",
       "                            priv_sect_partners_found  \\\n",
       "0  [BT, Ecom, GOAL, Google, Intel, PATH, SIM, UPS...   \n",
       "1  [Amul, Creative Associates International, SIM,...   \n",
       "\n",
       "  spec_consideration_labels  \\\n",
       "0                   [Youth]   \n",
       "1                        []   \n",
       "\n",
       "                                      pse_wwe_labels  \\\n",
       "0  [Advancing Learning and Market Research;, Harn...   \n",
       "1  [Information-Sharing and Strategic Alignment, ...   \n",
       "\n",
       "                                     pse_ways_labels  \\\n",
       "0  [Advancing Learning and Market Research;, Harn...   \n",
       "1  [Information-Sharing and Strategic Alignment, ...   \n",
       "\n",
       "                                  pse_ways_predicted  \\\n",
       "0  [Advancing Learning and Market Research;, Harn...   \n",
       "1  [Catalyzing Private-Sector Resources;, Informa...   \n",
       "\n",
       "                      pse_ways_probability_predicted  \\\n",
       "0  {'Advancing Learning and Market Research;': 0....   \n",
       "1  {'Advancing Learning and Market Research;': 0....   \n",
       "\n",
       "                                     pse_keys_labels  \\\n",
       "0  [Scale, Sustainability, and Reach, Innovation,...   \n",
       "1                     [Efficiency and Effectiveness]   \n",
       "\n",
       "                                      PSE_key_values  \\\n",
       "0  Scale, Sustainability, and Reach;Innovation, E...   \n",
       "1                       Efficiency and Effectiveness   \n",
       "\n",
       "                               pse_keys_offer_labels  \\\n",
       "0  [Sectoral Expertise and Knowledge, Support to ...   \n",
       "1                 [Sectoral Expertise and Knowledge]   \n",
       "\n",
       "                   pse_keys_predicted  \\\n",
       "0  [Scale, Sustainability, and Reach]   \n",
       "1  [Scale, Sustainability, and Reach]   \n",
       "\n",
       "                      pse_keys_probability_predicted  \n",
       "0  {'Ability to Influence Policy': 0.140421245890...  \n",
       "1  {'Ability to Influence Policy': 0.116197455655...  "
      ]
     },
     "execution_count": 291,
     "metadata": {},
     "output_type": "execute_result"
    }
   ],
   "source": [
    "df_text.head(2)"
   ]
  },
  {
   "cell_type": "code",
   "execution_count": 292,
   "id": "8d5a5dc5",
   "metadata": {},
   "outputs": [],
   "source": [
    "# df_text['Technical Sector'].value_counts()\n",
    "df_text['pse_keys_offer_labels'] = df_text['PSE Key Values USAID Offers'].str.split(',')\n",
    "nulls = df_text[pd.isnull(df_text['pse_keys_offer_labels'])]\n",
    "\n",
    "for i, ni in enumerate(nulls.index[:len(df_text)]):\n",
    "    df_text['pse_keys_offer_labels'].loc[ni] = []\n",
    "from sklearn.preprocessing import MultiLabelBinarizer\n",
    "mlb = MultiLabelBinarizer()\n",
    "tech_keys_offer_coded = mlb.fit_transform(df_text['pse_keys_offer_labels'])\n",
    "# df_text.head(2)"
   ]
  },
  {
   "cell_type": "code",
   "execution_count": 293,
   "id": "914aecdb",
   "metadata": {
    "scrolled": true
   },
   "outputs": [
    {
     "data": {
      "text/plain": [
       "Strong In-Country Networks and Relationships    240\n",
       "Sectoral Expertise and Knowledge                207\n",
       "Support to Strengthen Enabling Environments     176\n",
       "Reputation and Credible Convening Power          90\n",
       "Risk-Mitigation and Flexible Authorities         58\n",
       "dtype: int64"
      ]
     },
     "execution_count": 293,
     "metadata": {},
     "output_type": "execute_result"
    }
   ],
   "source": [
    "pd.Series([item for sublist in df_text['pse_keys_offer_labels'] for item in sublist]).value_counts()"
   ]
  },
  {
   "cell_type": "code",
   "execution_count": 294,
   "id": "b0ef4886",
   "metadata": {},
   "outputs": [
    {
     "data": {
      "text/plain": [
       "array([[0, 0, 1, 0, 1],\n",
       "       [0, 0, 1, 0, 0],\n",
       "       [1, 0, 1, 0, 0],\n",
       "       ...,\n",
       "       [0, 0, 0, 1, 1],\n",
       "       [1, 0, 0, 1, 1],\n",
       "       [0, 0, 1, 0, 1]])"
      ]
     },
     "execution_count": 294,
     "metadata": {},
     "output_type": "execute_result"
    }
   ],
   "source": [
    "tech_keys_offer_coded"
   ]
  },
  {
   "cell_type": "code",
   "execution_count": 295,
   "id": "87afbc7a",
   "metadata": {},
   "outputs": [
    {
     "data": {
      "text/plain": [
       "array(['Reputation and Credible Convening Power',\n",
       "       'Risk-Mitigation and Flexible Authorities',\n",
       "       'Sectoral Expertise and Knowledge',\n",
       "       'Strong In-Country Networks and Relationships',\n",
       "       'Support to Strengthen Enabling Environments'], dtype=object)"
      ]
     },
     "execution_count": 295,
     "metadata": {},
     "output_type": "execute_result"
    }
   ],
   "source": [
    "mlb.classes_"
   ]
  },
  {
   "cell_type": "code",
   "execution_count": 296,
   "id": "6018a9a7",
   "metadata": {},
   "outputs": [],
   "source": [
    "from sklearn.utils import shuffle\n",
    "from sklearn import feature_extraction, model_selection, naive_bayes, pipeline, manifold, preprocessing\n",
    "\n",
    "df_text_fts, target = shuffle(df_text['text_clean'], tech_keys_offer_coded)\n",
    "df_train, df_test, y_train, y_test = model_selection.train_test_split(df_text_fts, target, test_size=0.15)"
   ]
  },
  {
   "cell_type": "code",
   "execution_count": 297,
   "id": "0fbd6840",
   "metadata": {},
   "outputs": [],
   "source": [
    "vectorizer = feature_extraction.text.TfidfVectorizer(max_features=10000, ngram_range=(1,2))\n",
    "vectorizer.fit(df_train)\n",
    "X_train = vectorizer.transform(df_train)\n",
    "dic_vocabulary = vectorizer.vocabulary_"
   ]
  },
  {
   "cell_type": "code",
   "execution_count": 298,
   "id": "706ed0ff",
   "metadata": {
    "scrolled": true
   },
   "outputs": [],
   "source": [
    "from sklearn.multiclass import OneVsRestClassifier\n",
    "from sklearn.naive_bayes import MultinomialNB\n",
    "from sklearn.ensemble import RandomForestClassifier\n",
    "from sklearn.ensemble import AdaBoostClassifier\n",
    "from sklearn import svm\n",
    "\n",
    "classifier = OneVsRestClassifier(LogisticRegression())\n",
    "# forest = RandomForestClassifier(random_state=1)\n",
    "# multi_target_forest = MultiOutputClassifier(forest, n_jobs=-1)\n",
    "## pipeline\n",
    "model = pipeline.Pipeline([(\"vectorizer\", vectorizer),  \n",
    "                           (\"classifier\", classifier)])\n",
    "## train classifier\n",
    "model.fit(df_train, y_train)\n",
    "## test\n",
    "X_test = df_test\n",
    "predicted = model.predict(X_test)\n",
    "predicted_prob = model.predict_proba(X_test)"
   ]
  },
  {
   "cell_type": "code",
   "execution_count": 299,
   "id": "a6f9e335",
   "metadata": {
    "scrolled": false
   },
   "outputs": [
    {
     "name": "stdout",
     "output_type": "stream",
     "text": [
      "0.8275862068965517\n",
      "0.9425287356321839\n",
      "0.6781609195402298\n",
      "0.6091954022988506\n",
      "0.6666666666666666\n"
     ]
    },
    {
     "data": {
      "image/png": "[encoded data removed]",
      "text/plain": [
       "<Figure size 432x288 with 1 Axes>"
      ]
     },
     "metadata": {
      "needs_background": "light"
     },
     "output_type": "display_data"
    },
    {
     "data": {
      "image/png": "[encoded data removed]",
      "text/plain": [
       "<Figure size 432x288 with 1 Axes>"
      ]
     },
     "metadata": {
      "needs_background": "light"
     },
     "output_type": "display_data"
    },
    {
     "data": {
      "image/png": "[encoded data removed]",
      "text/plain": [
       "<Figure size 432x288 with 1 Axes>"
      ]
     },
     "metadata": {
      "needs_background": "light"
     },
     "output_type": "display_data"
    },
    {
     "data": {
      "image/png": "[encoded data removed]",
      "text/plain": [
       "<Figure size 432x288 with 1 Axes>"
      ]
     },
     "metadata": {
      "needs_background": "light"
     },
     "output_type": "display_data"
    },
    {
     "data": {
      "image/png": "[encoded data removed]",
      "text/plain": [
       "<Figure size 432x288 with 1 Axes>"
      ]
     },
     "metadata": {
      "needs_background": "light"
     },
     "output_type": "display_data"
    }
   ],
   "source": [
    "from sklearn.metrics import accuracy_score\n",
    "\n",
    "for i in range(5):\n",
    "    pred = predicted[:, i]\n",
    "    prob = predicted_prob[:, i]\n",
    "    true = y_test[:, i]\n",
    "    print(accuracy_score(true, pred))\n",
    "\n",
    "    ## Plot confusion matrix\n",
    "    cm = metrics.confusion_matrix(true, pred)\n",
    "    fig, ax = plt.subplots()\n",
    "    sns.heatmap(cm, annot=True, fmt='d', ax=ax, cmap=plt.cm.Blues, \n",
    "                cbar=False)\n",
    "    ax.set(xlabel=\"Pred\", ylabel=\"True\", xticklabels=range(0, 2), \n",
    "           yticklabels=[f'Not {mlb.classes_[i]}', mlb.classes_[i]], title=\"Confusion matrix\")\n",
    "    plt.yticks(rotation=0)"
   ]
  },
  {
   "cell_type": "code",
   "execution_count": 300,
   "id": "792cbcd3",
   "metadata": {},
   "outputs": [],
   "source": [
    "predicted_full = model.predict(df_text['text_clean'])\n",
    "predicted_proba_full = model.predict_proba(df_text['text_clean'])"
   ]
  },
  {
   "cell_type": "code",
   "execution_count": 301,
   "id": "fb2246c6",
   "metadata": {
    "scrolled": true
   },
   "outputs": [
    {
     "data": {
      "text/plain": [
       "(578, 5)"
      ]
     },
     "execution_count": 301,
     "metadata": {},
     "output_type": "execute_result"
    }
   ],
   "source": [
    "predicted_full.shape"
   ]
  },
  {
   "cell_type": "code",
   "execution_count": 302,
   "id": "fb44b124",
   "metadata": {},
   "outputs": [
    {
     "data": {
      "text/plain": [
       "(578, 42)"
      ]
     },
     "execution_count": 302,
     "metadata": {},
     "output_type": "execute_result"
    }
   ],
   "source": [
    "df_text.shape"
   ]
  },
  {
   "cell_type": "code",
   "execution_count": 303,
   "id": "14687f2e",
   "metadata": {},
   "outputs": [],
   "source": [
    "df_text[\"pse_keys_offer_predicted\"] = None\n",
    "df_text[\"pse_keys_offer_probability_predicted\"] = None"
   ]
  },
  {
   "cell_type": "code",
   "execution_count": 305,
   "id": "92f41ce9",
   "metadata": {},
   "outputs": [],
   "source": [
    "for i in range(predicted_full.shape[0]):\n",
    "    df_text[\"pse_keys_offer_predicted\"].values[i] = []\n",
    "    df_text[\"pse_keys_offer_probability_predicted\"].values[i] = {}\n",
    "    for j in range(5):\n",
    "        label = mlb.classes_[j]\n",
    "        if predicted_full[i][j] == 1:\n",
    "            df_text[\"pse_keys_offer_predicted\"].values[i].append(label)\n",
    "        df_text[\"pse_keys_offer_probability_predicted\"].values[i][label] = predicted_proba_full[i][j]"
   ]
  },
  {
   "cell_type": "code",
   "execution_count": 306,
   "id": "0bed16ed",
   "metadata": {},
   "outputs": [],
   "source": [
    "similar_spans = pd.read_csv(\"tmp_keys_offer_pse.csv\")"
   ]
  },
  {
   "cell_type": "code",
   "execution_count": 307,
   "id": "c69179fe",
   "metadata": {},
   "outputs": [],
   "source": [
    "df_model = df_text[['doc_name', 'pse_keys_offer_predicted', 'pse_keys_offer_probability_predicted']]\n",
    "\n",
    "df_enriched = pd.merge(similar_spans,\n",
    "                      df_model,\n",
    "                      on='doc_name',\n",
    "                      how='inner')"
   ]
  },
  {
   "cell_type": "code",
   "execution_count": 308,
   "id": "e0762c28",
   "metadata": {},
   "outputs": [],
   "source": [
    "df_enriched.to_csv(\"pse_keys_offer_comparison.csv\")"
   ]
  },
  {
   "cell_type": "markdown",
   "id": "491e38ca",
   "metadata": {},
   "source": [
    "### Student spans tests (run in different notebook with different env)"
   ]
  },
  {
   "cell_type": "code",
   "execution_count": 34,
   "id": "8e30f367",
   "metadata": {},
   "outputs": [
    {
     "data": {
      "text/html": [
       "<div>\n",
       "<style scoped>\n",
       "    .dataframe tbody tr th:only-of-type {\n",
       "        vertical-align: middle;\n",
       "    }\n",
       "\n",
       "    .dataframe tbody tr th {\n",
       "        vertical-align: top;\n",
       "    }\n",
       "\n",
       "    .dataframe thead th {\n",
       "        text-align: right;\n",
       "    }\n",
       "</style>\n",
       "<table border=\"1\" class=\"dataframe\">\n",
       "  <thead>\n",
       "    <tr style=\"text-align: right;\">\n",
       "      <th></th>\n",
       "      <th>Doc ID #</th>\n",
       "      <th>Pg</th>\n",
       "      <th>Text</th>\n",
       "      <th>Category</th>\n",
       "      <th>Label</th>\n",
       "      <th>in drop box?</th>\n",
       "      <th>Unnamed: 6</th>\n",
       "    </tr>\n",
       "  </thead>\n",
       "  <tbody>\n",
       "    <tr>\n",
       "      <th>0</th>\n",
       "      <td>0000-BOM-GLO</td>\n",
       "      <td>14</td>\n",
       "      <td>ÉLAN RDC has laid the foundations for the appl...</td>\n",
       "      <td>PSE Key Values</td>\n",
       "      <td>Innovation, Expertise, and Capabilities</td>\n",
       "      <td>NO</td>\n",
       "      <td>NaN</td>\n",
       "    </tr>\n",
       "    <tr>\n",
       "      <th>1</th>\n",
       "      <td>0000-BOM-GLO</td>\n",
       "      <td>9</td>\n",
       "      <td>Case Study: Using Mobile Money for Cash Transfers</td>\n",
       "      <td>Type of Document</td>\n",
       "      <td>Use Case / Case Study</td>\n",
       "      <td>NaN</td>\n",
       "      <td>NaN</td>\n",
       "    </tr>\n",
       "    <tr>\n",
       "      <th>2</th>\n",
       "      <td>0000-BOM-GLO</td>\n",
       "      <td>14</td>\n",
       "      <td>As international trends shift toward greater i...</td>\n",
       "      <td>PSE Ways We Engage</td>\n",
       "      <td>Strengthening the Enabling Environment</td>\n",
       "      <td>NaN</td>\n",
       "      <td>NaN</td>\n",
       "    </tr>\n",
       "    <tr>\n",
       "      <th>3</th>\n",
       "      <td>0000-BOM-GLO</td>\n",
       "      <td>1</td>\n",
       "      <td>Recognizing the limited lifespan of any one pr...</td>\n",
       "      <td>PSE Key Values USAID Offers</td>\n",
       "      <td>Sectoral Expertise and Knowledge</td>\n",
       "      <td>NaN</td>\n",
       "      <td>NaN</td>\n",
       "    </tr>\n",
       "  </tbody>\n",
       "</table>\n",
       "</div>"
      ],
      "text/plain": [
       "       Doc ID #  Pg                                              Text   \\\n",
       "0  0000-BOM-GLO  14  ÉLAN RDC has laid the foundations for the appl...   \n",
       "1  0000-BOM-GLO   9  Case Study: Using Mobile Money for Cash Transfers   \n",
       "2  0000-BOM-GLO  14  As international trends shift toward greater i...   \n",
       "3  0000-BOM-GLO   1  Recognizing the limited lifespan of any one pr...   \n",
       "\n",
       "                     Category                                     Label   \\\n",
       "0               PSE Key Values  Innovation, Expertise, and Capabilities    \n",
       "1             Type of Document                     Use Case / Case Study   \n",
       "2           PSE Ways We Engage   Strengthening the Enabling Environment    \n",
       "3  PSE Key Values USAID Offers          Sectoral Expertise and Knowledge   \n",
       "\n",
       "  in drop box?  Unnamed: 6  \n",
       "0            NO        NaN  \n",
       "1           NaN        NaN  \n",
       "2           NaN        NaN  \n",
       "3           NaN        NaN  "
      ]
     },
     "execution_count": 34,
     "metadata": {},
     "output_type": "execute_result"
    }
   ],
   "source": [
    "spans_categories_path = r\"C:\\Users\\Volha_Skidan\\projects\\HavosAi\\data\\Phase 2 Working Folder (EGM Documents)\\PSE BHA Materials Inventory - BHA Student Notes.csv\"\n",
    "spans_categories_doc_df = pd.read_csv(spans_categories_path)\n",
    "spans_categories_doc_df.head(4)"
   ]
  },
  {
   "cell_type": "code",
   "execution_count": 35,
   "id": "40bee067",
   "metadata": {},
   "outputs": [
    {
     "data": {
      "text/plain": [
       "array(['PSE Key Values', 'Type of Document', 'PSE Ways We Engage',\n",
       "       'PSE Key Values USAID Offers', 'Private Sector Industry',\n",
       "       'Technical Sector', 'Key Recommendations ', nan,\n",
       "       'Type of Enterprise', 'Key Findings ', 'PSE Values USAID Offers',\n",
       "       'Private Sector Industry ', 'Special Considerations',\n",
       "       'Key Findings', 'Key Recommedations', 'Key Recommendations',\n",
       "       'Type of Enterprise ', 'PSE Key Values ', 'USAID-funded? ',\n",
       "       'Document Type', 'Type Of Enterprise', 'Special Consideration',\n",
       "       'Special considerations', 'Technical Sector ',\n",
       "       'Private Sector Indsutry'], dtype=object)"
      ]
     },
     "execution_count": 35,
     "metadata": {},
     "output_type": "execute_result"
    }
   ],
   "source": [
    "spans_categories_doc_df['Category '].unique()"
   ]
  },
  {
   "cell_type": "code",
   "execution_count": 36,
   "id": "da9f4a7a",
   "metadata": {},
   "outputs": [],
   "source": [
    "spans_categories_doc_df = spans_categories_doc_df[spans_categories_doc_df['Category '].notna()]"
   ]
  },
  {
   "cell_type": "markdown",
   "id": "b4abed6f",
   "metadata": {},
   "source": [
    "#### PSE ways we engaged"
   ]
  },
  {
   "cell_type": "code",
   "execution_count": 37,
   "id": "3f3925c8",
   "metadata": {},
   "outputs": [
    {
     "data": {
      "text/plain": [
       "array(['PSE Key Values', 'Type of Document', 'PSE Ways We Engage',\n",
       "       'PSE Key Values USAID Offers', 'Private Sector Industry',\n",
       "       'Technical Sector', 'Key Recommendations ', 'Type of Enterprise',\n",
       "       'Key Findings ', 'PSE Values USAID Offers',\n",
       "       'Private Sector Industry ', 'Special Considerations',\n",
       "       'Key Findings', 'Key Recommedations', 'Key Recommendations',\n",
       "       'Type of Enterprise ', 'PSE Key Values ', 'USAID-funded? ',\n",
       "       'Document Type', 'Type Of Enterprise', 'Special Consideration',\n",
       "       'Special considerations', 'Technical Sector ',\n",
       "       'Private Sector Indsutry'], dtype=object)"
      ]
     },
     "execution_count": 37,
     "metadata": {},
     "output_type": "execute_result"
    }
   ],
   "source": [
    "spans_categories_doc_df['Category '].unique()"
   ]
  },
  {
   "cell_type": "code",
   "execution_count": 38,
   "id": "4ebdd0b8",
   "metadata": {},
   "outputs": [
    {
     "name": "stdout",
     "output_type": "stream",
     "text": [
      "(204, 7)\n"
     ]
    },
    {
     "data": {
      "text/html": [
       "<div>\n",
       "<style scoped>\n",
       "    .dataframe tbody tr th:only-of-type {\n",
       "        vertical-align: middle;\n",
       "    }\n",
       "\n",
       "    .dataframe tbody tr th {\n",
       "        vertical-align: top;\n",
       "    }\n",
       "\n",
       "    .dataframe thead th {\n",
       "        text-align: right;\n",
       "    }\n",
       "</style>\n",
       "<table border=\"1\" class=\"dataframe\">\n",
       "  <thead>\n",
       "    <tr style=\"text-align: right;\">\n",
       "      <th></th>\n",
       "      <th>Doc ID #</th>\n",
       "      <th>Pg</th>\n",
       "      <th>Text</th>\n",
       "      <th>Category</th>\n",
       "      <th>Label</th>\n",
       "      <th>in drop box?</th>\n",
       "      <th>Unnamed: 6</th>\n",
       "    </tr>\n",
       "  </thead>\n",
       "  <tbody>\n",
       "    <tr>\n",
       "      <th>2</th>\n",
       "      <td>0000-BOM-GLO</td>\n",
       "      <td>14</td>\n",
       "      <td>As international trends shift toward greater i...</td>\n",
       "      <td>PSE Ways We Engage</td>\n",
       "      <td>Strengthening the Enabling Environment</td>\n",
       "      <td>NaN</td>\n",
       "      <td>NaN</td>\n",
       "    </tr>\n",
       "    <tr>\n",
       "      <th>8</th>\n",
       "      <td>0000-BOURI-GLO</td>\n",
       "      <td>7</td>\n",
       "      <td>we can encourage transformative innovation and...</td>\n",
       "      <td>PSE Ways We Engage</td>\n",
       "      <td>Harnessing Private Sector Expertise &amp; Innovation</td>\n",
       "      <td>NaN</td>\n",
       "      <td>NaN</td>\n",
       "    </tr>\n",
       "    <tr>\n",
       "      <th>9</th>\n",
       "      <td>0000-BOURI-GLO</td>\n",
       "      <td>8</td>\n",
       "      <td>blended finance and/or technical assistance (T...</td>\n",
       "      <td>PSE Ways We Engage</td>\n",
       "      <td>Catalyzing Private Sector Resources</td>\n",
       "      <td>NaN</td>\n",
       "      <td>NaN</td>\n",
       "    </tr>\n",
       "  </tbody>\n",
       "</table>\n",
       "</div>"
      ],
      "text/plain": [
       "         Doc ID #  Pg                                              Text   \\\n",
       "2    0000-BOM-GLO  14  As international trends shift toward greater i...   \n",
       "8  0000-BOURI-GLO   7  we can encourage transformative innovation and...   \n",
       "9  0000-BOURI-GLO   8  blended finance and/or technical assistance (T...   \n",
       "\n",
       "            Category                                             Label   \\\n",
       "2  PSE Ways We Engage           Strengthening the Enabling Environment    \n",
       "8  PSE Ways We Engage  Harnessing Private Sector Expertise & Innovation   \n",
       "9  PSE Ways We Engage               Catalyzing Private Sector Resources   \n",
       "\n",
       "  in drop box?  Unnamed: 6  \n",
       "2           NaN        NaN  \n",
       "8           NaN        NaN  \n",
       "9           NaN        NaN  "
      ]
     },
     "execution_count": 38,
     "metadata": {},
     "output_type": "execute_result"
    }
   ],
   "source": [
    "pse_ways_ex_df = spans_categories_doc_df[spans_categories_doc_df['Category '].isin(['PSE Ways We Engage'])]\n",
    "print(pse_ways_ex_df.shape)\n",
    "pse_ways_ex_df.head(3)"
   ]
  },
  {
   "cell_type": "code",
   "execution_count": 39,
   "id": "827a4b64",
   "metadata": {},
   "outputs": [
    {
     "data": {
      "text/plain": [
       "Harnessing Private Sector Expertise & Innovation       45\n",
       "Catalyzing Private Sector Resources                    41\n",
       "Strengthening the Enabling Environment                 40\n",
       "Information-Sharing & Strategic Alignment              27\n",
       "Advanced Learning & Market Research                    21\n",
       "Harnessing Private-Sector Expertise and Innovation     11\n",
       "Catalyzing Private-Sector Resources                    10\n",
       "Strengthening the Enabling Environment                  5\n",
       "Information-Sharing and Strategic Alignment             1\n",
       "Strengthen the Enabling Environment                     1\n",
       "Harnessing Private-Sector Expertise                     1\n",
       "Harnessing Private-Sector Expertise and Innovation      1\n",
       "Name: Label , dtype: int64"
      ]
     },
     "execution_count": 39,
     "metadata": {},
     "output_type": "execute_result"
    }
   ],
   "source": [
    "pse_ways_ex_df['Label '].value_counts()"
   ]
  },
  {
   "cell_type": "code",
   "execution_count": 40,
   "id": "1d1f6689",
   "metadata": {},
   "outputs": [
    {
     "name": "stderr",
     "output_type": "stream",
     "text": [
      "C:\\Users\\Volha_Skidan\\AppData\\Local\\Temp\\ipykernel_40496\\316221415.py:4: SettingWithCopyWarning: \n",
      "A value is trying to be set on a copy of a slice from a DataFrame\n",
      "\n",
      "See the caveats in the documentation: https://pandas.pydata.org/pandas-docs/stable/user_guide/indexing.html#returning-a-view-versus-a-copy\n",
      "  df_small_text['pse_ways_labels'].loc[ni] = []\n"
     ]
    },
    {
     "data": {
      "text/plain": [
       "Harnessing Private-Sector Expertise and Innovation;    90\n",
       "Catalyzing Private-Sector Resources;                   87\n",
       "Information-Sharing and Strategic Alignment            56\n",
       "Strengthening the Enabling Environment                 55\n",
       "Advancing Learning and Market Research;                26\n",
       "dtype: int64"
      ]
     },
     "execution_count": 40,
     "metadata": {},
     "output_type": "execute_result"
    }
   ],
   "source": [
    "df_small_text['pse_ways_labels'] = df_small_text['PSE Ways We Engage'].str.split(',')\n",
    "nulls = df_small_text[pd.isnull(df_small_text['pse_ways_labels'])]\n",
    "for i, ni in enumerate(nulls.index[:len(df_text)]):\n",
    "    df_small_text['pse_ways_labels'].loc[ni] = []\n",
    "pd.Series([item for sublist in df_small_text['pse_ways_labels'] for item in sublist]).value_counts()"
   ]
  },
  {
   "cell_type": "code",
   "execution_count": 41,
   "id": "cab9326c",
   "metadata": {},
   "outputs": [],
   "source": [
    "ways_list = pd.Series([item for sublist in df_small_text['pse_ways_labels'] for item in sublist]).value_counts().index"
   ]
  },
  {
   "cell_type": "code",
   "execution_count": 42,
   "id": "c1b3fb86",
   "metadata": {},
   "outputs": [
    {
     "data": {
      "text/plain": [
       "Index(['Harnessing Private-Sector Expertise and Innovation;',\n",
       "       'Catalyzing Private-Sector Resources;',\n",
       "       'Information-Sharing and Strategic Alignment',\n",
       "       'Strengthening the Enabling Environment',\n",
       "       'Advancing Learning and Market Research;'],\n",
       "      dtype='object')"
      ]
     },
     "execution_count": 42,
     "metadata": {},
     "output_type": "execute_result"
    }
   ],
   "source": [
    "ways_list"
   ]
  },
  {
   "cell_type": "code",
   "execution_count": 43,
   "id": "2da90fd1",
   "metadata": {},
   "outputs": [],
   "source": [
    "from sentence_transformers import SentenceTransformer, util\n",
    "model = SentenceTransformer('all-MiniLM-L6-v2')\n",
    "\n",
    "# #Sentences are encoded by calling model.encode()\n",
    "# emb1 = model.encode(\"This is a red cat with a hat.\")\n",
    "# emb2 = model.encode(\"Have you seen my red cat?\")\n",
    "\n",
    "# cos_sim = util.cos_sim(emb1, emb2)\n",
    "# print(\"Cosine-Similarity:\", cos_sim)"
   ]
  },
  {
   "cell_type": "code",
   "execution_count": 44,
   "id": "ea3f1c10",
   "metadata": {},
   "outputs": [],
   "source": [
    "model_rob = SentenceTransformer('all-distilroberta-v1')"
   ]
  },
  {
   "cell_type": "code",
   "execution_count": 45,
   "id": "3b065271",
   "metadata": {},
   "outputs": [
    {
     "name": "stderr",
     "output_type": "stream",
     "text": [
      "C:\\Users\\Volha_Skidan\\AppData\\Local\\Temp\\ipykernel_40496\\3264757334.py:12: SettingWithCopyWarning: \n",
      "A value is trying to be set on a copy of a slice from a DataFrame.\n",
      "Try using .loc[row_indexer,col_indexer] = value instead\n",
      "\n",
      "See the caveats in the documentation: https://pandas.pydata.org/pandas-docs/stable/user_guide/indexing.html#returning-a-view-versus-a-copy\n",
      "  pse_ways_ex_df['label'] = pse_ways_ex_df['Label '].apply(find_the_closest_ways)\n",
      "C:\\Users\\Volha_Skidan\\AppData\\Local\\Temp\\ipykernel_40496\\3264757334.py:13: SettingWithCopyWarning: \n",
      "A value is trying to be set on a copy of a slice from a DataFrame.\n",
      "Try using .loc[row_indexer,col_indexer] = value instead\n",
      "\n",
      "See the caveats in the documentation: https://pandas.pydata.org/pandas-docs/stable/user_guide/indexing.html#returning-a-view-versus-a-copy\n",
      "  pse_ways_ex_df['span_vector'] = pse_ways_ex_df['Text '].apply(get_vector)\n"
     ]
    }
   ],
   "source": [
    "def find_the_closest_ways(s):\n",
    "    for way in ways_list:\n",
    "        if s[:5] == way[:5]:\n",
    "            return way\n",
    "    return None\n",
    "\n",
    "def get_vector(s):\n",
    "    s = str(s).replace(\"\\n\", '').replace(\"\\t\", \"\")\n",
    "    span = model_rob.encode(s)\n",
    "    return span\n",
    "    \n",
    "pse_ways_ex_df['label'] = pse_ways_ex_df['Label '].apply(find_the_closest_ways)\n",
    "pse_ways_ex_df['span_vector'] = pse_ways_ex_df['Text '].apply(get_vector)"
   ]
  },
  {
   "cell_type": "code",
   "execution_count": 46,
   "id": "6c7c7196",
   "metadata": {},
   "outputs": [
    {
     "data": {
      "text/html": [
       "<div>\n",
       "<style scoped>\n",
       "    .dataframe tbody tr th:only-of-type {\n",
       "        vertical-align: middle;\n",
       "    }\n",
       "\n",
       "    .dataframe tbody tr th {\n",
       "        vertical-align: top;\n",
       "    }\n",
       "\n",
       "    .dataframe thead th {\n",
       "        text-align: right;\n",
       "    }\n",
       "</style>\n",
       "<table border=\"1\" class=\"dataframe\">\n",
       "  <thead>\n",
       "    <tr style=\"text-align: right;\">\n",
       "      <th></th>\n",
       "      <th>Doc ID #</th>\n",
       "      <th>Pg</th>\n",
       "      <th>Text</th>\n",
       "      <th>Category</th>\n",
       "      <th>Label</th>\n",
       "      <th>in drop box?</th>\n",
       "      <th>Unnamed: 6</th>\n",
       "      <th>label</th>\n",
       "      <th>span_vector</th>\n",
       "    </tr>\n",
       "  </thead>\n",
       "  <tbody>\n",
       "    <tr>\n",
       "      <th>2</th>\n",
       "      <td>0000-BOM-GLO</td>\n",
       "      <td>14</td>\n",
       "      <td>As international trends shift toward greater i...</td>\n",
       "      <td>PSE Ways We Engage</td>\n",
       "      <td>Strengthening the Enabling Environment</td>\n",
       "      <td>NaN</td>\n",
       "      <td>NaN</td>\n",
       "      <td>Strengthening the Enabling Environment</td>\n",
       "      <td>[-0.044974163, -0.013107875, 0.033018652, 0.01...</td>\n",
       "    </tr>\n",
       "    <tr>\n",
       "      <th>8</th>\n",
       "      <td>0000-BOURI-GLO</td>\n",
       "      <td>7</td>\n",
       "      <td>we can encourage transformative innovation and...</td>\n",
       "      <td>PSE Ways We Engage</td>\n",
       "      <td>Harnessing Private Sector Expertise &amp; Innovation</td>\n",
       "      <td>NaN</td>\n",
       "      <td>NaN</td>\n",
       "      <td>Harnessing Private-Sector Expertise and Innova...</td>\n",
       "      <td>[0.0008808361, -0.05370595, 0.017596303, -0.00...</td>\n",
       "    </tr>\n",
       "  </tbody>\n",
       "</table>\n",
       "</div>"
      ],
      "text/plain": [
       "         Doc ID #  Pg                                              Text   \\\n",
       "2    0000-BOM-GLO  14  As international trends shift toward greater i...   \n",
       "8  0000-BOURI-GLO   7  we can encourage transformative innovation and...   \n",
       "\n",
       "            Category                                             Label   \\\n",
       "2  PSE Ways We Engage           Strengthening the Enabling Environment    \n",
       "8  PSE Ways We Engage  Harnessing Private Sector Expertise & Innovation   \n",
       "\n",
       "  in drop box?  Unnamed: 6                                              label  \\\n",
       "2           NaN        NaN             Strengthening the Enabling Environment   \n",
       "8           NaN        NaN  Harnessing Private-Sector Expertise and Innova...   \n",
       "\n",
       "                                         span_vector  \n",
       "2  [-0.044974163, -0.013107875, 0.033018652, 0.01...  \n",
       "8  [0.0008808361, -0.05370595, 0.017596303, -0.00...  "
      ]
     },
     "execution_count": 46,
     "metadata": {},
     "output_type": "execute_result"
    }
   ],
   "source": [
    "pse_ways_ex_df.head(2)"
   ]
  },
  {
   "cell_type": "code",
   "execution_count": 47,
   "id": "767a3c01",
   "metadata": {},
   "outputs": [],
   "source": [
    "import warnings\n",
    "warnings.filterwarnings('ignore')"
   ]
  },
  {
   "cell_type": "code",
   "execution_count": 48,
   "id": "3decbc61",
   "metadata": {},
   "outputs": [],
   "source": [
    "model_v12 = SentenceTransformer('all-MiniLM-L12-v2')"
   ]
  },
  {
   "cell_type": "code",
   "execution_count": 49,
   "id": "842fb943",
   "metadata": {},
   "outputs": [
    {
     "name": "stdout",
     "output_type": "stream",
     "text": [
      "38\n",
      "120\n",
      "68\n",
      "100\n",
      "100\n",
      "57\n",
      "118\n",
      "50\n",
      "56\n",
      "2891\n",
      "72\n",
      "70\n",
      "72\n",
      "41\n",
      "59\n",
      "52\n",
      "7\n",
      "90\n",
      "120\n",
      "120\n",
      "99\n",
      "31\n",
      "135\n",
      "67\n",
      "48\n",
      "23\n",
      "1414\n",
      "209\n",
      "209\n",
      "41\n",
      "41\n",
      "117\n",
      "3069\n",
      "46\n",
      "1280\n",
      "2188\n",
      "87\n",
      "73\n",
      "137\n",
      "29\n",
      "119\n",
      "33\n",
      "60\n",
      "66\n",
      "63\n",
      "63\n",
      "74\n",
      "194\n",
      "2\n",
      "104\n",
      "1474\n",
      "70\n",
      "29\n",
      "44\n",
      "28\n",
      "94\n",
      "3\n",
      "27\n",
      "27\n",
      "129\n",
      "6394\n",
      "37\n",
      "50\n",
      "55\n",
      "2\n",
      "46\n",
      "1682\n",
      "39\n",
      "148\n",
      "33\n",
      "3263\n",
      "154\n",
      "57\n",
      "77\n",
      "28\n",
      "47\n",
      "25\n",
      "36\n",
      "151\n",
      "44\n",
      "52\n",
      "4\n",
      "83\n",
      "84\n",
      "4183\n",
      "41\n",
      "67\n",
      "40\n",
      "62\n",
      "4099\n",
      "47\n",
      "32\n",
      "98\n",
      "61\n",
      "53\n",
      "1\n",
      "97\n",
      "71\n",
      "182\n",
      "34\n",
      "38\n",
      "50\n",
      "38\n",
      "102\n",
      "41\n",
      "3905\n",
      "47\n",
      "33\n",
      "1219\n",
      "14\n",
      "19\n",
      "53\n",
      "43\n",
      "68\n",
      "94\n",
      "2661\n",
      "90\n",
      "350\n",
      "74\n",
      "42\n",
      "82\n",
      "88\n",
      "44\n",
      "57\n",
      "4477\n",
      "64\n",
      "127\n",
      "1791\n",
      "2947\n",
      "90\n",
      "61\n",
      "6\n",
      "64\n",
      "25\n",
      "40\n",
      "35\n",
      "87\n",
      "36\n",
      "64\n",
      "72\n",
      "126\n",
      "42\n",
      "57\n",
      "28\n",
      "38\n",
      "216\n",
      "23\n",
      "20\n",
      "35\n",
      "81\n",
      "174\n",
      "89\n",
      "52\n",
      "3235\n",
      "781\n",
      "83\n",
      "3539\n",
      "160\n",
      "953\n",
      "72\n",
      "2525\n",
      "48\n",
      "47\n"
     ]
    }
   ],
   "source": [
    "import re\n",
    "from ast import literal_eval\n",
    "\n",
    "def calc_similar_doc_type(s):\n",
    "    probability = {}\n",
    "    text = ' '.join(s[1:3])\n",
    "    text = text.replace('\\n\\n', '.')\n",
    "    text = text.replace('\\n',\"\").replace('\\t',\"\")\n",
    "    print(len(text.split('.')))\n",
    "    for sent in text.split('.'):\n",
    "#         sent = re.sub(r'[^\\w\\se]', '', sent.lower().strip())\n",
    "        if len(sent) < 20:\n",
    "            continue\n",
    "        sent_vec = model_rob.encode(sent)\n",
    "        for row in pse_ways_ex_df.iterrows():\n",
    "            try:   \n",
    "                label = row[1]['label']\n",
    "                span = row[1]['span_vector']\n",
    "                span_text = row[1]['Text '].replace(\"\\n\", '').replace(\"\\t\", \"\")\n",
    "            except:\n",
    "                continue\n",
    "            if label not in probability:\n",
    "                probability[label] = [0, '', '']\n",
    "            sim_score = util.cos_sim(span, sent_vec)\n",
    "            if sim_score > probability[label][0]:\n",
    "                probability[label] = [sim_score, 'FOUND: ' + sent, 'SPAN: ' + span_text]\n",
    "    if len(probability) == 0:\n",
    "        return []\n",
    "    return list(sorted(probability.items(), key=lambda kv: kv[1][0], reverse=True))\n",
    "        \n",
    "\n",
    "df_text_test = df_small_text #.sample(n=2, random_state=3)\n",
    "df_small_text['pse_ways_prob_founded'] = df_small_text['full_content'].apply(calc_similar_doc_type)"
   ]
  },
  {
   "cell_type": "code",
   "execution_count": 50,
   "id": "e3a99898",
   "metadata": {},
   "outputs": [],
   "source": [
    "# pd.set_option('display.max_colwidth', -1)"
   ]
  },
  {
   "cell_type": "code",
   "execution_count": 51,
   "id": "71c41cf1",
   "metadata": {},
   "outputs": [],
   "source": [
    "def select_top(s):\n",
    "    try:\n",
    "        return s[i]\n",
    "    except:\n",
    "        None\n",
    "\n",
    "i = 0\n",
    "df_small_text['pse_ways_prob_top_1_founded'] = df_small_text['pse_ways_prob_founded'].apply(select_top)\n",
    "i=1\n",
    "df_small_text['pse_ways_prob_top_2_founded'] = df_small_text['pse_ways_prob_founded'].apply(select_top)\n",
    "i=2\n",
    "df_small_text['pse_ways_prob_top_3_founded'] = df_small_text['pse_ways_prob_founded'].apply(select_top)"
   ]
  },
  {
   "cell_type": "code",
   "execution_count": 52,
   "id": "bc607430",
   "metadata": {},
   "outputs": [],
   "source": [
    "df_small_text.fillna('', inplace=True)"
   ]
  },
  {
   "cell_type": "code",
   "execution_count": 53,
   "id": "e1815e53",
   "metadata": {},
   "outputs": [
    {
     "data": {
      "text/html": [
       "<div>\n",
       "<style scoped>\n",
       "    .dataframe tbody tr th:only-of-type {\n",
       "        vertical-align: middle;\n",
       "    }\n",
       "\n",
       "    .dataframe tbody tr th {\n",
       "        vertical-align: top;\n",
       "    }\n",
       "\n",
       "    .dataframe thead th {\n",
       "        text-align: right;\n",
       "    }\n",
       "</style>\n",
       "<table border=\"1\" class=\"dataframe\">\n",
       "  <thead>\n",
       "    <tr style=\"text-align: right;\">\n",
       "      <th></th>\n",
       "      <th>doc_name</th>\n",
       "      <th>content</th>\n",
       "      <th>full_content</th>\n",
       "      <th>Document ID</th>\n",
       "      <th>Document Title</th>\n",
       "      <th>Author(s)</th>\n",
       "      <th>Name of Private Sector Partner(s)</th>\n",
       "      <th>Publishing Institution(s)</th>\n",
       "      <th>Year</th>\n",
       "      <th>Technical Sector</th>\n",
       "      <th>...</th>\n",
       "      <th>Internet URL of Document</th>\n",
       "      <th>Reviewer Name</th>\n",
       "      <th>Review Complete?</th>\n",
       "      <th>Review Stage</th>\n",
       "      <th>text_clean</th>\n",
       "      <th>pse_ways_labels</th>\n",
       "      <th>pse_ways_prob_founded</th>\n",
       "      <th>pse_ways_prob_top_1_founded</th>\n",
       "      <th>pse_ways_prob_top_2_founded</th>\n",
       "      <th>pse_ways_prob_top_3_founded</th>\n",
       "    </tr>\n",
       "  </thead>\n",
       "  <tbody>\n",
       "    <tr>\n",
       "      <th>0</th>\n",
       "      <td>0000-BOURI-GLO.pkl</td>\n",
       "      <td>USAID’s Center for Innovation and Impact (CII)...</td>\n",
       "      <td>[Unleashing Private \\nCapital for Global \\nHea...</td>\n",
       "      <td>0000-bouri-glo</td>\n",
       "      <td>Unleashing Private Capital for Global Health I...</td>\n",
       "      <td>Center for Innovation and Impact</td>\n",
       "      <td></td>\n",
       "      <td>USAID From the American People</td>\n",
       "      <td></td>\n",
       "      <td>Humanitarian Assistance,Health</td>\n",
       "      <td>...</td>\n",
       "      <td>https://www.usaid.gov/sites/default/files/docu...</td>\n",
       "      <td>Halle Keane,Isabella Palacios</td>\n",
       "      <td>checked</td>\n",
       "      <td>Second Review</td>\n",
       "      <td>usaids center innovation impact cii take busin...</td>\n",
       "      <td>[Harnessing Private-Sector Expertise and Innov...</td>\n",
       "      <td>[(Harnessing Private-Sector Expertise and Inno...</td>\n",
       "      <td>(Harnessing Private-Sector Expertise and Innov...</td>\n",
       "      <td>(Catalyzing Private-Sector Resources;, [[tenso...</td>\n",
       "      <td>(Strengthening the Enabling Environment, [[ten...</td>\n",
       "    </tr>\n",
       "    <tr>\n",
       "      <th>1</th>\n",
       "      <td>0000-CARBO-GLO.pkl</td>\n",
       "      <td>Privatisation and outsourcing in wartime: the ...</td>\n",
       "      <td>[Privatisation and outsourcing in \\nwartime: t...</td>\n",
       "      <td>0000-carbo-glo</td>\n",
       "      <td>Privatisation and Outsourcing in Wartime: the ...</td>\n",
       "      <td>Gilles Carbonnier</td>\n",
       "      <td></td>\n",
       "      <td>Overseas Development Institute</td>\n",
       "      <td>2006.0</td>\n",
       "      <td>Humanitarian Assistance,Peace &amp; Security,\"Demo...</td>\n",
       "      <td>...</td>\n",
       "      <td>https://pubmed.ncbi.nlm.nih.gov/17100750/</td>\n",
       "      <td>Diana Spencer</td>\n",
       "      <td>checked</td>\n",
       "      <td>Second Review</td>\n",
       "      <td>privatisation outsourcing wartime humanitarian...</td>\n",
       "      <td>[Harnessing Private-Sector Expertise and Innov...</td>\n",
       "      <td>[(Harnessing Private-Sector Expertise and Inno...</td>\n",
       "      <td>(Harnessing Private-Sector Expertise and Innov...</td>\n",
       "      <td>(Catalyzing Private-Sector Resources;, [[tenso...</td>\n",
       "      <td>(Information-Sharing and Strategic Alignment, ...</td>\n",
       "    </tr>\n",
       "  </tbody>\n",
       "</table>\n",
       "<p>2 rows × 34 columns</p>\n",
       "</div>"
      ],
      "text/plain": [
       "             doc_name                                            content  \\\n",
       "0  0000-BOURI-GLO.pkl  USAID’s Center for Innovation and Impact (CII)...   \n",
       "1  0000-CARBO-GLO.pkl  Privatisation and outsourcing in wartime: the ...   \n",
       "\n",
       "                                        full_content     Document ID  \\\n",
       "0  [Unleashing Private \\nCapital for Global \\nHea...  0000-bouri-glo   \n",
       "1  [Privatisation and outsourcing in \\nwartime: t...  0000-carbo-glo   \n",
       "\n",
       "                                      Document Title  \\\n",
       "0  Unleashing Private Capital for Global Health I...   \n",
       "1  Privatisation and Outsourcing in Wartime: the ...   \n",
       "\n",
       "                          Author(s) Name of Private Sector Partner(s)  \\\n",
       "0  Center for Innovation and Impact                                     \n",
       "1                 Gilles Carbonnier                                     \n",
       "\n",
       "        Publishing Institution(s)    Year  \\\n",
       "0  USAID From the American People           \n",
       "1  Overseas Development Institute  2006.0   \n",
       "\n",
       "                                    Technical Sector  ...  \\\n",
       "0                    Humanitarian Assistance,Health   ...   \n",
       "1  Humanitarian Assistance,Peace & Security,\"Demo...  ...   \n",
       "\n",
       "                            Internet URL of Document  \\\n",
       "0  https://www.usaid.gov/sites/default/files/docu...   \n",
       "1          https://pubmed.ncbi.nlm.nih.gov/17100750/   \n",
       "\n",
       "                   Reviewer Name Review Complete?   Review Stage  \\\n",
       "0  Halle Keane,Isabella Palacios          checked  Second Review   \n",
       "1                  Diana Spencer          checked  Second Review   \n",
       "\n",
       "                                          text_clean  \\\n",
       "0  usaids center innovation impact cii take busin...   \n",
       "1  privatisation outsourcing wartime humanitarian...   \n",
       "\n",
       "                                     pse_ways_labels  \\\n",
       "0  [Harnessing Private-Sector Expertise and Innov...   \n",
       "1  [Harnessing Private-Sector Expertise and Innov...   \n",
       "\n",
       "                               pse_ways_prob_founded  \\\n",
       "0  [(Harnessing Private-Sector Expertise and Inno...   \n",
       "1  [(Harnessing Private-Sector Expertise and Inno...   \n",
       "\n",
       "                         pse_ways_prob_top_1_founded  \\\n",
       "0  (Harnessing Private-Sector Expertise and Innov...   \n",
       "1  (Harnessing Private-Sector Expertise and Innov...   \n",
       "\n",
       "                         pse_ways_prob_top_2_founded  \\\n",
       "0  (Catalyzing Private-Sector Resources;, [[tenso...   \n",
       "1  (Catalyzing Private-Sector Resources;, [[tenso...   \n",
       "\n",
       "                         pse_ways_prob_top_3_founded  \n",
       "0  (Strengthening the Enabling Environment, [[ten...  \n",
       "1  (Information-Sharing and Strategic Alignment, ...  \n",
       "\n",
       "[2 rows x 34 columns]"
      ]
     },
     "execution_count": 53,
     "metadata": {},
     "output_type": "execute_result"
    }
   ],
   "source": [
    "df_small_text.head(2)"
   ]
  },
  {
   "cell_type": "code",
   "execution_count": 359,
   "id": "f89c932d",
   "metadata": {
    "scrolled": true
   },
   "outputs": [],
   "source": [
    "true_ = 0\n",
    "all_ = 0\n",
    "for row in df_small_text[['doc_name', 'PSE Ways We Engage', 'pse_ways_prob_top_1_founded', 'pse_ways_prob_top_2_founded', 'pse_ways_prob_top_3_founded']].iterrows(): #.to_csv(\"tmp.csv\")\n",
    "    if str(row[1]['PSE Ways We Engage']) == 'nan':\n",
    "        continue\n",
    "    ways = row[1]['PSE Ways We Engage'].split(',')\n",
    "\n",
    "    temp_true = 0\n",
    "    for way in ways:\n",
    "        if way in row[1]['pse_ways_prob_top_1_founded'] or way in row[1]['pse_ways_prob_top_2_founded'] or way in row[1]['pse_ways_prob_top_3_founded']:\n",
    "            temp_true = temp_true + 1\n",
    "    if temp_true == 3:\n",
    "        true_ += 3\n",
    "        all_ += 3\n",
    "    else:\n",
    "        true_ += temp_true\n",
    "        all_ += len(ways)"
   ]
  },
  {
   "cell_type": "code",
   "execution_count": 360,
   "id": "08e7f1c5",
   "metadata": {},
   "outputs": [
    {
     "data": {
      "text/plain": [
       "226"
      ]
     },
     "execution_count": 360,
     "metadata": {},
     "output_type": "execute_result"
    }
   ],
   "source": [
    "true_"
   ]
  },
  {
   "cell_type": "code",
   "execution_count": 361,
   "id": "dfffb60b",
   "metadata": {},
   "outputs": [
    {
     "data": {
      "text/plain": [
       "311"
      ]
     },
     "execution_count": 361,
     "metadata": {},
     "output_type": "execute_result"
    }
   ],
   "source": [
    "all_"
   ]
  },
  {
   "cell_type": "code",
   "execution_count": 362,
   "id": "a212110c",
   "metadata": {},
   "outputs": [
    {
     "data": {
      "text/plain": [
       "0.7266881028938906"
      ]
     },
     "execution_count": 362,
     "metadata": {},
     "output_type": "execute_result"
    }
   ],
   "source": [
    "226 / 311"
   ]
  },
  {
   "cell_type": "code",
   "execution_count": 282,
   "id": "139bb0b0",
   "metadata": {},
   "outputs": [],
   "source": [
    "predicted_full = model.predict(df_text['text_clean'])\n",
    "predicted_proba_full = model.predict_proba(df_text['text_clean'])"
   ]
  },
  {
   "cell_type": "code",
   "execution_count": 283,
   "id": "342c2154",
   "metadata": {
    "scrolled": true
   },
   "outputs": [
    {
     "data": {
      "text/plain": [
       "(578, 6)"
      ]
     },
     "execution_count": 283,
     "metadata": {},
     "output_type": "execute_result"
    }
   ],
   "source": [
    "predicted_full.shape"
   ]
  },
  {
   "cell_type": "code",
   "execution_count": 284,
   "id": "4a76d744",
   "metadata": {},
   "outputs": [
    {
     "data": {
      "text/plain": [
       "(578, 40)"
      ]
     },
     "execution_count": 284,
     "metadata": {},
     "output_type": "execute_result"
    }
   ],
   "source": [
    "df_text.shape"
   ]
  },
  {
   "cell_type": "code",
   "execution_count": 286,
   "id": "76ad4f18",
   "metadata": {},
   "outputs": [],
   "source": [
    "df_text[\"pse_keys_predicted\"] = None\n",
    "df_text[\"pse_keys_probability_predicted\"] = None"
   ]
  },
  {
   "cell_type": "code",
   "execution_count": 287,
   "id": "ede9e8b9",
   "metadata": {},
   "outputs": [],
   "source": [
    "for i in range(predicted_full.shape[0]):\n",
    "    df_text[\"pse_keys_predicted\"].values[i] = []\n",
    "    df_text[\"pse_keys_probability_predicted\"].values[i] = {}\n",
    "    for j in range(1,6):\n",
    "        label = mlb.classes_[j]\n",
    "        if predicted_full[i][j] == 1:\n",
    "            df_text[\"pse_keys_predicted\"].values[i].append(label)\n",
    "        df_text[\"pse_keys_probability_predicted\"].values[i][label] = predicted_proba_full[i][j]"
   ]
  },
  {
   "cell_type": "code",
   "execution_count": 288,
   "id": "4b704843",
   "metadata": {},
   "outputs": [],
   "source": [
    "similar_spans = pd.read_csv(\"tmp_keys_pse.csv\")"
   ]
  },
  {
   "cell_type": "code",
   "execution_count": 289,
   "id": "e1eabb9b",
   "metadata": {},
   "outputs": [],
   "source": [
    "df_model = df_text[['doc_name', 'pse_keys_predicted', 'pse_keys_probability_predicted']]\n",
    "\n",
    "df_enriched = pd.merge(similar_spans,\n",
    "                      df_model,\n",
    "                      on='doc_name',\n",
    "                      how='inner')"
   ]
  },
  {
   "cell_type": "code",
   "execution_count": 290,
   "id": "4a92156d",
   "metadata": {},
   "outputs": [],
   "source": [
    "df_enriched.to_csv(\"pse_keys_comparison.csv\")"
   ]
  },
  {
   "cell_type": "markdown",
   "id": "e6d96836",
   "metadata": {},
   "source": [
    "#### PSE keys"
   ]
  },
  {
   "cell_type": "code",
   "execution_count": 248,
   "id": "c23c07ed",
   "metadata": {},
   "outputs": [
    {
     "name": "stdout",
     "output_type": "stream",
     "text": [
      "(199, 7)\n"
     ]
    },
    {
     "data": {
      "text/html": [
       "<div>\n",
       "<style scoped>\n",
       "    .dataframe tbody tr th:only-of-type {\n",
       "        vertical-align: middle;\n",
       "    }\n",
       "\n",
       "    .dataframe tbody tr th {\n",
       "        vertical-align: top;\n",
       "    }\n",
       "\n",
       "    .dataframe thead th {\n",
       "        text-align: right;\n",
       "    }\n",
       "</style>\n",
       "<table border=\"1\" class=\"dataframe\">\n",
       "  <thead>\n",
       "    <tr style=\"text-align: right;\">\n",
       "      <th></th>\n",
       "      <th>Doc ID #</th>\n",
       "      <th>Pg</th>\n",
       "      <th>Text</th>\n",
       "      <th>Category</th>\n",
       "      <th>Label</th>\n",
       "      <th>in drop box?</th>\n",
       "      <th>Unnamed: 6</th>\n",
       "    </tr>\n",
       "  </thead>\n",
       "  <tbody>\n",
       "    <tr>\n",
       "      <th>0</th>\n",
       "      <td>0000-BOM-GLO</td>\n",
       "      <td>14</td>\n",
       "      <td>ÉLAN RDC has laid the foundations for the application of an MSD approach to the aid industry in the DRC. More evidence continues to be needed, however, to further and meaningfully shift the global\\nframework within which the industry operates in order to see growth and development in places\\nmired by protracted crises.</td>\n",
       "      <td>PSE Key Values</td>\n",
       "      <td>Innovation, Expertise, and Capabilities</td>\n",
       "      <td>NO</td>\n",
       "      <td>NaN</td>\n",
       "    </tr>\n",
       "    <tr>\n",
       "      <th>10</th>\n",
       "      <td>0000-BOURI-GLO</td>\n",
       "      <td>8</td>\n",
       "      <td>private financing with appropriate terms and flexibility</td>\n",
       "      <td>PSE Key Values</td>\n",
       "      <td>Flexibility &amp; Pace</td>\n",
       "      <td>NaN</td>\n",
       "      <td>NaN</td>\n",
       "    </tr>\n",
       "    <tr>\n",
       "      <th>22</th>\n",
       "      <td>0000-CARBO-GLO</td>\n",
       "      <td>5</td>\n",
       "      <td>US entities such as Chemonics International (The Center for Public Integrity, 2004), Planning and Development Collaborative International (PADCO) and DPK Consulting, which provide advice and support in various fields, including governance and the privatisation of public sector institutions in Afghanistan, Iraq or Sudan</td>\n",
       "      <td>PSE Key Values</td>\n",
       "      <td>Ability to Influence Policy</td>\n",
       "      <td>NaN</td>\n",
       "      <td>NaN</td>\n",
       "    </tr>\n",
       "  </tbody>\n",
       "</table>\n",
       "</div>"
      ],
      "text/plain": [
       "          Doc ID #  Pg  \\\n",
       "0   0000-BOM-GLO    14   \n",
       "10  0000-BOURI-GLO  8    \n",
       "22  0000-CARBO-GLO  5    \n",
       "\n",
       "                                                                                                                                                                                                                                                                                                                               Text   \\\n",
       "0   ÉLAN RDC has laid the foundations for the application of an MSD approach to the aid industry in the DRC. More evidence continues to be needed, however, to further and meaningfully shift the global\\nframework within which the industry operates in order to see growth and development in places\\nmired by protracted crises.   \n",
       "10  private financing with appropriate terms and flexibility                                                                                                                                                                                                                                                                           \n",
       "22  US entities such as Chemonics International (The Center for Public Integrity, 2004), Planning and Development Collaborative International (PADCO) and DPK Consulting, which provide advice and support in various fields, including governance and the privatisation of public sector institutions in Afghanistan, Iraq or Sudan   \n",
       "\n",
       "         Category                                     Label  in drop box?   \\\n",
       "0   PSE Key Values  Innovation, Expertise, and Capabilities   NO             \n",
       "10  PSE Key Values  Flexibility & Pace                        NaN            \n",
       "22  PSE Key Values  Ability to Influence Policy               NaN            \n",
       "\n",
       "   Unnamed: 6  \n",
       "0   NaN        \n",
       "10  NaN        \n",
       "22  NaN        "
      ]
     },
     "execution_count": 248,
     "metadata": {},
     "output_type": "execute_result"
    }
   ],
   "source": [
    "pse_keys_ex_df = spans_categories_doc_df[spans_categories_doc_df['Category '].isin(['PSE Key Values', 'PSE Key Values '])]\n",
    "print(pse_keys_ex_df.shape)\n",
    "pse_keys_ex_df.head(3)"
   ]
  },
  {
   "cell_type": "code",
   "execution_count": 249,
   "id": "d647c07d",
   "metadata": {},
   "outputs": [
    {
     "data": {
      "text/plain": [
       "Innovation/Expertise/Capabilities           46\n",
       "Scale/Sustainability/Reach                  45\n",
       "Efficiency & Effectiveness                  41\n",
       "Ability to Influence Policy                 13\n",
       "Efficiency and Effectiveness                11\n",
       "Flexibility & Pace                          10\n",
       "Innovation, Expertise, and Capabilities     8 \n",
       "Innovation, Expertise, and Capabilities     6 \n",
       "Scale, Sustainability, and Reach            6 \n",
       "Scale, Sustainability, and Reach            6 \n",
       "Flexibility and Pace                        4 \n",
       "Efficiency and Effectiveness                2 \n",
       "Name: Label , dtype: int64"
      ]
     },
     "execution_count": 249,
     "metadata": {},
     "output_type": "execute_result"
    }
   ],
   "source": [
    "pse_keys_ex_df['Label '].value_counts()"
   ]
  },
  {
   "cell_type": "code",
   "execution_count": 250,
   "id": "78da5e1a",
   "metadata": {},
   "outputs": [
    {
     "data": {
      "text/plain": [
       "Innovation, Expertise, and Capabilities    109\n",
       "Efficiency and Effectiveness               89 \n",
       "Scale, Sustainability, and Reach           82 \n",
       "Flexibility and Pace                       19 \n",
       "Ability to Influence Policy                17 \n",
       "                                           4  \n",
       "dtype: int64"
      ]
     },
     "execution_count": 250,
     "metadata": {},
     "output_type": "execute_result"
    }
   ],
   "source": [
    "def replace_inner_commas(s):\n",
    "    cur = False\n",
    "    s = list(str(s))\n",
    "    for i in range(len(s)):\n",
    "        ch = s[i]\n",
    "        if ch == ',' and cur == True:\n",
    "            s[i] = '+'\n",
    "            continue\n",
    "        if ch == '\"' and cur == False:\n",
    "            cur = True\n",
    "            continue\n",
    "        if ch == '\"' and cur == True:\n",
    "            cur = False\n",
    "    s = ''.join(s)\n",
    "    s = s.replace('\"', '').replace(',', ';').replace('+', ',')\n",
    "    if 'nan' in s:\n",
    "        s = ''\n",
    "    return s\n",
    "\n",
    "df_small_text['PSE_key_values'] = df_small_text['PSE Key Values'].apply(replace_inner_commas)\n",
    "\n",
    "df_small_text['pse_keys_labels'] = df_small_text['PSE_key_values'].str.split(';')\n",
    "nulls = df_small_text[pd.isnull(df_small_text['pse_keys_labels'])]\n",
    "for i, ni in enumerate(nulls.index[:len(df_text)]):\n",
    "    df_small_text['pse_keys_labels'].loc[ni] = []\n",
    "pd.Series([item for sublist in df_small_text['pse_keys_labels'] for item in sublist]).value_counts()"
   ]
  },
  {
   "cell_type": "code",
   "execution_count": 251,
   "id": "22cd30e6",
   "metadata": {},
   "outputs": [],
   "source": [
    "keys_list = pd.Series([item for sublist in df_small_text['pse_keys_labels'] for item in sublist]).value_counts().index\n",
    "keys_list = list(keys_list)\n",
    "keys_list\n",
    "keys_list.remove('')"
   ]
  },
  {
   "cell_type": "code",
   "execution_count": 252,
   "id": "aaed21e8",
   "metadata": {},
   "outputs": [
    {
     "data": {
      "text/plain": [
       "['Innovation, Expertise, and Capabilities',\n",
       " 'Efficiency and Effectiveness',\n",
       " 'Scale, Sustainability, and Reach',\n",
       " 'Flexibility and Pace',\n",
       " 'Ability to Influence Policy']"
      ]
     },
     "execution_count": 252,
     "metadata": {},
     "output_type": "execute_result"
    }
   ],
   "source": [
    "list(keys_list)"
   ]
  },
  {
   "cell_type": "code",
   "execution_count": 171,
   "id": "a8feaba8",
   "metadata": {},
   "outputs": [],
   "source": [
    "from sentence_transformers import SentenceTransformer, util\n",
    "model = SentenceTransformer('all-MiniLM-L6-v2')\n",
    "\n",
    "# #Sentences are encoded by calling model.encode()\n",
    "# emb1 = model.encode(\"This is a red cat with a hat.\")\n",
    "# emb2 = model.encode(\"Have you seen my red cat?\")\n",
    "\n",
    "# cos_sim = util.cos_sim(emb1, emb2)\n",
    "# print(\"Cosine-Similarity:\", cos_sim)"
   ]
  },
  {
   "cell_type": "code",
   "execution_count": 259,
   "id": "5c4e0eab",
   "metadata": {},
   "outputs": [],
   "source": [
    "pse_keys_ex_df = pse_keys_ex_df[pse_keys_ex_df['Label '].notna()]"
   ]
  },
  {
   "cell_type": "code",
   "execution_count": 280,
   "id": "e227d360",
   "metadata": {},
   "outputs": [],
   "source": [
    "def find_the_closest_ways(s):\n",
    "    for key in keys_list:\n",
    "#         print(s, way)\n",
    "        if s[:5] == key[:5]:\n",
    "            return key\n",
    "    return None\n",
    "\n",
    "def get_vector(s):\n",
    "    s = str(s).replace(\"\\n\", '').replace(\"\\t\", \"\")\n",
    "    span = model_rob.encode(s)\n",
    "    return span\n",
    "    \n",
    "pse_keys_ex_df['label'] = pse_keys_ex_df['Label '].apply(find_the_closest_ways)\n",
    "pse_keys_ex_df['span_vector'] = pse_keys_ex_df['Text '].apply(get_vector)"
   ]
  },
  {
   "cell_type": "code",
   "execution_count": 281,
   "id": "236cfa09",
   "metadata": {},
   "outputs": [
    {
     "data": {
      "text/html": [
       "<div>\n",
       "<style scoped>\n",
       "    .dataframe tbody tr th:only-of-type {\n",
       "        vertical-align: middle;\n",
       "    }\n",
       "\n",
       "    .dataframe tbody tr th {\n",
       "        vertical-align: top;\n",
       "    }\n",
       "\n",
       "    .dataframe thead th {\n",
       "        text-align: right;\n",
       "    }\n",
       "</style>\n",
       "<table border=\"1\" class=\"dataframe\">\n",
       "  <thead>\n",
       "    <tr style=\"text-align: right;\">\n",
       "      <th></th>\n",
       "      <th>Doc ID #</th>\n",
       "      <th>Pg</th>\n",
       "      <th>Text</th>\n",
       "      <th>Category</th>\n",
       "      <th>Label</th>\n",
       "      <th>in drop box?</th>\n",
       "      <th>Unnamed: 6</th>\n",
       "      <th>label</th>\n",
       "      <th>span_vector</th>\n",
       "    </tr>\n",
       "  </thead>\n",
       "  <tbody>\n",
       "    <tr>\n",
       "      <th>0</th>\n",
       "      <td>0000-BOM-GLO</td>\n",
       "      <td>14</td>\n",
       "      <td>ÉLAN RDC has laid the foundations for the application of an MSD approach to the aid industry in the DRC. More evidence continues to be needed, however, to further and meaningfully shift the global\\nframework within which the industry operates in order to see growth and development in places\\nmired by protracted crises.</td>\n",
       "      <td>PSE Key Values</td>\n",
       "      <td>Innovation, Expertise, and Capabilities</td>\n",
       "      <td>NO</td>\n",
       "      <td>NaN</td>\n",
       "      <td>Innovation, Expertise, and Capabilities</td>\n",
       "      <td>[-0.051801797, -0.045156755, 0.053755235, 0.014003652, 0.01967615, -0.04063226, -0.0058562304, -0.032461934, -0.006115527, -0.04512554, -0.086747676, 0.056917723, 0.021183014, 0.012407632, -0.028205005, 0.01773305, 0.0084041795, 0.010477309, -0.045051254, 0.07996139, -0.024494119, 0.0033193827, 0.0022746967, 0.018128734, 0.0035011054, -0.022859579, -0.042904537, 0.002380964, 0.0033989116, 0.0034877737, 0.03333049, 0.010363742, 0.011509331, -0.018490111, -0.019883115, 0.017968612, -0.0010614187, -0.04208281, 0.009092681, 0.026303336, 0.015536331, 0.038901053, 0.017337093, -0.009450782, -0.011884342, 0.024292998, -0.057340983, 0.012010289, 0.0083483085, 0.003362501, 0.067932345, 0.081955716, -0.055658773, 0.029760784, 0.033512164, -0.0062347013, -0.04340193, 0.05250013, 0.008119534, 0.021026092, 0.11524771, 0.02235, -0.046196993, 0.038498804, -0.034203008, 0.05269114, 0.019802842, 0.02718074, 0.006189187, -0.002938683, -0.031365942, 0.0118864495, 0.02630836, -0.06181432, 0.032944404, 0.09741596, -0.07536365, -0.07240198, -0.07740994, -0.011667831, -0.015020355, 0.008976966, 0.0117996605, -0.046056103, -0.006054534, 0.09182759, -0.006481511, -0.027196618, -0.039058235, -0.025368689, 0.030826587, 0.0052941465, 0.022989327, 0.05964884, 0.024252614, -0.09407681, -0.0051810932, 0.00779275, 0.022473734, -0.030272199, ...]</td>\n",
       "    </tr>\n",
       "  </tbody>\n",
       "</table>\n",
       "</div>"
      ],
      "text/plain": [
       "       Doc ID #  Pg  \\\n",
       "0  0000-BOM-GLO  14   \n",
       "\n",
       "                                                                                                                                                                                                                                                                                                                              Text   \\\n",
       "0  ÉLAN RDC has laid the foundations for the application of an MSD approach to the aid industry in the DRC. More evidence continues to be needed, however, to further and meaningfully shift the global\\nframework within which the industry operates in order to see growth and development in places\\nmired by protracted crises.   \n",
       "\n",
       "        Category                                     Label  in drop box?   \\\n",
       "0  PSE Key Values  Innovation, Expertise, and Capabilities   NO             \n",
       "\n",
       "  Unnamed: 6                                    label  \\\n",
       "0  NaN        Innovation, Expertise, and Capabilities   \n",
       "\n",
       "                                                                                                                                                                                                                                                                                                                                                                                                                                                                                                                                                                                                                                                                                                                                                                                                                                                                                                                                                                                                                                                                                                                                                                                                                                                                                                                                                                               span_vector  \n",
       "0  [-0.051801797, -0.045156755, 0.053755235, 0.014003652, 0.01967615, -0.04063226, -0.0058562304, -0.032461934, -0.006115527, -0.04512554, -0.086747676, 0.056917723, 0.021183014, 0.012407632, -0.028205005, 0.01773305, 0.0084041795, 0.010477309, -0.045051254, 0.07996139, -0.024494119, 0.0033193827, 0.0022746967, 0.018128734, 0.0035011054, -0.022859579, -0.042904537, 0.002380964, 0.0033989116, 0.0034877737, 0.03333049, 0.010363742, 0.011509331, -0.018490111, -0.019883115, 0.017968612, -0.0010614187, -0.04208281, 0.009092681, 0.026303336, 0.015536331, 0.038901053, 0.017337093, -0.009450782, -0.011884342, 0.024292998, -0.057340983, 0.012010289, 0.0083483085, 0.003362501, 0.067932345, 0.081955716, -0.055658773, 0.029760784, 0.033512164, -0.0062347013, -0.04340193, 0.05250013, 0.008119534, 0.021026092, 0.11524771, 0.02235, -0.046196993, 0.038498804, -0.034203008, 0.05269114, 0.019802842, 0.02718074, 0.006189187, -0.002938683, -0.031365942, 0.0118864495, 0.02630836, -0.06181432, 0.032944404, 0.09741596, -0.07536365, -0.07240198, -0.07740994, -0.011667831, -0.015020355, 0.008976966, 0.0117996605, -0.046056103, -0.006054534, 0.09182759, -0.006481511, -0.027196618, -0.039058235, -0.025368689, 0.030826587, 0.0052941465, 0.022989327, 0.05964884, 0.024252614, -0.09407681, -0.0051810932, 0.00779275, 0.022473734, -0.030272199, ...]  "
      ]
     },
     "execution_count": 281,
     "metadata": {},
     "output_type": "execute_result"
    }
   ],
   "source": [
    "pse_keys_ex_df.head(1)"
   ]
  },
  {
   "cell_type": "code",
   "execution_count": 282,
   "id": "5b11b681",
   "metadata": {},
   "outputs": [],
   "source": [
    "import warnings\n",
    "warnings.filterwarnings('ignore')"
   ]
  },
  {
   "cell_type": "code",
   "execution_count": 327,
   "id": "2e6c8adc",
   "metadata": {},
   "outputs": [],
   "source": [
    "import re\n",
    "\n",
    "def calc_similar_keys(s):\n",
    "    probability = {}\n",
    "#     text = ''\n",
    "#     for page in s[1:5]:\n",
    "#         if len(page) > 100:\n",
    "#             text += page\n",
    "    text = ' '.join(s[1:3])\n",
    "    text = text.replace('\\n\\n', '.')\n",
    "    text = text.replace('\\n',\"\").replace('\\t',\"\")\n",
    "#     print(len(text.split('.')))\n",
    "    for sent in text.split('.'):\n",
    "#         sent = re.sub(r'[^\\w\\se]', '', sent.lower().strip())\n",
    "        if len(sent) < 20:\n",
    "            continue\n",
    "        sent_vec = model_rob.encode(sent)\n",
    "        for row in pse_keys_ex_df.iterrows():\n",
    "            try:   \n",
    "                label = row[1]['label']\n",
    "                span = row[1]['span_vector']\n",
    "                span_text = row[1]['Text '].replace(\"\\n\", '').replace(\"\\t\", \"\")\n",
    "            except:\n",
    "                continue\n",
    "            if label not in probability:\n",
    "                probability[label] = [0, '', '']\n",
    "            sim_score = util.cos_sim(span, sent_vec)\n",
    "            if sim_score > probability[label][0]:\n",
    "                probability[label] = [sim_score, 'SENT: ' + sent, 'SPAN: ' + span_text]\n",
    "    if len(probability) == 0:\n",
    "        return []\n",
    "    return list(sorted(probability.items(), key=lambda kv: kv[1][0], reverse=True))\n",
    "        \n",
    "\n",
    "df_text_test = df_text #.sample(n=2, random_state=3)\n",
    "df_small_text['pse_keys_prob_founded'] = df_small_text['full_content'].apply(calc_similar_keys)"
   ]
  },
  {
   "cell_type": "code",
   "execution_count": 328,
   "id": "7383d1b7",
   "metadata": {},
   "outputs": [],
   "source": [
    "pd.set_option('display.max_colwidth', -1)"
   ]
  },
  {
   "cell_type": "code",
   "execution_count": 329,
   "id": "11bf8ee7",
   "metadata": {},
   "outputs": [],
   "source": [
    "# pd.set_option('display.max_rows', 50, 'display.max_columns', None)"
   ]
  },
  {
   "cell_type": "code",
   "execution_count": 330,
   "id": "cd4a6cd7",
   "metadata": {},
   "outputs": [],
   "source": [
    "i = 0\n",
    "df_small_text['pse_keys_prob_top_1_founded'] = df_small_text['pse_keys_prob_founded'].apply(select_top)\n",
    "i=1\n",
    "df_small_text['pse_keys_prob_top_2_founded'] = df_small_text['pse_keys_prob_founded'].apply(select_top)\n",
    "i=2\n",
    "df_small_text['pse_keys_prob_top_3_founded'] = df_small_text['pse_keys_prob_founded'].apply(select_top)"
   ]
  },
  {
   "cell_type": "code",
   "execution_count": 367,
   "id": "d14ca8e9",
   "metadata": {
    "scrolled": true
   },
   "outputs": [
    {
     "data": {
      "text/html": [
       "<div>\n",
       "<style scoped>\n",
       "    .dataframe tbody tr th:only-of-type {\n",
       "        vertical-align: middle;\n",
       "    }\n",
       "\n",
       "    .dataframe tbody tr th {\n",
       "        vertical-align: top;\n",
       "    }\n",
       "\n",
       "    .dataframe thead th {\n",
       "        text-align: right;\n",
       "    }\n",
       "</style>\n",
       "<table border=\"1\" class=\"dataframe\">\n",
       "  <thead>\n",
       "    <tr style=\"text-align: right;\">\n",
       "      <th></th>\n",
       "      <th>doc_name</th>\n",
       "      <th>PSE Key Values</th>\n",
       "      <th>pse_keys_prob_top_1_founded</th>\n",
       "      <th>pse_keys_prob_top_2_founded</th>\n",
       "      <th>pse_keys_prob_top_3_founded</th>\n",
       "    </tr>\n",
       "  </thead>\n",
       "  <tbody>\n",
       "    <tr>\n",
       "      <th>10</th>\n",
       "      <td>0000-MARGU-GLO.pkl</td>\n",
       "      <td>\"Innovation, Expertise, and Capabilities\"</td>\n",
       "      <td>(Efficiency and Effectiveness, [[tensor([0.6570])], SENT:   Pre-disaster instruments When it comes to major disasters, government intervention meant to restore the normal economic  and  social  situation  becomes  unavoidable, SPAN: it is also becoming recognised that the traditional, manual logistical system of aid provision is not always efficient or effective at addressing the real needs of households and communities affected by crisis])</td>\n",
       "      <td>(Scale, Sustainability, and Reach, [[tensor([0.6401])], SENT:   Such  a strategy should be based on the modelling of the following aspects: -the nationwide maping of the exposure to catastrophic risks  -preventive measures of short, medium and long range -the size of risk absorption on various levels: insurance market, municipalities, regions, , SPAN: further develop a risk management and response planning framework to address findings and recommendations from the reports])</td>\n",
       "      <td>(Flexibility and Pace, [[tensor([0.5906])], SENT:   Pre-disaster instruments When it comes to major disasters, government intervention meant to restore the normal economic  and  social  situation  becomes  unavoidable, SPAN: Private sectoractors are present before humanitarian crises occur and as crises unfold, and they are among the first part ofsociety to respond])</td>\n",
       "    </tr>\n",
       "    <tr>\n",
       "      <th>11</th>\n",
       "      <td>0000-NELSON-GLO.pkl</td>\n",
       "      <td>Ability to Influence Policy,Efficiency and Effectiveness,\"Innovation, Expertise, and Capabilities\"</td>\n",
       "      <td>(Scale, Sustainability, and Reach, [[tensor([0.7014])], SENT:  They can make valuable con-tributions to economic growth and development on top of the essential role played by a productive and diversiﬁ ed domestic private sector, SPAN: engaging the private sector can uniquely address and help to mitigate drivers of instability and conflict by creating jobs, providing essential goods, increasing financial inclusion, developing infrastructure, and promotingother forms of inclusive economic development])</td>\n",
       "      <td>(Ability to Influence Policy, [[tensor([0.6677])], SENT: Bilateral DonorsThe members of OECD’s Development Assistance Committee have employed a variety of new strate-gies, engagement models and ﬁ nancial and technical assistance facilities to promote private-sector devel-opment and to leverage private resources in efforts to meet the UN Millennium Development Goals and enhance humanitarian assistance, SPAN: Donors have provided policy support to developing country government])</td>\n",
       "      <td>(Efficiency and Effectiveness, [[tensor([0.6666])], SENT:  There is insufﬁ cient coordination and little shared learning on different donor strate-gies, modalities and instruments to engage with the private sector and to help overcome market failures, SPAN: For humanitarian organisations, in addition to the urge to improve the efficiencyof the response (timeliness and cost), key drivers for partnering with the private sector can include improving processes, enhancing effectiveness and relevance, improving operations, ])</td>\n",
       "    </tr>\n",
       "    <tr>\n",
       "      <th>12</th>\n",
       "      <td>0000-PETER-GLO.pkl</td>\n",
       "      <td>Efficiency and Effectiveness,Flexibility and Pace</td>\n",
       "      <td>(Scale, Sustainability, and Reach, [[tensor([0.6895])], SENT: Given the size of the funds involved and the nature of the related tasks, it is maybe somewhat surprising that there is  not  much  evidence  of  a  business  process  focus  by  the  humanitarian  community, SPAN: there is a lack of even the most basic information on the scale of subcontracting by humanitarian implementing partners as well as a lack of analyses of the risks and benefits of these engagements])</td>\n",
       "      <td>(Efficiency and Effectiveness, [[tensor([0.6895])], SENT: Given the size of the funds involved and the nature of the related tasks, it is maybe somewhat surprising that there is  not  much  evidence  of  a  business  process  focus  by  the  humanitarian  community, SPAN: there is a lack of even the most basic information on the scale of subcontracting by humanitarian implementing partners as well as a lack of analyses of the risks and benefits of these engagements])</td>\n",
       "      <td>(Innovation, Expertise, and Capabilities, [[tensor([0.6499])], SENT:   A  significant  response  effort  passes  through  international  non-government  organizations  such  as  the International  Rescue  Committee  (IRC)  [6],  Save  the  Children  International  [7]  and  World  Vision  International (WVI) [8], SPAN: volunteersfrom the Foundation have been mobilized in humanitariancrises and have offered their expertise to UNICEF accordingto the needs])</td>\n",
       "    </tr>\n",
       "    <tr>\n",
       "      <th>13</th>\n",
       "      <td>0100-Spear-GLO.pkl</td>\n",
       "      <td>\"Scale, Sustainability, and Reach\",Efficiency and Effectiveness</td>\n",
       "      <td>(Innovation, Expertise, and Capabilities, [[tensor([0.6413])], SENT: Securing Humanitarian  Spaces?, SPAN: Yet, as has been increasingly recognised, the people in need of protection, the communities themselves, frequently have skills, talents and networks that enable them to adapt and innovate in the face of humanitarian crisis])</td>\n",
       "      <td>(Efficiency and Effectiveness, [[tensor([0.6413])], SENT: Securing Humanitarian  Spaces?, SPAN: Yet, as has been increasingly recognised, the people in need of protection, the communities themselves, frequently have skills, talents and networks that enable them to adapt and innovate in the face of humanitarian crisis])</td>\n",
       "      <td>(Scale, Sustainability, and Reach, [[tensor([0.5940])], SENT: Little analysis, however, has been made of the impact of private security companies onthe  delivery  of  post-Cold  War  humanitarian  assistance, SPAN: there is a lack of even the most basic information on the scale of subcontracting by humanitarian implementing partners as well as a lack of analyses of the risks and benefits of these engagements])</td>\n",
       "    </tr>\n",
       "    <tr>\n",
       "      <th>14</th>\n",
       "      <td>0112-CARBO-GLO.pkl</td>\n",
       "      <td>Ability to Influence Policy,\"Scale, Sustainability, and Reach\"</td>\n",
       "      <td>(Innovation, Expertise, and Capabilities, [[tensor([0.7886])], SENT: Corporate responsibility and humanitarian action, SPAN: helped companies to assess humanitarian needsfirst-hand with diminished corporate risk])</td>\n",
       "      <td>(Efficiency and Effectiveness, [[tensor([0.7703])], SENT: This article looks at the rationale for developing relationsbetween the humanitarian and business worlds, SPAN: supporters of business engagement in humanitarian relief highlight the potential for making relief work more effective and efficient. They argue that business can bring value to humanitarian relief, including expertise, new technology and in some cases much-needed funds (Globalgivingmatters, 2005). Introducing greater competition into the humanitarian ‘marketplace’ could potentially reduce inefficiencies and increase value for money])</td>\n",
       "      <td>(Scale, Sustainability, and Reach, [[tensor([0.6496])], SENT:  why manycompanies are now seeking to engage in a dialogue with humanitarianorganizations, SPAN: there is a lack of even the most basic information on the scale of subcontracting by humanitarian implementing partners as well as a lack of analyses of the risks and benefits of these engagements])</td>\n",
       "    </tr>\n",
       "  </tbody>\n",
       "</table>\n",
       "</div>"
      ],
      "text/plain": [
       "               doc_name  \\\n",
       "10  0000-MARGU-GLO.pkl    \n",
       "11  0000-NELSON-GLO.pkl   \n",
       "12  0000-PETER-GLO.pkl    \n",
       "13  0100-Spear-GLO.pkl    \n",
       "14  0112-CARBO-GLO.pkl    \n",
       "\n",
       "                                                                                        PSE Key Values  \\\n",
       "10  \"Innovation, Expertise, and Capabilities\"                                                            \n",
       "11  Ability to Influence Policy,Efficiency and Effectiveness,\"Innovation, Expertise, and Capabilities\"   \n",
       "12  Efficiency and Effectiveness,Flexibility and Pace                                                    \n",
       "13  \"Scale, Sustainability, and Reach\",Efficiency and Effectiveness                                      \n",
       "14  Ability to Influence Policy,\"Scale, Sustainability, and Reach\"                                       \n",
       "\n",
       "                                                                                                                                                                                                                                                                                                                                                                                                                                                                                                  pse_keys_prob_top_1_founded  \\\n",
       "10  (Efficiency and Effectiveness, [[tensor([0.6570])], SENT:   Pre-disaster instruments When it comes to major disasters, government intervention meant to restore the normal economic  and  social  situation  becomes  unavoidable, SPAN: it is also becoming recognised that the traditional, manual logistical system of aid provision is not always efficient or effective at addressing the real needs of households and communities affected by crisis])                                                                \n",
       "11  (Scale, Sustainability, and Reach, [[tensor([0.7014])], SENT:  They can make valuable con-tributions to economic growth and development on top of the essential role played by a productive and diversiﬁ ed domestic private sector, SPAN: engaging the private sector can uniquely address and help to mitigate drivers of instability and conflict by creating jobs, providing essential goods, increasing financial inclusion, developing infrastructure, and promotingother forms of inclusive economic development])   \n",
       "12  (Scale, Sustainability, and Reach, [[tensor([0.6895])], SENT: Given the size of the funds involved and the nature of the related tasks, it is maybe somewhat surprising that there is  not  much  evidence  of  a  business  process  focus  by  the  humanitarian  community, SPAN: there is a lack of even the most basic information on the scale of subcontracting by humanitarian implementing partners as well as a lack of analyses of the risks and benefits of these engagements])                                 \n",
       "13  (Innovation, Expertise, and Capabilities, [[tensor([0.6413])], SENT: Securing Humanitarian  Spaces?, SPAN: Yet, as has been increasingly recognised, the people in need of protection, the communities themselves, frequently have skills, talents and networks that enable them to adapt and innovate in the face of humanitarian crisis])                                                                                                                                                                                 \n",
       "14  (Innovation, Expertise, and Capabilities, [[tensor([0.7886])], SENT: Corporate responsibility and humanitarian action, SPAN: helped companies to assess humanitarian needsfirst-hand with diminished corporate risk])                                                                                                                                                                                                                                                                                                       \n",
       "\n",
       "                                                                                                                                                                                                                                                                                                                                                                                                                                                                                                                                                                                                         pse_keys_prob_top_2_founded  \\\n",
       "10  (Scale, Sustainability, and Reach, [[tensor([0.6401])], SENT:   Such  a strategy should be based on the modelling of the following aspects: -the nationwide maping of the exposure to catastrophic risks  -preventive measures of short, medium and long range -the size of risk absorption on various levels: insurance market, municipalities, regions, , SPAN: further develop a risk management and response planning framework to address findings and recommendations from the reports])                                                                                                                                     \n",
       "11  (Ability to Influence Policy, [[tensor([0.6677])], SENT: Bilateral DonorsThe members of OECD’s Development Assistance Committee have employed a variety of new strate-gies, engagement models and ﬁ nancial and technical assistance facilities to promote private-sector devel-opment and to leverage private resources in efforts to meet the UN Millennium Development Goals and enhance humanitarian assistance, SPAN: Donors have provided policy support to developing country government])                                                                                                                                  \n",
       "12  (Efficiency and Effectiveness, [[tensor([0.6895])], SENT: Given the size of the funds involved and the nature of the related tasks, it is maybe somewhat surprising that there is  not  much  evidence  of  a  business  process  focus  by  the  humanitarian  community, SPAN: there is a lack of even the most basic information on the scale of subcontracting by humanitarian implementing partners as well as a lack of analyses of the risks and benefits of these engagements])                                                                                                                                            \n",
       "13  (Efficiency and Effectiveness, [[tensor([0.6413])], SENT: Securing Humanitarian  Spaces?, SPAN: Yet, as has been increasingly recognised, the people in need of protection, the communities themselves, frequently have skills, talents and networks that enable them to adapt and innovate in the face of humanitarian crisis])                                                                                                                                                                                                                                                                                                   \n",
       "14  (Efficiency and Effectiveness, [[tensor([0.7703])], SENT: This article looks at the rationale for developing relationsbetween the humanitarian and business worlds, SPAN: supporters of business engagement in humanitarian relief highlight the potential for making relief work more effective and efficient. They argue that business can bring value to humanitarian relief, including expertise, new technology and in some cases much-needed funds (Globalgivingmatters, 2005). Introducing greater competition into the humanitarian ‘marketplace’ could potentially reduce inefficiencies and increase value for money])   \n",
       "\n",
       "                                                                                                                                                                                                                                                                                                                                                                                                                                                                                                                      pse_keys_prob_top_3_founded  \n",
       "10  (Flexibility and Pace, [[tensor([0.5906])], SENT:   Pre-disaster instruments When it comes to major disasters, government intervention meant to restore the normal economic  and  social  situation  becomes  unavoidable, SPAN: Private sectoractors are present before humanitarian crises occur and as crises unfold, and they are among the first part ofsociety to respond])                                                                                                                                                              \n",
       "11  (Efficiency and Effectiveness, [[tensor([0.6666])], SENT:  There is insufﬁ cient coordination and little shared learning on different donor strate-gies, modalities and instruments to engage with the private sector and to help overcome market failures, SPAN: For humanitarian organisations, in addition to the urge to improve the efficiencyof the response (timeliness and cost), key drivers for partnering with the private sector can include improving processes, enhancing effectiveness and relevance, improving operations, ])  \n",
       "12  (Innovation, Expertise, and Capabilities, [[tensor([0.6499])], SENT:   A  significant  response  effort  passes  through  international  non-government  organizations  such  as  the International  Rescue  Committee  (IRC)  [6],  Save  the  Children  International  [7]  and  World  Vision  International (WVI) [8], SPAN: volunteersfrom the Foundation have been mobilized in humanitariancrises and have offered their expertise to UNICEF accordingto the needs])                                                                    \n",
       "13  (Scale, Sustainability, and Reach, [[tensor([0.5940])], SENT: Little analysis, however, has been made of the impact of private security companies onthe  delivery  of  post-Cold  War  humanitarian  assistance, SPAN: there is a lack of even the most basic information on the scale of subcontracting by humanitarian implementing partners as well as a lack of analyses of the risks and benefits of these engagements])                                                                                                                  \n",
       "14  (Scale, Sustainability, and Reach, [[tensor([0.6496])], SENT:  why manycompanies are now seeking to engage in a dialogue with humanitarianorganizations, SPAN: there is a lack of even the most basic information on the scale of subcontracting by humanitarian implementing partners as well as a lack of analyses of the risks and benefits of these engagements])                                                                                                                                                                          "
      ]
     },
     "execution_count": 367,
     "metadata": {},
     "output_type": "execute_result"
    }
   ],
   "source": [
    "df_small_text[['doc_name', 'PSE Key Values', 'pse_keys_prob_top_1_founded', 'pse_keys_prob_top_2_founded', 'pse_keys_prob_top_3_founded']].iloc[10:15] #.to_csv(\"tmp.csv\")"
   ]
  },
  {
   "cell_type": "code",
   "execution_count": 363,
   "id": "0593b25d",
   "metadata": {},
   "outputs": [],
   "source": [
    "true_ = 0\n",
    "all_ = 0\n",
    "for row in df_small_text[['doc_name', 'PSE Key Values', 'pse_keys_prob_top_1_founded', 'pse_keys_prob_top_2_founded', 'pse_keys_prob_top_3_founded']].iterrows(): #.to_csv(\"tmp.csv\")\n",
    "    if str(row[1]['PSE Key Values']) == 'nan':\n",
    "        continue\n",
    "    ways = row[1]['PSE Key Values'].split(',')\n",
    "\n",
    "    temp_true = 0\n",
    "    for way in ways:\n",
    "        if way in row[1]['pse_keys_prob_top_1_founded'] or way in row[1]['pse_keys_prob_top_2_founded'] or way in row[1]['pse_keys_prob_top_3_founded']:\n",
    "            temp_true = temp_true + 1\n",
    "    if temp_true == 3:\n",
    "        true_ += 3\n",
    "        all_ += 3\n",
    "    else:\n",
    "        true_ += temp_true\n",
    "        all_ += len(ways)"
   ]
  },
  {
   "cell_type": "code",
   "execution_count": 364,
   "id": "af544b58",
   "metadata": {},
   "outputs": [
    {
     "data": {
      "text/plain": [
       "93"
      ]
     },
     "execution_count": 364,
     "metadata": {},
     "output_type": "execute_result"
    }
   ],
   "source": [
    "true_"
   ]
  },
  {
   "cell_type": "code",
   "execution_count": 365,
   "id": "45c28e1a",
   "metadata": {},
   "outputs": [
    {
     "data": {
      "text/plain": [
       "702"
      ]
     },
     "execution_count": 365,
     "metadata": {},
     "output_type": "execute_result"
    }
   ],
   "source": [
    "all_"
   ]
  },
  {
   "cell_type": "code",
   "execution_count": 332,
   "id": "bae9f73d",
   "metadata": {
    "scrolled": false
   },
   "outputs": [],
   "source": [
    "# df_small_text[['doc_name', 'PSE Key Values', 'pse_keys_prob_founded']].iloc[0:3] #.to_csv(\"tmp.csv\")"
   ]
  },
  {
   "cell_type": "markdown",
   "id": "bb8a4c44",
   "metadata": {},
   "source": [
    "#### PSE Key Offers"
   ]
  },
  {
   "cell_type": "code",
   "execution_count": 294,
   "id": "1785c6dc",
   "metadata": {},
   "outputs": [
    {
     "data": {
      "text/plain": [
       "array(['PSE Key Values', 'Type of Document', 'PSE Ways We Engage',\n",
       "       'PSE Key Values USAID Offers', 'Private Sector Industry',\n",
       "       'Technical Sector', 'Key Recommendations ', 'Type of Enterprise',\n",
       "       'Key Findings ', 'PSE Values USAID Offers',\n",
       "       'Private Sector Industry ', 'Special Considerations',\n",
       "       'Key Findings', 'Key Recommedations', 'Key Recommendations',\n",
       "       'Type of Enterprise ', 'PSE Key Values ', 'USAID-funded? ',\n",
       "       'Document Type', 'Type Of Enterprise', 'Special Consideration',\n",
       "       'Special considerations', 'Technical Sector ',\n",
       "       'Private Sector Indsutry'], dtype=object)"
      ]
     },
     "execution_count": 294,
     "metadata": {},
     "output_type": "execute_result"
    }
   ],
   "source": [
    "spans_categories_doc_df['Category '].unique()"
   ]
  },
  {
   "cell_type": "code",
   "execution_count": 295,
   "id": "5b93cab9",
   "metadata": {},
   "outputs": [
    {
     "name": "stdout",
     "output_type": "stream",
     "text": [
      "(65, 7)\n"
     ]
    },
    {
     "data": {
      "text/html": [
       "<div>\n",
       "<style scoped>\n",
       "    .dataframe tbody tr th:only-of-type {\n",
       "        vertical-align: middle;\n",
       "    }\n",
       "\n",
       "    .dataframe tbody tr th {\n",
       "        vertical-align: top;\n",
       "    }\n",
       "\n",
       "    .dataframe thead th {\n",
       "        text-align: right;\n",
       "    }\n",
       "</style>\n",
       "<table border=\"1\" class=\"dataframe\">\n",
       "  <thead>\n",
       "    <tr style=\"text-align: right;\">\n",
       "      <th></th>\n",
       "      <th>Doc ID #</th>\n",
       "      <th>Pg</th>\n",
       "      <th>Text</th>\n",
       "      <th>Category</th>\n",
       "      <th>Label</th>\n",
       "      <th>in drop box?</th>\n",
       "      <th>Unnamed: 6</th>\n",
       "    </tr>\n",
       "  </thead>\n",
       "  <tbody>\n",
       "    <tr>\n",
       "      <th>3</th>\n",
       "      <td>0000-BOM-GLO</td>\n",
       "      <td>1</td>\n",
       "      <td>Recognizing the limited lifespan of any one project, MSD programmes chiefly target partnership and engagement with private- and public-sector actors to influence their behaviours and</td>\n",
       "      <td>PSE Key Values USAID Offers</td>\n",
       "      <td>Sectoral Expertise and Knowledge</td>\n",
       "      <td>NaN</td>\n",
       "      <td>NaN</td>\n",
       "    </tr>\n",
       "    <tr>\n",
       "      <th>4</th>\n",
       "      <td>0000-BOM-GLO</td>\n",
       "      <td>1</td>\n",
       "      <td>sustainably drive positive change beyond the period of the programme.</td>\n",
       "      <td>PSE Key Values USAID Offers</td>\n",
       "      <td>Support to Strengthen Enabling Environments</td>\n",
       "      <td>NaN</td>\n",
       "      <td>NaN</td>\n",
       "    </tr>\n",
       "    <tr>\n",
       "      <th>12</th>\n",
       "      <td>0000-BOURI-GLO</td>\n",
       "      <td>10</td>\n",
       "      <td>to effectively deploy more private capital into the space, investors need: Grant-based support in the early stages of setting up\\na new global health focused fund to facilitate talent search and fundraising</td>\n",
       "      <td>PSE Key Values USAID Offers</td>\n",
       "      <td>Risk-Mitigation and Flexible Authorities</td>\n",
       "      <td>NaN</td>\n",
       "      <td>NaN</td>\n",
       "    </tr>\n",
       "  </tbody>\n",
       "</table>\n",
       "</div>"
      ],
      "text/plain": [
       "          Doc ID #  Pg  \\\n",
       "3   0000-BOM-GLO    1    \n",
       "4   0000-BOM-GLO    1    \n",
       "12  0000-BOURI-GLO  10   \n",
       "\n",
       "                                                                                                                                                                                                             Text   \\\n",
       "3   Recognizing the limited lifespan of any one project, MSD programmes chiefly target partnership and engagement with private- and public-sector actors to influence their behaviours and                           \n",
       "4   sustainably drive positive change beyond the period of the programme.                                                                                                                                            \n",
       "12  to effectively deploy more private capital into the space, investors need: Grant-based support in the early stages of setting up\\na new global health focused fund to facilitate talent search and fundraising   \n",
       "\n",
       "                      Category                                        Label   \\\n",
       "3   PSE Key Values USAID Offers  Sectoral Expertise and Knowledge              \n",
       "4   PSE Key Values USAID Offers  Support to Strengthen Enabling Environments   \n",
       "12  PSE Key Values USAID Offers  Risk-Mitigation and Flexible Authorities      \n",
       "\n",
       "   in drop box?  Unnamed: 6  \n",
       "3   NaN           NaN        \n",
       "4   NaN           NaN        \n",
       "12  NaN           NaN        "
      ]
     },
     "execution_count": 295,
     "metadata": {},
     "output_type": "execute_result"
    }
   ],
   "source": [
    "pse_ways_offer_ex_df = spans_categories_doc_df[spans_categories_doc_df['Category '].isin(['PSE Key Values USAID Offers'])]\n",
    "print(pse_ways_offer_ex_df.shape)\n",
    "pse_ways_offer_ex_df.head(3)"
   ]
  },
  {
   "cell_type": "code",
   "execution_count": 296,
   "id": "1711c88d",
   "metadata": {},
   "outputs": [
    {
     "data": {
      "text/plain": [
       "Support to Strengthen Enabling Environments     21\n",
       "Strong In-Country Networks and Relationships    16\n",
       "Sectoral Expertise and Knowledge                11\n",
       "Risk-Mitigation and Flexible Authorities        8 \n",
       "Reputation and Credible Convening Power         4 \n",
       "Support to Strengthen Enabling Environment      2 \n",
       "Strong In-Country Networks                      1 \n",
       "Risk-Mitigation and Flexible Authorities        1 \n",
       "Strengthening the Enabling Environment          1 \n",
       "Name: Label , dtype: int64"
      ]
     },
     "execution_count": 296,
     "metadata": {},
     "output_type": "execute_result"
    }
   ],
   "source": [
    "pse_ways_offer_ex_df['Label '].value_counts()"
   ]
  },
  {
   "cell_type": "code",
   "execution_count": 298,
   "id": "f0bdfa1c",
   "metadata": {},
   "outputs": [
    {
     "data": {
      "text/plain": [
       "Support to Strengthen Enabling Environments     55\n",
       "Sectoral Expertise and Knowledge                33\n",
       "Strong In-Country Networks and Relationships    31\n",
       "Risk-Mitigation and Flexible Authorities        20\n",
       "Reputation and Credible Convening Power         9 \n",
       "dtype: int64"
      ]
     },
     "execution_count": 298,
     "metadata": {},
     "output_type": "execute_result"
    }
   ],
   "source": [
    "df_small_text['pse_ways_offer_labels'] = df_small_text['PSE Key Values USAID Offers'].str.split(',')\n",
    "nulls = df_small_text[pd.isnull(df_small_text['pse_ways_offer_labels'])]\n",
    "for i, ni in enumerate(nulls.index[:len(df_text)]):\n",
    "    df_small_text['pse_ways_offer_labels'].loc[ni] = []\n",
    "pd.Series([item for sublist in df_small_text['pse_ways_offer_labels'] for item in sublist]).value_counts()"
   ]
  },
  {
   "cell_type": "code",
   "execution_count": 299,
   "id": "076d3b85",
   "metadata": {},
   "outputs": [],
   "source": [
    "ways_offer_list = pd.Series([item for sublist in df_small_text['pse_ways_offer_labels'] for item in sublist]).value_counts().index"
   ]
  },
  {
   "cell_type": "code",
   "execution_count": 310,
   "id": "4652d4d0",
   "metadata": {},
   "outputs": [
    {
     "data": {
      "text/plain": [
       "Index(['Support to Strengthen Enabling Environments',\n",
       "       'Sectoral Expertise and Knowledge',\n",
       "       'Strong In-Country Networks and Relationships',\n",
       "       'Risk-Mitigation and Flexible Authorities',\n",
       "       'Reputation and Credible Convening Power'],\n",
       "      dtype='object')"
      ]
     },
     "execution_count": 310,
     "metadata": {},
     "output_type": "execute_result"
    }
   ],
   "source": [
    "ways_offer_list"
   ]
  },
  {
   "cell_type": "code",
   "execution_count": 301,
   "id": "efcc396e",
   "metadata": {},
   "outputs": [],
   "source": [
    "from sentence_transformers import SentenceTransformer, util\n",
    "model = SentenceTransformer('all-MiniLM-L6-v2')\n",
    "\n",
    "# #Sentences are encoded by calling model.encode()\n",
    "# emb1 = model.encode(\"This is a red cat with a hat.\")\n",
    "# emb2 = model.encode(\"Have you seen my red cat?\")\n",
    "\n",
    "# cos_sim = util.cos_sim(emb1, emb2)\n",
    "# print(\"Cosine-Similarity:\", cos_sim)"
   ]
  },
  {
   "cell_type": "code",
   "execution_count": 311,
   "id": "ee542ed3",
   "metadata": {},
   "outputs": [],
   "source": [
    "def find_the_closest_ways(s):\n",
    "    for way in ways_offer_list:\n",
    "        if s[:5] == way[:5]:\n",
    "            return way\n",
    "    return None\n",
    "\n",
    "def get_vector(s):\n",
    "    s = str(s).replace(\"\\n\", '').replace(\"\\t\", \"\")\n",
    "    span = model_rob.encode(s)\n",
    "    return span\n",
    "    \n",
    "pse_ways_offer_ex_df['label'] = pse_ways_offer_ex_df['Label '].apply(find_the_closest_ways)\n",
    "pse_ways_offer_ex_df['span_vector'] = pse_ways_offer_ex_df['Text '].apply(get_vector)"
   ]
  },
  {
   "cell_type": "code",
   "execution_count": 312,
   "id": "c77a1251",
   "metadata": {},
   "outputs": [
    {
     "data": {
      "text/html": [
       "<div>\n",
       "<style scoped>\n",
       "    .dataframe tbody tr th:only-of-type {\n",
       "        vertical-align: middle;\n",
       "    }\n",
       "\n",
       "    .dataframe tbody tr th {\n",
       "        vertical-align: top;\n",
       "    }\n",
       "\n",
       "    .dataframe thead th {\n",
       "        text-align: right;\n",
       "    }\n",
       "</style>\n",
       "<table border=\"1\" class=\"dataframe\">\n",
       "  <thead>\n",
       "    <tr style=\"text-align: right;\">\n",
       "      <th></th>\n",
       "      <th>Doc ID #</th>\n",
       "      <th>Pg</th>\n",
       "      <th>Text</th>\n",
       "      <th>Category</th>\n",
       "      <th>Label</th>\n",
       "      <th>in drop box?</th>\n",
       "      <th>Unnamed: 6</th>\n",
       "      <th>label</th>\n",
       "      <th>span_vector</th>\n",
       "    </tr>\n",
       "  </thead>\n",
       "  <tbody>\n",
       "    <tr>\n",
       "      <th>3</th>\n",
       "      <td>0000-BOM-GLO</td>\n",
       "      <td>1</td>\n",
       "      <td>Recognizing the limited lifespan of any one project, MSD programmes chiefly target partnership and engagement with private- and public-sector actors to influence their behaviours and</td>\n",
       "      <td>PSE Key Values USAID Offers</td>\n",
       "      <td>Sectoral Expertise and Knowledge</td>\n",
       "      <td>NaN</td>\n",
       "      <td>NaN</td>\n",
       "      <td>Sectoral Expertise and Knowledge</td>\n",
       "      <td>[-0.051220533, -0.033540837, 0.047293045, 0.021686487, 0.04849415, -0.04643686, -0.011942493, -0.0075688926, 0.022462156, -0.017835049, -0.070501134, 0.095982164, -0.00665668, -0.0037637993, -0.051736284, 0.02389213, -0.00038667867, -0.0270341, -0.0075056306, 0.026311757, -0.006361184, 0.017871901, 0.022079408, 0.032357536, -5.515586e-05, 0.036012955, 0.029117975, 0.01256586, 0.04500239, 0.02541332, 0.036416512, 0.0037479498, -0.0032538853, 0.0064202663, 0.03499426, 0.06745203, 0.010974638, -0.020452462, 0.0034757315, 0.029572079, 0.0714338, 0.080969505, -0.038281333, -0.009933381, -0.015098917, 0.019209685, -0.0579006, -0.014677859, -0.013363809, -0.0050658803, 0.048249576, -0.014866896, 0.0073647876, 0.008590507, 0.010758888, -0.041522503, -0.0004289522, 0.04992398, -0.032134052, -0.004843914, 0.071357705, 0.018949248, -0.02614576, -0.05668951, -0.032188337, 0.048227247, -0.021865197, 0.07985911, -0.02178438, -0.014453347, -0.0055264896, -0.014766282, -0.0088899685, -0.030170811, -0.038717363, 0.038260374, -0.026727647, -0.0857196, -0.053496, -0.021009676, -0.045270186, -0.07812077, -0.041459728, 0.035986394, 0.011001302, 0.09841827, 0.006464019, -0.035166297, -0.030245336, -0.0023809706, 0.03408109, -0.007007108, 0.017052272, 0.015898628, 0.0059068874, -0.041524928, 0.008822882, 0.02897693, 0.027886344, 0.01279299, ...]</td>\n",
       "    </tr>\n",
       "    <tr>\n",
       "      <th>4</th>\n",
       "      <td>0000-BOM-GLO</td>\n",
       "      <td>1</td>\n",
       "      <td>sustainably drive positive change beyond the period of the programme.</td>\n",
       "      <td>PSE Key Values USAID Offers</td>\n",
       "      <td>Support to Strengthen Enabling Environments</td>\n",
       "      <td>NaN</td>\n",
       "      <td>NaN</td>\n",
       "      <td>Support to Strengthen Enabling Environments</td>\n",
       "      <td>[0.012974141, 0.020225495, 0.00634205, 0.019443203, 0.030637955, -0.065954365, 0.006069908, -0.015698979, 0.023091719, 0.014342978, -0.004980444, 0.004457833, -0.015775863, -0.050873052, 0.063637175, -0.023636518, -0.02642567, 0.012575939, -0.017040972, 0.0091431495, -0.008689715, -0.030114343, 0.0045967125, 0.015950901, 0.05546468, 0.035941504, -0.013956857, 0.027250798, 0.039664224, -0.049023665, -0.011355477, -0.047908835, 0.031191582, 0.047393475, 0.045348156, 0.03968306, -0.0042735557, -0.016955424, 0.012477734, 0.03166373, 0.07421496, 0.034921456, -0.016398009, -0.04673044, -0.014552632, 0.004553035, -0.056723464, 0.011377141, 0.026602939, -0.039811607, 0.044922315, 2.8989974e-05, -0.026759503, 0.03367213, 0.027142672, -0.06297602, -0.045942377, 0.03602015, 0.017313268, 0.014547895, 0.055953693, -0.038141437, -0.03453124, -0.031020064, -0.046925113, 0.051888335, -0.022365695, 0.06048704, -0.022868201, 0.024591766, 0.053649317, 0.015936464, -0.022323597, 0.052036654, -0.03010183, -0.01641327, -0.0613762, -0.07774006, -0.055625852, -0.03236205, -0.006615764, -0.03627983, -0.0806584, 0.002659213, 0.011455122, 0.08867422, -0.021865567, -0.040797673, -0.030988287, -0.0342388, 0.03922586, 0.03541644, -0.03114885, 0.003725842, -0.0063563143, -0.04110281, 0.029304644, 0.008416504, 0.0060892925, -0.03797082, ...]</td>\n",
       "    </tr>\n",
       "  </tbody>\n",
       "</table>\n",
       "</div>"
      ],
      "text/plain": [
       "       Doc ID # Pg  \\\n",
       "3  0000-BOM-GLO  1   \n",
       "4  0000-BOM-GLO  1   \n",
       "\n",
       "                                                                                                                                                                                     Text   \\\n",
       "3  Recognizing the limited lifespan of any one project, MSD programmes chiefly target partnership and engagement with private- and public-sector actors to influence their behaviours and    \n",
       "4  sustainably drive positive change beyond the period of the programme.                                                                                                                     \n",
       "\n",
       "                     Category                                        Label   \\\n",
       "3  PSE Key Values USAID Offers  Sectoral Expertise and Knowledge              \n",
       "4  PSE Key Values USAID Offers  Support to Strengthen Enabling Environments   \n",
       "\n",
       "  in drop box?  Unnamed: 6                                        label  \\\n",
       "3  NaN           NaN        Sectoral Expertise and Knowledge              \n",
       "4  NaN           NaN        Support to Strengthen Enabling Environments   \n",
       "\n",
       "                                                                                                                                                                                                                                                                                                                                                                                                                                                                                                                                                                                                                                                                                                                                                                                                                                                                                                                                                                                                                                                                                                                                                                                                                                                                                                                                                                                        span_vector  \n",
       "3  [-0.051220533, -0.033540837, 0.047293045, 0.021686487, 0.04849415, -0.04643686, -0.011942493, -0.0075688926, 0.022462156, -0.017835049, -0.070501134, 0.095982164, -0.00665668, -0.0037637993, -0.051736284, 0.02389213, -0.00038667867, -0.0270341, -0.0075056306, 0.026311757, -0.006361184, 0.017871901, 0.022079408, 0.032357536, -5.515586e-05, 0.036012955, 0.029117975, 0.01256586, 0.04500239, 0.02541332, 0.036416512, 0.0037479498, -0.0032538853, 0.0064202663, 0.03499426, 0.06745203, 0.010974638, -0.020452462, 0.0034757315, 0.029572079, 0.0714338, 0.080969505, -0.038281333, -0.009933381, -0.015098917, 0.019209685, -0.0579006, -0.014677859, -0.013363809, -0.0050658803, 0.048249576, -0.014866896, 0.0073647876, 0.008590507, 0.010758888, -0.041522503, -0.0004289522, 0.04992398, -0.032134052, -0.004843914, 0.071357705, 0.018949248, -0.02614576, -0.05668951, -0.032188337, 0.048227247, -0.021865197, 0.07985911, -0.02178438, -0.014453347, -0.0055264896, -0.014766282, -0.0088899685, -0.030170811, -0.038717363, 0.038260374, -0.026727647, -0.0857196, -0.053496, -0.021009676, -0.045270186, -0.07812077, -0.041459728, 0.035986394, 0.011001302, 0.09841827, 0.006464019, -0.035166297, -0.030245336, -0.0023809706, 0.03408109, -0.007007108, 0.017052272, 0.015898628, 0.0059068874, -0.041524928, 0.008822882, 0.02897693, 0.027886344, 0.01279299, ...]  \n",
       "4  [0.012974141, 0.020225495, 0.00634205, 0.019443203, 0.030637955, -0.065954365, 0.006069908, -0.015698979, 0.023091719, 0.014342978, -0.004980444, 0.004457833, -0.015775863, -0.050873052, 0.063637175, -0.023636518, -0.02642567, 0.012575939, -0.017040972, 0.0091431495, -0.008689715, -0.030114343, 0.0045967125, 0.015950901, 0.05546468, 0.035941504, -0.013956857, 0.027250798, 0.039664224, -0.049023665, -0.011355477, -0.047908835, 0.031191582, 0.047393475, 0.045348156, 0.03968306, -0.0042735557, -0.016955424, 0.012477734, 0.03166373, 0.07421496, 0.034921456, -0.016398009, -0.04673044, -0.014552632, 0.004553035, -0.056723464, 0.011377141, 0.026602939, -0.039811607, 0.044922315, 2.8989974e-05, -0.026759503, 0.03367213, 0.027142672, -0.06297602, -0.045942377, 0.03602015, 0.017313268, 0.014547895, 0.055953693, -0.038141437, -0.03453124, -0.031020064, -0.046925113, 0.051888335, -0.022365695, 0.06048704, -0.022868201, 0.024591766, 0.053649317, 0.015936464, -0.022323597, 0.052036654, -0.03010183, -0.01641327, -0.0613762, -0.07774006, -0.055625852, -0.03236205, -0.006615764, -0.03627983, -0.0806584, 0.002659213, 0.011455122, 0.08867422, -0.021865567, -0.040797673, -0.030988287, -0.0342388, 0.03922586, 0.03541644, -0.03114885, 0.003725842, -0.0063563143, -0.04110281, 0.029304644, 0.008416504, 0.0060892925, -0.03797082, ...]               "
      ]
     },
     "execution_count": 312,
     "metadata": {},
     "output_type": "execute_result"
    }
   ],
   "source": [
    "pse_ways_offer_ex_df.head(2)"
   ]
  },
  {
   "cell_type": "code",
   "execution_count": 313,
   "id": "a0ea050f",
   "metadata": {},
   "outputs": [],
   "source": [
    "import warnings\n",
    "warnings.filterwarnings('ignore')"
   ]
  },
  {
   "cell_type": "code",
   "execution_count": 314,
   "id": "f87b5639",
   "metadata": {},
   "outputs": [],
   "source": [
    "model_v12 = SentenceTransformer('all-MiniLM-L12-v2')"
   ]
  },
  {
   "cell_type": "code",
   "execution_count": 333,
   "id": "09435b7f",
   "metadata": {},
   "outputs": [
    {
     "name": "stdout",
     "output_type": "stream",
     "text": [
      "38\n",
      "120\n",
      "68\n",
      "100\n",
      "100\n",
      "57\n",
      "118\n",
      "50\n",
      "56\n",
      "2891\n",
      "72\n",
      "70\n",
      "72\n",
      "41\n",
      "59\n",
      "52\n",
      "7\n",
      "90\n",
      "120\n",
      "120\n",
      "99\n",
      "31\n",
      "135\n",
      "67\n",
      "48\n",
      "23\n",
      "1414\n",
      "209\n",
      "209\n",
      "41\n",
      "41\n",
      "117\n",
      "3069\n",
      "46\n",
      "1280\n",
      "2188\n",
      "87\n",
      "73\n",
      "137\n",
      "29\n",
      "119\n",
      "33\n",
      "60\n",
      "66\n",
      "63\n",
      "63\n",
      "74\n",
      "194\n",
      "2\n",
      "104\n",
      "1474\n",
      "70\n",
      "29\n",
      "44\n",
      "28\n",
      "94\n",
      "3\n",
      "27\n",
      "27\n",
      "129\n",
      "6394\n",
      "37\n",
      "50\n",
      "55\n",
      "2\n",
      "46\n",
      "1682\n",
      "39\n",
      "148\n",
      "33\n",
      "3263\n",
      "154\n",
      "57\n",
      "77\n",
      "28\n",
      "47\n",
      "25\n",
      "36\n",
      "151\n",
      "44\n",
      "52\n",
      "4\n",
      "83\n",
      "84\n",
      "4183\n",
      "41\n",
      "67\n",
      "40\n",
      "62\n",
      "4099\n",
      "47\n",
      "32\n",
      "98\n",
      "61\n",
      "53\n",
      "1\n",
      "97\n",
      "71\n",
      "182\n",
      "34\n",
      "38\n",
      "50\n",
      "38\n",
      "102\n",
      "41\n",
      "3905\n",
      "47\n",
      "33\n",
      "1219\n",
      "14\n",
      "19\n",
      "53\n",
      "43\n",
      "68\n",
      "94\n",
      "2661\n",
      "90\n",
      "350\n",
      "74\n",
      "42\n",
      "82\n",
      "88\n",
      "44\n",
      "57\n",
      "4477\n",
      "64\n",
      "127\n",
      "1791\n",
      "2947\n",
      "90\n",
      "61\n",
      "6\n",
      "64\n",
      "25\n",
      "40\n",
      "35\n",
      "87\n",
      "36\n",
      "64\n",
      "72\n",
      "126\n",
      "42\n",
      "57\n",
      "28\n",
      "38\n",
      "216\n",
      "23\n",
      "20\n",
      "35\n",
      "81\n",
      "174\n",
      "89\n",
      "52\n",
      "3235\n",
      "781\n",
      "83\n",
      "3539\n",
      "160\n",
      "953\n",
      "72\n",
      "2525\n",
      "48\n",
      "47\n"
     ]
    }
   ],
   "source": [
    "import re\n",
    "from ast import literal_eval\n",
    "\n",
    "def calc_similar_doc_type(s):\n",
    "    probability = {}\n",
    "    text = ' '.join(s[1:3])\n",
    "    text = text.replace('\\n\\n', '.')\n",
    "    text = text.replace('\\n',\"\").replace('\\t',\"\")\n",
    "    print(len(text.split('.')))\n",
    "    for sent in text.split('.'):\n",
    "#         sent = re.sub(r'[^\\w\\se]', '', sent.lower().strip())\n",
    "        if len(sent) < 20:\n",
    "            continue\n",
    "        sent_vec = model_rob.encode(sent)\n",
    "        for row in pse_ways_offer_ex_df.iterrows():\n",
    "            try:   \n",
    "                label = row[1]['label']\n",
    "                span = row[1]['span_vector']\n",
    "                span_text = row[1]['Text '].replace(\"\\n\", '').replace(\"\\t\", \"\")\n",
    "            except:\n",
    "                continue\n",
    "            if label not in probability:\n",
    "                probability[label] = [0, '', '']\n",
    "            sim_score = util.cos_sim(span, sent_vec)\n",
    "            if sim_score > probability[label][0]:\n",
    "                probability[label] = [sim_score, 'SENT: ' + sent, 'SPAN: ' + span_text]\n",
    "    if len(probability) == 0:\n",
    "        return []\n",
    "    return list(sorted(probability.items(), key=lambda kv: kv[1][0], reverse=True))\n",
    "        \n",
    "\n",
    "df_text_test = df_small_text #.sample(n=2, random_state=3)\n",
    "df_small_text['pse_ways_offer_prob_founded'] = df_small_text['full_content'].apply(calc_similar_doc_type)"
   ]
  },
  {
   "cell_type": "code",
   "execution_count": 334,
   "id": "de013406",
   "metadata": {},
   "outputs": [],
   "source": [
    "# pd.set_option('display.max_colwidth', -1)"
   ]
  },
  {
   "cell_type": "code",
   "execution_count": 335,
   "id": "d205e825",
   "metadata": {},
   "outputs": [],
   "source": [
    "i = 0\n",
    "df_small_text['pse_ways_offer_prob_top_1_founded'] = df_small_text['pse_ways_offer_prob_founded'].apply(select_top)\n",
    "i=1\n",
    "df_small_text['pse_ways_offer_prob_top_2_founded'] = df_small_text['pse_ways_offer_prob_founded'].apply(select_top)\n",
    "i=2\n",
    "df_small_text['pse_ways_offer_prob_top_3_founded'] = df_small_text['pse_ways_offer_prob_founded'].apply(select_top)"
   ]
  },
  {
   "cell_type": "code",
   "execution_count": 336,
   "id": "99151149",
   "metadata": {
    "scrolled": true
   },
   "outputs": [
    {
     "data": {
      "text/html": [
       "<div>\n",
       "<style scoped>\n",
       "    .dataframe tbody tr th:only-of-type {\n",
       "        vertical-align: middle;\n",
       "    }\n",
       "\n",
       "    .dataframe tbody tr th {\n",
       "        vertical-align: top;\n",
       "    }\n",
       "\n",
       "    .dataframe thead th {\n",
       "        text-align: right;\n",
       "    }\n",
       "</style>\n",
       "<table border=\"1\" class=\"dataframe\">\n",
       "  <thead>\n",
       "    <tr style=\"text-align: right;\">\n",
       "      <th></th>\n",
       "      <th>doc_name</th>\n",
       "      <th>PSE Key Values USAID Offers</th>\n",
       "      <th>pse_ways_offer_prob_top_1_founded</th>\n",
       "      <th>pse_ways_offer_prob_top_2_founded</th>\n",
       "      <th>pse_ways_offer_prob_top_3_founded</th>\n",
       "    </tr>\n",
       "  </thead>\n",
       "  <tbody>\n",
       "    <tr>\n",
       "      <th>0</th>\n",
       "      <td>0000-BOURI-GLO.pkl</td>\n",
       "      <td>Risk-Mitigation and Flexible Authorities,Sectoral Expertise and Knowledge</td>\n",
       "      <td>(Risk-Mitigation and Flexible Authorities, [[tensor([0.6725])], SENT: gov/cii We are delighted to present Unleashing Private Capital for Global Health Innovation - Innovator and Investor Support Opportunities, a report outlining the need for catalyzing private capital for global health innovations and several transformative partnerships that could help us meet the health-related Sustainable Development Goals by 2030, SPAN: to effectively deploy more private capital into the space, investors need: Grant-based support in the early stages of setting upa new global health focused fund to facilitate talent search and fundraising])</td>\n",
       "      <td>(Sectoral Expertise and Knowledge, [[tensor([0.5602])], SENT:  We are especially grateful to our esteemed group of Advisors who helped to shape and provide invaluable input to this work, SPAN: A network of advisors would also be curated to help augment investor sourcing and diligence])</td>\n",
       "      <td>(Strong In-Country Networks and Relationships, [[tensor([0.5548])], SENT: USAID would like to thank our team of advisors and experts for their invaluable input into  , SPAN: USAID can bring the most value to the local private sector in FCS by helping these actors to develop market linkages,to foster trusted relationships with other market actors, and to connect suppliers with providers.])</td>\n",
       "    </tr>\n",
       "    <tr>\n",
       "      <th>1</th>\n",
       "      <td>0000-CARBO-GLO.pkl</td>\n",
       "      <td>Risk-Mitigation and Flexible Authorities</td>\n",
       "      <td>(Risk-Mitigation and Flexible Authorities, [[tensor([0.6369])], SENT:  As will be shown later, systematic recourse to private sector management approaches and methods that have proved their worth in the case of commercial activities may turn out to be counterproductive when applied to complex social phenomena such as peace processes or the rebuilding of societies disrupted by war, SPAN: private sector organizations can drive relationships with government to reduce risk of disruption])</td>\n",
       "      <td>(Support to Strengthen Enabling Environments, [[tensor([0.6078])], SENT:  As will be shown later, systematic recourse to private sector management approaches and methods that have proved their worth in the case of commercial activities may turn out to be counterproductive when applied to complex social phenomena such as peace processes or the rebuilding of societies disrupted by war, SPAN: through P3s, private sector organizations can drive relationships with government...to achieve resilience])</td>\n",
       "      <td>(Strong In-Country Networks and Relationships, [[tensor([0.5994])], SENT:   To understand the rationale for privatisation and outsourcing in contemporary humanitarian emergencies, it is useful to review key developments over the past two decades, SPAN: by engaging in humanitarian relief efforts corporations have the chance to enter new markets, train employees under extreme circumstances, boost employee morale, put their instruments and standardoperating procedure to the test and improve their relationship with state and civil society actors])</td>\n",
       "    </tr>\n",
       "    <tr>\n",
       "      <th>2</th>\n",
       "      <td>0000-ELAN-PHL.pkl</td>\n",
       "      <td>Sectoral Expertise and Knowledge</td>\n",
       "      <td>(Sectoral Expertise and Knowledge, [[tensor([0.9354])], SENT:  In 2016, humanitarian organizations launched a large humanitarian response to assist arriving South Sudanese refugees, including cash transfer programs initiated by several major aid organizations, SPAN: humanitarian organizations launched a large humanitarian response to assist arriving South Sudanese refugees, including cash transfer programs initiated by several major aid organizations])</td>\n",
       "      <td>(Strong In-Country Networks and Relationships, [[tensor([0.7402])], SENT:  Many of these programs are using mobile money to deliver cash to refugees, SPAN: likely encouraged refugee and Ugandan clients to use mechanisms other than mobile money for routine transfers, potentially impacting revenue])</td>\n",
       "      <td>(Support to Strengthen Enabling Environments, [[tensor([0.6407])], SENT:  In 2016, humanitarian organizations launched a large humanitarian response to assist arriving South Sudanese refugees, including cash transfer programs initiated by several major aid organizations, SPAN: A further impediment to growing the humanitarian–private sector relationship for emergency cash transfers is the shortage of cash donations from donors and the continuing supply-side availability of food commodities. The United States Agency for International Development (USAID), which, along with DFID, the European Community Humanitarian Office (ECHO) and the Swiss Agency for Development and Cooperation (SDC), has been leading donor efforts to enhance the use of cash and vouchers in Kenya –])</td>\n",
       "    </tr>\n",
       "  </tbody>\n",
       "</table>\n",
       "</div>"
      ],
      "text/plain": [
       "             doc_name  \\\n",
       "0  0000-BOURI-GLO.pkl   \n",
       "1  0000-CARBO-GLO.pkl   \n",
       "2  0000-ELAN-PHL.pkl    \n",
       "\n",
       "                                                 PSE Key Values USAID Offers  \\\n",
       "0  Risk-Mitigation and Flexible Authorities,Sectoral Expertise and Knowledge   \n",
       "1  Risk-Mitigation and Flexible Authorities                                    \n",
       "2  Sectoral Expertise and Knowledge                                            \n",
       "\n",
       "                                                                                                                                                                                                                                                                                                                                                                                                                                                                                                                                                                                                                           pse_ways_offer_prob_top_1_founded  \\\n",
       "0  (Risk-Mitigation and Flexible Authorities, [[tensor([0.6725])], SENT: gov/cii We are delighted to present Unleashing Private Capital for Global Health Innovation - Innovator and Investor Support Opportunities, a report outlining the need for catalyzing private capital for global health innovations and several transformative partnerships that could help us meet the health-related Sustainable Development Goals by 2030, SPAN: to effectively deploy more private capital into the space, investors need: Grant-based support in the early stages of setting upa new global health focused fund to facilitate talent search and fundraising])   \n",
       "1  (Risk-Mitigation and Flexible Authorities, [[tensor([0.6369])], SENT:  As will be shown later, systematic recourse to private sector management approaches and methods that have proved their worth in the case of commercial activities may turn out to be counterproductive when applied to complex social phenomena such as peace processes or the rebuilding of societies disrupted by war, SPAN: private sector organizations can drive relationships with government to reduce risk of disruption])                                                                                                                                                   \n",
       "2  (Sectoral Expertise and Knowledge, [[tensor([0.9354])], SENT:  In 2016, humanitarian organizations launched a large humanitarian response to assist arriving South Sudanese refugees, including cash transfer programs initiated by several major aid organizations, SPAN: humanitarian organizations launched a large humanitarian response to assist arriving South Sudanese refugees, including cash transfer programs initiated by several major aid organizations])                                                                                                                                                                                    \n",
       "\n",
       "                                                                                                                                                                                                                                                                                                                                                                                                                                                                                      pse_ways_offer_prob_top_2_founded  \\\n",
       "0  (Sectoral Expertise and Knowledge, [[tensor([0.5602])], SENT:  We are especially grateful to our esteemed group of Advisors who helped to shape and provide invaluable input to this work, SPAN: A network of advisors would also be curated to help augment investor sourcing and diligence])                                                                                                                                                                                                                         \n",
       "1  (Support to Strengthen Enabling Environments, [[tensor([0.6078])], SENT:  As will be shown later, systematic recourse to private sector management approaches and methods that have proved their worth in the case of commercial activities may turn out to be counterproductive when applied to complex social phenomena such as peace processes or the rebuilding of societies disrupted by war, SPAN: through P3s, private sector organizations can drive relationships with government...to achieve resilience])   \n",
       "2  (Strong In-Country Networks and Relationships, [[tensor([0.7402])], SENT:  Many of these programs are using mobile money to deliver cash to refugees, SPAN: likely encouraged refugee and Ugandan clients to use mechanisms other than mobile money for routine transfers, potentially impacting revenue])                                                                                                                                                                                                             \n",
       "\n",
       "                                                                                                                                                                                                                                                                                                                                                                                                                                                                                                                                                                                                                                                                                                                                                                          pse_ways_offer_prob_top_3_founded  \n",
       "0  (Strong In-Country Networks and Relationships, [[tensor([0.5548])], SENT: USAID would like to thank our team of advisors and experts for their invaluable input into  , SPAN: USAID can bring the most value to the local private sector in FCS by helping these actors to develop market linkages,to foster trusted relationships with other market actors, and to connect suppliers with providers.])                                                                                                                                                                                                                                                                                                                                                                                                   \n",
       "1  (Strong In-Country Networks and Relationships, [[tensor([0.5994])], SENT:   To understand the rationale for privatisation and outsourcing in contemporary humanitarian emergencies, it is useful to review key developments over the past two decades, SPAN: by engaging in humanitarian relief efforts corporations have the chance to enter new markets, train employees under extreme circumstances, boost employee morale, put their instruments and standardoperating procedure to the test and improve their relationship with state and civil society actors])                                                                                                                                                                                                                                     \n",
       "2  (Support to Strengthen Enabling Environments, [[tensor([0.6407])], SENT:  In 2016, humanitarian organizations launched a large humanitarian response to assist arriving South Sudanese refugees, including cash transfer programs initiated by several major aid organizations, SPAN: A further impediment to growing the humanitarian–private sector relationship for emergency cash transfers is the shortage of cash donations from donors and the continuing supply-side availability of food commodities. The United States Agency for International Development (USAID), which, along with DFID, the European Community Humanitarian Office (ECHO) and the Swiss Agency for Development and Cooperation (SDC), has been leading donor efforts to enhance the use of cash and vouchers in Kenya –])  "
      ]
     },
     "execution_count": 336,
     "metadata": {},
     "output_type": "execute_result"
    }
   ],
   "source": [
    "df_small_text[['doc_name', 'PSE Key Values USAID Offers', 'pse_ways_offer_prob_top_1_founded', 'pse_ways_offer_prob_top_2_founded', 'pse_ways_offer_prob_top_3_founded']].iloc[:3]"
   ]
  },
  {
   "cell_type": "code",
   "execution_count": 368,
   "id": "263f4721",
   "metadata": {
    "scrolled": true
   },
   "outputs": [],
   "source": [
    "# df_small_text[['doc_name', 'PSE Key Values USAID Offers', 'pse_ways_offer_prob_top_1_founded', 'pse_ways_offer_prob_top_2_founded', 'pse_ways_offer_prob_top_3_founded']].iloc[:3]\n",
    "true_ = 0\n",
    "all_ = 0\n",
    "for row in df_small_text[['doc_name', 'PSE Key Values USAID Offers', 'pse_ways_offer_prob_top_1_founded', 'pse_ways_offer_prob_top_2_founded', 'pse_ways_offer_prob_top_3_founded']].iterrows():\n",
    "    if str(row[1]['PSE Key Values USAID Offers']) == 'nan':\n",
    "        continue\n",
    "    ways = row[1]['PSE Key Values USAID Offers'].split(',')\n",
    "    \n",
    "    temp_true = 0\n",
    "    for way in ways:\n",
    "        if way in row[1]['pse_ways_offer_prob_top_1_founded'] or way in row[1]['pse_ways_offer_prob_top_2_founded'] or way in row[1]['pse_ways_offer_prob_top_3_founded']:\n",
    "            temp_true = temp_true + 1\n",
    "    if temp_true == 3:\n",
    "        true_ += 3\n",
    "        all_ += 3\n",
    "    else:\n",
    "        true_ += temp_true\n",
    "        all_ += len(ways)"
   ]
  },
  {
   "cell_type": "code",
   "execution_count": 369,
   "id": "aa251398",
   "metadata": {},
   "outputs": [
    {
     "data": {
      "text/plain": [
       "102"
      ]
     },
     "execution_count": 369,
     "metadata": {},
     "output_type": "execute_result"
    }
   ],
   "source": [
    "true_"
   ]
  },
  {
   "cell_type": "code",
   "execution_count": 370,
   "id": "ffdea3fe",
   "metadata": {},
   "outputs": [
    {
     "data": {
      "text/plain": [
       "215"
      ]
     },
     "execution_count": 370,
     "metadata": {},
     "output_type": "execute_result"
    }
   ],
   "source": [
    "all_"
   ]
  },
  {
   "cell_type": "code",
   "execution_count": 193,
   "id": "36ef009e",
   "metadata": {
    "scrolled": false
   },
   "outputs": [
    {
     "data": {
      "text/html": [
       "<div>\n",
       "<style scoped>\n",
       "    .dataframe tbody tr th:only-of-type {\n",
       "        vertical-align: middle;\n",
       "    }\n",
       "\n",
       "    .dataframe tbody tr th {\n",
       "        vertical-align: top;\n",
       "    }\n",
       "\n",
       "    .dataframe thead th {\n",
       "        text-align: right;\n",
       "    }\n",
       "</style>\n",
       "<table border=\"1\" class=\"dataframe\">\n",
       "  <thead>\n",
       "    <tr style=\"text-align: right;\">\n",
       "      <th></th>\n",
       "      <th>doc_name</th>\n",
       "      <th>PSE Key Values USAID Offers</th>\n",
       "      <th>pse_ways_offer_prob_founded</th>\n",
       "    </tr>\n",
       "  </thead>\n",
       "  <tbody>\n",
       "    <tr>\n",
       "      <th>0</th>\n",
       "      <td>0000-BOURI-GLO.pkl</td>\n",
       "      <td>Risk-Mitigation and Flexible Authorities,Secto...</td>\n",
       "      <td>[(None, [tensor([[0.6683]]), Unleashing Privat...</td>\n",
       "    </tr>\n",
       "    <tr>\n",
       "      <th>1</th>\n",
       "      <td>0000-CARBO-GLO.pkl</td>\n",
       "      <td>Risk-Mitigation and Flexible Authorities</td>\n",
       "      <td>[(None, [tensor([[0.6083]]),  Bent on efficien...</td>\n",
       "    </tr>\n",
       "    <tr>\n",
       "      <th>2</th>\n",
       "      <td>0000-ELAN-PHL.pkl</td>\n",
       "      <td>Sectoral Expertise and Knowledge</td>\n",
       "      <td>[(None, [tensor([[0.9510]]),  In 2016, humanit...</td>\n",
       "    </tr>\n",
       "    <tr>\n",
       "      <th>3</th>\n",
       "      <td>0000-GURUN-GLO.pkl</td>\n",
       "      <td>NaN</td>\n",
       "      <td>[(None, [tensor([[0.7677]]), ly/2yLeSKb 13 Har...</td>\n",
       "    </tr>\n",
       "    <tr>\n",
       "      <th>4</th>\n",
       "      <td>0000-GURUN-GLO.pkl</td>\n",
       "      <td>NaN</td>\n",
       "      <td>[(None, [tensor([[0.7677]]), ly/2yLeSKb 13 Har...</td>\n",
       "    </tr>\n",
       "    <tr>\n",
       "      <th>...</th>\n",
       "      <td>...</td>\n",
       "      <td>...</td>\n",
       "      <td>...</td>\n",
       "    </tr>\n",
       "    <tr>\n",
       "      <th>158</th>\n",
       "      <td>2109-BRITO-CLO.pkl</td>\n",
       "      <td>Support to Strengthen Enabling Environments,Ri...</td>\n",
       "      <td>[(None, [tensor([[0.6548]]),    Acknowledgemen...</td>\n",
       "    </tr>\n",
       "    <tr>\n",
       "      <th>159</th>\n",
       "      <td>2109-Cozzo-GLO.pkl</td>\n",
       "      <td>NaN</td>\n",
       "      <td>[(None, [tensor([[0.7237]]),  Theinvolvement o...</td>\n",
       "    </tr>\n",
       "    <tr>\n",
       "      <th>160</th>\n",
       "      <td>2109-MAOR-GLO.pkl</td>\n",
       "      <td>Strong In-Country Networks and Relationships,R...</td>\n",
       "      <td>[(None, [tensor([[0.6572]]), The Feed the Futu...</td>\n",
       "    </tr>\n",
       "    <tr>\n",
       "      <th>161</th>\n",
       "      <td>2110-CBI-GLO.pkl</td>\n",
       "      <td>NaN</td>\n",
       "      <td>[(None, [tensor([[0.7044]]),  Coordination bet...</td>\n",
       "    </tr>\n",
       "    <tr>\n",
       "      <th>162</th>\n",
       "      <td>2110-OCHA-PHL.pkl</td>\n",
       "      <td>Strong In-Country Networks and Relationships</td>\n",
       "      <td>[(None, [tensor([[0.6142]]),   It is critical ...</td>\n",
       "    </tr>\n",
       "  </tbody>\n",
       "</table>\n",
       "<p>163 rows × 3 columns</p>\n",
       "</div>"
      ],
      "text/plain": [
       "               doc_name                        PSE Key Values USAID Offers  \\\n",
       "0    0000-BOURI-GLO.pkl  Risk-Mitigation and Flexible Authorities,Secto...   \n",
       "1    0000-CARBO-GLO.pkl           Risk-Mitigation and Flexible Authorities   \n",
       "2     0000-ELAN-PHL.pkl                   Sectoral Expertise and Knowledge   \n",
       "3    0000-GURUN-GLO.pkl                                                NaN   \n",
       "4    0000-GURUN-GLO.pkl                                                NaN   \n",
       "..                  ...                                                ...   \n",
       "158  2109-BRITO-CLO.pkl  Support to Strengthen Enabling Environments,Ri...   \n",
       "159  2109-Cozzo-GLO.pkl                                                NaN   \n",
       "160   2109-MAOR-GLO.pkl  Strong In-Country Networks and Relationships,R...   \n",
       "161    2110-CBI-GLO.pkl                                                NaN   \n",
       "162   2110-OCHA-PHL.pkl       Strong In-Country Networks and Relationships   \n",
       "\n",
       "                           pse_ways_offer_prob_founded  \n",
       "0    [(None, [tensor([[0.6683]]), Unleashing Privat...  \n",
       "1    [(None, [tensor([[0.6083]]),  Bent on efficien...  \n",
       "2    [(None, [tensor([[0.9510]]),  In 2016, humanit...  \n",
       "3    [(None, [tensor([[0.7677]]), ly/2yLeSKb 13 Har...  \n",
       "4    [(None, [tensor([[0.7677]]), ly/2yLeSKb 13 Har...  \n",
       "..                                                 ...  \n",
       "158  [(None, [tensor([[0.6548]]),    Acknowledgemen...  \n",
       "159  [(None, [tensor([[0.7237]]),  Theinvolvement o...  \n",
       "160  [(None, [tensor([[0.6572]]), The Feed the Futu...  \n",
       "161  [(None, [tensor([[0.7044]]),  Coordination bet...  \n",
       "162  [(None, [tensor([[0.6142]]),   It is critical ...  \n",
       "\n",
       "[163 rows x 3 columns]"
      ]
     },
     "execution_count": 193,
     "metadata": {},
     "output_type": "execute_result"
    }
   ],
   "source": [
    "df_text_test[['doc_name', 'PSE Key Values USAID Offers', 'pse_ways_offer_prob_founded']] #.to_csv(\"tmp.csv\")"
   ]
  },
  {
   "cell_type": "code",
   "execution_count": 282,
   "id": "30d7deed",
   "metadata": {},
   "outputs": [],
   "source": [
    "predicted_full = model.predict(df_text['text_clean'])\n",
    "predicted_proba_full = model.predict_proba(df_text['text_clean'])"
   ]
  },
  {
   "cell_type": "code",
   "execution_count": 283,
   "id": "86680848",
   "metadata": {
    "scrolled": true
   },
   "outputs": [
    {
     "data": {
      "text/plain": [
       "(578, 6)"
      ]
     },
     "execution_count": 283,
     "metadata": {},
     "output_type": "execute_result"
    }
   ],
   "source": [
    "predicted_full.shape"
   ]
  },
  {
   "cell_type": "code",
   "execution_count": 284,
   "id": "dfba9170",
   "metadata": {},
   "outputs": [
    {
     "data": {
      "text/plain": [
       "(578, 40)"
      ]
     },
     "execution_count": 284,
     "metadata": {},
     "output_type": "execute_result"
    }
   ],
   "source": [
    "df_text.shape"
   ]
  },
  {
   "cell_type": "code",
   "execution_count": 286,
   "id": "2776d182",
   "metadata": {},
   "outputs": [],
   "source": [
    "df_text[\"pse_keys_predicted\"] = None\n",
    "df_text[\"pse_keys_probability_predicted\"] = None"
   ]
  },
  {
   "cell_type": "code",
   "execution_count": 287,
   "id": "f3a60749",
   "metadata": {},
   "outputs": [],
   "source": [
    "for i in range(predicted_full.shape[0]):\n",
    "    df_text[\"pse_keys_predicted\"].values[i] = []\n",
    "    df_text[\"pse_keys_probability_predicted\"].values[i] = {}\n",
    "    for j in range(1,6):\n",
    "        label = mlb.classes_[j]\n",
    "        if predicted_full[i][j] == 1:\n",
    "            df_text[\"pse_keys_predicted\"].values[i].append(label)\n",
    "        df_text[\"pse_keys_probability_predicted\"].values[i][label] = predicted_proba_full[i][j]"
   ]
  },
  {
   "cell_type": "code",
   "execution_count": 288,
   "id": "720f0441",
   "metadata": {},
   "outputs": [],
   "source": [
    "similar_spans = pd.read_csv(\"tmp_keys_pse.csv\")"
   ]
  },
  {
   "cell_type": "code",
   "execution_count": 289,
   "id": "184612a9",
   "metadata": {},
   "outputs": [],
   "source": [
    "df_model = df_text[['doc_name', 'pse_keys_predicted', 'pse_keys_probability_predicted']]\n",
    "\n",
    "df_enriched = pd.merge(similar_spans,\n",
    "                      df_model,\n",
    "                      on='doc_name',\n",
    "                      how='inner')"
   ]
  },
  {
   "cell_type": "code",
   "execution_count": 290,
   "id": "495bab80",
   "metadata": {},
   "outputs": [],
   "source": [
    "df_enriched.to_csv(\"pse_keys_comparison.csv\")"
   ]
  },
  {
   "cell_type": "markdown",
   "id": "75d95924",
   "metadata": {},
   "source": [
    "#### Doc Type"
   ]
  },
  {
   "cell_type": "code",
   "execution_count": 388,
   "id": "f6a48ac0",
   "metadata": {},
   "outputs": [],
   "source": [
    "doc_types_ex_df = spans_categories_doc_df[spans_categories_doc_df['Category '].isin(['Type of Document', 'Document Type'])]"
   ]
  },
  {
   "cell_type": "code",
   "execution_count": 392,
   "id": "5e333f04",
   "metadata": {},
   "outputs": [
    {
     "data": {
      "text/plain": [
       "(52, 7)"
      ]
     },
     "execution_count": 392,
     "metadata": {},
     "output_type": "execute_result"
    }
   ],
   "source": [
    "doc_types_ex_df.shape"
   ]
  },
  {
   "cell_type": "code",
   "execution_count": 393,
   "id": "f2c5ddb4",
   "metadata": {},
   "outputs": [
    {
     "data": {
      "text/plain": [
       "Index(['Doc ID #', 'Pg', 'Text ', 'Category ', 'Label ', 'in drop box? ',\n",
       "       'Unnamed: 6'],\n",
       "      dtype='object')"
      ]
     },
     "execution_count": 393,
     "metadata": {},
     "output_type": "execute_result"
    }
   ],
   "source": [
    "doc_types_ex_df.columns"
   ]
  },
  {
   "cell_type": "code",
   "execution_count": 394,
   "id": "9e54849b",
   "metadata": {},
   "outputs": [
    {
     "data": {
      "text/plain": [
       "Use Case / Case Study                               15\n",
       "Peer - reviewed Article or other research report    7 \n",
       "White Paper / Think Tank Report                     6 \n",
       "Industry Publication                                6 \n",
       "Impact Evaluation Report                            5 \n",
       "Performance Evaluation Report                       5 \n",
       "Landscape and Market Analyses                       4 \n",
       "Systematic Review or Meta-analysis                  3 \n",
       "Industry Publication                                1 \n",
       "Name: Label , dtype: int64"
      ]
     },
     "execution_count": 394,
     "metadata": {},
     "output_type": "execute_result"
    }
   ],
   "source": [
    "doc_types_ex_df['Label '].value_counts()"
   ]
  },
  {
   "cell_type": "code",
   "execution_count": 397,
   "id": "c56c809c",
   "metadata": {},
   "outputs": [],
   "source": [
    "doc_type_list = df_small_text['Type of Document'].unique()"
   ]
  },
  {
   "cell_type": "code",
   "execution_count": 400,
   "id": "d695d1bd",
   "metadata": {},
   "outputs": [
    {
     "data": {
      "text/plain": [
       "array(['Landscape Analysis',\n",
       "       'Peer-reviewed article or other research report',\n",
       "       'Use case/case study', 'Industry Publication',\n",
       "       'White Paper/Think Tank Report',\n",
       "       'Systematic review or Meta-analysis', 'Impact Evaluation Report',\n",
       "       'Performance evaluation report', ''], dtype=object)"
      ]
     },
     "execution_count": 400,
     "metadata": {},
     "output_type": "execute_result"
    }
   ],
   "source": [
    "doc_type_list"
   ]
  },
  {
   "cell_type": "code",
   "execution_count": 401,
   "id": "a9b628af",
   "metadata": {},
   "outputs": [],
   "source": [
    "from sentence_transformers import SentenceTransformer, util\n",
    "model = SentenceTransformer('all-MiniLM-L6-v2')\n",
    "\n",
    "# #Sentences are encoded by calling model.encode()\n",
    "# emb1 = model.encode(\"This is a red cat with a hat.\")\n",
    "# emb2 = model.encode(\"Have you seen my red cat?\")\n",
    "\n",
    "# cos_sim = util.cos_sim(emb1, emb2)\n",
    "# print(\"Cosine-Similarity:\", cos_sim)"
   ]
  },
  {
   "cell_type": "code",
   "execution_count": 402,
   "id": "c3cad78d",
   "metadata": {},
   "outputs": [],
   "source": [
    "model_rob = SentenceTransformer('all-distilroberta-v1')"
   ]
  },
  {
   "cell_type": "code",
   "execution_count": 408,
   "id": "1e97a763",
   "metadata": {},
   "outputs": [],
   "source": [
    "def find_the_closest_ways(s):\n",
    "    for typ in doc_type_list:\n",
    "        if s[:3].lower() == typ[:3].lower():\n",
    "            return typ\n",
    "    return None\n",
    "\n",
    "def get_vector(s):\n",
    "    s = str(s).replace(\"\\n\", '').replace(\"\\t\", \"\")\n",
    "    span = model_rob.encode(s)\n",
    "    return span\n",
    "    \n",
    "doc_types_ex_df['label'] = doc_types_ex_df['Label '].apply(find_the_closest_ways)\n",
    "doc_types_ex_df['span_vector'] = doc_types_ex_df['Text '].apply(get_vector)"
   ]
  },
  {
   "cell_type": "code",
   "execution_count": 409,
   "id": "02988131",
   "metadata": {},
   "outputs": [
    {
     "data": {
      "text/html": [
       "<div>\n",
       "<style scoped>\n",
       "    .dataframe tbody tr th:only-of-type {\n",
       "        vertical-align: middle;\n",
       "    }\n",
       "\n",
       "    .dataframe tbody tr th {\n",
       "        vertical-align: top;\n",
       "    }\n",
       "\n",
       "    .dataframe thead th {\n",
       "        text-align: right;\n",
       "    }\n",
       "</style>\n",
       "<table border=\"1\" class=\"dataframe\">\n",
       "  <thead>\n",
       "    <tr style=\"text-align: right;\">\n",
       "      <th></th>\n",
       "      <th>Doc ID #</th>\n",
       "      <th>Pg</th>\n",
       "      <th>Text</th>\n",
       "      <th>Category</th>\n",
       "      <th>Label</th>\n",
       "      <th>in drop box?</th>\n",
       "      <th>Unnamed: 6</th>\n",
       "      <th>label</th>\n",
       "      <th>span_vector</th>\n",
       "    </tr>\n",
       "  </thead>\n",
       "  <tbody>\n",
       "    <tr>\n",
       "      <th>1</th>\n",
       "      <td>0000-BOM-GLO</td>\n",
       "      <td>9</td>\n",
       "      <td>Case Study: Using Mobile Money for Cash Transfers</td>\n",
       "      <td>Type of Document</td>\n",
       "      <td>Use Case / Case Study</td>\n",
       "      <td>NaN</td>\n",
       "      <td>NaN</td>\n",
       "      <td>Use case/case study</td>\n",
       "      <td>[0.010278517, -0.03406079, 0.014539658, 0.042699195, 0.025529189, -0.022566773, -0.012227183, 0.023033896, -0.0112259695, -0.05732495, -0.01977452, 0.048269857, 0.005261862, 0.04428861, 0.05153634, -0.05929122, 0.0055687963, 0.02739291, -0.024039526, -0.007312834, 0.029332833, -0.009132144, 0.05781213, 0.0077203135, -0.0031952562, -0.017238818, 0.0024331734, 0.028122663, -0.028246978, -0.09628002, 0.03402869, -0.004917093, 0.058365416, 0.00024081045, 0.035786502, 0.00024970496, 0.0008869058, 0.0079391, 0.036722653, -0.030102363, 0.0035143879, 0.06593864, 0.021439502, -0.022561487, 0.06557353, -0.021407641, -0.027263802, -0.004869812, 0.01060115, -0.025876254, -0.022882134, -0.014039124, -0.027787464, 0.04071951, 0.06198988, -0.055672508, -0.12414006, 0.008293122, -0.04880961, 0.014472126, 0.054529697, -0.029511336, -0.021057954, 0.025437707, 0.022959396, 0.009118339, 0.029496394, -0.04323604, -0.033774752, -0.026962927, -0.04647542, 0.017234866, 0.009194464, -0.030985674, -0.04137212, 0.026222203, -0.092675924, -0.03540307, 0.009198596, -0.043745294, 0.05885696, 0.041015875, 0.048787378, 0.043986566, -0.031165514, 0.10507084, -0.026655372, 0.026225962, 0.002074945, -0.011634819, 0.00952023, -0.049201455, 0.03036412, -0.012390262, -0.041389037, -0.055916052, -0.032495074, 0.021830523, 0.011557084, 0.018292932, ...]</td>\n",
       "    </tr>\n",
       "    <tr>\n",
       "      <th>11</th>\n",
       "      <td>0000-BOURI-GLO</td>\n",
       "      <td>5</td>\n",
       "      <td>We hope this report will serve to not only inform the global community about the complexities of innovating and investing in global health, but will also put research into action by enabling the creation of a\\nfacility aimed at innovators and investors in order to drive greater innovation, greater private investment, and ultimately greater social impact.</td>\n",
       "      <td>Type of Document</td>\n",
       "      <td>White Paper / Think Tank Report</td>\n",
       "      <td>NaN</td>\n",
       "      <td>NaN</td>\n",
       "      <td>White Paper/Think Tank Report</td>\n",
       "      <td>[-0.009824434, -0.018007914, 0.017064335, -0.022854606, -0.059023786, -0.017349565, 0.016706007, 0.01699731, 0.027295029, -0.043222204, -0.017619843, 0.05314302, -0.040314756, -0.03501865, -0.04449911, 0.013015903, -0.0064716744, -0.06921155, -0.017242221, 0.062150694, 0.038826138, -0.009634362, -0.03373493, 0.0349268, 0.071856774, 0.046749763, -0.004974805, -0.04200964, 0.00583886, -0.00983901, 0.0033242833, 0.015466126, 0.031138483, -0.025878998, 0.058640774, 0.013460506, 0.01996361, -0.036194567, 0.09429152, 0.035811562, -0.021988815, 0.01804975, -0.06106671, 0.015918063, 0.021214712, 0.028839286, -0.06974225, 0.022615936, 0.0065763895, 0.032740984, -0.0045106565, 0.02569858, 0.011600003, -0.02517554, -0.008166797, -0.018837363, -0.01688653, -0.008449132, 0.043882225, 0.019862803, 0.033321943, 0.02298194, -0.0023460798, -0.020589048, 0.009023388, -0.0195892, 0.005351399, -0.004468725, -0.008556338, -0.008364161, 0.017693486, 0.060202196, -0.10116633, -0.05777146, -0.021204904, 0.03581874, -0.028441263, -0.041652627, -0.07324063, 0.017942458, -0.037035942, -0.039868657, -0.021111008, -0.0940566, 0.053373042, 0.0869377, 0.020009035, -0.022741102, 0.028389018, 0.017164798, -0.02708653, 0.03413074, 0.0019647402, 0.007222137, -0.023863385, 0.0034378516, 0.050191555, 0.0020921028, -0.003565806, -0.048923526, ...]</td>\n",
       "    </tr>\n",
       "  </tbody>\n",
       "</table>\n",
       "</div>"
      ],
      "text/plain": [
       "          Doc ID # Pg  \\\n",
       "1   0000-BOM-GLO    9   \n",
       "11  0000-BOURI-GLO  5   \n",
       "\n",
       "                                                                                                                                                                                                                                                                                                                                                                   Text   \\\n",
       "1   Case Study: Using Mobile Money for Cash Transfers                                                                                                                                                                                                                                                                                                                      \n",
       "11  We hope this report will serve to not only inform the global community about the complexities of innovating and investing in global health, but will also put research into action by enabling the creation of a\\nfacility aimed at innovators and investors in order to drive greater innovation, greater private investment, and ultimately greater social impact.   \n",
       "\n",
       "           Category                            Label  in drop box?   \\\n",
       "1   Type of Document  Use Case / Case Study            NaN            \n",
       "11  Type of Document  White Paper / Think Tank Report  NaN            \n",
       "\n",
       "   Unnamed: 6                          label  \\\n",
       "1   NaN        Use case/case study             \n",
       "11  NaN        White Paper/Think Tank Report   \n",
       "\n",
       "                                                                                                                                                                                                                                                                                                                                                                                                                                                                                                                                                                                                                                                                                                                                                                                                                                                                                                                                                                                                                                                                                                                                                                                                                                                                                                                                                                                span_vector  \n",
       "1   [0.010278517, -0.03406079, 0.014539658, 0.042699195, 0.025529189, -0.022566773, -0.012227183, 0.023033896, -0.0112259695, -0.05732495, -0.01977452, 0.048269857, 0.005261862, 0.04428861, 0.05153634, -0.05929122, 0.0055687963, 0.02739291, -0.024039526, -0.007312834, 0.029332833, -0.009132144, 0.05781213, 0.0077203135, -0.0031952562, -0.017238818, 0.0024331734, 0.028122663, -0.028246978, -0.09628002, 0.03402869, -0.004917093, 0.058365416, 0.00024081045, 0.035786502, 0.00024970496, 0.0008869058, 0.0079391, 0.036722653, -0.030102363, 0.0035143879, 0.06593864, 0.021439502, -0.022561487, 0.06557353, -0.021407641, -0.027263802, -0.004869812, 0.01060115, -0.025876254, -0.022882134, -0.014039124, -0.027787464, 0.04071951, 0.06198988, -0.055672508, -0.12414006, 0.008293122, -0.04880961, 0.014472126, 0.054529697, -0.029511336, -0.021057954, 0.025437707, 0.022959396, 0.009118339, 0.029496394, -0.04323604, -0.033774752, -0.026962927, -0.04647542, 0.017234866, 0.009194464, -0.030985674, -0.04137212, 0.026222203, -0.092675924, -0.03540307, 0.009198596, -0.043745294, 0.05885696, 0.041015875, 0.048787378, 0.043986566, -0.031165514, 0.10507084, -0.026655372, 0.026225962, 0.002074945, -0.011634819, 0.00952023, -0.049201455, 0.03036412, -0.012390262, -0.041389037, -0.055916052, -0.032495074, 0.021830523, 0.011557084, 0.018292932, ...]  \n",
       "11  [-0.009824434, -0.018007914, 0.017064335, -0.022854606, -0.059023786, -0.017349565, 0.016706007, 0.01699731, 0.027295029, -0.043222204, -0.017619843, 0.05314302, -0.040314756, -0.03501865, -0.04449911, 0.013015903, -0.0064716744, -0.06921155, -0.017242221, 0.062150694, 0.038826138, -0.009634362, -0.03373493, 0.0349268, 0.071856774, 0.046749763, -0.004974805, -0.04200964, 0.00583886, -0.00983901, 0.0033242833, 0.015466126, 0.031138483, -0.025878998, 0.058640774, 0.013460506, 0.01996361, -0.036194567, 0.09429152, 0.035811562, -0.021988815, 0.01804975, -0.06106671, 0.015918063, 0.021214712, 0.028839286, -0.06974225, 0.022615936, 0.0065763895, 0.032740984, -0.0045106565, 0.02569858, 0.011600003, -0.02517554, -0.008166797, -0.018837363, -0.01688653, -0.008449132, 0.043882225, 0.019862803, 0.033321943, 0.02298194, -0.0023460798, -0.020589048, 0.009023388, -0.0195892, 0.005351399, -0.004468725, -0.008556338, -0.008364161, 0.017693486, 0.060202196, -0.10116633, -0.05777146, -0.021204904, 0.03581874, -0.028441263, -0.041652627, -0.07324063, 0.017942458, -0.037035942, -0.039868657, -0.021111008, -0.0940566, 0.053373042, 0.0869377, 0.020009035, -0.022741102, 0.028389018, 0.017164798, -0.02708653, 0.03413074, 0.0019647402, 0.007222137, -0.023863385, 0.0034378516, 0.050191555, 0.0020921028, -0.003565806, -0.048923526, ...]      "
      ]
     },
     "execution_count": 409,
     "metadata": {},
     "output_type": "execute_result"
    }
   ],
   "source": [
    "doc_types_ex_df.head(2)"
   ]
  },
  {
   "cell_type": "code",
   "execution_count": 405,
   "id": "60c8c915",
   "metadata": {},
   "outputs": [],
   "source": [
    "import warnings\n",
    "warnings.filterwarnings('ignore')"
   ]
  },
  {
   "cell_type": "code",
   "execution_count": 206,
   "id": "68b93718",
   "metadata": {},
   "outputs": [],
   "source": [
    "model_v12 = SentenceTransformer('all-MiniLM-L12-v2')"
   ]
  },
  {
   "cell_type": "code",
   "execution_count": 417,
   "id": "351bf08c",
   "metadata": {},
   "outputs": [
    {
     "name": "stdout",
     "output_type": "stream",
     "text": [
      "38\n",
      "120\n",
      "68\n",
      "100\n",
      "100\n",
      "57\n",
      "118\n",
      "50\n",
      "56\n",
      "2891\n",
      "72\n",
      "70\n",
      "72\n",
      "41\n",
      "59\n",
      "52\n",
      "7\n",
      "90\n",
      "120\n",
      "120\n",
      "99\n",
      "31\n",
      "135\n",
      "67\n",
      "48\n",
      "23\n",
      "1414\n",
      "209\n",
      "209\n",
      "41\n",
      "41\n",
      "117\n",
      "3069\n",
      "46\n",
      "1280\n",
      "2188\n",
      "87\n",
      "73\n",
      "137\n",
      "29\n",
      "119\n",
      "33\n",
      "60\n",
      "66\n",
      "63\n",
      "63\n",
      "74\n",
      "194\n",
      "2\n",
      "104\n",
      "1474\n",
      "70\n",
      "29\n",
      "44\n",
      "28\n",
      "94\n",
      "3\n",
      "27\n",
      "27\n",
      "129\n",
      "6394\n",
      "37\n",
      "50\n",
      "55\n",
      "2\n",
      "46\n",
      "1682\n",
      "39\n",
      "148\n",
      "33\n",
      "3263\n",
      "154\n",
      "57\n",
      "77\n",
      "28\n",
      "47\n",
      "25\n",
      "36\n",
      "151\n",
      "44\n",
      "52\n",
      "4\n",
      "83\n",
      "84\n",
      "4183\n",
      "41\n",
      "67\n",
      "40\n",
      "62\n",
      "4099\n",
      "47\n",
      "32\n",
      "98\n",
      "61\n",
      "53\n",
      "1\n",
      "97\n",
      "71\n",
      "182\n",
      "34\n",
      "38\n",
      "50\n",
      "38\n",
      "102\n",
      "41\n",
      "3905\n",
      "47\n",
      "33\n",
      "1219\n",
      "14\n",
      "19\n",
      "53\n",
      "43\n",
      "68\n",
      "94\n",
      "2661\n",
      "90\n",
      "350\n",
      "74\n",
      "42\n",
      "82\n",
      "88\n",
      "44\n",
      "57\n",
      "4477\n",
      "64\n",
      "127\n",
      "1791\n",
      "2947\n",
      "90\n",
      "61\n",
      "6\n",
      "64\n",
      "25\n",
      "40\n",
      "35\n",
      "87\n",
      "36\n",
      "64\n",
      "72\n",
      "126\n",
      "42\n",
      "57\n",
      "28\n",
      "38\n",
      "216\n",
      "23\n",
      "20\n",
      "35\n",
      "81\n",
      "174\n",
      "89\n",
      "52\n",
      "3235\n",
      "781\n",
      "83\n",
      "3539\n",
      "160\n",
      "953\n",
      "72\n",
      "2525\n",
      "48\n",
      "47\n"
     ]
    }
   ],
   "source": [
    "import re\n",
    "from ast import literal_eval\n",
    "\n",
    "def calc_similar_doc_type(s):\n",
    "    probability = {}\n",
    "    text = ' '.join(s[1:3])\n",
    "    text = text.replace('\\n\\n', '.')\n",
    "    text = text.replace('\\n',\"\").replace('\\t',\"\")\n",
    "    print(len(text.split('.')))\n",
    "    for sent in text.split('.'):\n",
    "#         sent = re.sub(r'[^\\w\\se]', '', sent.lower().strip())\n",
    "        if len(sent) < 20:\n",
    "            continue\n",
    "        sent_vec = model_rob.encode(sent)\n",
    "        for row in doc_types_ex_df.iterrows():\n",
    "            try:   \n",
    "                label = row[1]['label']\n",
    "                span = row[1]['span_vector']\n",
    "                span_text = row[1]['Text '].replace(\"\\n\", '').replace(\"\\t\", \"\")\n",
    "            except:\n",
    "                continue\n",
    "            if label not in probability:\n",
    "                probability[label] = [0, '', '']\n",
    "            sim_score = util.cos_sim(span, sent_vec)\n",
    "            if sim_score > probability[label][0]:\n",
    "                probability[label] = [sim_score, 'FOUND: ' + sent, 'SPAN: ' + span_text]\n",
    "    if len(probability) == 0:\n",
    "        return ''\n",
    "    return max(probability, key=probability.get) #list(sorted(probability.items(), key=lambda kv: kv[1][0], reverse=True))\n",
    "        \n",
    "\n",
    "df_text_test = df_small_text #.sample(n=2, random_state=3)\n",
    "df_small_text['doc_type_found'] = df_small_text['full_content'].apply(calc_similar_doc_type)"
   ]
  },
  {
   "cell_type": "code",
   "execution_count": 411,
   "id": "a5c13ab0",
   "metadata": {},
   "outputs": [],
   "source": [
    "# pd.set_option('display.max_colwidth', -1)"
   ]
  },
  {
   "cell_type": "code",
   "execution_count": 419,
   "id": "cbb41148",
   "metadata": {},
   "outputs": [
    {
     "data": {
      "text/plain": [
       "0.2147239263803681"
      ]
     },
     "execution_count": 419,
     "metadata": {},
     "output_type": "execute_result"
    }
   ],
   "source": [
    "from sklearn.metrics import accuracy_score\n",
    "df_small_text[df_small_text['doc_type_found'] == df_small_text['Type of Document']].shape[0] / df_small_text.shape[0]"
   ]
  },
  {
   "cell_type": "code",
   "execution_count": 418,
   "id": "36d3e581",
   "metadata": {},
   "outputs": [
    {
     "data": {
      "text/html": [
       "<div>\n",
       "<style scoped>\n",
       "    .dataframe tbody tr th:only-of-type {\n",
       "        vertical-align: middle;\n",
       "    }\n",
       "\n",
       "    .dataframe tbody tr th {\n",
       "        vertical-align: top;\n",
       "    }\n",
       "\n",
       "    .dataframe thead th {\n",
       "        text-align: right;\n",
       "    }\n",
       "</style>\n",
       "<table border=\"1\" class=\"dataframe\">\n",
       "  <thead>\n",
       "    <tr style=\"text-align: right;\">\n",
       "      <th></th>\n",
       "      <th>doc_name</th>\n",
       "      <th>doc_type_found</th>\n",
       "      <th>Type of Document</th>\n",
       "    </tr>\n",
       "  </thead>\n",
       "  <tbody>\n",
       "    <tr>\n",
       "      <th>0</th>\n",
       "      <td>0000-BOURI-GLO.pkl</td>\n",
       "      <td>White Paper/Think Tank Report</td>\n",
       "      <td>Landscape Analysis</td>\n",
       "    </tr>\n",
       "    <tr>\n",
       "      <th>1</th>\n",
       "      <td>0000-CARBO-GLO.pkl</td>\n",
       "      <td>White Paper/Think Tank Report</td>\n",
       "      <td>Peer-reviewed article or other research report</td>\n",
       "    </tr>\n",
       "    <tr>\n",
       "      <th>2</th>\n",
       "      <td>0000-ELAN-PHL.pkl</td>\n",
       "      <td>Use case/case study</td>\n",
       "      <td>Use case/case study</td>\n",
       "    </tr>\n",
       "    <tr>\n",
       "      <th>3</th>\n",
       "      <td>0000-GURUN-GLO.pkl</td>\n",
       "      <td>Use case/case study</td>\n",
       "      <td>Peer-reviewed article or other research report</td>\n",
       "    </tr>\n",
       "    <tr>\n",
       "      <th>4</th>\n",
       "      <td>0000-GURUN-GLO.pkl</td>\n",
       "      <td>Use case/case study</td>\n",
       "      <td>Peer-reviewed article or other research report</td>\n",
       "    </tr>\n",
       "    <tr>\n",
       "      <th>...</th>\n",
       "      <td>...</td>\n",
       "      <td>...</td>\n",
       "      <td>...</td>\n",
       "    </tr>\n",
       "    <tr>\n",
       "      <th>158</th>\n",
       "      <td>2109-BRITO-CLO.pkl</td>\n",
       "      <td>Peer-reviewed article or other research report</td>\n",
       "      <td>Performance evaluation report</td>\n",
       "    </tr>\n",
       "    <tr>\n",
       "      <th>159</th>\n",
       "      <td>2109-Cozzo-GLO.pkl</td>\n",
       "      <td>White Paper/Think Tank Report</td>\n",
       "      <td>Performance evaluation report</td>\n",
       "    </tr>\n",
       "    <tr>\n",
       "      <th>160</th>\n",
       "      <td>2109-MAOR-GLO.pkl</td>\n",
       "      <td>Industry Publication</td>\n",
       "      <td>Industry Publication</td>\n",
       "    </tr>\n",
       "    <tr>\n",
       "      <th>161</th>\n",
       "      <td>2110-CBI-GLO.pkl</td>\n",
       "      <td>Landscape Analysis</td>\n",
       "      <td>White Paper/Think Tank Report</td>\n",
       "    </tr>\n",
       "    <tr>\n",
       "      <th>162</th>\n",
       "      <td>2110-OCHA-PHL.pkl</td>\n",
       "      <td>Landscape Analysis</td>\n",
       "      <td>Use case/case study</td>\n",
       "    </tr>\n",
       "  </tbody>\n",
       "</table>\n",
       "<p>163 rows × 3 columns</p>\n",
       "</div>"
      ],
      "text/plain": [
       "               doc_name                                  doc_type_found  \\\n",
       "0    0000-BOURI-GLO.pkl  White Paper/Think Tank Report                    \n",
       "1    0000-CARBO-GLO.pkl  White Paper/Think Tank Report                    \n",
       "2    0000-ELAN-PHL.pkl   Use case/case study                              \n",
       "3    0000-GURUN-GLO.pkl  Use case/case study                              \n",
       "4    0000-GURUN-GLO.pkl  Use case/case study                              \n",
       "..                  ...                  ...                              \n",
       "158  2109-BRITO-CLO.pkl  Peer-reviewed article or other research report   \n",
       "159  2109-Cozzo-GLO.pkl  White Paper/Think Tank Report                    \n",
       "160  2109-MAOR-GLO.pkl   Industry Publication                             \n",
       "161  2110-CBI-GLO.pkl    Landscape Analysis                               \n",
       "162  2110-OCHA-PHL.pkl   Landscape Analysis                               \n",
       "\n",
       "                                   Type of Document  \n",
       "0    Landscape Analysis                              \n",
       "1    Peer-reviewed article or other research report  \n",
       "2    Use case/case study                             \n",
       "3    Peer-reviewed article or other research report  \n",
       "4    Peer-reviewed article or other research report  \n",
       "..                                              ...  \n",
       "158  Performance evaluation report                   \n",
       "159  Performance evaluation report                   \n",
       "160  Industry Publication                            \n",
       "161  White Paper/Think Tank Report                   \n",
       "162  Use case/case study                             \n",
       "\n",
       "[163 rows x 3 columns]"
      ]
     },
     "execution_count": 418,
     "metadata": {},
     "output_type": "execute_result"
    }
   ],
   "source": [
    "df_small_text[['doc_name', 'doc_type_found', 'Type of Document']]"
   ]
  },
  {
   "cell_type": "code",
   "execution_count": null,
   "id": "45fad17f",
   "metadata": {},
   "outputs": [],
   "source": [
    "i = 0\n",
    "df_small_text['pse_keys_prob_top_1_founded'] = df_small_text['doc_type_found'].apply(select_top)\n",
    "i=1\n",
    "df_small_text['pse_keys_prob_top_2_founded'] = df_small_text['doc_type_found'].apply(select_top)\n",
    "i=2\n",
    "df_small_text['pse_keys_prob_top_3_founded'] = df_small_text['doc_type_found'].apply(select_top)"
   ]
  },
  {
   "cell_type": "code",
   "execution_count": null,
   "id": "e7cb1df4",
   "metadata": {},
   "outputs": [],
   "source": [
    "df_text['type_doc_similar_found'].unique()"
   ]
  },
  {
   "cell_type": "code",
   "execution_count": null,
   "id": "4e85559f",
   "metadata": {},
   "outputs": [],
   "source": [
    "df_text[df_text['type_doc_similar_found'] == df_text['Type of Document']].shape[0] / df_text.shape[0]"
   ]
  },
  {
   "cell_type": "markdown",
   "id": "6659608d",
   "metadata": {},
   "source": [
    "## BHA Evidence Brief (for Shri)"
   ]
  },
  {
   "cell_type": "markdown",
   "id": "3205bbb2",
   "metadata": {},
   "source": [
    "#### FF3"
   ]
  },
  {
   "cell_type": "code",
   "execution_count": 68,
   "id": "9069d43b",
   "metadata": {},
   "outputs": [
    {
     "name": "stderr",
     "output_type": "stream",
     "text": [
      "C:\\Users\\Volha_Skidan\\Anaconda3\\envs\\havos\\lib\\site-packages\\gensim\\utils.py:1209: UserWarning: detected Windows; aliasing chunkize to chunkize_serial\n",
      "  warnings.warn(\"detected Windows; aliasing chunkize to chunkize_serial\")\n"
     ]
    },
    {
     "data": {
      "text/plain": [
       "0.6666666666666667"
      ]
     },
     "execution_count": 68,
     "metadata": {},
     "output_type": "execute_result"
    }
   ],
   "source": [
    "sys.path.append('../src')\n",
    "from utilities import utils\n",
    "utils.normalized_levenshtein_score(cnt, cnt_tb)"
   ]
  },
  {
   "cell_type": "code",
   "execution_count": 61,
   "id": "f8a893ae",
   "metadata": {},
   "outputs": [
    {
     "data": {
      "text/html": [
       "<div>\n",
       "<style scoped>\n",
       "    .dataframe tbody tr th:only-of-type {\n",
       "        vertical-align: middle;\n",
       "    }\n",
       "\n",
       "    .dataframe tbody tr th {\n",
       "        vertical-align: top;\n",
       "    }\n",
       "\n",
       "    .dataframe thead th {\n",
       "        text-align: right;\n",
       "    }\n",
       "</style>\n",
       "<table border=\"1\" class=\"dataframe\">\n",
       "  <thead>\n",
       "    <tr style=\"text-align: right;\">\n",
       "      <th></th>\n",
       "      <th>doc_name</th>\n",
       "      <th>Country(ies)</th>\n",
       "      <th>countries_found</th>\n",
       "      <th>countries_limited_by_freq_found</th>\n",
       "    </tr>\n",
       "  </thead>\n",
       "  <tbody>\n",
       "    <tr>\n",
       "      <th>0</th>\n",
       "      <td>0000-BOURI-GLO.pkl</td>\n",
       "      <td>Global</td>\n",
       "      <td>{'Bangladesh': 1, 'Canada': 4, 'China': 1, 'Co...</td>\n",
       "      <td>[Canada, India, Kenya, Rwanda, Uganda]</td>\n",
       "    </tr>\n",
       "    <tr>\n",
       "      <th>1</th>\n",
       "      <td>0000-CARBO-GLO.pkl</td>\n",
       "      <td>Afghanistan,Sudan,Iraq</td>\n",
       "      <td>{'Afghanistan': 2, 'Argentina': 1, 'Australia'...</td>\n",
       "      <td>[Afghanistan, Switzerland, United Kingdom, Gua...</td>\n",
       "    </tr>\n",
       "  </tbody>\n",
       "</table>\n",
       "</div>"
      ],
      "text/plain": [
       "             doc_name            Country(ies)  \\\n",
       "0  0000-BOURI-GLO.pkl                  Global   \n",
       "1  0000-CARBO-GLO.pkl  Afghanistan,Sudan,Iraq   \n",
       "\n",
       "                                     countries_found  \\\n",
       "0  {'Bangladesh': 1, 'Canada': 4, 'China': 1, 'Co...   \n",
       "1  {'Afghanistan': 2, 'Argentina': 1, 'Australia'...   \n",
       "\n",
       "                     countries_limited_by_freq_found  \n",
       "0             [Canada, India, Kenya, Rwanda, Uganda]  \n",
       "1  [Afghanistan, Switzerland, United Kingdom, Gua...  "
      ]
     },
     "execution_count": 61,
     "metadata": {},
     "output_type": "execute_result"
    }
   ],
   "source": [
    "df_small_text[['doc_name', 'Country(ies)', 'countries_found', 'countries_limited_by_freq_found']].head(2)"
   ]
  },
  {
   "cell_type": "code",
   "execution_count": 65,
   "id": "a1dafd76",
   "metadata": {
    "scrolled": true
   },
   "outputs": [
    {
     "data": {
      "text/html": [
       "<div>\n",
       "<style scoped>\n",
       "    .dataframe tbody tr th:only-of-type {\n",
       "        vertical-align: middle;\n",
       "    }\n",
       "\n",
       "    .dataframe tbody tr th {\n",
       "        vertical-align: top;\n",
       "    }\n",
       "\n",
       "    .dataframe thead th {\n",
       "        text-align: right;\n",
       "    }\n",
       "</style>\n",
       "<table border=\"1\" class=\"dataframe\">\n",
       "  <thead>\n",
       "    <tr style=\"text-align: right;\">\n",
       "      <th></th>\n",
       "      <th>REGION</th>\n",
       "      <th>Peace Quartile</th>\n",
       "      <th>Unnamed: 2</th>\n",
       "      <th>Country</th>\n",
       "      <th>Freedom</th>\n",
       "      <th>Unnamed: 5</th>\n",
       "      <th>Country.1</th>\n",
       "      <th>Human Dev.</th>\n",
       "      <th>Unnamed: 8</th>\n",
       "      <th>Unnamed: 9</th>\n",
       "      <th>Corruption</th>\n",
       "    </tr>\n",
       "  </thead>\n",
       "  <tbody>\n",
       "    <tr>\n",
       "      <th>2</th>\n",
       "      <td>Afghanistan</td>\n",
       "      <td>4</td>\n",
       "      <td>NaN</td>\n",
       "      <td>Albania</td>\n",
       "      <td>2</td>\n",
       "      <td>NaN</td>\n",
       "      <td>Afghanistan</td>\n",
       "      <td>4</td>\n",
       "      <td>NaN</td>\n",
       "      <td>Afghanistan</td>\n",
       "      <td>4</td>\n",
       "    </tr>\n",
       "    <tr>\n",
       "      <th>3</th>\n",
       "      <td>Albania</td>\n",
       "      <td>2</td>\n",
       "      <td>NaN</td>\n",
       "      <td>Algeria</td>\n",
       "      <td>4</td>\n",
       "      <td>NaN</td>\n",
       "      <td>Albania</td>\n",
       "      <td>2</td>\n",
       "      <td>NaN</td>\n",
       "      <td>Albania</td>\n",
       "      <td>3</td>\n",
       "    </tr>\n",
       "    <tr>\n",
       "      <th>4</th>\n",
       "      <td>Algeria</td>\n",
       "      <td>3</td>\n",
       "      <td>NaN</td>\n",
       "      <td>Angola</td>\n",
       "      <td>4</td>\n",
       "      <td>NaN</td>\n",
       "      <td>Algeria</td>\n",
       "      <td>2</td>\n",
       "      <td>NaN</td>\n",
       "      <td>Algeria</td>\n",
       "      <td>3</td>\n",
       "    </tr>\n",
       "    <tr>\n",
       "      <th>5</th>\n",
       "      <td>Angola</td>\n",
       "      <td>2</td>\n",
       "      <td>NaN</td>\n",
       "      <td>Argentina</td>\n",
       "      <td>2</td>\n",
       "      <td>NaN</td>\n",
       "      <td>Andorra</td>\n",
       "      <td>1</td>\n",
       "      <td>NaN</td>\n",
       "      <td>Angola</td>\n",
       "      <td>4</td>\n",
       "    </tr>\n",
       "    <tr>\n",
       "      <th>6</th>\n",
       "      <td>Argentina</td>\n",
       "      <td>2</td>\n",
       "      <td>NaN</td>\n",
       "      <td>Armenia</td>\n",
       "      <td>1</td>\n",
       "      <td>NaN</td>\n",
       "      <td>Angola</td>\n",
       "      <td>4</td>\n",
       "      <td>NaN</td>\n",
       "      <td>Argentina</td>\n",
       "      <td>2</td>\n",
       "    </tr>\n",
       "  </tbody>\n",
       "</table>\n",
       "</div>"
      ],
      "text/plain": [
       "        REGION Peace Quartile  Unnamed: 2    Country Freedom  Unnamed: 5  \\\n",
       "2  Afghanistan              4         NaN    Albania       2         NaN   \n",
       "3      Albania              2         NaN    Algeria       4         NaN   \n",
       "4      Algeria              3         NaN     Angola       4         NaN   \n",
       "5       Angola              2         NaN  Argentina       2         NaN   \n",
       "6    Argentina              2         NaN    Armenia       1         NaN   \n",
       "\n",
       "     Country.1 Human Dev.  Unnamed: 8   Unnamed: 9 Corruption  \n",
       "2  Afghanistan          4         NaN  Afghanistan          4  \n",
       "3      Albania          2         NaN      Albania          3  \n",
       "4      Algeria          2         NaN      Algeria          3  \n",
       "5      Andorra          1         NaN       Angola          4  \n",
       "6       Angola          4         NaN    Argentina          2  "
      ]
     },
     "execution_count": 65,
     "metadata": {},
     "output_type": "execute_result"
    }
   ],
   "source": [
    "f3_doc_path = r\"C:\\Users\\Volha_Skidan\\projects\\HavosAi\\data\\Phase 2 Working Folder (EGM Documents)\\f3_table.xlsx\"\n",
    "table = pd.read_excel(f3_doc_path)\n",
    "table = table.iloc[2:]\n",
    "table.head(5)"
   ]
  },
  {
   "cell_type": "code",
   "execution_count": 90,
   "id": "a6d63f33",
   "metadata": {},
   "outputs": [],
   "source": [
    "pairs = [['REGION', 'Peace Quartile'], ['Country', 'Freedom'], ['Country.1', 'Human Dev.'], ['Unnamed: 9', 'Corruption']]\n",
    "labels = ['FF3_P&SGroup', 'FF3_PolGroup', 'FF3_HDGroup', 'FF3_CGroup']\n",
    "names = ['Peace and security',  'Type of political system', 'Human Development','Corruption']\n",
    "\n",
    "def outer(cnt_list, pair, label):\n",
    "#     def inner(cnt_list):\n",
    "    output = set()\n",
    "    subtable = table[pair]\n",
    "    for row in subtable.iterrows():\n",
    "        cnt_tb, ind = row[1][0], row[1][1]\n",
    "        for cnt in cnt_list:\n",
    "            if str(cnt_tb) != 'nan' and utils.normalized_levenshtein_score(cnt, cnt_tb) > 0.8:\n",
    "                output.add(label + str(ind))\n",
    "    return list(output)\n",
    "\n",
    "for pair, label, name in zip(pairs, labels, names):\n",
    "#     fn = outer(pair, label)\n",
    "    df_small_text[name] = df_small_text['countries_limited_by_freq_found'].apply(outer, args=(pair, label,))"
   ]
  },
  {
   "cell_type": "code",
   "execution_count": null,
   "id": "5253a72d",
   "metadata": {},
   "outputs": [],
   "source": [
    "df_small_text[['B3_USAID Themes', 'Special Considerations']]"
   ]
  },
  {
   "cell_type": "code",
   "execution_count": 236,
   "id": "67fbe410",
   "metadata": {},
   "outputs": [
    {
     "data": {
      "text/html": [
       "<div>\n",
       "<style scoped>\n",
       "    .dataframe tbody tr th:only-of-type {\n",
       "        vertical-align: middle;\n",
       "    }\n",
       "\n",
       "    .dataframe tbody tr th {\n",
       "        vertical-align: top;\n",
       "    }\n",
       "\n",
       "    .dataframe thead th {\n",
       "        text-align: right;\n",
       "    }\n",
       "</style>\n",
       "<table border=\"1\" class=\"dataframe\">\n",
       "  <thead>\n",
       "    <tr style=\"text-align: right;\">\n",
       "      <th></th>\n",
       "      <th>doc_name</th>\n",
       "      <th>Country(ies)</th>\n",
       "      <th>countries_found</th>\n",
       "      <th>B3_USAID Themes</th>\n",
       "      <th>countries_limited_by_freq_found</th>\n",
       "      <th>Peace and security</th>\n",
       "      <th>Type of political system</th>\n",
       "      <th>Human Development</th>\n",
       "      <th>Corruption</th>\n",
       "    </tr>\n",
       "  </thead>\n",
       "  <tbody>\n",
       "    <tr>\n",
       "      <th>0</th>\n",
       "      <td>0000-BOURI-GLO.pkl</td>\n",
       "      <td>Global</td>\n",
       "      <td>{'Bangladesh': 1, 'Canada': 4, 'China': 1, 'Co...</td>\n",
       "      <td>[]</td>\n",
       "      <td>[Canada, India, Kenya, Rwanda, Uganda]</td>\n",
       "      <td>[FF3_P&amp;SGroup4, FF3_P&amp;SGroup3, FF3_P&amp;SGroup1]</td>\n",
       "      <td>[FF3_PolGroup3, FF3_PolGroup1]</td>\n",
       "      <td>[FF3_HDGroup1, FF3_HDGroup4, FF3_HDGroup3]</td>\n",
       "      <td>[FF3_CGroup1, FF3_CGroup2, FF3_CGroup4, FF3_CG...</td>\n",
       "    </tr>\n",
       "    <tr>\n",
       "      <th>1</th>\n",
       "      <td>0000-CARBO-GLO.pkl</td>\n",
       "      <td>Afghanistan,Sudan,Iraq</td>\n",
       "      <td>{'Afghanistan': 2, 'Argentina': 1, 'Australia'...</td>\n",
       "      <td>[BB3_Conflict]</td>\n",
       "      <td>[Afghanistan, Switzerland, United Kingdom, Gua...</td>\n",
       "      <td>[FF3_P&amp;SGroup4, FF3_P&amp;SGroup3, FF3_P&amp;SGroup1]</td>\n",
       "      <td>[FF3_PolGroup2, FF3_PolGroup4, FF3_PolGroup1, ...</td>\n",
       "      <td>[FF3_HDGroup1, FF3_HDGroup3, FF3_HDGroup4]</td>\n",
       "      <td>[FF3_CGroup1, FF3_CGroup3, FF3_CGroup4]</td>\n",
       "    </tr>\n",
       "  </tbody>\n",
       "</table>\n",
       "</div>"
      ],
      "text/plain": [
       "             doc_name            Country(ies)  \\\n",
       "0  0000-BOURI-GLO.pkl                  Global   \n",
       "1  0000-CARBO-GLO.pkl  Afghanistan,Sudan,Iraq   \n",
       "\n",
       "                                     countries_found B3_USAID Themes  \\\n",
       "0  {'Bangladesh': 1, 'Canada': 4, 'China': 1, 'Co...              []   \n",
       "1  {'Afghanistan': 2, 'Argentina': 1, 'Australia'...  [BB3_Conflict]   \n",
       "\n",
       "                     countries_limited_by_freq_found  \\\n",
       "0             [Canada, India, Kenya, Rwanda, Uganda]   \n",
       "1  [Afghanistan, Switzerland, United Kingdom, Gua...   \n",
       "\n",
       "                              Peace and security  \\\n",
       "0  [FF3_P&SGroup4, FF3_P&SGroup3, FF3_P&SGroup1]   \n",
       "1  [FF3_P&SGroup4, FF3_P&SGroup3, FF3_P&SGroup1]   \n",
       "\n",
       "                            Type of political system  \\\n",
       "0                     [FF3_PolGroup3, FF3_PolGroup1]   \n",
       "1  [FF3_PolGroup2, FF3_PolGroup4, FF3_PolGroup1, ...   \n",
       "\n",
       "                            Human Development  \\\n",
       "0  [FF3_HDGroup1, FF3_HDGroup4, FF3_HDGroup3]   \n",
       "1  [FF3_HDGroup1, FF3_HDGroup3, FF3_HDGroup4]   \n",
       "\n",
       "                                          Corruption  \n",
       "0  [FF3_CGroup1, FF3_CGroup2, FF3_CGroup4, FF3_CG...  \n",
       "1            [FF3_CGroup1, FF3_CGroup3, FF3_CGroup4]  "
      ]
     },
     "execution_count": 236,
     "metadata": {},
     "output_type": "execute_result"
    }
   ],
   "source": [
    "df_small_text[['doc_name', 'Country(ies)', 'countries_found', 'B3_USAID Themes', 'countries_limited_by_freq_found'] + names].to_excel(r\"C:\\Users\\Volha_Skidan\\projects\\HavosAi\\data\\Phase 2 Working Folder (EGM Documents)\\shri_f3_b3.xlsx\")\n",
    "df_small_text[['doc_name', 'Country(ies)', 'countries_found', 'B3_USAID Themes', 'countries_limited_by_freq_found'] + names].head(2)"
   ]
  },
  {
   "cell_type": "markdown",
   "id": "9295b381",
   "metadata": {},
   "source": [
    "#### DD1"
   ]
  },
  {
   "cell_type": "code",
   "execution_count": 114,
   "id": "b5c90a05",
   "metadata": {},
   "outputs": [],
   "source": [
    "from sentence_transformers import SentenceTransformer, util\n",
    "model = SentenceTransformer('all-MiniLM-L6-v2')\n",
    "\n",
    "# #Sentences are encoded by calling model.encode()\n",
    "# emb1 = model.encode(\"This is a red cat with a hat.\")\n",
    "# emb2 = model.encode(\"Have you seen my red cat?\")\n",
    "\n",
    "# cos_sim = util.cos_sim(emb1, emb2)\n",
    "# print(\"Cosine-Similarity:\", cos_sim)"
   ]
  },
  {
   "cell_type": "code",
   "execution_count": 115,
   "id": "ef529c08",
   "metadata": {},
   "outputs": [],
   "source": [
    "dd1 = {'Atmospheric': 'Hurricanes, Cyclones; Thunderstorms; Lightning; Hailstorms; Tornadoes; Windstorms; Dust and Sandstorms; Avalanches; Winter Storms; Cold / Exposure; Extreme Summer Heat; Global weather;',\n",
    "'Geologic': 'Landslides; Mudslides; Land Subsidence/ Sinkholes; Expansive Soils',\n",
    "'Hydrological': 'Floods and Flash Floods; Storm Surges; Coastal / Rapid Erosion; Droughts',\n",
    "'Seismic/Volcanic': 'Earthquakes; Tsunami; Volcanoes',\n",
    "'Fire': 'Wild-fire (Like one in Australia (in 2019-20), on the west coast USA (in different years), Amazon rainforest (2019), Bolivia (in 2010) that raise to level of emergency'}"
   ]
  },
  {
   "cell_type": "code",
   "execution_count": 116,
   "id": "8f5c061c",
   "metadata": {},
   "outputs": [],
   "source": [
    "dd1_vec = {}\n",
    "for k,v in dd1.items():\n",
    "    dd1_vec[k] = (v, model.encode(v))"
   ]
  },
  {
   "cell_type": "code",
   "execution_count": 117,
   "id": "f26d13fc",
   "metadata": {},
   "outputs": [
    {
     "data": {
      "text/plain": [
       "{'Atmospheric': ('Hurricanes, Cyclones; Thunderstorms; Lightning; Hailstorms; Tornadoes; Windstorms; Dust and Sandstorms; Avalanches; Winter Storms; Cold / Exposure; Extreme Summer Heat; Global weather;',\n",
       "  array([ 1.35502056e-03, -1.06719183e-02,  1.18134618e-01,  9.07463282e-02,\n",
       "          7.22367018e-02,  3.05825565e-02, -3.24492017e-03, -3.54234204e-02,\n",
       "         -6.71262145e-02,  3.75184417e-02, -3.89986346e-03, -6.20677061e-02,\n",
       "          4.81390394e-02, -3.22874896e-02,  2.02056998e-03,  2.99599650e-03,\n",
       "         -9.96088516e-03, -1.50179416e-02, -2.75018048e-02,  2.28969548e-02,\n",
       "          4.16095881e-03,  2.58005913e-02, -1.06209323e-01, -7.61048112e-04,\n",
       "          8.72455351e-03,  4.14940380e-02, -6.58783913e-02,  4.03817855e-02,\n",
       "         -4.18660231e-02,  6.01341855e-03, -7.31292069e-02,  3.54179218e-02,\n",
       "         -5.86518738e-03,  1.12433042e-02,  1.99079905e-02, -4.64048237e-02,\n",
       "         -2.45682709e-02,  2.19198857e-02, -1.12798242e-02,  5.85731901e-02,\n",
       "         -3.56711708e-02, -3.33761275e-02,  4.07477841e-02, -3.89926694e-02,\n",
       "         -5.29135810e-03,  3.75089556e-04, -6.44963905e-02, -1.17979273e-02,\n",
       "          8.48891155e-04, -1.24205165e-02, -4.30625444e-03,  5.62868221e-03,\n",
       "         -6.21807538e-02,  1.35112572e-02,  3.83278877e-02, -3.80417481e-02,\n",
       "         -2.13111844e-02, -6.09324165e-02,  6.35651648e-02,  9.67184454e-03,\n",
       "         -4.70121801e-02,  9.22235940e-03, -9.49719325e-02,  4.99866791e-02,\n",
       "          4.05073799e-02,  9.83909052e-03, -4.57441323e-02,  1.81733176e-01,\n",
       "          4.34918515e-02,  1.63540784e-02, -2.92822178e-02,  4.46686260e-02,\n",
       "         -1.77531946e-03,  1.62467286e-02,  3.20500992e-02, -3.40296812e-02,\n",
       "          2.62419861e-02, -5.15887812e-02,  9.09609348e-03, -3.58057283e-02,\n",
       "         -1.33677246e-02, -9.37750190e-03,  7.35822544e-02, -7.72820711e-02,\n",
       "          3.54265645e-02,  9.02960822e-02, -3.85931171e-02,  1.34299854e-02,\n",
       "          3.17157581e-02, -6.29378250e-04, -3.12132519e-02, -1.15971394e-01,\n",
       "          7.23316669e-02,  4.94541340e-02, -4.16312702e-02,  9.97818261e-02,\n",
       "          4.14386857e-03, -1.12756640e-01,  8.32745340e-03, -7.04720058e-03,\n",
       "          2.43307799e-02, -1.17553025e-01,  6.31706342e-02,  5.91319539e-02,\n",
       "         -2.44436841e-02, -4.65629324e-02, -5.00747794e-03, -7.87533075e-02,\n",
       "         -4.64454554e-02,  4.80414107e-02, -6.50779977e-02, -1.79116544e-03,\n",
       "          3.13346647e-02, -9.80741233e-02,  9.02931765e-02, -9.32650790e-02,\n",
       "         -3.16963159e-02,  1.12554738e-02, -1.76127441e-02, -1.46122379e-02,\n",
       "         -2.27810908e-02, -1.10985832e-02,  4.37303539e-03,  3.40758078e-02,\n",
       "          1.22416643e-02,  2.49661319e-02, -2.80401371e-02,  9.66109971e-34,\n",
       "          1.48106962e-01, -4.71132882e-02,  4.69360836e-02,  9.16326120e-02,\n",
       "          7.69551545e-02, -6.12663031e-02,  6.24941289e-03, -6.68167472e-02,\n",
       "          3.21538374e-02,  2.86111198e-02, -2.49363612e-02,  1.08202189e-01,\n",
       "         -2.18629092e-02,  7.99577385e-02, -1.05851106e-02,  4.74071205e-02,\n",
       "          3.31372209e-02, -2.14547701e-02, -5.10431975e-02,  8.19369480e-02,\n",
       "         -8.98492336e-02, -3.25383693e-02,  3.21194232e-02,  2.38158740e-02,\n",
       "          1.95400361e-02, -2.63271527e-03,  1.36814006e-02, -2.90542562e-02,\n",
       "         -2.04369109e-02,  1.56010101e-02,  1.03329532e-02,  3.64497267e-02,\n",
       "         -5.66252135e-02, -6.56485697e-03,  1.35835478e-04,  6.68599680e-02,\n",
       "         -1.39947115e-02,  3.19322683e-02, -5.25752315e-03, -8.28081917e-04,\n",
       "         -1.57599039e-02, -4.56394926e-02, -1.09238215e-01,  4.90516387e-02,\n",
       "          1.12682059e-01,  1.34933777e-02, -6.01583812e-03,  1.62406936e-02,\n",
       "          2.02324949e-02, -2.29260046e-02, -1.34910020e-04,  1.23272254e-03,\n",
       "         -5.28585874e-02, -3.91224176e-02,  3.31229940e-02,  1.44785315e-01,\n",
       "          3.73845473e-02, -5.80197796e-02, -7.24848360e-03,  1.67890489e-02,\n",
       "         -8.08864087e-02, -9.70878918e-03,  1.23022124e-01, -1.94683939e-01,\n",
       "          9.15348344e-03, -1.11704879e-02,  2.56375764e-02,  6.58498257e-02,\n",
       "         -4.63096425e-02, -5.92738427e-02,  4.89438826e-04, -5.11981081e-03,\n",
       "          4.09607068e-02,  4.87492122e-02,  7.73866847e-02,  1.71837974e-02,\n",
       "         -1.07188178e-02, -3.91587354e-02,  1.35151818e-02,  1.23672731e-01,\n",
       "         -9.73141342e-02,  4.01625177e-03,  1.02567151e-01,  3.81077081e-02,\n",
       "         -2.24713981e-02, -5.36564067e-02,  1.23884752e-02,  1.12288045e-02,\n",
       "         -3.84661667e-02, -5.33642527e-03, -7.84984306e-02,  4.17552181e-02,\n",
       "          1.18864186e-01, -1.54037317e-02, -6.73846006e-02, -3.48299674e-33,\n",
       "         -1.12022152e-02, -9.12053802e-04, -2.62274072e-02,  2.78516933e-02,\n",
       "         -3.20800953e-02,  4.99110995e-03, -1.39922664e-01,  3.74278389e-02,\n",
       "          2.24717446e-02,  3.65050361e-02, -1.12474924e-02,  3.75502482e-02,\n",
       "         -4.34907852e-03, -9.27053168e-02, -5.66401891e-02, -2.48074196e-02,\n",
       "         -5.73226810e-02,  6.37185350e-02, -7.23644868e-02,  1.35138016e-02,\n",
       "         -3.90414447e-02, -6.58591837e-03, -5.96668832e-02, -4.44828672e-03,\n",
       "         -3.03524621e-02, -1.72990747e-03, -6.62123831e-03, -5.04130907e-02,\n",
       "          5.85679933e-02,  1.23064341e-02, -6.82099536e-02,  4.69828881e-02,\n",
       "          2.13175528e-02,  3.88523936e-02, -5.53354695e-02,  3.50755006e-02,\n",
       "          6.11003898e-02, -1.02130800e-01, -3.29541452e-02, -4.00259085e-02,\n",
       "          6.50243983e-02,  2.49246340e-02,  1.52295977e-01, -7.80185778e-03,\n",
       "          3.00177280e-03, -4.03490998e-02, -6.76203147e-03,  5.05940802e-02,\n",
       "          1.12570012e-02, -1.98063497e-02,  3.04544549e-02, -5.07001840e-02,\n",
       "         -9.30104852e-02,  6.18208721e-02, -5.34263114e-03, -2.62189135e-02,\n",
       "          2.50092987e-02, -5.50234839e-02,  2.62257811e-02, -2.18233485e-02,\n",
       "         -3.46864690e-03, -8.84768553e-03, -2.74646133e-02,  2.83880457e-02,\n",
       "          6.48609698e-02, -7.98820779e-02, -3.69309895e-02, -7.96363354e-02,\n",
       "         -2.93903034e-02,  8.18618340e-04, -4.68955450e-02, -7.31409946e-03,\n",
       "         -1.01326518e-01, -3.80227640e-02,  8.41834992e-02,  4.56099212e-03,\n",
       "         -2.26099752e-02,  3.28022651e-02, -3.37745063e-02, -4.82857153e-02,\n",
       "         -1.77697954e-03, -9.25277174e-03, -3.48379835e-02,  1.14535481e-01,\n",
       "         -2.54843626e-02, -2.63193417e-02,  8.59187916e-02, -9.13344398e-02,\n",
       "          7.10759610e-02,  2.90811583e-02, -3.54258344e-02,  1.30380122e-02,\n",
       "         -1.51399744e-03,  4.19755187e-03, -1.16898147e-02, -2.58004427e-08,\n",
       "          3.28437686e-02,  6.42997175e-02, -3.26232356e-03, -1.75688937e-02,\n",
       "          5.96833527e-02,  2.12906711e-02,  2.35253498e-02,  6.14317227e-03,\n",
       "          4.04683575e-02,  5.56283332e-02,  5.98026253e-02,  6.61993399e-02,\n",
       "          9.17470735e-03, -2.75804345e-02,  4.85907756e-02, -6.06678687e-02,\n",
       "         -1.88677330e-02, -2.78954413e-02, -2.13036630e-02, -5.78061864e-02,\n",
       "          7.35976174e-03,  8.02294761e-02, -3.62412520e-02,  5.77137768e-02,\n",
       "          1.24412887e-01, -4.83640395e-02,  1.30593199e-02, -9.36917122e-03,\n",
       "          2.92671695e-02,  2.43822429e-02, -8.74520093e-02, -2.40379348e-02,\n",
       "         -5.35122193e-02, -9.85677540e-02, -3.73734608e-02,  4.44608890e-02,\n",
       "          1.19680548e-02, -2.71307081e-02, -1.62631944e-02, -1.01979906e-02,\n",
       "         -4.88982443e-03, -8.32646433e-03, -1.33514097e-02,  6.24303147e-03,\n",
       "         -5.59852235e-02, -4.55719978e-02, -4.26044427e-02, -2.09562518e-02,\n",
       "          1.07994955e-03,  8.83932132e-03, -1.55289350e-02, -3.74858035e-03,\n",
       "          6.16080128e-02,  4.24911221e-03,  2.35264581e-02,  3.20342556e-02,\n",
       "          1.39722573e-02, -2.04048343e-02,  6.72081709e-02, -7.59907216e-02,\n",
       "          1.91318076e-02, -2.17068871e-03, -1.12028755e-01,  8.02881345e-02],\n",
       "        dtype=float32)),\n",
       " 'Geologic': ('Landslides; Mudslides; Land Subsidence/ Sinkholes; Expansive Soils',\n",
       "  array([-5.50289219e-03, -2.15459932e-02,  1.26932070e-01, -4.94579040e-03,\n",
       "         -1.62541270e-02, -7.04062134e-02, -5.69464415e-02,  1.91906840e-02,\n",
       "         -2.89348084e-02,  2.71492242e-03, -3.01020667e-02, -3.97909656e-02,\n",
       "         -3.10572255e-02,  8.49685818e-03,  7.94571079e-03, -1.37737091e-03,\n",
       "         -4.34762351e-02,  3.74016389e-02,  2.89079994e-02, -3.55928484e-03,\n",
       "          1.62128359e-02,  5.16332164e-02, -5.11541329e-02, -6.21585082e-03,\n",
       "         -3.09606199e-03,  2.58863438e-02, -2.50295047e-02,  2.75351517e-02,\n",
       "          2.43400149e-02, -3.33231650e-02,  2.66828369e-02,  5.97315989e-02,\n",
       "          1.23509495e-02,  1.37200709e-02,  7.45861838e-03,  8.44263807e-02,\n",
       "         -1.93244833e-02,  4.78507057e-02, -7.24932225e-03,  6.89348206e-02,\n",
       "         -5.60935438e-02, -6.18003756e-02,  1.19606622e-01, -2.48392671e-02,\n",
       "          5.70677966e-02, -3.49116661e-02,  2.55927164e-02, -7.94379190e-02,\n",
       "         -1.74997933e-02, -4.93462309e-02,  5.18892147e-02, -7.65770115e-03,\n",
       "         -8.41004848e-02,  6.22585081e-02, -1.75897665e-02, -6.57451004e-02,\n",
       "         -2.16049738e-02,  6.32641092e-03,  4.16930467e-02, -2.16065552e-02,\n",
       "          6.51146472e-02,  5.36276493e-03, -6.14771992e-02,  1.47051848e-02,\n",
       "          5.90841360e-02,  2.88068689e-02, -4.79126610e-02,  7.93492794e-03,\n",
       "         -5.64654078e-03,  5.28554320e-02, -3.34669650e-02,  1.93771757e-02,\n",
       "         -2.08285954e-02, -4.22548018e-02,  3.66780050e-02, -4.85616289e-02,\n",
       "         -7.27895722e-02,  1.29162858e-04, -3.22687142e-02, -1.45683110e-01,\n",
       "         -2.57576220e-02,  9.20228660e-02,  6.06526025e-02, -9.80246738e-02,\n",
       "         -7.61260558e-03,  1.38495974e-02,  3.89355384e-02,  4.75485139e-02,\n",
       "          6.49779364e-02, -4.37068231e-02,  6.08750433e-02, -1.35950178e-01,\n",
       "         -5.12189697e-03,  3.61756869e-02, -1.16916746e-02,  3.25468071e-02,\n",
       "         -2.98839882e-02, -1.31577492e-01, -1.16111133e-02,  2.54034121e-02,\n",
       "         -2.45276149e-02, -2.47291625e-02,  6.01682998e-03,  2.48189978e-02,\n",
       "          2.28920300e-02,  2.48071644e-03, -5.85885122e-02,  1.28949378e-02,\n",
       "          3.04927174e-02,  9.57405716e-02, -2.88892295e-02, -7.58764371e-02,\n",
       "          3.20025496e-02, -2.82952357e-02,  1.28836767e-03, -9.19159651e-02,\n",
       "          6.18887693e-02, -1.41591998e-02, -4.47459705e-02, -7.08658621e-03,\n",
       "         -3.47758792e-02, -5.42510860e-02, -1.91398617e-02, -3.28261852e-02,\n",
       "          3.71599905e-02, -1.82139855e-02, -2.55625434e-02,  2.45012898e-33,\n",
       "          5.63222654e-02, -7.83601031e-02, -5.16128866e-03,  9.11631733e-02,\n",
       "          2.02157386e-02, -2.30839495e-02, -2.50041741e-03, -8.51447433e-02,\n",
       "          1.16017147e-03,  1.33131906e-01, -1.14392284e-02,  6.28328398e-02,\n",
       "         -5.02846949e-02,  5.13636656e-02,  5.18821888e-02,  1.32855242e-02,\n",
       "         -2.87400037e-02,  4.46933322e-02, -3.59496176e-02,  3.14423218e-02,\n",
       "          1.03524271e-02,  1.20261069e-02,  4.64208983e-02,  2.60464288e-03,\n",
       "          2.27099862e-02, -5.25600798e-02,  6.13040067e-02,  2.91303080e-02,\n",
       "         -3.26814912e-02, -1.23497089e-02,  4.41084942e-03, -6.76010363e-03,\n",
       "         -4.02261391e-02, -2.88224835e-02,  4.02219445e-02,  1.07135959e-01,\n",
       "         -1.96993705e-02, -3.90686765e-02, -1.00795655e-02,  4.36504633e-04,\n",
       "         -3.64983119e-02, -6.68617710e-02, -4.05831076e-02, -1.08969202e-02,\n",
       "          1.20652318e-01, -4.86762822e-02,  9.09167230e-02,  2.58777868e-02,\n",
       "          8.67231574e-04, -2.79099047e-02, -4.52899709e-02,  5.73250204e-02,\n",
       "         -4.83069457e-02, -2.13436931e-02,  5.52479550e-02,  2.92765666e-02,\n",
       "         -2.37074774e-02, -3.74369062e-02, -3.52333747e-02,  9.72846001e-02,\n",
       "          5.26298489e-03, -2.02476867e-02, -9.38222837e-03, -8.57176036e-02,\n",
       "         -5.51565699e-02, -3.75337265e-02,  5.04875109e-02,  5.06783389e-02,\n",
       "         -4.60346863e-02, -1.50962668e-02, -2.99132410e-02, -2.52903067e-03,\n",
       "          5.83998784e-02,  1.10352457e-01, -6.44033253e-02, -2.24471744e-02,\n",
       "         -3.50196809e-02, -1.29345274e-02,  2.43611704e-03,  2.87201349e-02,\n",
       "         -1.03693902e-01,  3.94019075e-02, -8.53583775e-03,  6.23403862e-02,\n",
       "          1.54870301e-02,  1.74864614e-03, -2.06391364e-02, -8.61351117e-02,\n",
       "          8.65862519e-03, -3.56457680e-02, -1.47640422e-01,  2.41555125e-02,\n",
       "          3.30519155e-02, -5.44967093e-02, -2.55542994e-02, -3.75573788e-33,\n",
       "         -8.43924433e-02,  2.04602834e-02, -1.30917534e-01,  7.17750788e-02,\n",
       "          6.14094315e-04,  8.13180953e-03, -2.86061428e-02,  1.14751719e-02,\n",
       "          4.65918221e-02, -1.90567188e-02, -8.52781311e-02,  1.40999898e-01,\n",
       "          8.03618729e-02, -1.05996944e-01, -4.95945774e-02, -5.18719628e-02,\n",
       "          6.40102942e-03, -1.02531299e-01,  3.39908302e-02,  4.15343717e-02,\n",
       "         -2.36956757e-02,  6.40646145e-02, -7.19646513e-02, -4.17527892e-02,\n",
       "          1.65994782e-02,  4.61602733e-02, -1.38578132e-01,  7.89976120e-03,\n",
       "         -2.89530661e-02,  9.59345140e-03, -2.68099420e-02,  2.28916369e-02,\n",
       "         -5.20729925e-03, -1.10295862e-01, -8.79253000e-02, -2.35417858e-02,\n",
       "          4.51611122e-03, -8.61210749e-02, -5.60199283e-02,  7.79151591e-03,\n",
       "          7.89951980e-02,  1.81299970e-02,  1.64626241e-01,  2.24862080e-02,\n",
       "          3.26089375e-02, -3.47536914e-02, -2.06222031e-02,  5.87352403e-02,\n",
       "          5.18870689e-02,  1.22120865e-02,  2.05731988e-02,  7.77989104e-02,\n",
       "          1.16388323e-02,  6.27421290e-02,  4.33723330e-02,  1.49569083e-02,\n",
       "          4.81692143e-03,  2.21713856e-02,  6.46531675e-03,  2.06171870e-02,\n",
       "         -1.13795989e-03,  7.84650296e-02, -2.70696450e-02,  5.70354573e-02,\n",
       "          1.81494821e-02, -5.45050437e-03, -7.95712695e-02, -3.67412157e-02,\n",
       "         -9.16245729e-02,  2.30064243e-02, -4.45837528e-02, -4.34949361e-02,\n",
       "          6.50641182e-03, -4.04092968e-02,  8.62936750e-02,  3.01337242e-02,\n",
       "          9.83012561e-03,  5.38309664e-02,  2.33413372e-02, -4.23999727e-02,\n",
       "         -1.38953244e-02, -1.80050483e-04,  3.69672216e-02,  8.06255937e-02,\n",
       "          3.14496905e-02,  6.40835464e-02, -2.19449960e-02, -1.40462682e-01,\n",
       "          7.30855688e-02,  3.49619500e-02, -2.16104407e-02, -6.47123009e-02,\n",
       "         -6.66548172e-03, -4.40635197e-02, -2.52155382e-02, -2.44595526e-08,\n",
       "          1.84952524e-02,  4.70601097e-02,  2.40173936e-02, -7.77450055e-02,\n",
       "         -1.82469245e-02, -2.35389434e-02,  1.00957781e-01,  1.46461025e-01,\n",
       "          3.20094600e-02, -2.11634859e-02, -3.84386256e-02,  7.64506385e-02,\n",
       "         -1.93599034e-02,  4.66331020e-02,  3.11735887e-02, -1.25591159e-02,\n",
       "         -4.99000121e-03,  2.37271711e-02, -9.09610689e-02, -2.42477302e-02,\n",
       "          1.66636948e-02,  1.49816163e-02, -4.33033854e-02, -5.06388396e-02,\n",
       "          4.39871177e-02, -2.12091096e-02, -1.59720685e-02, -1.99278221e-02,\n",
       "         -5.42537235e-02,  2.28967834e-02,  6.01668134e-02, -1.85727663e-02,\n",
       "          3.57891545e-02, -3.25783417e-02,  4.89890054e-02,  9.84992608e-02,\n",
       "          2.98280194e-02,  8.45845509e-03,  3.90382558e-02, -2.26120334e-02,\n",
       "         -1.55041423e-02,  1.48141738e-02,  6.21520095e-02, -4.59087430e-04,\n",
       "         -1.77270193e-02,  1.88875310e-02, -7.81671852e-02,  6.47209883e-02,\n",
       "          1.91999860e-02, -6.27335906e-02, -5.36592938e-02,  1.25346128e-02,\n",
       "         -1.47151984e-02,  3.41113508e-02,  1.36145890e-01,  9.65116732e-03,\n",
       "          2.51181554e-02, -2.83683669e-02,  1.89539474e-02,  5.88776022e-02,\n",
       "         -2.41511017e-02, -1.83940176e-02, -2.14312971e-03, -1.87948160e-02],\n",
       "        dtype=float32)),\n",
       " 'Hydrological': ('Floods and Flash Floods; Storm Surges; Coastal / Rapid Erosion; Droughts',\n",
       "  array([-1.11152241e-02,  9.39594768e-03,  1.26306713e-01,  5.82735315e-02,\n",
       "          3.58369239e-02,  2.18025055e-02, -5.78921139e-02, -5.54294512e-02,\n",
       "         -3.00348513e-02, -7.98944198e-03,  4.41252366e-02, -1.04464211e-01,\n",
       "          1.34626068e-02,  3.33035067e-02,  7.03093037e-03, -4.98378370e-03,\n",
       "         -1.14693016e-01,  1.89924352e-02,  2.09286734e-02,  8.56137183e-03,\n",
       "          2.44433861e-02,  5.36908545e-02, -1.44300953e-01, -2.51104627e-02,\n",
       "         -1.50990924e-02, -1.78735927e-02, -5.39037446e-03,  6.04403857e-03,\n",
       "         -4.97719646e-02, -5.11280075e-02, -5.00702038e-02,  5.36015444e-02,\n",
       "         -2.73715500e-02,  1.35679473e-03, -2.25328421e-03,  6.30613938e-02,\n",
       "          3.31302695e-02,  4.64489087e-02, -2.66837217e-02,  1.64246690e-02,\n",
       "         -1.99816190e-02, -1.07317939e-01,  7.74555057e-02, -2.66583767e-02,\n",
       "          4.67770696e-02, -3.50794499e-03,  2.66168788e-02, -1.88290770e-03,\n",
       "         -3.28055657e-02, -1.72880329e-02,  3.81705165e-02,  7.49327382e-03,\n",
       "         -7.82058835e-02, -3.21617164e-02, -6.13697292e-03, -8.37443322e-02,\n",
       "         -1.45199075e-02,  1.50824888e-02,  3.81836034e-02,  4.08285111e-02,\n",
       "          3.57910953e-02,  2.71847565e-03, -7.74343088e-02,  2.27196570e-02,\n",
       "          3.59164514e-02,  3.75184789e-02, -6.73072040e-02,  1.02849729e-01,\n",
       "          2.47274376e-02,  2.94184368e-02, -1.83271598e-02,  6.48761988e-02,\n",
       "         -1.08202389e-02, -2.78493110e-02, -2.39298586e-03, -1.11568376e-01,\n",
       "         -2.23057112e-03,  3.34365964e-02, -3.75263505e-02, -7.24273920e-02,\n",
       "          1.48753766e-02, -3.62429023e-02,  4.89227138e-02, -8.29176828e-02,\n",
       "          1.66669935e-02,  7.72133619e-02,  4.90092039e-02, -3.89285609e-02,\n",
       "          3.57518382e-02,  3.41282866e-04,  2.47868504e-02, -9.95409787e-02,\n",
       "          6.10894859e-02,  3.75556834e-02, -3.96016501e-02,  1.05163991e-01,\n",
       "          6.57196669e-03, -1.58795089e-01, -8.07193760e-03,  2.41886172e-02,\n",
       "          1.68854371e-02, -5.56464754e-02,  7.46499076e-02,  1.01512000e-02,\n",
       "         -4.87261685e-03, -7.20549673e-02, -4.83916029e-02, -5.92657598e-03,\n",
       "         -2.85875238e-02,  2.12888215e-02, -5.78634404e-02, -1.99430306e-02,\n",
       "         -3.09215151e-02, -5.54345474e-02,  2.28353534e-02, -3.46605629e-02,\n",
       "          2.07466073e-02, -6.09680414e-02,  1.85887031e-02, -4.21417058e-02,\n",
       "         -6.05795197e-02, -1.11949928e-02, -5.75998798e-02,  4.31524683e-03,\n",
       "          4.21575196e-02,  5.00047430e-02, -2.95085069e-02,  6.19575108e-34,\n",
       "          1.14122428e-01, -1.04361899e-01, -2.57133879e-02,  8.67223144e-02,\n",
       "          1.94379631e-02, -2.20433669e-03,  7.34124891e-03, -9.96361896e-02,\n",
       "         -1.73024852e-02, -4.11247499e-02,  4.88492288e-03,  3.77004296e-02,\n",
       "          5.00693498e-03,  9.78874713e-02,  3.12552787e-02, -7.87352473e-02,\n",
       "          4.25342582e-02, -1.51524032e-02, -3.17667127e-02, -2.24325787e-02,\n",
       "         -4.95967567e-02, -1.07191699e-02,  1.99569669e-02, -1.24424100e-02,\n",
       "         -1.68142822e-02, -4.89186943e-02,  7.83588365e-02, -1.54265920e-02,\n",
       "          2.57669762e-03,  4.00461592e-02,  6.25574635e-03, -2.02817121e-03,\n",
       "         -1.51097653e-02, -3.17091793e-02,  3.45561281e-02,  1.18494496e-01,\n",
       "         -8.49956553e-03, -3.17467302e-02,  3.66374999e-02,  2.75600329e-02,\n",
       "         -4.94182147e-02, -5.01768738e-02, -5.15806526e-02,  3.83316129e-02,\n",
       "          1.08651333e-01, -5.35788685e-02,  9.49278697e-02,  8.92368145e-03,\n",
       "          3.76390846e-04, -3.38633768e-02, -9.99913737e-03,  5.78894690e-02,\n",
       "         -9.23760161e-02, -4.35835868e-02,  4.44749370e-02,  5.44205345e-02,\n",
       "          9.88992862e-03, -3.56774256e-02,  3.10528628e-03,  4.61323597e-02,\n",
       "         -1.79890562e-02, -2.25376338e-02,  5.61948903e-02, -1.03076547e-01,\n",
       "          9.58741903e-02,  9.23775043e-03,  1.13525942e-01,  3.91173922e-02,\n",
       "         -4.43292819e-02, -4.33291569e-02, -7.15882927e-02, -5.80911152e-02,\n",
       "          4.16485071e-02,  3.15022282e-02, -1.62681155e-02,  7.65653839e-03,\n",
       "         -1.06865745e-02, -9.29047540e-03, -1.99566712e-03,  8.52267072e-02,\n",
       "         -8.85757729e-02,  3.22388066e-03,  1.49079598e-02,  2.97270399e-02,\n",
       "          2.93452553e-02,  1.29475845e-02,  1.10899443e-02, -5.89636080e-02,\n",
       "         -3.95854376e-03, -2.41013169e-02, -6.37166202e-02,  6.67222068e-02,\n",
       "          9.65404361e-02, -4.95555364e-02, -2.57226359e-02, -2.17803454e-33,\n",
       "         -2.47694794e-02,  3.09883878e-02, -5.39328717e-02,  4.67419252e-02,\n",
       "         -3.92203964e-02, -5.10401502e-02, -1.03304787e-02,  1.57274511e-02,\n",
       "         -5.03160409e-04, -2.67312787e-02, -1.31608024e-01,  5.69151193e-02,\n",
       "         -5.32854497e-02, -8.39107558e-02, -6.11942336e-02, -4.87854518e-02,\n",
       "          3.27264853e-02,  1.97443943e-02, -2.02281121e-02, -1.51072694e-02,\n",
       "         -2.44279560e-02,  4.24753465e-02, -7.85459112e-03,  1.76147893e-02,\n",
       "         -7.01173842e-02,  3.49245518e-02, -8.22124779e-02, -3.21633890e-02,\n",
       "         -4.41531464e-02,  7.93232769e-03,  2.38011056e-03,  5.45649454e-02,\n",
       "         -5.98105639e-02,  1.38926757e-02, -1.13372192e-01,  4.85993773e-02,\n",
       "          7.42797330e-02, -9.22585130e-02, -4.94844317e-02, -1.54890828e-02,\n",
       "          9.36701223e-02,  5.56838326e-03,  1.64643466e-01, -9.75188706e-03,\n",
       "          4.72104549e-02,  3.88147868e-02,  2.30204221e-03,  7.90081024e-02,\n",
       "         -2.64490694e-02,  2.05835272e-02,  9.71258152e-03, -1.32061448e-02,\n",
       "         -5.61268702e-02,  9.21597332e-02,  3.74272792e-03, -1.02587424e-01,\n",
       "          8.17979500e-02, -3.86198908e-02, -7.43061081e-02,  1.38039980e-03,\n",
       "         -5.02958708e-02,  4.53053005e-02, -1.56223672e-02,  1.46109834e-02,\n",
       "          6.31141663e-02, -5.28538302e-02,  1.73839703e-02, -1.91110317e-02,\n",
       "         -5.24287857e-03,  2.68985331e-02, -4.78147902e-03, -1.37022305e-02,\n",
       "         -1.06723867e-01, -2.63359770e-02,  3.56401093e-02,  1.73115563e-02,\n",
       "         -8.64833668e-02,  1.04453966e-01, -3.44008096e-02, -2.46908367e-02,\n",
       "          2.43598446e-02,  2.23605242e-02,  1.03516094e-02,  2.73280367e-02,\n",
       "         -1.07897222e-01, -2.24220864e-02,  6.70429319e-02, -1.24970175e-01,\n",
       "          1.28956452e-01,  4.06345427e-02, -8.09679627e-02,  2.83222203e-03,\n",
       "         -2.43925937e-02,  3.25391069e-02, -4.36439272e-03, -1.94281355e-08,\n",
       "          6.55778870e-02,  5.15258908e-02, -8.76146369e-03, -5.76971807e-02,\n",
       "          4.58487272e-02, -1.00969011e-02,  3.75004075e-02,  1.56443521e-01,\n",
       "          1.62703209e-02, -5.42024113e-02, -1.98047291e-02,  5.77439703e-02,\n",
       "          5.31203263e-02,  4.83161910e-03,  7.21940100e-02, -3.69545743e-02,\n",
       "          1.55853573e-02, -2.17323173e-02, -3.95795517e-02, -3.60141620e-02,\n",
       "         -4.76581557e-03,  6.75021484e-02, -3.53321768e-02,  1.87338274e-02,\n",
       "          6.55632094e-02,  1.88983548e-02, -3.56138870e-03,  6.55912608e-02,\n",
       "         -2.04556230e-02,  1.34532666e-02,  5.25873080e-02, -5.46022430e-02,\n",
       "         -1.35513337e-03, -4.00270782e-02, -9.09083709e-03,  6.31971359e-02,\n",
       "          2.10602321e-02, -2.14025043e-02, -3.50190885e-02, -1.94278322e-02,\n",
       "          1.99522115e-02,  4.70476300e-02,  3.84125449e-02,  3.02308071e-02,\n",
       "         -3.33403423e-02, -2.22158041e-02, -7.93836452e-03,  1.44640515e-02,\n",
       "          5.89144155e-02, -3.80017683e-02, -7.21529871e-02,  2.08446328e-02,\n",
       "          1.97365247e-02,  5.92045709e-02,  6.56237751e-02, -3.59696262e-02,\n",
       "          1.77022517e-02, -3.74133661e-02,  1.77823361e-02,  3.48554887e-02,\n",
       "          7.93706104e-02, -4.39508483e-02,  1.54785195e-03,  5.15531525e-02],\n",
       "        dtype=float32)),\n",
       " 'Seismic/Volcanic': ('Earthquakes; Tsunami; Volcanoes',\n",
       "  array([ 5.34812994e-02, -3.30518447e-02,  7.72022158e-02,  5.69279976e-02,\n",
       "          4.28790487e-02, -3.24396901e-02, -8.08664262e-02,  1.68903228e-02,\n",
       "         -1.36406980e-02, -5.17178979e-03,  3.59102935e-02, -1.14178039e-01,\n",
       "          3.79580669e-02,  1.88868344e-02, -1.69494115e-02, -4.11831737e-02,\n",
       "         -5.71137890e-02, -2.73089856e-02, -2.30297516e-03,  4.29790542e-02,\n",
       "          1.05505930e-02,  2.49328408e-02, -8.43961909e-02, -2.20890120e-02,\n",
       "          6.15289342e-03,  1.90108083e-02, -2.21437011e-02, -1.30497115e-02,\n",
       "         -4.71804962e-02, -5.48309945e-02,  4.03881585e-03, -7.80351385e-02,\n",
       "         -3.60938231e-03, -2.65745893e-02,  2.97064614e-02,  5.02687879e-02,\n",
       "          3.16160880e-02,  4.84432206e-02, -2.65108980e-02,  2.36550346e-02,\n",
       "         -6.85881749e-02, -5.33397533e-02,  5.50311469e-02, -5.72824269e-04,\n",
       "          1.84345245e-02,  1.22990068e-02,  5.62634692e-03, -6.61953911e-02,\n",
       "         -4.12420519e-02, -2.07912680e-02,  6.73175156e-02, -3.22997421e-02,\n",
       "         -7.02477023e-02, -1.47491824e-02, -8.47612135e-03, -1.31969705e-01,\n",
       "          6.30237674e-03,  4.50833067e-02,  5.48849478e-02,  3.08227204e-02,\n",
       "          9.20053422e-02,  1.71383508e-02, -5.55384234e-02, -2.41446425e-04,\n",
       "          6.77084029e-02, -4.27833613e-04,  4.34309691e-02,  8.61197338e-02,\n",
       "         -1.69148389e-02,  1.72013715e-02,  2.38478705e-02,  3.51294805e-03,\n",
       "          7.23705515e-02, -5.53673245e-02,  2.48880424e-02, -6.67809024e-02,\n",
       "         -2.01554727e-02, -6.28258521e-03, -3.94053683e-02,  4.23300080e-03,\n",
       "         -6.87506748e-04, -5.21031991e-02, -1.91178359e-02, -8.56587738e-02,\n",
       "          5.18928580e-02,  1.11395098e-01, -4.40226719e-02,  1.59300808e-02,\n",
       "          6.53488655e-03,  4.92813438e-02,  1.78471599e-02, -6.13295771e-02,\n",
       "          1.43650696e-01,  3.82197164e-02,  2.85647437e-02,  1.11854292e-01,\n",
       "         -5.57565577e-02, -6.53020665e-02,  3.96534950e-02,  2.94030588e-02,\n",
       "         -3.23913689e-03,  8.93747248e-03, -5.11698052e-03,  7.12401420e-02,\n",
       "          6.48897067e-02, -2.88264193e-02, -1.21934220e-01, -9.99373198e-03,\n",
       "         -1.09871943e-02,  7.35989958e-02, -6.48269281e-02, -8.42193328e-03,\n",
       "          3.59905586e-02, -4.28438671e-02,  3.65962349e-02, -6.89790696e-02,\n",
       "          1.79450214e-02, -4.07125056e-02, -6.15524985e-02, -4.15302850e-02,\n",
       "         -2.12047528e-02, -5.89164682e-02, -6.44763410e-02,  2.11195461e-02,\n",
       "         -3.80438305e-02, -5.70939621e-03, -7.87384436e-02, -1.67464397e-33,\n",
       "          1.05119295e-01, -3.10500823e-02, -8.42406228e-03,  1.06710708e-02,\n",
       "          1.82652008e-02,  8.02512281e-03, -6.04787134e-02, -4.82308976e-02,\n",
       "          6.44064136e-03, -1.66584998e-02, -1.96295418e-03,  6.64629266e-02,\n",
       "         -1.53742656e-02,  5.29154055e-02,  2.78747659e-02, -1.21595776e-02,\n",
       "          1.77513983e-03,  2.40367688e-02, -1.23506628e-01, -5.22284955e-02,\n",
       "         -4.87150531e-03, -5.92239760e-02, -8.72792676e-03,  2.05837823e-02,\n",
       "         -1.84294600e-02, -2.72704777e-03, -2.45660376e-02, -2.81720771e-03,\n",
       "         -1.16068060e-02, -2.04221010e-02, -3.71770449e-02,  3.08887456e-02,\n",
       "          9.80437826e-03, -1.02206124e-02,  3.37089412e-02,  3.26681025e-02,\n",
       "         -2.37309951e-02,  1.20183760e-02, -6.14204966e-02, -1.88190937e-02,\n",
       "         -8.54241289e-03, -1.77393705e-02, -5.82668334e-02,  7.91556016e-02,\n",
       "          1.47449821e-01, -1.74460858e-02,  7.33318850e-02,  5.83482720e-02,\n",
       "          4.29963358e-02, -5.02639636e-02, -5.64819612e-02, -2.41457601e-03,\n",
       "         -5.91405220e-02, -6.32987246e-02,  4.61976714e-02,  5.54146096e-02,\n",
       "          1.83113795e-02, -6.15871809e-02, -2.10748781e-02,  5.18298149e-02,\n",
       "         -3.80896702e-02, -1.46426726e-02,  4.84979302e-02, -5.26157990e-02,\n",
       "          2.06386279e-02,  3.80912051e-02,  8.44748840e-02, -3.60562950e-02,\n",
       "          1.76410023e-02, -6.68607373e-03, -4.17238846e-02,  7.37806186e-02,\n",
       "         -2.29129326e-02,  4.45339233e-02, -5.20842187e-02, -1.98252555e-02,\n",
       "         -9.57041234e-02, -4.65347292e-03, -7.53613710e-02,  7.95997456e-02,\n",
       "         -1.91017184e-02, -3.36850211e-02,  3.36509533e-02,  6.33819997e-02,\n",
       "          6.85514733e-02,  3.18263322e-02, -3.85481864e-03, -1.18470877e-01,\n",
       "         -3.98831666e-02,  1.96350925e-02, -1.27149343e-01,  1.14744352e-02,\n",
       "          1.33237720e-01, -3.99140455e-02, -5.12151942e-02,  8.10713842e-34,\n",
       "         -3.30004245e-02,  3.41519304e-02, -4.84199673e-02,  1.62347443e-02,\n",
       "          6.85254438e-03, -8.35942011e-03, -3.42100412e-02,  3.88676636e-02,\n",
       "         -3.78513522e-02, -7.71640916e-04, -5.20033240e-02, -5.03008403e-02,\n",
       "          2.34388150e-02,  1.14138250e-03, -8.80106390e-02, -4.58784541e-03,\n",
       "          8.94892141e-02, -1.97918210e-02, -2.97388658e-02,  1.28548229e-02,\n",
       "          5.23570040e-03,  9.19529051e-03, -6.46613389e-02,  9.19167511e-03,\n",
       "          3.85759585e-02,  5.66459037e-02, -8.40204060e-02, -7.47801736e-02,\n",
       "         -3.88958380e-02, -2.75068097e-02, -3.95267271e-02,  1.56717703e-01,\n",
       "         -6.90377131e-03, -1.85762756e-02, -7.02420697e-02,  9.40672383e-02,\n",
       "          3.31731029e-02, -3.54958549e-02,  3.46211232e-02, -1.27204033e-02,\n",
       "          7.88399205e-02,  9.58554298e-02,  1.13856569e-01,  1.05265722e-01,\n",
       "         -4.45838198e-02,  6.39592186e-02,  3.81515361e-02,  9.56377313e-02,\n",
       "          8.93910255e-05, -2.63732243e-02, -4.91272798e-03, -1.50849912e-02,\n",
       "         -4.19766568e-02,  4.89249490e-02,  1.05558619e-01,  1.67676248e-02,\n",
       "          4.31056283e-02, -3.17233354e-02, -5.82933947e-02, -8.09789076e-02,\n",
       "         -4.67539616e-02,  5.03792334e-03, -5.59072420e-02,  7.07740933e-02,\n",
       "          2.41129417e-02, -4.63663740e-03, -2.25777063e-03, -1.95286274e-02,\n",
       "         -6.17959984e-02,  2.69944184e-02,  1.27682239e-02, -7.21794181e-03,\n",
       "         -2.25766394e-02, -8.46978500e-02, -4.80236160e-03, -6.00886419e-02,\n",
       "         -4.72621843e-02,  9.00717005e-02, -2.09441260e-02,  8.41291528e-03,\n",
       "         -2.97186207e-02,  2.73254216e-02,  3.58330458e-02, -5.49316220e-03,\n",
       "         -2.97126006e-02, -1.87471509e-02,  6.35282397e-02, -9.73434597e-02,\n",
       "          5.89800850e-02,  2.96417437e-02, -9.71442759e-02,  9.68085229e-03,\n",
       "          3.67869772e-02, -1.15872398e-02,  4.60735784e-04, -1.24970514e-08,\n",
       "          1.42732009e-01,  2.80132238e-02, -7.48563260e-02, -6.21126704e-02,\n",
       "          1.82171911e-02,  2.45334115e-02,  1.44647798e-02,  1.01337373e-01,\n",
       "         -3.04674357e-02,  8.77727009e-03, -6.19647875e-02,  1.17156789e-01,\n",
       "         -2.56203450e-02, -9.82792769e-03,  2.81005409e-02, -4.24514562e-02,\n",
       "          3.25676315e-02,  2.10554693e-02, -2.37226523e-02, -3.17486003e-02,\n",
       "          2.84904391e-02,  5.33522256e-02, -1.98606009e-04,  1.84852835e-02,\n",
       "          1.18887879e-01,  6.99573848e-03,  1.63043831e-02,  9.92542971e-03,\n",
       "         -6.14244863e-03,  1.80250946e-02,  3.75706963e-02, -1.05784789e-01,\n",
       "         -7.52570033e-02, -6.87555969e-02, -2.56698113e-02,  8.32696632e-02,\n",
       "          3.63184954e-03, -2.44036820e-02, -2.16598697e-02, -6.56215549e-02,\n",
       "          5.37918434e-02,  3.40849645e-02,  7.83160552e-02,  5.41582033e-02,\n",
       "         -2.22601835e-02, -3.78267206e-02, -1.10089928e-02, -8.89684819e-03,\n",
       "          7.04175234e-02, -1.07419100e-02, -5.30200638e-02, -1.99099556e-02,\n",
       "          8.15109611e-02, -1.51719255e-02,  7.48273432e-02,  4.07063356e-03,\n",
       "          7.43291155e-02,  1.78379528e-02,  2.72386838e-02,  5.48930503e-02,\n",
       "          9.42136794e-02,  8.24800692e-04,  2.75204945e-02, -1.79437436e-02],\n",
       "        dtype=float32)),\n",
       " 'Fire': ('Wild-fire (Like one in Australia (in 2019-20), on the west coast USA (in different years), Amazon rainforest (2019), Bolivia (in 2010) that raise to level of emergency',\n",
       "  array([ 1.04027547e-01, -4.31685336e-03,  6.60965219e-03,  4.17511389e-02,\n",
       "          1.47456825e-01,  4.39250059e-02, -3.80020663e-02, -4.39858735e-02,\n",
       "         -5.57098398e-03,  1.40970334e-01,  4.64824438e-02, -4.65329960e-02,\n",
       "         -5.83106326e-03,  7.25364238e-02,  6.47913516e-02,  1.27925519e-02,\n",
       "         -7.94876143e-02, -1.25392601e-01, -2.81653497e-02,  1.86213776e-02,\n",
       "          2.28139665e-02,  6.60832450e-02,  2.72722021e-02,  1.86915994e-02,\n",
       "         -1.01087004e-01, -7.97298327e-02, -6.64165318e-02,  2.05603093e-02,\n",
       "         -3.55823757e-03, -2.34823618e-02,  5.50774969e-02, -6.38675457e-03,\n",
       "          5.15553867e-03,  4.97499146e-02, -1.25686554e-02, -4.64248210e-02,\n",
       "         -2.48953812e-02, -9.11072362e-03, -2.96064299e-02,  1.02509648e-01,\n",
       "         -1.64845623e-02, -2.79658083e-02,  1.37770334e-02, -8.81750733e-02,\n",
       "         -1.03368759e-01, -3.73201594e-02, -1.74554903e-02, -2.19350848e-02,\n",
       "          3.14233005e-02, -4.33011301e-04,  8.88468623e-02,  5.12299389e-02,\n",
       "         -1.22939378e-01,  1.48055963e-02,  1.85345020e-02, -6.41707629e-02,\n",
       "          1.79632641e-02, -7.65523314e-02,  2.06611678e-02, -5.83320595e-02,\n",
       "          7.88597614e-02, -4.63446006e-02, -7.63904080e-02, -9.44842864e-03,\n",
       "          1.34279244e-02, -8.81367456e-03, -6.45241141e-02,  5.35070971e-02,\n",
       "          7.99567178e-02, -1.03152059e-01, -2.29635127e-02, -3.52057740e-02,\n",
       "          4.28741053e-02, -1.71746314e-02, -3.85533497e-02,  2.08286289e-02,\n",
       "          5.66846356e-02,  9.89280939e-02,  1.69675462e-02, -1.53632951e-03,\n",
       "          4.22813073e-02, -6.38428181e-02,  5.47136404e-02,  1.35148200e-03,\n",
       "          1.84640270e-02,  4.69936728e-02, -5.54164015e-02,  4.45721066e-03,\n",
       "          6.58130422e-02,  1.60287898e-02, -4.82814498e-02, -3.79245281e-02,\n",
       "          1.25051335e-01,  1.31994039e-01, -1.03705212e-01,  3.07293124e-02,\n",
       "          8.15806687e-02, -2.85574608e-02, -2.09209397e-02, -5.74101619e-02,\n",
       "         -1.53581914e-03, -3.59302871e-02, -4.26666774e-02, -1.83576737e-02,\n",
       "         -5.91160636e-03, -4.73138061e-04, -1.23425454e-01,  1.24345198e-02,\n",
       "          9.83674079e-03, -4.01681177e-02, -4.95330729e-02,  3.03371307e-02,\n",
       "          6.20710216e-02,  4.09601331e-02, -4.27798778e-02, -1.98653266e-02,\n",
       "         -6.00637123e-03, -6.36984259e-02, -4.26582918e-02, -1.55351888e-02,\n",
       "          2.43269149e-02, -1.86166037e-02,  2.86069512e-02, -8.15341249e-03,\n",
       "          5.22922538e-02, -7.01750629e-03, -1.34647153e-02, -4.35988540e-33,\n",
       "          7.77360648e-02, -2.59856135e-02,  2.14522537e-02, -1.78641602e-02,\n",
       "          6.34815469e-02, -4.68643717e-02, -4.14564796e-02, -5.62918447e-02,\n",
       "         -5.78606725e-02,  4.08500247e-03, -2.63630729e-02,  5.06098419e-02,\n",
       "         -9.67780966e-03,  5.81669100e-02,  3.01417839e-02, -1.56368911e-02,\n",
       "         -2.53607798e-02,  3.54413595e-03, -7.36055151e-02,  1.77893881e-02,\n",
       "         -7.56817609e-02,  1.81593560e-02,  5.39694764e-02,  1.33920275e-02,\n",
       "          8.65618698e-03,  1.39871053e-02,  1.94829088e-02, -1.19077982e-02,\n",
       "          1.02748489e-02,  3.22176442e-02, -2.08685175e-02, -4.29763750e-04,\n",
       "         -4.57771458e-02, -1.03725910e-01, -5.09105390e-03, -3.22155990e-02,\n",
       "         -1.91379078e-02,  1.12038925e-02, -3.18880230e-02,  3.04741226e-02,\n",
       "          1.28366267e-02,  2.51422133e-02,  6.62201084e-03,  2.11459771e-02,\n",
       "          1.02850437e-01, -1.84520259e-02,  4.07292433e-02,  9.88018438e-02,\n",
       "         -2.50649489e-02,  5.62509708e-03, -1.34099394e-01,  2.98151746e-03,\n",
       "          4.03300710e-02, -3.50036658e-02,  8.18548631e-03,  6.28311187e-02,\n",
       "          3.61435302e-02, -3.59863997e-03,  4.80316319e-02,  1.48721207e-02,\n",
       "          3.55374850e-02, -3.10146599e-03, -1.94588453e-02,  8.90059676e-03,\n",
       "          2.31485870e-02, -3.42579968e-02,  1.68513939e-01, -1.22638177e-02,\n",
       "          2.72314027e-02,  2.01500524e-02,  3.45431678e-02,  4.15351540e-02,\n",
       "          2.93256547e-02,  4.74136099e-02, -4.16293507e-03, -2.88961064e-02,\n",
       "          8.68088454e-02, -2.76013426e-02, -1.94693208e-02,  6.66915402e-02,\n",
       "         -6.73570409e-02,  1.16806077e-02,  4.18092720e-02,  7.78808668e-02,\n",
       "         -9.15859826e-03, -2.36034356e-02, -5.37405126e-02,  1.09908450e-02,\n",
       "         -5.40073067e-02,  1.72305442e-02, -1.22686893e-01, -6.62453547e-02,\n",
       "          2.98860800e-02, -9.13751405e-03,  6.10036217e-02,  2.79056243e-33,\n",
       "          6.30361587e-02, -5.64601533e-02,  1.19232973e-02,  2.13300567e-02,\n",
       "          2.23699280e-05, -5.45751415e-02, -1.37958219e-02,  3.59250903e-02,\n",
       "         -1.51361506e-02,  3.09670419e-02, -4.38501611e-02,  6.96386099e-02,\n",
       "          8.66529122e-02,  1.49821611e-02,  2.59375535e-02, -5.85644916e-02,\n",
       "          2.83879023e-02, -3.38718928e-02, -5.09596467e-02, -5.25280125e-02,\n",
       "          1.41267749e-02, -1.72176026e-02, -4.94978502e-02,  8.26214440e-03,\n",
       "         -8.33897442e-02,  1.83334444e-02, -4.36264724e-02,  8.41119443e-04,\n",
       "         -6.72927946e-02, -8.93369988e-02, -6.85086846e-02,  8.74194875e-02,\n",
       "          1.26496116e-02, -1.26638217e-02, -1.21593811e-01,  2.12526806e-02,\n",
       "          5.34243062e-02, -1.05645962e-01, -1.68229640e-02, -3.15024480e-02,\n",
       "          9.11088511e-02,  7.10788518e-02,  4.28209119e-02,  2.56258674e-04,\n",
       "          2.00002901e-02,  4.63652099e-03, -3.30990739e-02,  2.41022985e-02,\n",
       "          4.83076163e-02,  4.51975279e-02, -2.90762028e-03, -3.87391038e-02,\n",
       "         -7.81324357e-02,  4.74570431e-02,  4.01650788e-03, -7.94990212e-02,\n",
       "         -2.65158620e-02,  2.68396437e-02, -6.07788153e-02,  6.37576077e-03,\n",
       "         -2.11520679e-03,  3.61134745e-02, -6.77233189e-02,  4.24729772e-02,\n",
       "         -4.15742770e-02, -1.37892971e-02, -2.60712001e-02, -1.93364546e-03,\n",
       "          2.85453591e-02,  3.77840884e-02,  7.85931200e-02,  1.63625591e-02,\n",
       "         -3.79887521e-02,  1.57745648e-02,  2.35043168e-02,  3.48169096e-02,\n",
       "         -9.70671512e-03, -3.51077653e-02,  5.49442805e-02,  4.51137684e-02,\n",
       "          6.90606423e-03,  4.66164239e-02, -2.80909091e-02,  7.94211924e-02,\n",
       "          1.30015295e-02,  7.35302716e-02, -4.73522581e-02, -5.33537492e-02,\n",
       "          1.65329054e-02,  6.56030998e-02, -8.68707225e-02, -1.43440645e-02,\n",
       "         -7.23525360e-02, -3.58927064e-02, -5.00201546e-02, -2.90685396e-08,\n",
       "          7.95099884e-02,  4.31385413e-02,  4.10915492e-03, -1.14949755e-02,\n",
       "          4.12466861e-02, -1.04166185e-02,  1.15233259e-02,  3.90414335e-02,\n",
       "          2.20664702e-02, -7.56878033e-03,  2.57649235e-02,  2.46808846e-02,\n",
       "          9.62065086e-02,  4.51537259e-02,  2.03260668e-02, -3.96512598e-02,\n",
       "          9.89601314e-02,  9.02201012e-02, -3.29526030e-02, -1.23962797e-02,\n",
       "         -6.99644461e-02,  8.72444063e-02,  7.41355196e-02, -5.56053827e-03,\n",
       "          3.38064432e-02, -3.32502685e-02, -3.63902636e-02, -2.59183142e-02,\n",
       "          2.17065718e-02, -3.91887221e-03, -1.05028716e-03, -7.27595538e-02,\n",
       "          2.43640738e-03, -4.01477665e-02, -3.93784493e-02,  2.19512358e-02,\n",
       "          4.28575557e-04, -8.25706217e-03, -6.82095215e-02, -9.24214795e-02,\n",
       "          1.14830695e-01, -5.56363799e-02,  5.66532649e-02, -3.62863019e-03,\n",
       "         -7.77951926e-02, -7.37223327e-02, -7.21048787e-02,  1.08829839e-02,\n",
       "          5.00760488e-02, -3.65720317e-02, -4.30876277e-02, -8.27388540e-02,\n",
       "          8.46585725e-03, -1.25606013e-02,  1.59764905e-02, -5.66080771e-02,\n",
       "         -4.64832596e-02, -6.36807606e-02,  8.31766725e-02,  2.47561559e-02,\n",
       "          9.25891921e-02, -6.65066168e-02, -7.62169287e-02,  5.13294302e-02],\n",
       "        dtype=float32))}"
      ]
     },
     "execution_count": 117,
     "metadata": {},
     "output_type": "execute_result"
    }
   ],
   "source": [
    "dd1_vec"
   ]
  },
  {
   "cell_type": "code",
   "execution_count": 118,
   "id": "ffd37705",
   "metadata": {},
   "outputs": [],
   "source": [
    "# import numpy as np\n",
    "# import matplotlib.pyplot as plt\n",
    "# from sklearn.decomposition import PCA\n",
    "# X = np.array(list(dd1_vec.values()))\n",
    "# pca = PCA(n_components=2).fit(X)\n",
    "\n",
    "# plt.scatter(X[:, 0], X[:, 1], alpha=0.3, label=\"samples\")\n",
    "# for i, (comp, var) in enumerate(zip(pca.components_, pca.explained_variance_)):\n",
    "#     comp = comp * var  # scale component by its variance explanation power\n",
    "#     plt.plot(\n",
    "#         [0, comp[0]],\n",
    "#         [0, comp[1]],\n",
    "#         label=f\"Component {i}\",\n",
    "#         linewidth=5,\n",
    "#         color=f\"C{i + 2}\",\n",
    "#     )\n",
    "# plt.gca().set(\n",
    "#     aspect=\"equal\",\n",
    "#     title=\"2-dimensional dataset with principal components\",\n",
    "#     xlabel=\"first feature\",\n",
    "#     ylabel=\"second feature\",\n",
    "# )\n",
    "# plt.legend()\n",
    "# plt.show()"
   ]
  },
  {
   "cell_type": "code",
   "execution_count": 119,
   "id": "6752b82c",
   "metadata": {},
   "outputs": [],
   "source": [
    "import re\n",
    "\n",
    "def calc_similar_dd1(s):\n",
    "    probability = {}\n",
    "#     text = ''\n",
    "#     for page in s[1:5]:\n",
    "#         if len(page) > 100:\n",
    "#             text += page\n",
    "    text = ' '.join(s[:5]) + ' '.join(s[-4:])\n",
    "    text = text.replace('\\n\\n', '.')\n",
    "    text = text.replace('\\n',\"\").replace('\\t',\"\")\n",
    "    for sent in text.split('.'):\n",
    "        if len(sent) < 20:\n",
    "            continue\n",
    "        sent_vec = model.encode(sent)\n",
    "        for label, vec in dd1_vec.items():\n",
    "            span, span_vec = vec\n",
    "            if label not in probability:\n",
    "                probability[label] = [0, '', '']\n",
    "            sim_score = util.cos_sim(span_vec, sent_vec)\n",
    "            if sim_score > probability[label][0]:\n",
    "                probability[label] = [sim_score, \"FOUND: \" + sent, \"DEFINITION: \" + span]\n",
    "    if len(probability) == 0:\n",
    "        return []\n",
    "    return list(sorted(probability.items(), key=lambda kv: kv[1][0], reverse=True))\n",
    "        \n",
    "\n",
    "df_small_text_test = df_small_text #.sample(n=2, random_state=3)\n",
    "df_small_text_test['dd1_labels'] = df_small_text_test['full_content'].apply(calc_similar_dd1)"
   ]
  },
  {
   "cell_type": "code",
   "execution_count": 120,
   "id": "3171c5c2",
   "metadata": {},
   "outputs": [
    {
     "data": {
      "text/html": [
       "<div>\n",
       "<style scoped>\n",
       "    .dataframe tbody tr th:only-of-type {\n",
       "        vertical-align: middle;\n",
       "    }\n",
       "\n",
       "    .dataframe tbody tr th {\n",
       "        vertical-align: top;\n",
       "    }\n",
       "\n",
       "    .dataframe thead th {\n",
       "        text-align: right;\n",
       "    }\n",
       "</style>\n",
       "<table border=\"1\" class=\"dataframe\">\n",
       "  <thead>\n",
       "    <tr style=\"text-align: right;\">\n",
       "      <th></th>\n",
       "      <th>doc_name</th>\n",
       "      <th>dd1_labels</th>\n",
       "    </tr>\n",
       "  </thead>\n",
       "  <tbody>\n",
       "    <tr>\n",
       "      <th>10</th>\n",
       "      <td>0000-MARGU-GLO.pkl</td>\n",
       "      <td>[(Hydrological, [tensor([[0.7021]]), FOUND:   ...</td>\n",
       "    </tr>\n",
       "    <tr>\n",
       "      <th>11</th>\n",
       "      <td>0000-NELSON-GLO.pkl</td>\n",
       "      <td>[(Hydrological, [tensor([[0.4119]]), FOUND:  H...</td>\n",
       "    </tr>\n",
       "    <tr>\n",
       "      <th>12</th>\n",
       "      <td>0000-PETER-GLO.pkl</td>\n",
       "      <td>[(Seismic/Volcanic, [tensor([[0.6474]]), FOUND...</td>\n",
       "    </tr>\n",
       "    <tr>\n",
       "      <th>13</th>\n",
       "      <td>0100-Spear-GLO.pkl</td>\n",
       "      <td>[(Fire, [tensor([[0.3242]]), FOUND:  create  a...</td>\n",
       "    </tr>\n",
       "    <tr>\n",
       "      <th>14</th>\n",
       "      <td>0112-CARBO-GLO.pkl</td>\n",
       "      <td>[(Hydrological, [tensor([[0.4407]]), FOUND:  T...</td>\n",
       "    </tr>\n",
       "    <tr>\n",
       "      <th>...</th>\n",
       "      <td>...</td>\n",
       "      <td>...</td>\n",
       "    </tr>\n",
       "    <tr>\n",
       "      <th>158</th>\n",
       "      <td>2109-BRITO-CLO.pkl</td>\n",
       "      <td>[(Seismic/Volcanic, [tensor([[0.5281]]), FOUND...</td>\n",
       "    </tr>\n",
       "    <tr>\n",
       "      <th>159</th>\n",
       "      <td>2109-Cozzo-GLO.pkl</td>\n",
       "      <td>[(Seismic/Volcanic, [tensor([[0.6442]]), FOUND...</td>\n",
       "    </tr>\n",
       "    <tr>\n",
       "      <th>160</th>\n",
       "      <td>2109-MAOR-GLO.pkl</td>\n",
       "      <td>[(Seismic/Volcanic, [tensor([[0.4299]]), FOUND...</td>\n",
       "    </tr>\n",
       "    <tr>\n",
       "      <th>161</th>\n",
       "      <td>2110-CBI-GLO.pkl</td>\n",
       "      <td>[(Seismic/Volcanic, [tensor([[0.4405]]), FOUND...</td>\n",
       "    </tr>\n",
       "    <tr>\n",
       "      <th>162</th>\n",
       "      <td>2110-OCHA-PHL.pkl</td>\n",
       "      <td>[(Seismic/Volcanic, [tensor([[0.4339]]), FOUND...</td>\n",
       "    </tr>\n",
       "  </tbody>\n",
       "</table>\n",
       "<p>153 rows × 2 columns</p>\n",
       "</div>"
      ],
      "text/plain": [
       "                doc_name                                         dd1_labels\n",
       "10    0000-MARGU-GLO.pkl  [(Hydrological, [tensor([[0.7021]]), FOUND:   ...\n",
       "11   0000-NELSON-GLO.pkl  [(Hydrological, [tensor([[0.4119]]), FOUND:  H...\n",
       "12    0000-PETER-GLO.pkl  [(Seismic/Volcanic, [tensor([[0.6474]]), FOUND...\n",
       "13    0100-Spear-GLO.pkl  [(Fire, [tensor([[0.3242]]), FOUND:  create  a...\n",
       "14    0112-CARBO-GLO.pkl  [(Hydrological, [tensor([[0.4407]]), FOUND:  T...\n",
       "..                   ...                                                ...\n",
       "158   2109-BRITO-CLO.pkl  [(Seismic/Volcanic, [tensor([[0.5281]]), FOUND...\n",
       "159   2109-Cozzo-GLO.pkl  [(Seismic/Volcanic, [tensor([[0.6442]]), FOUND...\n",
       "160    2109-MAOR-GLO.pkl  [(Seismic/Volcanic, [tensor([[0.4299]]), FOUND...\n",
       "161     2110-CBI-GLO.pkl  [(Seismic/Volcanic, [tensor([[0.4405]]), FOUND...\n",
       "162    2110-OCHA-PHL.pkl  [(Seismic/Volcanic, [tensor([[0.4339]]), FOUND...\n",
       "\n",
       "[153 rows x 2 columns]"
      ]
     },
     "execution_count": 120,
     "metadata": {},
     "output_type": "execute_result"
    }
   ],
   "source": [
    "df_small_text_test[['doc_name', 'dd1_labels']].iloc[10:]"
   ]
  },
  {
   "cell_type": "code",
   "execution_count": 121,
   "id": "d1d1c365",
   "metadata": {},
   "outputs": [],
   "source": [
    "# df_small_text_test[['doc_name', 'dd1_labels']].to_csv(\"small_dd1.csv\")"
   ]
  },
  {
   "cell_type": "code",
   "execution_count": 122,
   "id": "427dea56",
   "metadata": {
    "scrolled": true
   },
   "outputs": [
    {
     "data": {
      "text/html": [
       "<div>\n",
       "<style scoped>\n",
       "    .dataframe tbody tr th:only-of-type {\n",
       "        vertical-align: middle;\n",
       "    }\n",
       "\n",
       "    .dataframe tbody tr th {\n",
       "        vertical-align: top;\n",
       "    }\n",
       "\n",
       "    .dataframe thead th {\n",
       "        text-align: right;\n",
       "    }\n",
       "</style>\n",
       "<table border=\"1\" class=\"dataframe\">\n",
       "  <thead>\n",
       "    <tr style=\"text-align: right;\">\n",
       "      <th></th>\n",
       "      <th>dd1_labels</th>\n",
       "      <th>full_content</th>\n",
       "    </tr>\n",
       "  </thead>\n",
       "  <tbody>\n",
       "    <tr>\n",
       "      <th>0</th>\n",
       "      <td>[(Seismic/Volcanic, [tensor([[0.3040]]), FOUND...</td>\n",
       "      <td>[Unleashing Private \\nCapital for Global \\nHea...</td>\n",
       "    </tr>\n",
       "    <tr>\n",
       "      <th>1</th>\n",
       "      <td>[(Seismic/Volcanic, [tensor([[0.5487]]), FOUND...</td>\n",
       "      <td>[Privatisation and outsourcing in \\nwartime: t...</td>\n",
       "    </tr>\n",
       "  </tbody>\n",
       "</table>\n",
       "</div>"
      ],
      "text/plain": [
       "                                          dd1_labels  \\\n",
       "0  [(Seismic/Volcanic, [tensor([[0.3040]]), FOUND...   \n",
       "1  [(Seismic/Volcanic, [tensor([[0.5487]]), FOUND...   \n",
       "\n",
       "                                        full_content  \n",
       "0  [Unleashing Private \\nCapital for Global \\nHea...  \n",
       "1  [Privatisation and outsourcing in \\nwartime: t...  "
      ]
     },
     "execution_count": 122,
     "metadata": {},
     "output_type": "execute_result"
    }
   ],
   "source": [
    "df_small_text_test[['dd1_labels', 'full_content']].head(2)"
   ]
  },
  {
   "cell_type": "code",
   "execution_count": 123,
   "id": "47cc42e1",
   "metadata": {},
   "outputs": [],
   "source": [
    "from copy import deepcopy"
   ]
  },
  {
   "cell_type": "code",
   "execution_count": 124,
   "id": "208d499d",
   "metadata": {},
   "outputs": [],
   "source": [
    "import editdistance\n",
    "def normalized_levenshtein_score(a, b):\n",
    "    return 1 - editdistance.eval(a, b)/max(len(a), len(b)) if max(len(a), len(b)) > 0 else 1.0\n"
   ]
  },
  {
   "cell_type": "code",
   "execution_count": null,
   "id": "98692f0d",
   "metadata": {},
   "outputs": [],
   "source": []
  },
  {
   "cell_type": "code",
   "execution_count": 127,
   "id": "9a7f2c63",
   "metadata": {},
   "outputs": [],
   "source": [
    "def form_labels_dd1(row):\n",
    "    dd1_labels, full_content = row['dd1_labels'], row['full_content']\n",
    "    final_labels = []\n",
    "    explanation = []\n",
    "    for ind, val in enumerate(dd1_labels):\n",
    "        typ, found = val\n",
    "#         print(found)\n",
    "        sim, found_span, definition = found[0:3]\n",
    "        if sim < 0.45 and ind > 0:\n",
    "            continue\n",
    "        final_labels.append('DD1_' + typ)\n",
    "        save_ind = -1\n",
    "        for ind, page in enumerate(full_content[:5] + full_content[-4:]):\n",
    "            page = page.replace('\\n\\n', '.')\n",
    "            page = page.replace('\\n',\"\").replace('\\t',\"\")\n",
    "            for sent in page.split('.'):\n",
    "                if normalized_levenshtein_score(found_span.lower(), sent.lower()) > 0.6:\n",
    "                    save_ind = ind\n",
    "                    break\n",
    "        if save_ind == -1:\n",
    "            print('AAAAAAAAAAA')\n",
    "        new_exp = deepcopy(found[0:3])\n",
    "        page_str = f'PAGE: {save_ind}'\n",
    "        new_exp = [typ, new_exp + [page_str]]\n",
    "#         print(new_exp)\n",
    "#         new_exp = new_exp.append(f'PAGE: {ind}')\n",
    "#         print(new_exp)\n",
    "        explanation = explanation + new_exp\n",
    "    return final_labels, explanation\n",
    "\n",
    "df_small_text['D1_Natural'], df_small_text['D1_Natural Details'] = zip(*df_small_text_test[['dd1_labels', 'full_content']].apply(form_labels_dd1, axis=1))"
   ]
  },
  {
   "cell_type": "code",
   "execution_count": 128,
   "id": "22a800bf",
   "metadata": {},
   "outputs": [
    {
     "data": {
      "text/html": [
       "<div>\n",
       "<style scoped>\n",
       "    .dataframe tbody tr th:only-of-type {\n",
       "        vertical-align: middle;\n",
       "    }\n",
       "\n",
       "    .dataframe tbody tr th {\n",
       "        vertical-align: top;\n",
       "    }\n",
       "\n",
       "    .dataframe thead th {\n",
       "        text-align: right;\n",
       "    }\n",
       "</style>\n",
       "<table border=\"1\" class=\"dataframe\">\n",
       "  <thead>\n",
       "    <tr style=\"text-align: right;\">\n",
       "      <th></th>\n",
       "      <th>D1_Natural</th>\n",
       "      <th>D1_Natural Details</th>\n",
       "    </tr>\n",
       "  </thead>\n",
       "  <tbody>\n",
       "    <tr>\n",
       "      <th>0</th>\n",
       "      <td>[DD1_Seismic/Volcanic]</td>\n",
       "      <td>[Seismic/Volcanic, [[tensor([0.3040])], FOUND:...</td>\n",
       "    </tr>\n",
       "    <tr>\n",
       "      <th>1</th>\n",
       "      <td>[DD1_Seismic/Volcanic, DD1_Hydrological]</td>\n",
       "      <td>[Seismic/Volcanic, [[tensor([0.5487])], FOUND:...</td>\n",
       "    </tr>\n",
       "    <tr>\n",
       "      <th>2</th>\n",
       "      <td>[DD1_Seismic/Volcanic]</td>\n",
       "      <td>[Seismic/Volcanic, [[tensor([0.4409])], FOUND:...</td>\n",
       "    </tr>\n",
       "    <tr>\n",
       "      <th>3</th>\n",
       "      <td>[DD1_Seismic/Volcanic]</td>\n",
       "      <td>[Seismic/Volcanic, [[tensor([0.4871])], FOUND:...</td>\n",
       "    </tr>\n",
       "    <tr>\n",
       "      <th>4</th>\n",
       "      <td>[DD1_Seismic/Volcanic]</td>\n",
       "      <td>[Seismic/Volcanic, [[tensor([0.4871])], FOUND:...</td>\n",
       "    </tr>\n",
       "    <tr>\n",
       "      <th>...</th>\n",
       "      <td>...</td>\n",
       "      <td>...</td>\n",
       "    </tr>\n",
       "    <tr>\n",
       "      <th>158</th>\n",
       "      <td>[DD1_Seismic/Volcanic]</td>\n",
       "      <td>[Seismic/Volcanic, [[tensor([0.5281])], FOUND:...</td>\n",
       "    </tr>\n",
       "    <tr>\n",
       "      <th>159</th>\n",
       "      <td>[DD1_Seismic/Volcanic, DD1_Hydrological]</td>\n",
       "      <td>[Seismic/Volcanic, [[tensor([0.6442])], FOUND:...</td>\n",
       "    </tr>\n",
       "    <tr>\n",
       "      <th>160</th>\n",
       "      <td>[DD1_Seismic/Volcanic]</td>\n",
       "      <td>[Seismic/Volcanic, [[tensor([0.4299])], FOUND:...</td>\n",
       "    </tr>\n",
       "    <tr>\n",
       "      <th>161</th>\n",
       "      <td>[DD1_Seismic/Volcanic]</td>\n",
       "      <td>[Seismic/Volcanic, [[tensor([0.4405])], FOUND:...</td>\n",
       "    </tr>\n",
       "    <tr>\n",
       "      <th>162</th>\n",
       "      <td>[DD1_Seismic/Volcanic]</td>\n",
       "      <td>[Seismic/Volcanic, [[tensor([0.4339])], FOUND:...</td>\n",
       "    </tr>\n",
       "  </tbody>\n",
       "</table>\n",
       "<p>163 rows × 2 columns</p>\n",
       "</div>"
      ],
      "text/plain": [
       "                                   D1_Natural  \\\n",
       "0                      [DD1_Seismic/Volcanic]   \n",
       "1    [DD1_Seismic/Volcanic, DD1_Hydrological]   \n",
       "2                      [DD1_Seismic/Volcanic]   \n",
       "3                      [DD1_Seismic/Volcanic]   \n",
       "4                      [DD1_Seismic/Volcanic]   \n",
       "..                                        ...   \n",
       "158                    [DD1_Seismic/Volcanic]   \n",
       "159  [DD1_Seismic/Volcanic, DD1_Hydrological]   \n",
       "160                    [DD1_Seismic/Volcanic]   \n",
       "161                    [DD1_Seismic/Volcanic]   \n",
       "162                    [DD1_Seismic/Volcanic]   \n",
       "\n",
       "                                    D1_Natural Details  \n",
       "0    [Seismic/Volcanic, [[tensor([0.3040])], FOUND:...  \n",
       "1    [Seismic/Volcanic, [[tensor([0.5487])], FOUND:...  \n",
       "2    [Seismic/Volcanic, [[tensor([0.4409])], FOUND:...  \n",
       "3    [Seismic/Volcanic, [[tensor([0.4871])], FOUND:...  \n",
       "4    [Seismic/Volcanic, [[tensor([0.4871])], FOUND:...  \n",
       "..                                                 ...  \n",
       "158  [Seismic/Volcanic, [[tensor([0.5281])], FOUND:...  \n",
       "159  [Seismic/Volcanic, [[tensor([0.6442])], FOUND:...  \n",
       "160  [Seismic/Volcanic, [[tensor([0.4299])], FOUND:...  \n",
       "161  [Seismic/Volcanic, [[tensor([0.4405])], FOUND:...  \n",
       "162  [Seismic/Volcanic, [[tensor([0.4339])], FOUND:...  \n",
       "\n",
       "[163 rows x 2 columns]"
      ]
     },
     "execution_count": 128,
     "metadata": {},
     "output_type": "execute_result"
    }
   ],
   "source": [
    "df_small_text[['D1_Natural','D1_Natural Details']]"
   ]
  },
  {
   "cell_type": "markdown",
   "id": "5a73b980",
   "metadata": {},
   "source": [
    "#### DD2"
   ]
  },
  {
   "cell_type": "code",
   "execution_count": 139,
   "id": "23c9fcd4",
   "metadata": {},
   "outputs": [],
   "source": [
    "from sentence_transformers import SentenceTransformer, util\n",
    "model = SentenceTransformer('all-MiniLM-L6-v2')\n",
    "\n",
    "# #Sentences are encoded by calling model.encode()\n",
    "# emb1 = model.encode(\"This is a red cat with a hat.\")\n",
    "# emb2 = model.encode(\"Have you seen my red cat?\")\n",
    "\n",
    "# cos_sim = util.cos_sim(emb1, emb2)\n",
    "# print(\"Cosine-Similarity:\", cos_sim)"
   ]
  },
  {
   "cell_type": "code",
   "execution_count": 140,
   "id": "715201d5",
   "metadata": {},
   "outputs": [],
   "source": [
    "dd2 = {'War/conflict': 'Conflicts/ war, terrorism; or other domestic Civil War that lead to large displacement of people.',\n",
    "'Acts of terrorism': 'terrorism; these are incidences of mass violence that happen without warning that lead to feelings of confusion, fear, and helplessness in survivors; disturb the collective sense of order and safety, and may even impact those with no personal connections to the event',\n",
    "'Violence/Civil disruptions': 'At public places impacting a large number of people: Hostage-taking: like in school children h kidnapped in Nigeria); Bomb-explosion, Civil unrests/ riots; ',\n",
    "'Cyber terrorism': 'Cyber attacks; use of cyberspace to disrupt services (transportation, utility, and like), denial of internet and other services that are done online',\n",
    "'Transport/Structural failures': 'Transport/Structural failures; This can be any that are related to aviation, ships, train or other incidents where tunnels or bridge collapses; Dam / Levee Failure; Building Collapse; Fire in residential areas',\n",
    "'Energy/Utility failures': 'Fuel Shortage; Power Outage; Water Shortage; Communication Problems; Winter Storms o Cold / Exposure; Extreme Summer Weather, ',\n",
    "'Industrial accidents': 'These are incidences where nuclear plants or other chemical spills (like oil spills) happen',\n",
    "'Radiological/Biological':'Nuclear accidents, radiological WMD, biological / Chemical WMD'}"
   ]
  },
  {
   "cell_type": "code",
   "execution_count": 141,
   "id": "27aae82d",
   "metadata": {},
   "outputs": [],
   "source": [
    "dd2_vec = {}\n",
    "for k,v in dd2.items():\n",
    "    dd2_vec[k] = (v, model.encode(v))"
   ]
  },
  {
   "cell_type": "code",
   "execution_count": 142,
   "id": "1a71864e",
   "metadata": {},
   "outputs": [
    {
     "data": {
      "text/plain": [
       "{'War/conflict': ('Conflicts/ war, terrorism; or other domestic Civil War that lead to large displacement of people.',\n",
       "  array([ 1.00236684e-02, -5.13196876e-03,  3.49304453e-02,  2.21789759e-02,\n",
       "         -1.59727111e-02,  6.33624718e-02, -4.74743992e-02, -5.98235466e-02,\n",
       "         -2.53723636e-02,  1.17946547e-02,  4.77587394e-02, -2.74173194e-03,\n",
       "         -7.30762258e-03, -2.99709551e-02, -5.00328094e-03, -2.37261294e-03,\n",
       "         -5.73249906e-02, -5.81556968e-02,  1.01654995e-02,  2.18270533e-02,\n",
       "         -2.27804258e-02,  4.27983627e-02, -3.24474089e-02,  5.42429425e-02,\n",
       "          3.09100393e-02,  7.28788413e-03,  3.31043936e-02, -1.81383956e-02,\n",
       "         -2.30000876e-02, -1.07688066e-02,  7.30247945e-02,  5.16437255e-02,\n",
       "          2.36197766e-02, -3.49134316e-05,  1.86428837e-02,  3.53819393e-02,\n",
       "          8.02679639e-03,  9.05792639e-02, -5.01175411e-03, -8.49182159e-02,\n",
       "          3.26934606e-02, -2.21053101e-02,  6.95196316e-02, -2.15629414e-02,\n",
       "          2.38669924e-02,  2.58248337e-02,  3.19087952e-02, -5.86888269e-02,\n",
       "         -3.67916822e-02,  3.90359876e-03,  8.55220780e-02,  4.64306064e-02,\n",
       "         -3.75534929e-02,  8.88932943e-02,  4.50726673e-02, -1.33065343e-01,\n",
       "          3.73780765e-02,  4.28984826e-03,  3.12128440e-02,  6.20137937e-02,\n",
       "          1.08630899e-02,  5.13852797e-02,  8.03475454e-03,  1.06952675e-02,\n",
       "          5.37615567e-02, -5.51398471e-02,  3.35112326e-02,  8.08363035e-02,\n",
       "         -8.43575969e-02,  4.15121391e-02,  3.02789658e-02, -7.88252149e-03,\n",
       "         -4.32724580e-02,  1.39618618e-02,  3.76459248e-02, -1.37477443e-01,\n",
       "          2.78095845e-02, -2.40006065e-03,  2.60132048e-02, -2.25868095e-02,\n",
       "         -1.70357339e-02,  1.41263947e-01, -2.36584321e-02, -2.79062912e-02,\n",
       "          4.06195633e-02, -1.91321038e-02,  7.17295520e-03, -2.77957637e-02,\n",
       "          2.13494375e-02, -5.65234525e-03, -5.79215847e-02, -8.45118018e-04,\n",
       "          1.26674235e-01,  3.60454135e-02, -2.13842932e-03,  2.77231652e-02,\n",
       "          3.32207195e-02, -5.81508279e-02,  1.06514348e-02,  3.47916633e-02,\n",
       "          2.16154028e-02, -3.75293978e-02, -2.98829265e-02,  3.43754180e-02,\n",
       "         -1.06297061e-02, -9.71461087e-02, -6.40259832e-02, -4.32099551e-02,\n",
       "         -1.17607981e-01,  2.72227414e-02, -5.46227023e-02, -3.84561718e-02,\n",
       "         -7.51381144e-02, -4.18559238e-02,  3.18779759e-02, -1.83260087e-02,\n",
       "          6.55137375e-02, -7.78439492e-02,  1.07646054e-02,  1.18758855e-02,\n",
       "         -5.65997288e-02, -3.12111080e-02, -1.62850201e-01, -1.89402867e-02,\n",
       "         -3.56412232e-02, -3.10011264e-02, -6.82384744e-02, -1.84343081e-33,\n",
       "          8.11427645e-03, -1.28567010e-01, -5.31411320e-02,  9.75420550e-02,\n",
       "         -4.44610566e-02, -7.85412267e-02, -5.10678180e-02,  1.33642573e-02,\n",
       "          2.56320797e-02,  1.20991736e-03,  1.29527654e-02,  6.01995736e-02,\n",
       "          2.17830278e-02,  5.84223494e-02,  5.26208244e-02, -1.22390147e-02,\n",
       "         -1.08629324e-01,  8.71881321e-02, -1.38407517e-02, -3.13022695e-02,\n",
       "         -2.14022473e-02,  3.59924845e-02,  1.04153203e-02,  1.30802859e-02,\n",
       "         -2.57380828e-02, -2.82916054e-02, -4.33833450e-02, -2.58891247e-02,\n",
       "         -8.10255297e-03, -1.21991150e-03,  1.71975996e-02,  1.43446624e-01,\n",
       "          5.40728755e-02, -3.78764756e-02,  3.30237560e-02,  1.07924535e-03,\n",
       "         -2.28882711e-02, -9.77275241e-03, -4.55488078e-02,  5.25984308e-03,\n",
       "         -3.06029711e-02, -7.54232658e-03, -1.76217370e-02,  2.51235198e-02,\n",
       "          1.71744630e-01, -2.57398859e-02,  2.78191566e-02, -1.84705518e-02,\n",
       "         -1.72314718e-01,  5.11443131e-02,  1.09627945e-02, -3.12579074e-03,\n",
       "         -6.17947755e-03, -4.27342094e-02, -6.40297458e-02, -2.95969360e-02,\n",
       "         -3.68672870e-02,  1.04164602e-02, -2.86855437e-02, -9.57482122e-03,\n",
       "         -1.56101417e-02, -3.51734310e-02,  7.64003694e-02,  1.62043236e-02,\n",
       "          8.08176175e-02, -6.03626110e-02, -9.31373890e-03,  3.84480208e-02,\n",
       "         -8.07564408e-02,  2.05436326e-03,  1.05767278e-02,  4.43466641e-02,\n",
       "          5.31218462e-02,  7.67417857e-03,  1.39910984e-03, -6.63171196e-03,\n",
       "          1.22703752e-02, -6.70732604e-03, -2.52857804e-02, -2.24330593e-02,\n",
       "         -1.09917484e-01, -3.00499573e-02,  4.06382345e-02,  8.89205374e-03,\n",
       "          5.57620823e-02, -3.09468098e-02, -5.66059910e-02, -8.68659988e-02,\n",
       "         -9.63682123e-03, -3.53146121e-02, -5.40823117e-02,  3.05984393e-02,\n",
       "          3.30626853e-02,  1.41597511e-02, -5.94940316e-03, -8.48344079e-34,\n",
       "         -1.06038330e-02,  1.53120672e-02, -1.18661605e-01, -4.56105806e-02,\n",
       "          2.55885124e-02,  5.92494477e-03,  8.70834365e-02,  4.42197584e-02,\n",
       "         -3.75707820e-02,  6.28947243e-02, -8.66119191e-02, -9.73884389e-02,\n",
       "          6.65357485e-02,  7.85325244e-02, -6.51347935e-02, -5.49965799e-02,\n",
       "          5.80861233e-02, -6.45869924e-03,  2.61302423e-02,  6.96732849e-02,\n",
       "          2.08686460e-02,  3.33730541e-02, -6.81688935e-02, -4.11946774e-02,\n",
       "          3.54465470e-02,  1.44209452e-02, -8.76665190e-02, -3.54658887e-02,\n",
       "         -9.20126438e-02, -3.80649231e-02,  2.88684927e-02, -2.12309938e-02,\n",
       "         -1.00583015e-02, -4.17842045e-02, -4.68298234e-02,  8.79902169e-02,\n",
       "          1.09833144e-01, -5.27633652e-02,  2.18400825e-02, -6.96474016e-02,\n",
       "          2.11388003e-02,  9.08519328e-03,  6.26304448e-02,  5.14646024e-02,\n",
       "         -6.27087755e-03,  6.80449978e-02, -3.22883353e-02,  7.30688800e-04,\n",
       "         -2.88358629e-02, -6.17157109e-03,  1.62221380e-02,  1.99951660e-02,\n",
       "         -1.51957888e-02,  3.92256789e-02,  2.81365756e-02, -8.53882637e-03,\n",
       "         -5.28593212e-02, -1.36696482e-02, -6.64700717e-02,  3.02363653e-02,\n",
       "         -5.10952659e-02,  3.68912593e-02, -2.72636656e-02,  5.74898534e-02,\n",
       "         -2.09096335e-02, -2.42531449e-02, -1.08457848e-01, -1.71236265e-02,\n",
       "          6.30513355e-02,  1.64566562e-02,  2.58329771e-02,  2.61513237e-02,\n",
       "         -5.97541854e-02, -1.40881063e-02,  5.68714365e-02,  1.39294127e-02,\n",
       "          2.52822209e-02,  1.10280269e-03, -3.71248089e-03,  1.16900820e-02,\n",
       "          2.36607417e-02, -3.09155155e-02, -3.60909593e-03,  4.35018959e-03,\n",
       "         -1.32400721e-01,  2.95861289e-02,  1.59523245e-02,  6.90213442e-02,\n",
       "          3.07546631e-02,  1.16380258e-02, -8.57915059e-02, -5.50602749e-02,\n",
       "         -4.30256985e-02, -5.28966412e-02, -3.45034115e-02, -2.32827020e-08,\n",
       "          5.46569824e-02,  6.81864321e-02,  8.97580478e-03,  2.67373910e-03,\n",
       "          3.18550542e-02, -1.78579167e-02,  5.62773459e-02,  2.75075510e-02,\n",
       "          5.83362319e-02,  8.76629800e-02, -7.11679757e-02,  8.10019225e-02,\n",
       "          4.17979509e-02,  7.63736945e-03,  3.92250111e-03, -4.88280840e-02,\n",
       "          5.37796952e-02, -8.17923471e-02, -6.40782192e-02, -2.73463912e-02,\n",
       "          6.53963350e-03, -8.77918303e-03, -4.86964807e-02, -1.52863376e-02,\n",
       "          7.17789531e-02, -8.88199639e-03, -3.09102926e-02,  2.95108426e-02,\n",
       "         -1.80117898e-02, -2.71494482e-02,  6.24738410e-02, -6.59657549e-03,\n",
       "         -8.72311592e-02, -1.15803173e-02,  3.14369909e-02,  1.30790934e-01,\n",
       "         -3.41181383e-02, -4.75629754e-02,  5.09478077e-02, -1.16630830e-01,\n",
       "         -8.97762366e-03,  1.42815128e-01,  9.53813344e-02, -3.66972596e-03,\n",
       "          1.04306370e-01, -1.44613879e-02, -7.18180463e-02, -1.01732295e-02,\n",
       "         -4.41189967e-02, -4.15616781e-02, -2.15438511e-02,  3.79466563e-02,\n",
       "         -1.23056415e-02,  7.89747667e-03,  6.26946613e-02, -9.47187096e-03,\n",
       "          7.94700012e-02,  5.60583472e-02,  1.90475024e-02, -9.32359789e-03,\n",
       "          7.86356181e-02, -4.49368209e-02, -1.42031992e-02,  7.77081251e-02],\n",
       "        dtype=float32)),\n",
       " 'Acts of terrorism': ('terrorism; these are incidences of mass violence that happen without warning that lead to feelings of confusion, fear, and helplessness in survivors; disturb the collective sense of order and safety, and may even impact those with no personal connections to the event',\n",
       "  array([ 6.66695237e-02,  1.91018693e-02, -5.32654151e-02,  8.26831311e-02,\n",
       "          9.21681374e-02,  5.45036979e-02,  3.91166210e-02, -3.93955596e-02,\n",
       "          7.60737956e-02, -2.14693788e-03,  1.26097724e-01, -1.44487154e-02,\n",
       "          1.01230115e-01, -6.58013076e-02, -3.10653951e-02, -2.77446234e-03,\n",
       "          6.75382966e-04, -5.52318171e-02, -9.09027234e-02,  5.51866777e-02,\n",
       "          2.79755536e-02,  4.39771498e-03, -4.28575501e-02,  6.99441582e-02,\n",
       "         -6.39068037e-02,  1.84843373e-02,  2.94699911e-02,  1.96216591e-02,\n",
       "         -2.31780875e-02,  3.59488018e-02,  5.27405441e-02, -9.95083991e-03,\n",
       "         -2.38992721e-02,  4.53189239e-02,  3.38477865e-02,  1.80753894e-04,\n",
       "          4.86529730e-02, -1.24700461e-02,  1.36747444e-02, -5.54836877e-02,\n",
       "         -1.59028508e-02, -3.82212959e-02,  1.73821952e-02, -1.20964618e-02,\n",
       "         -1.68167371e-02, -3.64110470e-02, -1.18378460e-01, -1.38484221e-02,\n",
       "         -5.03037572e-02, -7.41567388e-02,  2.10458133e-02, -3.68069224e-02,\n",
       "         -5.49490452e-02, -2.28670090e-02,  2.36371700e-02, -1.61354303e-01,\n",
       "         -1.52645539e-02,  4.81563471e-02, -1.15130814e-02, -4.03661579e-02,\n",
       "         -5.73167298e-03,  2.33033542e-02,  1.54564623e-02, -7.39727262e-03,\n",
       "          7.30311777e-03,  2.88037341e-02,  6.22169040e-02,  5.98880500e-02,\n",
       "          8.31896886e-02,  5.63072786e-02,  5.93875870e-02, -4.74756397e-02,\n",
       "          2.02565510e-02,  7.71356886e-03, -1.96694788e-02, -7.67210647e-02,\n",
       "          1.67111047e-02, -6.66249320e-02, -6.67458251e-02,  6.02961406e-02,\n",
       "         -1.47029599e-02,  4.06136662e-02,  6.02411572e-03, -2.11365297e-02,\n",
       "          2.52581947e-02, -2.45441701e-02, -2.30819806e-02,  3.87635082e-02,\n",
       "          3.13376188e-02,  1.01520851e-01, -9.52400193e-02, -2.72666439e-02,\n",
       "          7.34412372e-02,  8.40558782e-02,  4.52248864e-02,  3.15509774e-02,\n",
       "         -7.37766502e-03, -8.06571916e-02,  1.50902700e-02,  1.20147113e-02,\n",
       "          1.04229720e-02, -3.46953869e-02, -6.64483085e-02,  6.82162121e-02,\n",
       "         -5.66122830e-02, -2.21381951e-02, -7.48168752e-02, -1.12625897e-01,\n",
       "         -1.12156816e-01, -1.56232780e-02, -8.25076923e-02,  7.45544021e-05,\n",
       "          4.38119331e-03, -1.01055637e-01, -2.65905424e-03,  6.25546277e-03,\n",
       "          8.60467926e-03, -1.66707970e-02,  7.09964428e-03, -2.79103890e-02,\n",
       "          2.03638747e-02, -4.97445650e-02, -3.21876560e-03, -2.98992102e-03,\n",
       "         -1.74032561e-02, -1.02716358e-02, -7.30748326e-02, -1.06365956e-33,\n",
       "          4.70284969e-02, -1.12263031e-01, -6.16774336e-02,  1.94379054e-02,\n",
       "          1.28737679e-02, -5.46777025e-02, -1.03878208e-01, -7.14048520e-02,\n",
       "          1.01099750e-02,  3.65858600e-02,  5.88929877e-02, -5.07751927e-02,\n",
       "          1.15204565e-01,  1.07148988e-02,  2.33622026e-02, -2.96370927e-02,\n",
       "          1.54557722e-02,  9.53829885e-02,  7.70452945e-03, -7.54022319e-03,\n",
       "         -5.26857674e-02, -1.18073002e-02,  2.00327709e-02,  4.74381894e-02,\n",
       "          1.00942412e-02,  1.91172399e-02, -3.98787037e-02,  2.68867090e-02,\n",
       "         -5.57288481e-03,  1.09302690e-02, -2.70256959e-02,  9.47244912e-02,\n",
       "          3.48670371e-02, -8.11060145e-02,  3.40708755e-02,  7.93764368e-02,\n",
       "         -6.10516891e-02, -2.40353793e-02, -8.57879873e-03, -5.79864308e-02,\n",
       "         -4.94883619e-02, -2.89194193e-02, -3.49198729e-02,  4.07162867e-02,\n",
       "          7.86702111e-02,  3.16507667e-02,  9.70194116e-03, -5.83382398e-02,\n",
       "         -9.25497264e-02, -1.27356835e-02, -1.62301324e-02,  1.93962036e-03,\n",
       "          2.67490316e-02, -8.03344231e-03, -2.62301490e-02,  2.48202290e-02,\n",
       "         -6.35603815e-03, -3.06359883e-02, -1.32397087e-02, -6.71954602e-02,\n",
       "          8.04588757e-03, -3.91222723e-02, -5.74290417e-02, -5.50119579e-02,\n",
       "          8.03576410e-02, -6.47618920e-02, -2.25804616e-02, -3.97847444e-02,\n",
       "         -7.46032456e-03, -2.36929394e-02, -4.35512550e-02,  3.96704040e-02,\n",
       "          3.97451110e-02, -1.54383983e-02,  2.21593082e-02,  1.85698702e-03,\n",
       "         -1.57187078e-02,  4.85597085e-03, -8.81746411e-03,  5.91341453e-03,\n",
       "         -2.35596988e-02, -3.25232893e-02,  6.70189559e-02, -1.24626625e-02,\n",
       "          5.64922206e-03,  6.95351809e-02, -5.45581691e-02, -2.38068178e-02,\n",
       "         -4.61049899e-02,  4.50165421e-02, -1.07432134e-03, -2.11073738e-02,\n",
       "          5.00383899e-02,  5.90040348e-02, -4.20741960e-02, -1.85855153e-33,\n",
       "         -1.30564300e-02,  3.32506299e-02, -1.15095787e-01,  5.23825176e-03,\n",
       "         -9.97800659e-03,  8.39487277e-03, -2.59415731e-02, -5.67557104e-03,\n",
       "         -2.98684333e-02,  1.57640055e-02, -7.67438933e-02, -6.91187307e-02,\n",
       "         -3.05290036e-02,  5.86018302e-02, -1.61119644e-02, -2.11963300e-02,\n",
       "          7.11945444e-02,  5.05297035e-02, -1.49559630e-02,  1.71317738e-02,\n",
       "          6.72527030e-02,  4.93765390e-03, -8.72206762e-02, -4.09371406e-02,\n",
       "          2.82768849e-02,  2.09817421e-02, -2.43246853e-02, -1.52696399e-02,\n",
       "         -1.13589056e-02, -5.40447384e-02,  8.86424184e-02,  5.36416657e-02,\n",
       "          6.81832954e-02, -8.66459915e-04,  1.94877330e-02,  1.35418028e-01,\n",
       "          1.03184111e-01, -3.72862965e-02, -1.47801265e-02, -3.36688310e-02,\n",
       "         -2.24615280e-02,  8.17890167e-02,  2.42574289e-02, -3.36754099e-02,\n",
       "         -2.30151098e-02,  4.45594192e-02,  1.01929441e-01,  3.15009914e-02,\n",
       "         -4.00062874e-02, -3.63845788e-02, -4.26394008e-02,  5.33571206e-02,\n",
       "         -3.67512256e-02, -2.59957765e-03,  8.17358345e-02, -4.22796980e-02,\n",
       "         -6.24935925e-02, -7.56334737e-02, -3.72412838e-02, -4.58622053e-02,\n",
       "         -5.08931815e-04, -1.46487644e-02, -6.10936098e-02,  7.26357773e-02,\n",
       "          8.86698253e-03,  4.01271395e-02, -1.06114805e-01, -3.76843773e-02,\n",
       "          5.81182390e-02,  3.44162323e-02,  3.86745222e-02, -5.29522728e-03,\n",
       "         -1.11322030e-01, -2.52599809e-02, -1.90919510e-03, -1.20818377e-01,\n",
       "         -7.43528381e-02,  7.73206800e-02, -2.46143434e-02,  3.39498222e-02,\n",
       "          5.90453036e-02, -5.77314496e-02, -3.21471915e-02,  6.77817911e-02,\n",
       "         -2.97915637e-02,  6.26358464e-02,  4.53105606e-02,  8.96892622e-02,\n",
       "         -2.30209194e-02, -1.77261606e-02, -9.83085111e-02, -3.11039090e-02,\n",
       "         -1.25694582e-02,  3.80360819e-02, -5.08270822e-02, -4.02996392e-08,\n",
       "          3.65396775e-02, -3.61068686e-03, -1.12509262e-02, -5.37344553e-02,\n",
       "          7.13978708e-02, -8.87108687e-03,  3.85937057e-02, -3.48522216e-02,\n",
       "         -2.18234453e-02,  6.12087846e-02, -2.67398432e-02,  7.68426945e-03,\n",
       "         -5.38472161e-02,  1.73204392e-02, -3.97302136e-02,  1.92230344e-02,\n",
       "          1.87921990e-02, -8.00686851e-02,  6.33611623e-03, -4.03226018e-02,\n",
       "          5.48350438e-02, -1.80561226e-02, -9.30008218e-02,  3.10926922e-02,\n",
       "          7.85041228e-02,  5.70024438e-02, -1.05287656e-02,  5.01665622e-02,\n",
       "         -5.70200384e-02,  5.35324439e-02, -2.20631529e-02, -7.18869129e-03,\n",
       "         -7.12569207e-02,  1.47098501e-03, -4.08782102e-02,  1.48009539e-01,\n",
       "          3.03468239e-02, -3.87308598e-02,  8.30580592e-02, -7.15143830e-02,\n",
       "          2.03708559e-02,  5.22669666e-02,  8.12146887e-02,  1.00644566e-01,\n",
       "          6.10638447e-02,  1.64890625e-02, -4.56517600e-02, -5.40619642e-02,\n",
       "         -4.01221924e-02, -4.02173251e-02,  1.49124563e-02,  5.02670463e-03,\n",
       "         -2.37947889e-03,  1.01293080e-01,  1.47084920e-02,  6.06167577e-02,\n",
       "          8.86082798e-02,  1.01669289e-01,  3.39477025e-02,  3.66052054e-02,\n",
       "          1.32391632e-01, -6.37857337e-03, -1.00785661e-02, -1.51116475e-02],\n",
       "        dtype=float32)),\n",
       " 'Violence/Civil disruptions': ('At public places impacting a large number of people: Hostage-taking: like in school children h kidnapped in Nigeria); Bomb-explosion, Civil unrests/ riots; ',\n",
       "  array([ 6.81949034e-02,  2.76914146e-02, -6.51991274e-03, -1.78729603e-03,\n",
       "          7.57695735e-02,  6.48622513e-02,  5.17227501e-02,  1.94588415e-02,\n",
       "         -2.16897912e-02,  5.92364371e-02,  1.07947513e-01,  5.48215918e-02,\n",
       "          1.49365477e-02, -2.18131933e-02,  8.43746141e-02, -5.36385104e-02,\n",
       "          6.10454455e-02, -5.17169014e-02, -4.62846048e-02, -1.42542729e-02,\n",
       "         -3.18948813e-02, -5.10563739e-02,  3.13240889e-04,  2.06901934e-02,\n",
       "         -4.41089533e-02,  1.02311596e-02,  2.32055411e-02, -4.72362228e-02,\n",
       "         -2.45822370e-02, -5.35331704e-02,  7.10238144e-02, -1.46970311e-02,\n",
       "          5.65417334e-02,  3.33481655e-02, -1.48447882e-02,  7.20414445e-02,\n",
       "          8.48412737e-02, -2.64166035e-02,  6.00575563e-03, -5.88289946e-02,\n",
       "          6.20402843e-02, -2.80256313e-03,  3.36900004e-03, -8.11890438e-02,\n",
       "          6.37817532e-02, -5.25692664e-02,  2.60961000e-02,  6.23006187e-02,\n",
       "         -5.16569465e-02, -1.20124690e-01,  3.79769169e-02,  1.86092816e-02,\n",
       "         -8.13035816e-02,  6.05673417e-02, -2.42260564e-02, -1.80127427e-01,\n",
       "         -2.82023549e-02,  1.28642339e-02,  3.69486511e-02, -2.20204461e-02,\n",
       "         -3.63636948e-02,  5.87841421e-02, -9.09831841e-03,  3.28754559e-02,\n",
       "          4.33585122e-02, -2.60624234e-02,  1.07221849e-01,  5.83909005e-02,\n",
       "          4.03702110e-02,  8.28631818e-02,  5.19936047e-02,  1.15116490e-02,\n",
       "          4.55026887e-02, -3.87484357e-02, -4.91452590e-03, -3.75521593e-02,\n",
       "         -2.49666851e-02, -9.42415092e-03,  2.80601578e-03,  1.01797981e-02,\n",
       "          5.80697358e-02, -5.66622950e-02,  1.15142763e-02, -4.38382663e-02,\n",
       "         -2.04537977e-02, -3.42080146e-02,  5.98439015e-03, -4.55714054e-02,\n",
       "          1.03840968e-02,  9.74927470e-03, -3.12389061e-02,  4.17055264e-02,\n",
       "          1.20876819e-01,  6.01481497e-02, -4.38092500e-02, -3.37757207e-02,\n",
       "         -4.39483002e-02, -1.15825636e-02,  3.16300653e-02,  5.28239459e-02,\n",
       "         -6.17608875e-02,  3.04245707e-02,  3.63984555e-02, -3.64972353e-02,\n",
       "         -2.08507339e-03, -2.80842818e-02, -1.22385118e-02, -7.56039992e-02,\n",
       "         -9.20253471e-02,  6.10138364e-02, -1.09785765e-01,  7.59443920e-03,\n",
       "          2.04645079e-02, -6.27051294e-02,  7.13901445e-02, -6.36265278e-02,\n",
       "         -1.11245839e-02, -5.71630783e-02, -7.36199692e-02, -1.40437605e-02,\n",
       "          5.82760349e-02, -7.08593950e-02, -8.70509446e-02,  2.02740058e-02,\n",
       "         -7.05441460e-02,  3.16639133e-02, -8.61218423e-02,  4.35090316e-34,\n",
       "         -5.28276414e-02, -1.09317333e-01, -2.43094135e-02,  9.07779559e-02,\n",
       "          9.65226907e-03, -3.48577611e-02, -6.09240085e-02, -6.07184600e-03,\n",
       "          7.98688233e-02,  5.21465056e-02,  6.03659600e-02, -5.60019426e-02,\n",
       "          7.69593790e-02,  7.76091889e-02, -1.98790850e-03, -1.32487286e-02,\n",
       "         -3.81687619e-02,  7.44166002e-02, -7.35416636e-03,  7.45202377e-02,\n",
       "         -6.83493959e-03, -7.94860628e-03, -1.77133866e-02,  8.22846740e-02,\n",
       "          3.70773859e-02,  3.14855091e-02, -1.11742103e-02, -5.74191893e-03,\n",
       "          5.55527359e-02, -7.61607662e-03,  7.01714903e-02,  7.66694639e-03,\n",
       "         -4.53638583e-02, -1.59101319e-02,  2.89881486e-03, -3.42062861e-02,\n",
       "          1.82788651e-02, -4.66393977e-02,  4.83829482e-03, -2.80215908e-02,\n",
       "         -1.03862748e-01,  1.17427073e-02, -7.10344613e-02,  7.13850707e-02,\n",
       "          4.33030613e-02,  5.52466623e-02,  3.53947841e-02, -3.98138426e-02,\n",
       "         -8.99265930e-02,  2.84894202e-02, -5.00180498e-02, -2.31793318e-02,\n",
       "         -3.10509596e-02, -5.21909781e-02, -2.59776670e-03, -5.90288034e-03,\n",
       "         -2.00454779e-02, -1.75638963e-02,  6.53956607e-02, -3.44604477e-02,\n",
       "          1.73000544e-02,  2.48915888e-02,  2.39859000e-02, -2.87622269e-02,\n",
       "          1.00481637e-01, -8.41555968e-02,  4.08324264e-02, -1.31546985e-02,\n",
       "          1.88617967e-02, -7.81675708e-03,  3.73947099e-02,  5.65624349e-02,\n",
       "         -3.60463373e-02, -3.28203849e-03, -4.17275988e-02, -1.73241366e-02,\n",
       "          1.52640501e-02, -4.97385710e-02,  5.38168587e-02,  8.58021826e-02,\n",
       "         -5.59840314e-02, -8.07428658e-02,  9.81314778e-02, -6.91800332e-03,\n",
       "          1.89926121e-02,  4.51195836e-02, -2.90642083e-02, -6.06007352e-02,\n",
       "         -4.09975760e-02,  2.67809574e-02, -8.43535643e-03,  1.05181672e-02,\n",
       "          1.54903121e-02, -1.22892042e-03, -3.84651460e-02, -1.70900899e-33,\n",
       "         -7.15276785e-03,  2.92602275e-02, -8.91600400e-02, -3.33316741e-03,\n",
       "          2.65268330e-03,  6.13798313e-02, -3.17114815e-02, -2.64183823e-02,\n",
       "         -1.22942997e-03,  9.88430250e-03, -1.57563686e-01, -5.30273207e-02,\n",
       "          8.80565271e-02,  5.16097285e-02,  3.58502604e-02, -8.93691555e-02,\n",
       "          1.21588394e-01,  2.14040242e-02, -9.36866924e-02,  4.97912504e-02,\n",
       "         -3.83277461e-02, -2.19908189e-02, -8.09592828e-02,  2.25872677e-02,\n",
       "         -9.42962826e-04,  1.20033128e-02, -1.02190994e-01, -6.78642988e-02,\n",
       "         -9.52700712e-03, -1.77238602e-02,  3.19605768e-02,  4.36461605e-02,\n",
       "         -1.74393170e-02,  8.74568522e-02, -4.88336086e-02,  6.59345761e-02,\n",
       "          7.48272017e-02,  1.15503278e-03, -2.23975349e-02, -6.87893480e-02,\n",
       "         -1.69542134e-02,  3.35751623e-02, -1.87852196e-02,  4.23892550e-02,\n",
       "         -7.17924312e-02,  8.00391436e-02, -1.48637695e-02,  2.53273994e-02,\n",
       "         -1.23125874e-02, -6.49777427e-03, -2.34021619e-02,  8.86967704e-02,\n",
       "         -8.42912793e-02, -1.62121560e-02,  4.70196940e-02,  3.37927486e-03,\n",
       "          5.33525646e-03, -1.23632610e-01,  5.77966217e-03,  2.65375227e-02,\n",
       "         -3.88806537e-02, -2.63104793e-02, -8.16437975e-03,  3.25420983e-02,\n",
       "         -2.28838269e-02, -3.38154323e-02, -9.18758139e-02, -7.11195394e-02,\n",
       "          2.57083159e-02,  1.03518423e-02,  1.37076145e-02, -9.59704455e-04,\n",
       "         -1.67928431e-02, -9.05375369e-03, -5.90198450e-02,  1.50379781e-02,\n",
       "          1.36920270e-02,  1.23148546e-01,  4.44743596e-03,  2.93037370e-02,\n",
       "          5.64762093e-02, -5.74458651e-02, -6.19852692e-02, -9.44036022e-02,\n",
       "         -5.82845248e-02,  9.16713998e-02,  1.06080927e-01, -1.27146970e-02,\n",
       "         -3.96252684e-02, -3.38502391e-03, -8.53967965e-02, -7.25098327e-02,\n",
       "         -3.95662636e-02,  8.78610741e-03,  9.48221050e-03, -2.88537017e-08,\n",
       "         -2.02576593e-02, -3.79575137e-03,  6.48943484e-02, -1.45402113e-02,\n",
       "          4.93104085e-02,  4.46358547e-02, -3.15207290e-03,  5.28750122e-02,\n",
       "         -5.64882196e-02,  5.73386624e-02, -2.80413032e-02,  4.04509529e-02,\n",
       "          2.25217268e-02,  5.57418838e-02,  1.22789992e-02,  3.23687051e-03,\n",
       "          1.47139207e-02, -4.38461974e-02, -6.26381040e-02, -2.23352015e-02,\n",
       "          7.60780182e-03,  1.43227167e-02, -2.83355918e-02, -1.64315663e-02,\n",
       "          1.24310680e-01, -1.57560054e-02, -4.24908623e-02,  2.06414163e-02,\n",
       "          6.35460904e-03,  1.34088276e-02,  7.90928397e-03, -3.28869224e-02,\n",
       "         -8.53622630e-02, -2.56629735e-02,  9.43121165e-02,  4.21733148e-02,\n",
       "          3.85583192e-02,  2.64228433e-02, -3.38199758e-03, -3.14069092e-02,\n",
       "         -1.01770600e-02,  1.36694908e-02,  9.69261378e-02,  5.19449636e-02,\n",
       "          5.85708022e-02,  2.86132731e-02, -4.71386835e-02,  5.42408898e-02,\n",
       "         -6.54075518e-02, -5.36683165e-02, -3.34067941e-02, -3.52612026e-02,\n",
       "         -2.40248218e-02,  1.12593817e-02,  6.82329312e-02,  3.90810845e-03,\n",
       "          4.72225472e-02,  5.95930964e-02,  2.96594370e-02,  4.65949550e-02,\n",
       "          6.03069738e-02, -2.36635413e-02, -1.05571568e-01,  4.68918383e-02],\n",
       "        dtype=float32)),\n",
       " 'Cyber terrorism': ('Cyber attacks; use of cyberspace to disrupt services (transportation, utility, and like), denial of internet and other services that are done online',\n",
       "  array([ 3.62461107e-03, -6.95303008e-02,  4.95538265e-02, -7.27824569e-02,\n",
       "         -1.31531097e-02,  6.30897135e-02,  9.57260728e-02, -2.28304621e-02,\n",
       "          5.50039783e-02, -1.36460373e-02,  4.53977920e-02,  4.91047055e-02,\n",
       "          2.45020818e-02, -1.50158331e-02,  5.66273220e-02, -4.07338664e-02,\n",
       "          6.40613139e-02, -5.27536049e-02, -1.83011703e-02, -9.55301896e-03,\n",
       "          4.23100889e-02,  1.32053858e-02, -4.82576303e-02,  1.83484722e-02,\n",
       "         -5.99884912e-02,  1.87052097e-02, -1.87437795e-02, -5.40203042e-02,\n",
       "         -5.46804816e-02, -1.16915042e-02,  1.06345005e-02,  5.32043688e-02,\n",
       "         -1.33582866e-02, -2.28165975e-03, -6.89801723e-02, -9.03059766e-02,\n",
       "          2.02988125e-02,  9.28983539e-02,  8.04784447e-02, -5.08176573e-02,\n",
       "          5.26290480e-03, -1.18417896e-01,  1.73907503e-02, -3.91456336e-02,\n",
       "         -1.55030163e-02, -6.91403002e-02, -1.29837580e-02, -2.22995188e-02,\n",
       "         -6.10756455e-03, -4.76435199e-02,  3.64259258e-02,  1.75988097e-02,\n",
       "         -3.97529686e-03,  7.24267215e-02,  4.87156808e-02, -1.38939038e-01,\n",
       "          4.38631251e-02,  6.55906349e-02,  8.40044096e-02,  6.07235963e-03,\n",
       "          1.35224871e-02,  1.32958498e-02,  6.10786350e-03,  1.20493956e-01,\n",
       "          7.28933588e-02,  1.58387069e-02,  3.65202338e-03,  8.34920704e-02,\n",
       "          5.92756793e-02,  1.16885260e-01, -3.05494387e-02,  3.05011179e-02,\n",
       "         -3.94961312e-02,  7.22342590e-03,  8.11721087e-02, -9.15835947e-02,\n",
       "         -1.34174628e-02, -3.31513025e-02,  6.54800534e-02,  2.03184853e-03,\n",
       "          7.98070356e-02,  2.50458885e-02,  2.45836284e-02,  5.11531485e-03,\n",
       "         -6.96128532e-02,  3.38703059e-02, -5.20526767e-02, -3.38032506e-02,\n",
       "          5.90251535e-02, -2.49355324e-02,  3.44727337e-02,  4.53919210e-02,\n",
       "          6.06033206e-02,  6.05604164e-02, -2.32916605e-02, -6.91475868e-02,\n",
       "         -4.76145521e-02, -9.35866460e-02,  1.63434464e-02,  3.25922370e-02,\n",
       "         -6.23159343e-03,  3.36431786e-02,  3.49492617e-02, -1.82895884e-02,\n",
       "         -2.07529180e-02, -2.41333479e-03, -1.80281140e-02, -1.06690563e-02,\n",
       "          3.32914740e-02,  3.55520025e-02, -9.70477611e-02, -5.39959110e-02,\n",
       "         -5.28927781e-02, -4.35543358e-02,  3.29218581e-02, -2.42925948e-03,\n",
       "          7.78653026e-02, -5.35451341e-03,  4.51674759e-02, -1.83589701e-02,\n",
       "          1.33862114e-02, -3.20258699e-02, -1.91256590e-02, -4.60867323e-02,\n",
       "         -4.24910113e-02, -6.55198023e-02, -1.09409563e-01, -2.06631354e-33,\n",
       "         -5.13574481e-02, -5.51672727e-02, -4.35875915e-02,  1.10231768e-02,\n",
       "          3.20246480e-02, -3.42239998e-02, -4.58582900e-02,  5.19450493e-02,\n",
       "          2.33528321e-03, -4.00431268e-03, -4.36979113e-03,  2.25489829e-02,\n",
       "          6.62671402e-02,  3.73501442e-02,  1.54218495e-01, -1.84229109e-02,\n",
       "          5.68277054e-02,  4.23126295e-02,  6.13220781e-02, -6.72597578e-03,\n",
       "          7.29182884e-02, -1.61165521e-02, -4.28743567e-03,  4.06828895e-02,\n",
       "          6.89565539e-02, -7.80667067e-02, -6.05991557e-02, -2.58500520e-02,\n",
       "          7.34571889e-02,  1.17896851e-02, -1.08219646e-02,  4.52723056e-02,\n",
       "         -7.04369247e-02,  7.52876103e-02,  4.31092083e-02,  6.94677979e-02,\n",
       "         -5.67858294e-02, -7.43332226e-03, -2.34372169e-02, -2.18700082e-03,\n",
       "         -6.43213019e-02,  1.87927764e-02, -1.15790226e-01,  6.18404448e-02,\n",
       "          1.04358025e-01, -3.04654092e-02,  5.63663095e-02, -2.67590452e-02,\n",
       "         -3.47567652e-03,  2.67288536e-02, -3.21333669e-02,  8.19544196e-02,\n",
       "         -5.13241813e-02,  2.00432329e-03, -5.41808046e-02,  5.78790680e-02,\n",
       "         -3.48040089e-02, -6.47537261e-02,  3.88625450e-02, -1.63300522e-03,\n",
       "          1.49755413e-02, -4.80148233e-02,  3.93799208e-02, -2.84629520e-02,\n",
       "          6.30169138e-02, -1.26814963e-02,  3.97066623e-02, -2.97381561e-02,\n",
       "         -5.78307882e-02,  5.80447018e-02, -3.03717852e-02, -1.21455975e-02,\n",
       "         -1.24640595e-02, -1.35214031e-02, -9.67026781e-03, -5.54460250e-02,\n",
       "         -7.03981742e-02,  1.27520030e-02, -7.95202032e-02,  1.06352754e-01,\n",
       "         -3.12990174e-02, -1.98605154e-02,  5.50473928e-02, -4.14636619e-02,\n",
       "          3.54271643e-02, -1.12783024e-02, -2.46792343e-02,  4.34126221e-02,\n",
       "         -4.53918204e-02, -3.73658687e-02, -1.00634366e-01, -4.47148569e-02,\n",
       "         -3.26825753e-02,  7.72527382e-02, -1.38076348e-03, -4.92200607e-34,\n",
       "         -1.07880175e-01,  1.96236018e-02, -5.67861795e-02,  3.25829796e-02,\n",
       "         -3.81498300e-02, -5.76361408e-03,  2.21311953e-02,  3.39392386e-02,\n",
       "         -7.08968006e-03,  5.82291745e-02, -8.76816437e-02,  1.57186110e-02,\n",
       "         -2.00156681e-02, -1.97268184e-02,  4.08932241e-03, -1.05535477e-01,\n",
       "          2.95519754e-02,  4.59394330e-04, -9.03109089e-02, -2.22735796e-02,\n",
       "          3.11945956e-02,  4.72343229e-02, -7.57191926e-02, -1.65191591e-02,\n",
       "         -7.71697331e-03,  4.64049168e-02, -7.46140927e-02, -8.42041243e-03,\n",
       "          1.50617128e-02,  6.56708553e-02,  2.59027258e-03,  2.22738069e-02,\n",
       "         -2.07124045e-03,  5.86991943e-02, -6.64534280e-03,  9.76041257e-02,\n",
       "          3.08749750e-02,  4.52004448e-02, -3.48735452e-02, -7.63964579e-02,\n",
       "          6.08140677e-02,  3.87727991e-02,  1.74681433e-02,  2.04306301e-02,\n",
       "         -1.32979723e-02,  9.04770568e-03, -5.98093122e-02,  9.59616452e-02,\n",
       "         -4.16483777e-03, -1.51867457e-02,  8.19258392e-02,  4.31104936e-02,\n",
       "         -7.44542945e-03,  3.57956551e-02,  1.13709755e-02,  3.10847796e-02,\n",
       "          4.96086404e-02, -6.73088059e-02, -5.13627566e-03,  1.69860292e-02,\n",
       "          2.22863117e-03, -1.23808915e-02, -2.23225802e-02,  5.31393699e-02,\n",
       "          6.64964542e-02, -6.79374337e-02, -5.48651554e-02,  1.78729407e-02,\n",
       "         -4.72081192e-02, -1.59691472e-03,  5.59915155e-02,  4.30322029e-02,\n",
       "         -1.01853088e-01,  2.40532607e-02, -5.10757789e-02, -1.13301128e-01,\n",
       "          2.10976694e-02,  6.28030226e-02, -8.93136561e-02,  8.49625692e-02,\n",
       "          5.01880422e-02,  1.28567023e-02, -1.43990421e-03, -4.67572501e-03,\n",
       "         -4.58664149e-02,  2.65566912e-02,  3.32077965e-02, -2.86617931e-02,\n",
       "         -2.24942379e-02, -5.31313717e-02, -8.27775970e-02, -6.39246926e-02,\n",
       "         -1.35808766e-01,  6.65393397e-02, -5.91179542e-02, -2.36569200e-08,\n",
       "          8.69627576e-03, -1.66541487e-02,  7.87887052e-02,  3.60775832e-03,\n",
       "          5.38835675e-02,  6.95216432e-02,  2.69841924e-02,  1.21151749e-02,\n",
       "         -3.77452783e-02, -1.16648795e-02,  1.60556417e-02,  3.73928361e-02,\n",
       "         -2.59386804e-02, -8.41857214e-03,  1.77421328e-02, -4.33532521e-02,\n",
       "         -3.56648192e-02, -8.65888149e-02, -2.43379269e-02, -3.92576233e-02,\n",
       "          5.02204821e-02, -7.51422271e-02, -7.25981966e-02,  2.07999479e-02,\n",
       "          5.72712272e-02,  5.09436801e-02,  6.01932257e-02,  4.75777546e-03,\n",
       "         -9.13198479e-03,  3.68866548e-02, -9.45792422e-02, -6.11492507e-02,\n",
       "         -8.67968425e-03,  3.96571588e-03, -7.59918243e-02,  6.44244552e-02,\n",
       "         -3.44105586e-02, -5.10797091e-02, -1.61645729e-02,  2.79232990e-02,\n",
       "         -7.34961480e-02, -3.41761149e-02,  1.08046472e-01,  6.88486872e-03,\n",
       "          1.60225462e-02, -3.64465117e-02, -1.02082796e-01,  6.61814166e-03,\n",
       "          8.01300704e-02, -3.02063134e-02, -4.07003313e-02,  1.47899159e-03,\n",
       "          1.97117534e-02,  9.55831409e-02,  5.01133762e-02, -4.69829068e-02,\n",
       "          6.77866414e-02, -8.02926160e-03, -1.64924189e-02,  1.15379184e-01,\n",
       "          3.80152799e-02, -9.04923454e-02, -7.97501300e-03,  4.16598432e-02],\n",
       "        dtype=float32)),\n",
       " 'Transport/Structural failures': ('Transport/Structural failures; This can be any that are related to aviation, ships, train or other incidents where tunnels or bridge collapses; Dam / Levee Failure; Building Collapse; Fire in residential areas',\n",
       "  array([ 2.64693070e-02, -2.34325770e-02,  7.28550181e-02,  6.10122867e-02,\n",
       "          2.10360251e-03, -2.59670173e-03, -4.23630327e-02,  9.46733430e-02,\n",
       "         -4.83789146e-02,  1.57952886e-02, -1.48866922e-02, -6.64666435e-03,\n",
       "          2.18735486e-02,  6.05929978e-02, -3.26381326e-02,  1.28674181e-02,\n",
       "         -4.02196087e-02,  1.29536744e-02, -7.18834028e-02,  4.44358774e-02,\n",
       "          1.78691875e-02,  5.58180660e-02, -1.14803724e-01,  6.61886260e-02,\n",
       "         -5.59843555e-02,  3.41042988e-02, -9.91254952e-03, -2.26656161e-02,\n",
       "         -5.02178408e-02, -4.06962214e-03, -9.21843690e-04,  7.47803273e-03,\n",
       "         -1.16962127e-01,  2.29790024e-02,  8.59469026e-02,  7.87994862e-02,\n",
       "         -2.15822583e-04,  5.74858068e-03, -1.01747131e-02, -1.35197211e-02,\n",
       "         -6.19683862e-02, -6.32628500e-02,  6.16204031e-02,  6.79069711e-03,\n",
       "          1.40412408e-03,  9.66551527e-03,  3.62274284e-03, -8.10800046e-02,\n",
       "         -3.04890368e-02,  3.13779269e-03,  1.95925124e-02,  7.93326274e-03,\n",
       "          6.27639815e-02,  4.22156677e-02,  6.69380724e-02, -8.40968192e-02,\n",
       "         -4.29208502e-02, -1.03617124e-02, -1.09318900e-03,  5.43283559e-02,\n",
       "          7.47726038e-02,  3.98948155e-02, -8.60166028e-02, -4.35646018e-03,\n",
       "          8.85078013e-02,  4.11101654e-02,  3.59460451e-02, -4.69797244e-03,\n",
       "          3.34955640e-02,  5.04525118e-02,  5.73537350e-02, -7.44982287e-02,\n",
       "         -4.76192348e-02,  4.58789319e-02,  5.95180243e-02, -2.96678375e-02,\n",
       "         -1.51106315e-02, -3.03653963e-02, -2.93665170e-03, -3.92008908e-02,\n",
       "         -4.89217341e-02,  1.53538780e-02, -7.78404102e-02, -4.51351665e-02,\n",
       "          1.13906134e-02,  3.85578834e-02,  6.64682016e-02,  9.33793094e-03,\n",
       "          1.21215247e-02,  5.63283153e-02, -5.27162738e-02, -1.14968391e-02,\n",
       "          7.66878128e-02,  9.20999497e-02,  9.44761708e-02,  9.67256818e-03,\n",
       "         -9.00178496e-03, -1.05757564e-01,  6.62545860e-02,  1.44523918e-03,\n",
       "         -1.26372008e-02,  2.46572699e-02,  6.68269098e-02,  5.00606708e-02,\n",
       "         -2.03658063e-02, -3.05640735e-02, -1.72912683e-02, -1.03127984e-02,\n",
       "         -2.65330225e-02, -2.49164961e-02, -9.19468515e-03, -1.92199908e-02,\n",
       "          3.00877243e-02, -6.43522367e-02, -4.90300823e-03, -5.32489596e-03,\n",
       "         -3.16227339e-02, -4.10991348e-02, -3.64478081e-02,  7.77569367e-03,\n",
       "         -3.03837173e-02, -1.12427846e-02,  1.18816374e-02, -5.78848459e-02,\n",
       "         -5.67831956e-02, -5.44198267e-02, -3.66798528e-02, -1.24780186e-33,\n",
       "          3.52965225e-03, -3.98603790e-02, -6.09916598e-02,  7.08648711e-02,\n",
       "          7.47428834e-02, -8.66229683e-02, -1.18299223e-01, -2.44378559e-02,\n",
       "          4.33797427e-02,  3.52171361e-02,  2.56468970e-02,  4.78614233e-02,\n",
       "         -2.52055209e-02, -6.59624487e-02,  5.98571412e-02, -2.33956780e-02,\n",
       "          2.25229636e-02,  5.24430238e-02, -8.22948366e-02,  6.30523311e-03,\n",
       "         -3.71083058e-02, -5.04628457e-02,  4.35031019e-02, -2.80900057e-02,\n",
       "          3.91527116e-02,  1.91532343e-03, -6.34984393e-03, -6.28729770e-03,\n",
       "         -4.84181009e-02,  3.40553112e-02,  2.39357706e-02,  7.42886737e-02,\n",
       "         -1.92727987e-02, -5.78909330e-02, -3.54013331e-02,  2.26750206e-02,\n",
       "         -3.55957560e-02,  8.63159075e-03, -1.04345940e-01, -4.45337072e-02,\n",
       "         -1.31535262e-01, -8.96823108e-02, -8.08609724e-02,  7.13262483e-02,\n",
       "          5.96405268e-02, -6.67817220e-02,  9.30433348e-02, -6.09230585e-02,\n",
       "         -2.87505407e-02, -1.05121639e-02, -6.15536608e-02,  2.56535225e-03,\n",
       "         -3.52909975e-02, -5.58321141e-02,  6.57849163e-02,  2.51029599e-02,\n",
       "          3.74598019e-02, -6.69138655e-02,  2.30355002e-02,  3.20956446e-02,\n",
       "         -1.77953150e-02,  2.35417183e-03, -2.23613326e-02, -5.95543571e-02,\n",
       "          8.92490149e-02, -5.46959564e-02,  2.49809027e-02, -3.65693569e-02,\n",
       "         -3.21367830e-02, -1.58734247e-02, -1.84326153e-02, -3.37555595e-02,\n",
       "          2.38882359e-02,  4.48675416e-02,  3.29192430e-02, -2.12528724e-02,\n",
       "         -7.59541243e-02, -3.92279448e-03, -6.28499826e-03,  7.19839036e-02,\n",
       "         -1.45437628e-01, -4.96753305e-02,  7.44314343e-02,  5.25129586e-03,\n",
       "          3.40258703e-02,  3.25870030e-02, -5.51317120e-03, -4.10559066e-02,\n",
       "         -1.37878492e-01, -6.69421442e-03, -9.87077802e-02,  1.49726402e-03,\n",
       "          4.75434698e-02,  1.27229718e-02,  4.53019552e-02, -1.22871082e-33,\n",
       "         -4.97078709e-02,  4.24649157e-02, -9.55116525e-02, -2.24394146e-02,\n",
       "         -9.71718878e-03, -1.53230820e-02, -2.03658324e-02, -1.04166400e-02,\n",
       "          2.55702771e-02,  3.24884690e-02, -1.04414642e-01, -4.82870676e-02,\n",
       "          1.57376379e-02,  6.20485190e-03, -9.99274775e-02, -9.92318243e-02,\n",
       "          3.57416645e-02, -5.14805838e-02, -1.38450544e-02,  9.30786431e-02,\n",
       "          5.95383272e-02,  3.24769132e-02, -8.94121453e-02, -3.75403687e-02,\n",
       "         -2.78013404e-02,  6.92893341e-02, -2.90240571e-02, -5.69670238e-02,\n",
       "          3.84871755e-03, -7.74542317e-02,  2.13111145e-03,  5.65075241e-02,\n",
       "          4.20497060e-02,  7.39545673e-02, -3.12441438e-02,  8.77468437e-02,\n",
       "          5.33972904e-02, -4.97289114e-02, -3.91571410e-02, -9.94437560e-02,\n",
       "          1.12773292e-01,  9.26767960e-02,  1.12822399e-01,  7.62583176e-03,\n",
       "          9.03213106e-04, -5.23151411e-03, -4.75761741e-02,  4.73664586e-05,\n",
       "         -2.41232272e-02, -9.25783347e-03,  1.73199773e-02,  2.89057568e-02,\n",
       "         -4.85586673e-02,  5.08335382e-02,  3.74604799e-02,  7.60726556e-02,\n",
       "          2.46002227e-02, -3.05950064e-02, -5.72650060e-02,  4.73601222e-02,\n",
       "          4.10254449e-02, -1.12604853e-02,  9.42360330e-03,  8.00453424e-02,\n",
       "         -3.05592902e-02, -3.64505462e-02, -8.53323787e-02, -9.88613162e-03,\n",
       "          2.57751085e-02,  6.80860430e-02,  5.13930023e-02,  5.16909696e-02,\n",
       "         -3.76263969e-02, -2.81537566e-02,  4.87833750e-03, -4.81475182e-02,\n",
       "         -7.54610077e-02,  8.23859349e-02, -1.12444703e-02, -1.01354730e-03,\n",
       "          1.06769800e-01, -1.42009202e-02,  7.60009279e-03,  9.30233076e-02,\n",
       "          4.53188084e-02, -2.20207442e-02,  3.33070494e-02,  4.69812704e-03,\n",
       "          3.68398651e-02, -3.29518616e-02, -4.25880328e-02, -7.92904571e-03,\n",
       "         -1.13473326e-01,  6.98553100e-02, -3.44700962e-02, -2.90385103e-08,\n",
       "         -2.09330693e-02,  2.49323938e-02, -2.57572662e-02, -8.55734423e-02,\n",
       "          3.57534774e-02, -6.81416094e-02,  7.05153793e-02,  4.82330546e-02,\n",
       "         -1.40084075e-02,  1.23487338e-02, -9.48201045e-02,  3.98345925e-02,\n",
       "         -4.95282672e-02,  3.57553847e-02, -1.17390817e-02, -3.55166085e-02,\n",
       "         -4.89403605e-02,  8.15945119e-02, -2.43092645e-02, -4.38985638e-02,\n",
       "          7.67918490e-03, -4.17132862e-03,  4.53582555e-02,  8.36998299e-02,\n",
       "          2.22771950e-02, -4.92077656e-02,  7.73810502e-03,  2.56433953e-02,\n",
       "          1.88733370e-03, -4.32598852e-02,  3.43999802e-03,  3.27297002e-02,\n",
       "          3.99346910e-02, -6.76185936e-02,  4.39557218e-04,  1.37896657e-01,\n",
       "          8.91824514e-02, -2.79434603e-02, -1.82460677e-02, -2.94360034e-02,\n",
       "          2.08694935e-02,  1.91281363e-02,  6.83273748e-02,  5.76668456e-02,\n",
       "          7.55838007e-02,  3.71625237e-02, -8.13617185e-02,  7.99877644e-02,\n",
       "         -1.55680673e-03, -7.88729861e-02, -1.88376326e-02,  2.66131796e-02,\n",
       "         -2.76477132e-02,  8.87150913e-02,  2.20535207e-03,  2.21829955e-02,\n",
       "          9.55042057e-03, -4.95335646e-03,  1.68659128e-02, -3.58529799e-02,\n",
       "          2.80927159e-02,  8.63470584e-02,  4.84522956e-04,  5.86815029e-02],\n",
       "        dtype=float32)),\n",
       " 'Energy/Utility failures': ('Fuel Shortage; Power Outage; Water Shortage; Communication Problems; Winter Storms o Cold / Exposure; Extreme Summer Weather, ',\n",
       "  array([ 3.53662185e-02,  1.43651366e-02,  1.06212534e-01,  9.95501876e-02,\n",
       "          4.35428396e-02,  1.32030183e-02, -9.94208306e-02, -2.87967417e-02,\n",
       "         -9.35764909e-02,  3.23661789e-02,  2.78666988e-02, -2.72683594e-02,\n",
       "          1.86663456e-02,  2.58927941e-02,  5.83093129e-02, -5.46843139e-03,\n",
       "          8.49539042e-03, -7.70081803e-02, -5.12727015e-02, -3.06871701e-02,\n",
       "         -9.16259829e-03, -4.81652236e-03, -1.04027070e-01,  1.55751556e-02,\n",
       "         -7.26570785e-02,  3.47469412e-02, -5.76098748e-02,  2.63947323e-02,\n",
       "         -8.55944529e-02,  4.36706506e-02, -5.02275303e-02,  6.94518164e-02,\n",
       "         -1.36962933e-02, -4.76129800e-02,  4.71102446e-02,  2.84540113e-02,\n",
       "          1.20051838e-02,  1.68715604e-02, -1.43911494e-02, -9.42282844e-03,\n",
       "          2.92717875e-03, -7.98443407e-02,  1.86429173e-02, -1.94198694e-02,\n",
       "         -2.55468730e-02, -4.17029858e-03, -2.64182650e-02,  2.65413499e-03,\n",
       "          4.60873283e-02, -3.77139524e-02,  3.33206207e-02,  3.11160870e-02,\n",
       "         -7.41169974e-02,  1.11928405e-02, -2.08566394e-02, -6.63493574e-02,\n",
       "         -3.62665318e-02,  7.00075272e-03,  1.08863367e-02,  4.46230136e-02,\n",
       "          4.15330380e-02, -9.65115707e-03, -1.26342997e-01,  3.29030417e-02,\n",
       "          8.34422559e-02, -2.14810707e-02,  2.94401217e-02,  1.07370161e-01,\n",
       "          2.02650428e-02,  2.88250912e-02,  1.32798264e-02,  4.67718765e-02,\n",
       "         -9.62633044e-02,  5.60441054e-03,  4.91701125e-04, -4.40215413e-03,\n",
       "          9.26823243e-02, -3.67439864e-03,  1.10553496e-01, -1.42919226e-02,\n",
       "          3.28617766e-02, -5.00934198e-02,  3.02806520e-03,  1.70003641e-02,\n",
       "          8.77915602e-03,  5.82726523e-02,  6.50440827e-02, -3.05903722e-02,\n",
       "          2.74854582e-02, -1.96509250e-02, -5.11483923e-02, -8.39887857e-02,\n",
       "          4.92833592e-02,  2.36669295e-02, -5.34387827e-02,  7.73782730e-02,\n",
       "          3.34560387e-02, -6.25443757e-02, -7.68889710e-02,  3.03044915e-03,\n",
       "          8.55130702e-02, -3.99449430e-02,  5.53605184e-02, -9.58237890e-03,\n",
       "         -5.53977452e-02,  1.17739092e-03, -1.35130845e-02, -4.54441532e-02,\n",
       "         -7.03461915e-02, -4.66111004e-02, -3.96765545e-02,  1.42485164e-02,\n",
       "          5.67756854e-02, -4.02222797e-02,  7.88980573e-02, -3.43319438e-02,\n",
       "          1.03300801e-02, -5.36226369e-02, -2.30641887e-02,  3.43858451e-02,\n",
       "         -3.70430015e-02,  1.23104891e-02, -6.54889494e-02,  5.19537963e-02,\n",
       "          1.20704239e-02,  7.59299174e-02, -2.88969316e-02,  2.53249238e-33,\n",
       "          9.50419307e-02, -6.76526278e-02,  2.51954533e-02,  7.49543533e-02,\n",
       "          3.94466296e-02, -1.18599283e-02, -4.78266142e-02, -4.17615511e-02,\n",
       "          6.82875291e-02, -1.79921146e-02,  4.54030782e-02,  4.38064225e-02,\n",
       "         -2.32482385e-02, -6.20231740e-02,  8.08745250e-02, -7.52314106e-02,\n",
       "          6.83389977e-03,  4.26254906e-02,  9.63477604e-03,  8.42032731e-02,\n",
       "         -5.80074042e-02, -1.17348254e-01,  1.99069977e-02,  3.80949527e-02,\n",
       "          4.57981490e-02,  2.01265849e-02,  1.65050738e-02, -3.56665142e-02,\n",
       "         -1.26079787e-02,  5.55966096e-03,  1.39925312e-02,  4.42623273e-02,\n",
       "          1.43519277e-02, -4.57400084e-02, -2.72192210e-02, -9.47201333e-04,\n",
       "          1.60245486e-02,  4.36565839e-03, -5.43895736e-02, -1.96877886e-02,\n",
       "         -7.57838860e-02, -1.99277066e-02, -2.77809557e-02,  4.43230458e-02,\n",
       "          1.23514071e-01, -3.66926864e-02,  8.66453126e-02, -4.77055721e-02,\n",
       "         -5.46851158e-02,  1.84100941e-02, -7.32765049e-02,  3.46974954e-02,\n",
       "         -1.26598075e-01, -5.58097437e-02,  2.23717596e-02,  1.07982464e-01,\n",
       "         -3.42605426e-03, -1.02573909e-01,  3.18875425e-02, -3.95504534e-02,\n",
       "         -6.50375709e-02,  1.17749264e-02,  4.75421511e-02, -7.17092976e-02,\n",
       "          5.64867780e-02, -4.76300642e-02,  3.72171998e-02,  3.11078914e-02,\n",
       "         -1.23955190e-01,  2.01568455e-02,  4.74312864e-02, -9.81929898e-02,\n",
       "          7.88218305e-02,  2.97933128e-02,  8.90656188e-02,  1.90780833e-02,\n",
       "         -5.68163730e-02, -5.06664626e-02,  6.30617887e-03,  3.94498743e-02,\n",
       "         -8.83556604e-02, -2.18732841e-03,  8.42186213e-02,  1.30994553e-02,\n",
       "          3.46623622e-02, -5.83835170e-02,  1.25696426e-02,  2.65936088e-02,\n",
       "         -3.12113222e-02,  4.59795482e-02, -3.34610343e-02,  4.68735695e-02,\n",
       "          2.36113034e-02, -1.70851462e-02,  4.21997458e-02, -3.31966915e-33,\n",
       "         -2.96174977e-02,  2.21502688e-02,  1.99642982e-02, -4.71818335e-02,\n",
       "         -1.42995846e-02,  4.94498480e-03, -1.65730976e-02,  8.74901749e-03,\n",
       "          7.54855201e-02,  1.63021628e-02, -1.23975858e-01,  9.15617310e-03,\n",
       "         -5.46880905e-03, -3.33985779e-03, -8.71982500e-02, -1.06090559e-02,\n",
       "          2.39390694e-02,  3.94465774e-02, -5.34965936e-03, -1.99174415e-02,\n",
       "         -3.71209942e-02,  8.36640298e-02, -6.71726689e-02,  5.16854972e-02,\n",
       "         -7.45938793e-02,  7.03416020e-02, -8.53578895e-02, -3.06047257e-02,\n",
       "         -2.17963513e-02, -4.07712683e-02, -2.57204641e-02,  5.50157167e-02,\n",
       "         -8.19324795e-03,  1.15460865e-01, -4.22124602e-02,  9.07144621e-02,\n",
       "          2.95501258e-02, -2.84440424e-02, -7.42995515e-02,  9.85303242e-03,\n",
       "          1.18551008e-01, -2.39922330e-02,  1.80473506e-01,  3.18234563e-02,\n",
       "          2.33778972e-02, -1.93961300e-02, -2.89726537e-02,  6.80961274e-03,\n",
       "          3.91222127e-02,  2.36316491e-02,  1.88091509e-02, -7.96201900e-02,\n",
       "         -9.53239277e-02,  7.03800097e-02, -4.45218533e-02, -1.78630240e-02,\n",
       "         -2.46499595e-03, -2.66127568e-02, -3.58048938e-02,  4.16985014e-03,\n",
       "         -4.85724566e-04, -1.31495879e-04,  2.69234162e-02,  2.11906875e-03,\n",
       "          1.20284101e-02, -6.41719997e-02,  3.11152656e-02, -2.86142211e-02,\n",
       "          1.14563242e-01, -6.53905841e-03,  1.26384897e-02, -2.28809249e-02,\n",
       "         -5.65867834e-02,  5.80162462e-03,  4.48555537e-02,  5.68991043e-02,\n",
       "         -1.02143250e-01,  3.47637050e-02, -7.63669312e-02,  3.05905961e-03,\n",
       "         -7.20421132e-03,  3.08908895e-02, -4.55645137e-02,  5.38494587e-02,\n",
       "         -2.42340285e-02, -1.28394999e-02,  6.82315081e-02, -6.49727583e-02,\n",
       "          6.40917718e-02,  4.92839981e-03, -7.90300071e-02,  1.28156180e-02,\n",
       "         -7.21167848e-02,  4.40406315e-02, -1.52425813e-02, -2.11033822e-08,\n",
       "          5.21160066e-02,  5.61180934e-02,  6.13943562e-02, -3.82457562e-02,\n",
       "          3.19745950e-02, -4.20406386e-02,  3.76431905e-02,  6.51728511e-02,\n",
       "          3.35850567e-02,  6.42542839e-02, -2.18613483e-02,  6.73952922e-02,\n",
       "          1.23604527e-02,  1.98689867e-02, -2.26796977e-02, -4.78761308e-02,\n",
       "         -4.16743718e-02,  2.74125561e-02, -3.63423787e-02, -6.92759901e-02,\n",
       "         -4.18664478e-02,  5.02836108e-02, -4.85138297e-02,  7.98315927e-02,\n",
       "          4.21519876e-02, -2.84701958e-02,  2.39591878e-02,  4.50375527e-02,\n",
       "          9.30882171e-02,  2.57442314e-02, -7.69894421e-02, -3.38606611e-02,\n",
       "         -2.71213404e-03, -4.94526885e-02, -4.40474972e-02, -4.30520959e-02,\n",
       "         -1.92078408e-02,  1.55488262e-03, -5.73633537e-02, -4.70557995e-02,\n",
       "          1.47504210e-02,  8.58670324e-02, -1.42774647e-02,  2.27526799e-02,\n",
       "          3.88163030e-02, -2.46909019e-02, -7.30399489e-02,  2.99335383e-02,\n",
       "          2.90437359e-02, -3.57771330e-02, -6.44731373e-02, -4.63419445e-02,\n",
       "          3.10389567e-02,  6.02535494e-02,  4.65159304e-02, -3.40494402e-02,\n",
       "         -6.69491244e-03,  4.05298062e-02,  3.27642262e-02, -6.57494180e-03,\n",
       "         -3.62150483e-02, -2.44433377e-02, -1.09283112e-01,  7.39090741e-02],\n",
       "        dtype=float32)),\n",
       " 'Industrial accidents': ('These are incidences where nuclear plants or other chemical spills (like oil spills) happen',\n",
       "  array([-4.52502770e-03, -1.45917805e-02,  8.93772691e-02,  1.06922641e-01,\n",
       "          1.22014619e-01,  5.07859625e-02,  4.09989133e-02,  8.25964957e-02,\n",
       "          1.68873463e-02,  2.24956847e-03,  9.92515981e-02, -1.00329658e-02,\n",
       "          4.38990025e-03,  1.25606759e-02, -4.27762270e-02, -3.85424308e-02,\n",
       "         -6.79288134e-02, -5.73675297e-02, -1.64400134e-02,  2.84975283e-02,\n",
       "          2.95410920e-02,  8.96910299e-03, -5.20005077e-02,  2.41620466e-02,\n",
       "         -9.80917290e-02,  3.23173739e-02, -2.15937826e-03, -1.64384171e-02,\n",
       "          1.87969841e-02,  2.60235388e-02,  1.76153444e-02,  9.82411504e-02,\n",
       "          1.87672898e-02, -1.59789901e-02,  5.88042438e-02,  3.98883671e-02,\n",
       "         -5.89855053e-02,  3.57937329e-02, -1.73517095e-03,  4.03666534e-02,\n",
       "         -7.48413755e-03, -1.50677562e-01,  1.99136212e-02,  1.97678171e-02,\n",
       "         -2.91118268e-02, -3.32005136e-02,  2.71766272e-04, -9.99206603e-02,\n",
       "         -2.05435995e-02, -7.02202022e-02,  4.50018048e-02,  1.27926124e-02,\n",
       "         -2.80920975e-02,  5.34607098e-03,  3.00456341e-02, -2.07959980e-01,\n",
       "         -9.27766599e-03, -6.20483458e-02, -4.39844647e-04,  1.00790575e-01,\n",
       "          6.02068976e-02, -7.25863501e-02, -7.19098449e-02,  5.13391010e-03,\n",
       "          9.68336686e-02,  1.45645589e-02, -1.05304308e-02,  6.16988577e-02,\n",
       "          4.97449078e-02, -6.76042028e-03,  7.24928007e-02,  2.75410917e-02,\n",
       "         -5.94199747e-02, -2.94479728e-02, -9.29277688e-02, -5.10718394e-03,\n",
       "          1.46130305e-02,  2.02849638e-02, -4.50712023e-03, -1.30721088e-02,\n",
       "         -2.75276396e-02,  5.89077407e-03,  3.20398286e-02, -1.25623539e-01,\n",
       "          9.69379302e-03,  7.35557079e-02, -3.13751809e-02, -3.31119969e-02,\n",
       "          5.30780442e-02,  5.93451411e-02, -9.73896161e-02,  4.73198248e-03,\n",
       "          7.84365013e-02,  6.34884164e-02, -3.81967016e-02,  5.72046079e-02,\n",
       "          7.68399090e-02, -7.82991946e-02,  7.42416680e-02, -1.40108075e-02,\n",
       "          2.19356902e-02,  5.35359308e-02, -8.40513632e-02, -1.00282356e-02,\n",
       "          5.68405120e-03, -2.67012417e-02, -3.34568284e-02, -8.89417529e-02,\n",
       "         -3.55981872e-03,  2.82887109e-02,  1.01663275e-02,  9.81938746e-03,\n",
       "         -1.13962470e-02, -2.76688617e-02,  4.92292689e-03, -2.87463219e-04,\n",
       "          4.44090180e-02, -7.86035284e-02, -1.89404804e-02, -9.53252241e-03,\n",
       "         -5.87121695e-02, -6.46429230e-03, -4.46039811e-02,  1.37389936e-02,\n",
       "          2.30580010e-02, -4.07721549e-02, -5.77718727e-02, -3.00900730e-33,\n",
       "          1.32938102e-02, -6.03870489e-02, -6.95827529e-02, -1.65267512e-02,\n",
       "          1.17769698e-02, -3.29300165e-02, -9.77487713e-02, -1.29190356e-01,\n",
       "          1.95463449e-02,  3.29714343e-02,  2.60283910e-02, -1.69837717e-02,\n",
       "          2.33938918e-02,  1.42973224e-02, -3.36729512e-02, -6.87575713e-02,\n",
       "         -4.94808564e-03,  1.08315915e-01, -2.65405681e-02, -1.41811585e-02,\n",
       "         -3.64328362e-02, -6.26475066e-02,  1.30360667e-02,  3.69555466e-02,\n",
       "          4.28277180e-02,  4.27685454e-02, -3.29635404e-02, -4.38546687e-02,\n",
       "          8.62372220e-02,  1.41750965e-02,  8.69068354e-02,  9.43857506e-02,\n",
       "         -1.55792022e-02,  5.63376322e-02,  1.52158542e-02,  7.39653930e-02,\n",
       "         -9.08574685e-02,  1.07197650e-02, -4.25261334e-02, -4.56339642e-02,\n",
       "         -4.26143035e-02, -4.57784198e-02, -2.25456655e-02,  2.51069143e-02,\n",
       "          8.61626863e-02, -5.39135635e-02, -3.15038450e-02, -1.11836409e-02,\n",
       "          4.96199615e-02, -5.39828911e-02, -7.46237114e-02,  6.25399128e-02,\n",
       "          3.26397503e-03, -5.37505820e-02,  3.96713242e-02,  8.98635946e-03,\n",
       "          9.81897488e-02, -4.37482912e-03,  1.62488688e-02,  8.97730589e-02,\n",
       "         -5.63464947e-02,  1.21549338e-01, -8.57934654e-02, -3.11343092e-02,\n",
       "          5.44207804e-02,  1.77082829e-02, -3.87166999e-02,  2.49119159e-02,\n",
       "          2.01804079e-02,  6.58462048e-02, -7.14095775e-03, -3.77853774e-03,\n",
       "          2.26368140e-02,  6.71425601e-03, -4.45825979e-02,  1.43886367e-02,\n",
       "         -7.27048069e-02,  4.51131491e-03, -4.19936292e-02,  7.84639716e-02,\n",
       "         -7.03955516e-02, -8.22598860e-02,  6.56325147e-02, -6.33249581e-02,\n",
       "         -8.15672725e-02,  3.08314282e-02, -4.69537899e-02,  1.97369866e-02,\n",
       "          9.07138083e-03,  1.52994297e-03,  3.31159607e-02, -1.32197735e-03,\n",
       "          7.05653429e-02, -4.43396345e-02, -3.54453586e-02, -5.67845138e-34,\n",
       "         -3.04112304e-02,  4.66901213e-02, -8.10013562e-02, -3.33523154e-02,\n",
       "          6.16881400e-02, -3.53640653e-02, -4.92129512e-02,  5.36712296e-02,\n",
       "          2.81588901e-02,  2.12985352e-02, -8.59909579e-02,  4.58058417e-02,\n",
       "         -6.46830723e-02, -1.31283868e-02, -4.58388329e-02, -1.07916677e-02,\n",
       "          7.84635246e-02,  6.37158304e-02, -1.57559197e-02, -1.52416434e-02,\n",
       "         -2.42058039e-02,  6.79337187e-04, -2.99521927e-02,  3.87967229e-02,\n",
       "         -3.06473169e-02,  5.84633797e-02, -6.08809702e-02, -1.00310415e-01,\n",
       "         -4.76792753e-02, -1.26463985e-02, -6.02656044e-02,  7.96515942e-02,\n",
       "         -6.30356520e-02,  2.45966427e-02,  2.84276046e-02, -4.27502096e-02,\n",
       "          1.35263847e-03, -5.68323694e-02, -3.95669453e-02, -5.56008294e-02,\n",
       "          5.01608178e-02,  6.72238041e-03,  5.35434633e-02,  5.56577109e-02,\n",
       "          6.13363227e-04, -2.98967417e-02, -2.36810427e-02,  3.24042677e-03,\n",
       "          5.33185974e-02, -2.43177693e-02, -1.26606785e-02,  1.77706759e-02,\n",
       "         -5.24388589e-02,  3.36000230e-03,  2.69535999e-03, -4.97701205e-03,\n",
       "          1.75450854e-02, -2.62424406e-02, -3.40215340e-02,  8.33418779e-03,\n",
       "          9.85898376e-02, -1.20926406e-02, -7.25805312e-02,  2.47542746e-02,\n",
       "         -6.50515929e-02, -2.58888025e-02, -4.44787703e-02, -3.01728547e-02,\n",
       "          1.16308378e-02,  5.32099465e-03,  4.00121957e-02,  5.40567748e-02,\n",
       "         -7.03337640e-02, -8.32546875e-02, -4.81732003e-02, -3.05652954e-02,\n",
       "         -1.77717693e-02,  6.20442107e-02, -4.47609536e-02,  1.88643001e-02,\n",
       "          2.50139125e-02,  7.37588666e-03, -2.83921417e-03,  4.80347909e-02,\n",
       "          3.96664925e-02, -6.44497573e-02, -3.97105813e-02, -1.04581170e-01,\n",
       "          2.58171670e-02, -4.11787182e-02, -7.10202381e-02, -1.54834921e-02,\n",
       "         -8.74744728e-02,  5.35739325e-02, -1.99804120e-02, -1.88810461e-08,\n",
       "          7.83847794e-02, -5.23120863e-03,  2.85012946e-02, -6.68724254e-03,\n",
       "          5.40612787e-02, -8.89439359e-02,  4.18727892e-03,  1.04643621e-01,\n",
       "          1.81906056e-02, -1.79885663e-02, -9.46033895e-02,  9.69700813e-02,\n",
       "          1.45015968e-02,  1.05831316e-02,  5.99409156e-02, -3.38318497e-02,\n",
       "          1.89839918e-02,  9.21169296e-03, -1.20012211e-02, -2.69825645e-02,\n",
       "          4.67079803e-02, -5.24570793e-02,  2.89386287e-02,  5.80481850e-02,\n",
       "         -3.68761383e-02,  3.75939943e-02,  5.86744845e-02,  4.64883707e-02,\n",
       "          2.29890067e-02, -3.60024981e-02,  4.03888747e-02, -3.26729789e-02,\n",
       "          9.88980848e-03, -1.68483332e-02,  9.98829901e-02,  7.99414814e-02,\n",
       "          4.89280298e-02, -8.76727775e-02, -3.93952914e-02,  7.01812748e-03,\n",
       "         -5.61420210e-02,  1.28840236e-02,  3.62762734e-02,  9.70228985e-02,\n",
       "         -2.36378796e-02,  4.20048684e-02, -7.47440457e-02,  6.37858659e-02,\n",
       "          5.41282706e-02, -7.19425688e-03,  6.00901572e-03, -7.96612073e-03,\n",
       "         -1.29360578e-03,  8.67892895e-03,  1.25151807e-02,  5.96134514e-02,\n",
       "          7.10973144e-02, -5.24333538e-03,  2.10244418e-03, -4.62664813e-02,\n",
       "          1.56454518e-02, -8.72358307e-03,  1.04934298e-01,  8.78954493e-03],\n",
       "        dtype=float32)),\n",
       " 'Radiological/Biological': ('Nuclear accidents, radiological WMD, biological / Chemical WMD',\n",
       "  array([ 8.83501396e-03,  3.94334272e-02,  4.63862829e-02,  7.66473217e-03,\n",
       "          8.37297142e-02,  6.73800036e-02, -3.27138528e-02,  1.31313056e-01,\n",
       "         -8.23554248e-02,  8.43551084e-02,  8.20968393e-03,  1.01871938e-02,\n",
       "          3.23986448e-02,  4.46261913e-02, -5.68693094e-02,  2.57309922e-03,\n",
       "         -8.11063349e-02, -2.25034840e-02, -1.01576485e-02, -1.04754427e-02,\n",
       "         -1.14051253e-01,  8.34752023e-02,  1.11478813e-01,  5.18281478e-03,\n",
       "         -9.76236239e-02,  4.26852740e-02,  2.69542206e-02,  1.88959092e-02,\n",
       "         -4.42681760e-02, -1.81287378e-02,  1.83660071e-02,  2.17877943e-02,\n",
       "          6.28456324e-02, -3.94398533e-02,  2.28699911e-02,  4.07447806e-03,\n",
       "          2.61969678e-02, -1.13379769e-02,  3.80473919e-02,  1.08006746e-02,\n",
       "         -2.20915694e-02, -8.18546340e-02,  4.39326465e-02,  3.71720642e-02,\n",
       "         -5.98244928e-02, -3.85516845e-02,  2.48412937e-02, -6.66485280e-02,\n",
       "         -4.88981185e-03,  5.99526204e-02,  7.01543838e-02, -3.16868210e-03,\n",
       "         -5.46341799e-02,  9.03905109e-02,  8.68268386e-02, -1.26457557e-01,\n",
       "         -2.97470316e-02,  2.53944821e-03, -2.16651548e-04, -4.96559264e-03,\n",
       "         -9.99806728e-03, -3.01084835e-02, -5.56191169e-02, -3.54804471e-02,\n",
       "          8.10361654e-02,  5.34072481e-02,  4.40885313e-02,  4.11417037e-02,\n",
       "          2.26352438e-02,  1.00648381e-01,  5.03461882e-02,  7.84416217e-03,\n",
       "          3.40771712e-02,  3.17062833e-03, -4.92861830e-02, -1.05232159e-02,\n",
       "          9.80380103e-02,  1.98910460e-02,  2.89981738e-02, -2.16132719e-02,\n",
       "         -4.94200140e-02, -3.59133352e-03,  1.47342123e-02, -9.34010297e-02,\n",
       "          5.79417385e-02, -8.68863519e-03, -8.22951794e-02,  4.32515889e-02,\n",
       "          4.06944081e-02,  6.54861107e-02, -5.53902909e-02, -3.92147787e-02,\n",
       "          1.20308623e-01,  3.00082024e-02,  1.70155279e-02,  9.49579254e-02,\n",
       "          2.57640742e-02, -3.61591727e-02,  4.34722491e-02,  4.67208680e-03,\n",
       "          4.89969812e-02, -1.52671644e-02, -1.44571006e-01,  1.81504320e-02,\n",
       "          1.77743547e-02, -1.23134758e-02, -3.25034112e-02, -2.65293717e-02,\n",
       "         -2.50784662e-02,  4.00004275e-02,  9.41804610e-03,  5.37295043e-02,\n",
       "          5.74624585e-03, -2.74201259e-02,  5.60700484e-02, -4.44684513e-02,\n",
       "          8.76154229e-02, -7.27033168e-02, -1.07565470e-01, -4.77658212e-02,\n",
       "         -3.74981351e-02, -6.10811487e-02, -6.01952784e-02,  6.10376336e-03,\n",
       "         -3.97049636e-02, -5.39476946e-02, -3.68364039e-03, -9.08194466e-34,\n",
       "          6.59461915e-02,  4.01737401e-03,  2.19838079e-02,  2.62780730e-02,\n",
       "         -2.70724762e-02,  7.97819905e-03, -7.16621429e-02, -1.39623567e-01,\n",
       "          1.99671425e-02,  6.24495894e-02,  2.10243687e-02,  4.84108031e-02,\n",
       "         -2.44212486e-02, -7.72933364e-02,  9.23167728e-03, -2.35733390e-03,\n",
       "         -5.25169559e-02,  1.33170635e-01, -7.07338154e-02, -8.17810092e-03,\n",
       "         -5.69695532e-02, -1.30028492e-02,  8.45745206e-03, -1.52242240e-02,\n",
       "          9.64290649e-02,  9.06275883e-02, -3.82630974e-02,  2.19588913e-02,\n",
       "          1.00873433e-01, -1.25473430e-02, -4.00456414e-02, -2.12839022e-02,\n",
       "         -1.85035840e-02,  4.62223962e-02,  7.77840940e-03,  1.98382474e-02,\n",
       "         -1.41806558e-01, -3.29111069e-02, -5.18365614e-02, -3.23390625e-02,\n",
       "          7.72719160e-02, -3.48411454e-03, -2.40714848e-02,  3.87441590e-02,\n",
       "          1.02705725e-01, -3.62036899e-02, -2.06549037e-02, -3.93430777e-02,\n",
       "         -2.68766154e-02, -4.17689458e-02, -6.76594153e-02,  3.40198576e-02,\n",
       "         -3.19961347e-02, -6.65545017e-02,  2.12666150e-02,  3.06905396e-02,\n",
       "          8.68229568e-03,  1.28894281e-02, -7.32840132e-03,  1.07166953e-01,\n",
       "         -2.74773547e-03,  8.94539058e-02,  3.43011245e-02,  3.00172297e-03,\n",
       "          8.66274629e-03, -6.72285110e-02, -5.33939041e-02, -3.93883288e-02,\n",
       "         -1.16922837e-02,  5.76927252e-02, -7.58735016e-02, -8.99516884e-03,\n",
       "          8.87414347e-03, -7.26228729e-02, -4.17485088e-02,  1.27945989e-02,\n",
       "         -2.81577390e-02, -5.78480214e-02, -8.95330831e-02,  9.75270476e-03,\n",
       "          6.27336185e-03,  4.18195920e-03,  3.43412682e-02,  3.48351374e-02,\n",
       "         -3.83841842e-02,  3.86270992e-02, -7.33245164e-02, -2.90660858e-02,\n",
       "         -5.02196774e-02,  1.55592663e-02, -9.23845395e-02, -2.96239816e-02,\n",
       "          5.88433184e-02, -5.57205342e-02, -9.26001072e-02, -1.12306409e-33,\n",
       "         -6.03215285e-02, -2.08984092e-02, -1.03474995e-02, -4.27284911e-02,\n",
       "         -2.52606813e-02,  2.29360405e-02, -5.70418797e-02, -2.59735826e-02,\n",
       "         -3.87620702e-02,  3.37984376e-02,  2.27187444e-02,  3.63284424e-02,\n",
       "         -7.57278204e-02, -5.94092458e-02, -6.02705739e-02, -1.52168181e-02,\n",
       "          7.94363692e-02,  8.83354526e-03,  1.77298095e-02, -7.03173280e-02,\n",
       "          5.63375205e-02,  3.54940295e-02, -6.64806291e-02,  6.78666309e-02,\n",
       "         -4.93141674e-02,  1.26839504e-01,  5.24937175e-02, -4.27756011e-02,\n",
       "          2.44608074e-02,  1.44931991e-02, -1.67479378e-03,  4.44184244e-02,\n",
       "         -2.29473207e-02,  3.92393358e-02,  1.36940584e-01,  5.81414327e-02,\n",
       "          6.05596229e-02, -1.24839135e-02, -3.28481570e-02, -5.67983054e-02,\n",
       "          3.75158414e-02,  7.11626410e-02, -8.06376152e-03,  8.21401551e-02,\n",
       "         -4.19228002e-02, -2.98945904e-02, -6.75988123e-02,  6.06547780e-02,\n",
       "          3.86981927e-02, -3.10114007e-02, -1.30318934e-02, -2.27505025e-02,\n",
       "         -6.19020611e-02, -3.32052633e-02, -8.38643778e-03,  2.25312803e-02,\n",
       "          4.47885552e-03, -9.32276696e-02,  8.92522186e-02, -2.37213708e-02,\n",
       "         -2.48101298e-02,  4.15900610e-02, -1.14072394e-02,  6.55069202e-02,\n",
       "         -1.11046746e-01, -1.89147908e-02,  3.20946798e-03, -1.80680603e-02,\n",
       "         -6.90348726e-03,  1.12122865e-02,  5.60836270e-02,  1.12994991e-01,\n",
       "         -2.57661212e-02, -2.66394665e-04,  6.30354509e-02,  5.36655001e-02,\n",
       "         -1.12098344e-02,  2.24702656e-02, -7.23866597e-02,  7.23656565e-02,\n",
       "          9.42755491e-02, -3.14805731e-02, -1.01066018e-02,  3.21766408e-03,\n",
       "         -1.07445456e-02,  2.51886640e-02,  1.38886478e-02, -1.29342554e-02,\n",
       "         -1.00129955e-02, -1.05782278e-01, -1.05313458e-01, -6.11463450e-02,\n",
       "         -8.09900404e-04,  3.10061816e-02, -5.57907037e-02, -1.94853769e-08,\n",
       "         -5.84551226e-03,  3.71720716e-02,  2.98140999e-02, -1.45357114e-03,\n",
       "         -3.09358425e-02, -5.55425137e-02, -5.21797761e-02,  4.62185740e-02,\n",
       "         -2.61761993e-02,  8.02096725e-02, -2.18900796e-02,  9.82917920e-02,\n",
       "          1.68062076e-02,  4.82865758e-02,  1.58112887e-02, -2.65230276e-02,\n",
       "         -2.94942819e-02, -1.12201106e-02, -2.25646645e-02, -5.20125479e-02,\n",
       "         -1.02617946e-02,  3.73087004e-02,  1.25240916e-02,  3.20321247e-02,\n",
       "          1.89705603e-02,  7.44411945e-02,  3.25570232e-03,  4.86356504e-02,\n",
       "          6.83685113e-03,  1.10513642e-02,  4.16182801e-02, -6.81586713e-02,\n",
       "         -1.71972364e-02,  3.75683270e-02, -4.08520643e-03, -5.62513582e-02,\n",
       "          6.04162775e-02, -6.28322214e-02, -5.10816872e-02, -1.05494428e-02,\n",
       "         -2.24450026e-02,  9.08546820e-02,  2.97880080e-02,  7.20873624e-02,\n",
       "         -2.49119308e-02, -1.02758575e-02, -5.85992727e-03,  3.08098570e-02,\n",
       "          8.66855960e-03, -4.54556346e-02,  1.07952580e-03, -2.38022534e-03,\n",
       "         -3.81158181e-02, -4.60886918e-02, -3.93910930e-02,  4.97843809e-02,\n",
       "          6.52634874e-02, -9.17181186e-03, -3.93962227e-02, -3.58067043e-02,\n",
       "          2.46356800e-02, -2.86456607e-02,  7.29965186e-03,  2.59642843e-02],\n",
       "        dtype=float32))}"
      ]
     },
     "execution_count": 142,
     "metadata": {},
     "output_type": "execute_result"
    }
   ],
   "source": [
    "dd2_vec"
   ]
  },
  {
   "cell_type": "code",
   "execution_count": 143,
   "id": "6e6dfa1f",
   "metadata": {},
   "outputs": [],
   "source": [
    "import re\n",
    "\n",
    "def calc_similar_dd1(s):\n",
    "    probability = {}\n",
    "#     text = ''\n",
    "#     for page in s[1:5]:\n",
    "#         if len(page) > 100:\n",
    "#             text += page\n",
    "    text = ' '.join(s[:5]) + ' '.join(s[-4:])\n",
    "    text = text.replace('\\n\\n', '.')\n",
    "    text = text.replace('\\n',\"\").replace('\\t',\"\")\n",
    "    for sent in text.split('.'):\n",
    "        if len(sent) < 20:\n",
    "            continue\n",
    "        sent_vec = model.encode(sent)\n",
    "        for label, vec in dd2_vec.items():\n",
    "            span, span_vec = vec\n",
    "            if label not in probability:\n",
    "                probability[label] = [0, '', '']\n",
    "            sim_score = util.cos_sim(span_vec, sent_vec)\n",
    "            if sim_score > probability[label][0]:\n",
    "                probability[label] = [sim_score, \"FOUND: \" + sent, \"DEFINITION: \" + span]\n",
    "    if len(probability) == 0:\n",
    "        return []\n",
    "    return list(sorted(probability.items(), key=lambda kv: kv[1][0], reverse=True))\n",
    "        \n",
    "\n",
    "df_small_text_test = df_small_text #.sample(n=2, random_state=3)\n",
    "df_small_text_test['dd2_labels'] = df_small_text_test['full_content'].apply(calc_similar_dd1)"
   ]
  },
  {
   "cell_type": "code",
   "execution_count": 144,
   "id": "4768ddef",
   "metadata": {},
   "outputs": [
    {
     "data": {
      "text/plain": [
       "0      [(Radiological/Biological, [tensor([[0.3972]])...\n",
       "1      [(Violence/Civil disruptions, [tensor([[0.4528...\n",
       "2      [(Violence/Civil disruptions, [tensor([[0.5019...\n",
       "3      [(War/conflict, [tensor([[0.5302]]), FOUND: 6 ...\n",
       "4      [(War/conflict, [tensor([[0.5302]]), FOUND: 6 ...\n",
       "                             ...                        \n",
       "158    [(Violence/Civil disruptions, [tensor([[0.4650...\n",
       "159    [(Violence/Civil disruptions, [tensor([[0.4804...\n",
       "160    [(War/conflict, [tensor([[0.4330]]), FOUND:  D...\n",
       "161    [(War/conflict, [tensor([[0.5459]]), FOUND:  T...\n",
       "162    [(Acts of terrorism, [tensor([[0.5732]]), FOUN...\n",
       "Name: dd2_labels, Length: 163, dtype: object"
      ]
     },
     "execution_count": 144,
     "metadata": {},
     "output_type": "execute_result"
    }
   ],
   "source": [
    "df_small_text_test['dd2_labels']"
   ]
  },
  {
   "cell_type": "code",
   "execution_count": 169,
   "id": "4fd2f272",
   "metadata": {},
   "outputs": [
    {
     "name": "stdout",
     "output_type": "stream",
     "text": [
      "AAAAAAAAAAA\n",
      "AAAAAAAAAAA\n"
     ]
    }
   ],
   "source": [
    "def form_labels_dd2(row):\n",
    "    dd_labels, full_content = row['dd2_labels'], row['full_content']\n",
    "    final_labels = []\n",
    "    explanation = []\n",
    "    for ind, val in enumerate(dd_labels):\n",
    "        typ, found = val\n",
    "#         print(found)\n",
    "        sim, found_span, definition = found[0:3]\n",
    "        if sim < 0.5 and ind > 0:\n",
    "            continue\n",
    "        final_labels.append('DD2_' + typ)\n",
    "        save_ind = -1\n",
    "        for ind, page in enumerate(full_content[:5] + full_content[-4:]):\n",
    "            page = page.replace('\\n\\n', '.')\n",
    "            page = page.replace('\\n',\"\").replace('\\t',\"\")\n",
    "            for sent in page.split('.'):\n",
    "                if normalized_levenshtein_score(found_span.lower(), sent.lower()) > 0.6:\n",
    "                    save_ind = ind\n",
    "                    break\n",
    "        if save_ind == -1:\n",
    "            print('AAAAAAAAAAA')\n",
    "        new_exp = deepcopy(found[0:3])\n",
    "        page_str = f'PAGE: {save_ind}'\n",
    "        new_exp = [typ, new_exp + [page_str]]\n",
    "#         print(new_exp)\n",
    "#         new_exp = new_exp.append(f'PAGE: {ind}')\n",
    "#         print(new_exp)\n",
    "        explanation = explanation + new_exp\n",
    "    return final_labels, explanation\n",
    "\n",
    "df_small_text['D2_Man-made'], df_small_text['D2_Man-made Details'] = zip(*df_small_text_test[['dd2_labels', 'full_content']].apply(form_labels_dd2, axis=1))"
   ]
  },
  {
   "cell_type": "code",
   "execution_count": 170,
   "id": "be2fc043",
   "metadata": {},
   "outputs": [],
   "source": [
    "# df_small_text['D2_Man-made Details'] = df_small_text['D3_Agriculture related Details']"
   ]
  },
  {
   "cell_type": "code",
   "execution_count": 171,
   "id": "e08baeb1",
   "metadata": {},
   "outputs": [
    {
     "data": {
      "text/html": [
       "<div>\n",
       "<style scoped>\n",
       "    .dataframe tbody tr th:only-of-type {\n",
       "        vertical-align: middle;\n",
       "    }\n",
       "\n",
       "    .dataframe tbody tr th {\n",
       "        vertical-align: top;\n",
       "    }\n",
       "\n",
       "    .dataframe thead th {\n",
       "        text-align: right;\n",
       "    }\n",
       "</style>\n",
       "<table border=\"1\" class=\"dataframe\">\n",
       "  <thead>\n",
       "    <tr style=\"text-align: right;\">\n",
       "      <th></th>\n",
       "      <th>D2_Man-made</th>\n",
       "      <th>D2_Man-made Details</th>\n",
       "    </tr>\n",
       "  </thead>\n",
       "  <tbody>\n",
       "    <tr>\n",
       "      <th>0</th>\n",
       "      <td>[DD2_Radiological/Biological]</td>\n",
       "      <td>[Radiological/Biological, [[tensor([0.3972])],...</td>\n",
       "    </tr>\n",
       "    <tr>\n",
       "      <th>1</th>\n",
       "      <td>[DD2_Violence/Civil disruptions]</td>\n",
       "      <td>[Violence/Civil disruptions, [[tensor([0.4528]...</td>\n",
       "    </tr>\n",
       "    <tr>\n",
       "      <th>2</th>\n",
       "      <td>[DD2_Violence/Civil disruptions]</td>\n",
       "      <td>[Violence/Civil disruptions, [[tensor([0.5019]...</td>\n",
       "    </tr>\n",
       "    <tr>\n",
       "      <th>3</th>\n",
       "      <td>[DD2_War/conflict]</td>\n",
       "      <td>[War/conflict, [[tensor([0.5302])], FOUND: 6 m...</td>\n",
       "    </tr>\n",
       "    <tr>\n",
       "      <th>4</th>\n",
       "      <td>[DD2_War/conflict]</td>\n",
       "      <td>[War/conflict, [[tensor([0.5302])], FOUND: 6 m...</td>\n",
       "    </tr>\n",
       "    <tr>\n",
       "      <th>...</th>\n",
       "      <td>...</td>\n",
       "      <td>...</td>\n",
       "    </tr>\n",
       "    <tr>\n",
       "      <th>158</th>\n",
       "      <td>[DD2_Violence/Civil disruptions]</td>\n",
       "      <td>[Violence/Civil disruptions, [[tensor([0.4650]...</td>\n",
       "    </tr>\n",
       "    <tr>\n",
       "      <th>159</th>\n",
       "      <td>[DD2_Violence/Civil disruptions]</td>\n",
       "      <td>[Violence/Civil disruptions, [[tensor([0.4804]...</td>\n",
       "    </tr>\n",
       "    <tr>\n",
       "      <th>160</th>\n",
       "      <td>[DD2_War/conflict]</td>\n",
       "      <td>[War/conflict, [[tensor([0.4330])], FOUND:  Di...</td>\n",
       "    </tr>\n",
       "    <tr>\n",
       "      <th>161</th>\n",
       "      <td>[DD2_War/conflict, DD2_Violence/Civil disrupti...</td>\n",
       "      <td>[War/conflict, [[tensor([0.5459])], FOUND:  Th...</td>\n",
       "    </tr>\n",
       "    <tr>\n",
       "      <th>162</th>\n",
       "      <td>[DD2_Acts of terrorism, DD2_War/conflict]</td>\n",
       "      <td>[Acts of terrorism, [[tensor([0.5732])], FOUND...</td>\n",
       "    </tr>\n",
       "  </tbody>\n",
       "</table>\n",
       "<p>163 rows × 2 columns</p>\n",
       "</div>"
      ],
      "text/plain": [
       "                                           D2_Man-made  \\\n",
       "0                        [DD2_Radiological/Biological]   \n",
       "1                     [DD2_Violence/Civil disruptions]   \n",
       "2                     [DD2_Violence/Civil disruptions]   \n",
       "3                                   [DD2_War/conflict]   \n",
       "4                                   [DD2_War/conflict]   \n",
       "..                                                 ...   \n",
       "158                   [DD2_Violence/Civil disruptions]   \n",
       "159                   [DD2_Violence/Civil disruptions]   \n",
       "160                                 [DD2_War/conflict]   \n",
       "161  [DD2_War/conflict, DD2_Violence/Civil disrupti...   \n",
       "162          [DD2_Acts of terrorism, DD2_War/conflict]   \n",
       "\n",
       "                                   D2_Man-made Details  \n",
       "0    [Radiological/Biological, [[tensor([0.3972])],...  \n",
       "1    [Violence/Civil disruptions, [[tensor([0.4528]...  \n",
       "2    [Violence/Civil disruptions, [[tensor([0.5019]...  \n",
       "3    [War/conflict, [[tensor([0.5302])], FOUND: 6 m...  \n",
       "4    [War/conflict, [[tensor([0.5302])], FOUND: 6 m...  \n",
       "..                                                 ...  \n",
       "158  [Violence/Civil disruptions, [[tensor([0.4650]...  \n",
       "159  [Violence/Civil disruptions, [[tensor([0.4804]...  \n",
       "160  [War/conflict, [[tensor([0.4330])], FOUND:  Di...  \n",
       "161  [War/conflict, [[tensor([0.5459])], FOUND:  Th...  \n",
       "162  [Acts of terrorism, [[tensor([0.5732])], FOUND...  \n",
       "\n",
       "[163 rows x 2 columns]"
      ]
     },
     "execution_count": 171,
     "metadata": {},
     "output_type": "execute_result"
    }
   ],
   "source": [
    "df_small_text[['D2_Man-made','D2_Man-made Details']]"
   ]
  },
  {
   "cell_type": "code",
   "execution_count": 149,
   "id": "95e0a796",
   "metadata": {},
   "outputs": [],
   "source": [
    "df_small_text_test[['doc_name', 'dd2_labels']].to_csv(\"small_dd2.csv\")"
   ]
  },
  {
   "cell_type": "markdown",
   "id": "7cf877d0",
   "metadata": {},
   "source": [
    "#### DD3"
   ]
  },
  {
   "cell_type": "code",
   "execution_count": 150,
   "id": "ef22f5bb",
   "metadata": {},
   "outputs": [],
   "source": [
    "from sentence_transformers import SentenceTransformer, util\n",
    "model = SentenceTransformer('all-MiniLM-L6-v2')\n",
    "\n",
    "# #Sentences are encoded by calling model.encode()\n",
    "# emb1 = model.encode(\"This is a red cat with a hat.\")\n",
    "# emb2 = model.encode(\"Have you seen my red cat?\")\n",
    "\n",
    "# cos_sim = util.cos_sim(emb1, emb2)\n",
    "# print(\"Cosine-Similarity:\", cos_sim)"
   ]
  },
  {
   "cell_type": "code",
   "execution_count": 151,
   "id": "9033d0e9",
   "metadata": {},
   "outputs": [],
   "source": [
    "dd3 = {'Livestoc' : 'kWidespread livestock or zoonotic disease threatens access to food and livelihood (loss of income; wealth). For instance, instances like mad cow disease, bird flu, and others.',\n",
    "       'Crops': 'Widespread crop (grain, fruits, vegetables, or cash crops)  disease or prests that cause a shortage of food/ loss of livelihood. These include locust infestation, fall armyworm, other insects; wheat rust, or other crop failures.'}"
   ]
  },
  {
   "cell_type": "code",
   "execution_count": 152,
   "id": "c11c0ef8",
   "metadata": {},
   "outputs": [],
   "source": [
    "dd3_vec = {}\n",
    "for k,v in dd3.items():\n",
    "    dd3_vec[k] = (v, model.encode(v))"
   ]
  },
  {
   "cell_type": "code",
   "execution_count": 153,
   "id": "ccbd4206",
   "metadata": {},
   "outputs": [],
   "source": [
    "import re\n",
    "\n",
    "def calc_similar_dd3(s):\n",
    "    probability = {}\n",
    "#     text = ''\n",
    "#     for page in s[1:5]:\n",
    "#         if len(page) > 100:\n",
    "#             text += page\n",
    "    text = ' '.join(s[:5]) + ' '.join(s[-4:])\n",
    "    text = text.replace('\\n\\n', '.')\n",
    "    text = text.replace('\\n',\"\").replace('\\t',\"\")\n",
    "    for sent in text.split('.'):\n",
    "        if len(sent) < 20:\n",
    "            continue\n",
    "        sent_vec = model.encode(sent)\n",
    "        for label, vec in dd3_vec.items():\n",
    "            span, span_vec = vec\n",
    "            if label not in probability:\n",
    "                probability[label] = [0, '', '']\n",
    "            sim_score = util.cos_sim(span_vec, sent_vec)\n",
    "            if sim_score > probability[label][0]:\n",
    "                probability[label] = [sim_score, \"FOUND: \" + sent, \"DEFINITION: \" + span]\n",
    "    if len(probability) == 0:\n",
    "        return []\n",
    "    return list(sorted(probability.items(), key=lambda kv: kv[1][0], reverse=True))\n",
    "        \n",
    "\n",
    "df_small_text_test = df_small_text #.sample(n=2, random_state=3)\n",
    "df_small_text_test['dd3_labels'] = df_small_text_test['full_content'].apply(calc_similar_dd3)"
   ]
  },
  {
   "cell_type": "code",
   "execution_count": 154,
   "id": "32c0a637",
   "metadata": {},
   "outputs": [
    {
     "data": {
      "text/plain": [
       "0      [(Crops, [tensor([[0.3705]]), FOUND: HR IP IT ...\n",
       "1      [(Crops, [tensor([[0.3331]]), FOUND:  Society ...\n",
       "2      [(Livestoc, [tensor([[0.3135]]), FOUND:  This ...\n",
       "3      [(Livestoc, [tensor([[0.4524]]), FOUND: the co...\n",
       "4      [(Livestoc, [tensor([[0.4524]]), FOUND: the co...\n",
       "                             ...                        \n",
       "158    [(Crops, [tensor([[0.2902]]), FOUND:   PARTICI...\n",
       "159    [(Crops, [tensor([[0.3904]]), FOUND: ,environm...\n",
       "160    [(Crops, [tensor([[0.2739]]), FOUND:  • Commun...\n",
       "161    [(Livestoc, [tensor([[0.4082]]), FOUND:   For ...\n",
       "162    [(Crops, [tensor([[0.3503]]), FOUND:  As a res...\n",
       "Name: dd3_labels, Length: 163, dtype: object"
      ]
     },
     "execution_count": 154,
     "metadata": {},
     "output_type": "execute_result"
    }
   ],
   "source": [
    "df_small_text_test['dd3_labels']"
   ]
  },
  {
   "cell_type": "code",
   "execution_count": 172,
   "id": "14cee19c",
   "metadata": {},
   "outputs": [],
   "source": [
    "def form_labels_dd3(row):\n",
    "    dd_labels, full_content = row['dd3_labels'], row['full_content']\n",
    "    final_labels = []\n",
    "    explanation = []\n",
    "    for ind, val in enumerate(dd_labels):\n",
    "        typ, found = val\n",
    "#         print(found)\n",
    "        sim, found_span, definition = found[0:3]\n",
    "        if sim < 0.5 and ind>0:\n",
    "            continue\n",
    "        final_labels.append('DD3_' + typ)\n",
    "        save_ind = -1\n",
    "        for ind, page in enumerate(full_content[:5] + full_content[-4:]):\n",
    "            page = page.replace('\\n\\n', '.')\n",
    "            page = page.replace('\\n',\"\").replace('\\t',\"\")\n",
    "            for sent in page.split('.'):\n",
    "                if normalized_levenshtein_score(found_span.lower(), sent.lower()) > 0.6:\n",
    "                    save_ind = ind\n",
    "                    break\n",
    "        if save_ind == -1:\n",
    "            print('AAAAAAAAAAA')\n",
    "        new_exp = deepcopy(found[0:3])\n",
    "        page_str = f'PAGE: {save_ind}'\n",
    "        new_exp = [typ, new_exp + [page_str]]\n",
    "#         print(new_exp)\n",
    "#         new_exp = new_exp.append(f'PAGE: {ind}')\n",
    "#         print(new_exp)\n",
    "        explanation = explanation + new_exp\n",
    "    return final_labels, explanation\n",
    "\n",
    "df_small_text['D3_Agriculture related'], df_small_text['D3_Agriculture related Details'] = zip(*df_small_text_test[['dd3_labels', 'full_content']].apply(form_labels_dd3, axis=1))"
   ]
  },
  {
   "cell_type": "code",
   "execution_count": 173,
   "id": "e75ab6af",
   "metadata": {},
   "outputs": [],
   "source": [
    "df_small_text_test[['doc_name', 'dd3_labels']].to_csv(\"small_dd3.csv\")"
   ]
  },
  {
   "cell_type": "markdown",
   "id": "23a3b857",
   "metadata": {},
   "source": [
    "#### DD4"
   ]
  },
  {
   "cell_type": "code",
   "execution_count": 174,
   "id": "a8f3cbf9",
   "metadata": {},
   "outputs": [],
   "source": [
    "from sentence_transformers import SentenceTransformer, util\n",
    "model = SentenceTransformer('all-MiniLM-L6-v2')\n",
    "\n",
    "# #Sentences are encoded by calling model.encode()\n",
    "# emb1 = model.encode(\"This is a red cat with a hat.\")\n",
    "# emb2 = model.encode(\"Have you seen my red cat?\")\n",
    "\n",
    "# cos_sim = util.cos_sim(emb1, emb2)\n",
    "# print(\"Cosine-Similarity:\", cos_sim)"
   ]
  },
  {
   "cell_type": "code",
   "execution_count": 175,
   "id": "b2c44ad9",
   "metadata": {},
   "outputs": [],
   "source": [
    "dd4 = {'Pandemic': 'Related to pandemic or epidemics; food or water contamination;',\n",
    "'Epidemic': 'Endemic (like Ebola, Zica, HIV and like)',\n",
    "'Other Health Emergencies': 'Food poisoning, large population suffering from certain parasites, or other infectious diseases'}"
   ]
  },
  {
   "cell_type": "code",
   "execution_count": 159,
   "id": "ab20cf8c",
   "metadata": {},
   "outputs": [],
   "source": [
    "dd4_vec = {}\n",
    "for k,v in dd4.items():\n",
    "    dd4_vec[k] = (v, model.encode(v))"
   ]
  },
  {
   "cell_type": "code",
   "execution_count": 160,
   "id": "8803117d",
   "metadata": {},
   "outputs": [],
   "source": [
    "import re\n",
    "\n",
    "def calc_similar_dd4(s):\n",
    "    probability = {}\n",
    "#     text = ''\n",
    "#     for page in s[1:5]:\n",
    "#         if len(page) > 100:\n",
    "#             text += page\n",
    "    text = ' '.join(s[:5]) + ' '.join(s[-4:])\n",
    "    text = text.replace('\\n\\n', '.')\n",
    "    text = text.replace('\\n',\"\").replace('\\t',\"\")\n",
    "    for sent in text.split('.'):\n",
    "        if len(sent) < 20:\n",
    "            continue\n",
    "        sent_vec = model.encode(sent)\n",
    "        for label, vec in dd4_vec.items():\n",
    "            span, span_vec = vec\n",
    "            if label not in probability:\n",
    "                probability[label] = [0, '', '']\n",
    "            sim_score = util.cos_sim(span_vec, sent_vec)\n",
    "            if sim_score > probability[label][0]:\n",
    "                probability[label] = [sim_score, \"FOUND: \" + sent, \"DEFINITION: \" + span]\n",
    "    if len(probability) == 0:\n",
    "        return []\n",
    "    return list(sorted(probability.items(), key=lambda kv: kv[1][0], reverse=True))\n",
    "        \n",
    "\n",
    "df_small_text_test = df_small_text #.sample(n=2, random_state=3)\n",
    "df_small_text_test['dd4_labels'] = df_small_text_test['full_content'].apply(calc_similar_dd4)"
   ]
  },
  {
   "cell_type": "code",
   "execution_count": 161,
   "id": "e84ae85a",
   "metadata": {},
   "outputs": [
    {
     "data": {
      "text/plain": [
       "0      [(Epidemic, [tensor([[0.4261]]), FOUND:  Betwe...\n",
       "1      [(Pandemic, [tensor([[0.3411]]), FOUND:  The s...\n",
       "2      [(Epidemic, [tensor([[0.3444]]), FOUND:  Addit...\n",
       "3      [(Epidemic, [tensor([[0.4074]]), FOUND: pdf 21...\n",
       "4      [(Epidemic, [tensor([[0.4074]]), FOUND: pdf 21...\n",
       "                             ...                        \n",
       "158    [(Pandemic, [tensor([[0.4490]]), FOUND:   Thes...\n",
       "159    [(Other Health Emergencies, [tensor([[0.4378]]...\n",
       "160    [(Pandemic, [tensor([[0.3110]]), FOUND:  Infor...\n",
       "161    [(Pandemic, [tensor([[0.4721]]), FOUND:  When ...\n",
       "162    [(Other Health Emergencies, [tensor([[0.3731]]...\n",
       "Name: dd4_labels, Length: 163, dtype: object"
      ]
     },
     "execution_count": 161,
     "metadata": {},
     "output_type": "execute_result"
    }
   ],
   "source": [
    "df_small_text_test['dd4_labels']"
   ]
  },
  {
   "cell_type": "code",
   "execution_count": 176,
   "id": "c7e2fe51",
   "metadata": {},
   "outputs": [],
   "source": [
    "def form_labels_dd4(row):\n",
    "    dd_labels, full_content = row['dd4_labels'], row['full_content']\n",
    "    final_labels = []\n",
    "    explanation = []\n",
    "    for ind, val in enumerate(dd_labels):\n",
    "        typ, found = val\n",
    "#         print(found)\n",
    "        sim, found_span, definition = found[0:3]\n",
    "        if sim < 0.49 and ind > 0:\n",
    "            continue\n",
    "        final_labels.append('DD4_' + typ)\n",
    "        save_ind = -1\n",
    "        for ind, page in enumerate(full_content[:5] + full_content[-4:]):\n",
    "            page = page.replace('\\n\\n', '.')\n",
    "            page = page.replace('\\n',\"\").replace('\\t',\"\")\n",
    "            for sent in page.split('.'):\n",
    "                if normalized_levenshtein_score(found_span.lower(), sent.lower()) > 0.6:\n",
    "                    save_ind = ind\n",
    "                    break\n",
    "        if save_ind == -1:\n",
    "            print('AAAAAAAAAAA')\n",
    "        new_exp = deepcopy(found[0:3])\n",
    "        page_str = f'PAGE: {save_ind}'\n",
    "        new_exp = [typ, new_exp + [page_str]]\n",
    "#         print(new_exp)\n",
    "#         new_exp = new_exp.append(f'PAGE: {ind}')\n",
    "#         print(new_exp)\n",
    "        explanation = explanation + new_exp\n",
    "    return final_labels, explanation\n",
    "\n",
    "df_small_text['D4_Human Helath'], df_small_text['D4_Human Helath Details'] = zip(*df_small_text_test[['dd4_labels', 'full_content']].apply(form_labels_dd4, axis=1))"
   ]
  },
  {
   "cell_type": "code",
   "execution_count": 177,
   "id": "490f9ed4",
   "metadata": {},
   "outputs": [],
   "source": [
    "df_small_text_test[['doc_name', 'dd4_labels']].to_csv(\"small_dd4.csv\")"
   ]
  },
  {
   "cell_type": "markdown",
   "id": "c66cc9ed",
   "metadata": {},
   "source": [
    "#### Compile final file"
   ]
  },
  {
   "cell_type": "code",
   "execution_count": 178,
   "id": "c8ba8f9a",
   "metadata": {},
   "outputs": [
    {
     "data": {
      "text/html": [
       "<div>\n",
       "<style scoped>\n",
       "    .dataframe tbody tr th:only-of-type {\n",
       "        vertical-align: middle;\n",
       "    }\n",
       "\n",
       "    .dataframe tbody tr th {\n",
       "        vertical-align: top;\n",
       "    }\n",
       "\n",
       "    .dataframe thead th {\n",
       "        text-align: right;\n",
       "    }\n",
       "</style>\n",
       "<table border=\"1\" class=\"dataframe\">\n",
       "  <thead>\n",
       "    <tr style=\"text-align: right;\">\n",
       "      <th></th>\n",
       "      <th>Unnamed: 0</th>\n",
       "      <th>doc_name</th>\n",
       "      <th>Country(ies)</th>\n",
       "      <th>countries_found</th>\n",
       "      <th>B3_USAID Themes</th>\n",
       "      <th>countries_limited_by_freq_found</th>\n",
       "      <th>Peace and security</th>\n",
       "      <th>Type of political system</th>\n",
       "      <th>Human Development</th>\n",
       "      <th>Corruption</th>\n",
       "    </tr>\n",
       "  </thead>\n",
       "  <tbody>\n",
       "    <tr>\n",
       "      <th>0</th>\n",
       "      <td>0</td>\n",
       "      <td>0000-BOURI-GLO.pkl</td>\n",
       "      <td>Global</td>\n",
       "      <td>{'Bangladesh': 1, 'Canada': 4, 'China': 1, 'Co...</td>\n",
       "      <td>[]</td>\n",
       "      <td>['Canada', 'India', 'Kenya', 'Rwanda', 'Uganda']</td>\n",
       "      <td>['FF3_P&amp;SGroup4', 'FF3_P&amp;SGroup3', 'FF3_P&amp;SGro...</td>\n",
       "      <td>['FF3_PolGroup3', 'FF3_PolGroup1']</td>\n",
       "      <td>['FF3_HDGroup1', 'FF3_HDGroup4', 'FF3_HDGroup3']</td>\n",
       "      <td>['FF3_CGroup1', 'FF3_CGroup2', 'FF3_CGroup4', ...</td>\n",
       "    </tr>\n",
       "    <tr>\n",
       "      <th>1</th>\n",
       "      <td>1</td>\n",
       "      <td>0000-CARBO-GLO.pkl</td>\n",
       "      <td>Afghanistan,Sudan,Iraq</td>\n",
       "      <td>{'Afghanistan': 2, 'Argentina': 1, 'Australia'...</td>\n",
       "      <td>['BB3_Conflict']</td>\n",
       "      <td>['Afghanistan', 'Switzerland', 'United Kingdom...</td>\n",
       "      <td>['FF3_P&amp;SGroup4', 'FF3_P&amp;SGroup3', 'FF3_P&amp;SGro...</td>\n",
       "      <td>['FF3_PolGroup2', 'FF3_PolGroup4', 'FF3_PolGro...</td>\n",
       "      <td>['FF3_HDGroup1', 'FF3_HDGroup3', 'FF3_HDGroup4']</td>\n",
       "      <td>['FF3_CGroup1', 'FF3_CGroup3', 'FF3_CGroup4']</td>\n",
       "    </tr>\n",
       "  </tbody>\n",
       "</table>\n",
       "</div>"
      ],
      "text/plain": [
       "   Unnamed: 0            doc_name            Country(ies)  \\\n",
       "0           0  0000-BOURI-GLO.pkl                  Global   \n",
       "1           1  0000-CARBO-GLO.pkl  Afghanistan,Sudan,Iraq   \n",
       "\n",
       "                                     countries_found   B3_USAID Themes  \\\n",
       "0  {'Bangladesh': 1, 'Canada': 4, 'China': 1, 'Co...                []   \n",
       "1  {'Afghanistan': 2, 'Argentina': 1, 'Australia'...  ['BB3_Conflict']   \n",
       "\n",
       "                     countries_limited_by_freq_found  \\\n",
       "0   ['Canada', 'India', 'Kenya', 'Rwanda', 'Uganda']   \n",
       "1  ['Afghanistan', 'Switzerland', 'United Kingdom...   \n",
       "\n",
       "                                  Peace and security  \\\n",
       "0  ['FF3_P&SGroup4', 'FF3_P&SGroup3', 'FF3_P&SGro...   \n",
       "1  ['FF3_P&SGroup4', 'FF3_P&SGroup3', 'FF3_P&SGro...   \n",
       "\n",
       "                            Type of political system  \\\n",
       "0                 ['FF3_PolGroup3', 'FF3_PolGroup1']   \n",
       "1  ['FF3_PolGroup2', 'FF3_PolGroup4', 'FF3_PolGro...   \n",
       "\n",
       "                                  Human Development  \\\n",
       "0  ['FF3_HDGroup1', 'FF3_HDGroup4', 'FF3_HDGroup3']   \n",
       "1  ['FF3_HDGroup1', 'FF3_HDGroup3', 'FF3_HDGroup4']   \n",
       "\n",
       "                                          Corruption  \n",
       "0  ['FF3_CGroup1', 'FF3_CGroup2', 'FF3_CGroup4', ...  \n",
       "1      ['FF3_CGroup1', 'FF3_CGroup3', 'FF3_CGroup4']  "
      ]
     },
     "execution_count": 178,
     "metadata": {},
     "output_type": "execute_result"
    }
   ],
   "source": [
    "f3_b3_df = pd.read_excel(r\"C:\\Users\\Volha_Skidan\\projects\\HavosAi\\data\\Phase 2 Working Folder (EGM Documents)\\shri_f3_b3.xlsx\")\n",
    "f3_b3_df.head(2)"
   ]
  },
  {
   "cell_type": "code",
   "execution_count": 179,
   "id": "a60ecc6e",
   "metadata": {},
   "outputs": [
    {
     "data": {
      "text/plain": [
       "(163, 10)"
      ]
     },
     "execution_count": 179,
     "metadata": {},
     "output_type": "execute_result"
    }
   ],
   "source": [
    "f3_b3_df.shape"
   ]
  },
  {
   "cell_type": "code",
   "execution_count": 180,
   "id": "1fc70b1a",
   "metadata": {},
   "outputs": [
    {
     "data": {
      "text/html": [
       "<div>\n",
       "<style scoped>\n",
       "    .dataframe tbody tr th:only-of-type {\n",
       "        vertical-align: middle;\n",
       "    }\n",
       "\n",
       "    .dataframe tbody tr th {\n",
       "        vertical-align: top;\n",
       "    }\n",
       "\n",
       "    .dataframe thead th {\n",
       "        text-align: right;\n",
       "    }\n",
       "</style>\n",
       "<table border=\"1\" class=\"dataframe\">\n",
       "  <thead>\n",
       "    <tr style=\"text-align: right;\">\n",
       "      <th></th>\n",
       "      <th>doc_name</th>\n",
       "      <th>D1_Natural</th>\n",
       "      <th>D1_Natural Details</th>\n",
       "      <th>D2_Man-made</th>\n",
       "      <th>D2_Man-made Details</th>\n",
       "      <th>D3_Agriculture related</th>\n",
       "      <th>D3_Agriculture related Details</th>\n",
       "      <th>D4_Human Helath</th>\n",
       "      <th>D4_Human Helath Details</th>\n",
       "    </tr>\n",
       "  </thead>\n",
       "  <tbody>\n",
       "    <tr>\n",
       "      <th>0</th>\n",
       "      <td>0000-BOURI-GLO.pkl</td>\n",
       "      <td>[DD1_Seismic/Volcanic]</td>\n",
       "      <td>[Seismic/Volcanic, [[tensor([0.3040])], FOUND:...</td>\n",
       "      <td>[DD2_Radiological/Biological]</td>\n",
       "      <td>[Radiological/Biological, [[tensor([0.3972])],...</td>\n",
       "      <td>[DD3_Crops]</td>\n",
       "      <td>[Crops, [[tensor([0.3705])], FOUND: HR IP IT L...</td>\n",
       "      <td>[DD4_Epidemic]</td>\n",
       "      <td>[Epidemic, [[tensor([0.4261])], FOUND:  Betwee...</td>\n",
       "    </tr>\n",
       "    <tr>\n",
       "      <th>1</th>\n",
       "      <td>0000-CARBO-GLO.pkl</td>\n",
       "      <td>[DD1_Seismic/Volcanic, DD1_Hydrological]</td>\n",
       "      <td>[Seismic/Volcanic, [[tensor([0.5487])], FOUND:...</td>\n",
       "      <td>[DD2_Violence/Civil disruptions]</td>\n",
       "      <td>[Violence/Civil disruptions, [[tensor([0.4528]...</td>\n",
       "      <td>[DD3_Crops]</td>\n",
       "      <td>[Crops, [[tensor([0.3331])], FOUND:  Society a...</td>\n",
       "      <td>[DD4_Pandemic]</td>\n",
       "      <td>[Pandemic, [[tensor([0.3411])], FOUND:  The sp...</td>\n",
       "    </tr>\n",
       "    <tr>\n",
       "      <th>2</th>\n",
       "      <td>0000-ELAN-PHL.pkl</td>\n",
       "      <td>[DD1_Seismic/Volcanic]</td>\n",
       "      <td>[Seismic/Volcanic, [[tensor([0.4409])], FOUND:...</td>\n",
       "      <td>[DD2_Violence/Civil disruptions]</td>\n",
       "      <td>[Violence/Civil disruptions, [[tensor([0.5019]...</td>\n",
       "      <td>[DD3_Livestoc]</td>\n",
       "      <td>[Livestoc, [[tensor([0.3135])], FOUND:  This s...</td>\n",
       "      <td>[DD4_Epidemic]</td>\n",
       "      <td>[Epidemic, [[tensor([0.3444])], FOUND:  Additi...</td>\n",
       "    </tr>\n",
       "    <tr>\n",
       "      <th>3</th>\n",
       "      <td>0000-GURUN-GLO.pkl</td>\n",
       "      <td>[DD1_Seismic/Volcanic]</td>\n",
       "      <td>[Seismic/Volcanic, [[tensor([0.4871])], FOUND:...</td>\n",
       "      <td>[DD2_War/conflict]</td>\n",
       "      <td>[War/conflict, [[tensor([0.5302])], FOUND: 6 m...</td>\n",
       "      <td>[DD3_Livestoc]</td>\n",
       "      <td>[Livestoc, [[tensor([0.4524])], FOUND: the com...</td>\n",
       "      <td>[DD4_Epidemic]</td>\n",
       "      <td>[Epidemic, [[tensor([0.4074])], FOUND: pdf 21 ...</td>\n",
       "    </tr>\n",
       "    <tr>\n",
       "      <th>4</th>\n",
       "      <td>0000-GURUN-GLO.pkl</td>\n",
       "      <td>[DD1_Seismic/Volcanic]</td>\n",
       "      <td>[Seismic/Volcanic, [[tensor([0.4871])], FOUND:...</td>\n",
       "      <td>[DD2_War/conflict]</td>\n",
       "      <td>[War/conflict, [[tensor([0.5302])], FOUND: 6 m...</td>\n",
       "      <td>[DD3_Livestoc]</td>\n",
       "      <td>[Livestoc, [[tensor([0.4524])], FOUND: the com...</td>\n",
       "      <td>[DD4_Epidemic]</td>\n",
       "      <td>[Epidemic, [[tensor([0.4074])], FOUND: pdf 21 ...</td>\n",
       "    </tr>\n",
       "    <tr>\n",
       "      <th>...</th>\n",
       "      <td>...</td>\n",
       "      <td>...</td>\n",
       "      <td>...</td>\n",
       "      <td>...</td>\n",
       "      <td>...</td>\n",
       "      <td>...</td>\n",
       "      <td>...</td>\n",
       "      <td>...</td>\n",
       "      <td>...</td>\n",
       "    </tr>\n",
       "    <tr>\n",
       "      <th>158</th>\n",
       "      <td>2109-BRITO-CLO.pkl</td>\n",
       "      <td>[DD1_Seismic/Volcanic]</td>\n",
       "      <td>[Seismic/Volcanic, [[tensor([0.5281])], FOUND:...</td>\n",
       "      <td>[DD2_Violence/Civil disruptions]</td>\n",
       "      <td>[Violence/Civil disruptions, [[tensor([0.4650]...</td>\n",
       "      <td>[DD3_Crops]</td>\n",
       "      <td>[Crops, [[tensor([0.2902])], FOUND:   PARTICIP...</td>\n",
       "      <td>[DD4_Pandemic]</td>\n",
       "      <td>[Pandemic, [[tensor([0.4490])], FOUND:   These...</td>\n",
       "    </tr>\n",
       "    <tr>\n",
       "      <th>159</th>\n",
       "      <td>2109-Cozzo-GLO.pkl</td>\n",
       "      <td>[DD1_Seismic/Volcanic, DD1_Hydrological]</td>\n",
       "      <td>[Seismic/Volcanic, [[tensor([0.6442])], FOUND:...</td>\n",
       "      <td>[DD2_Violence/Civil disruptions]</td>\n",
       "      <td>[Violence/Civil disruptions, [[tensor([0.4804]...</td>\n",
       "      <td>[DD3_Crops]</td>\n",
       "      <td>[Crops, [[tensor([0.3904])], FOUND: ,environme...</td>\n",
       "      <td>[DD4_Other Health Emergencies]</td>\n",
       "      <td>[Other Health Emergencies, [[tensor([0.4378])]...</td>\n",
       "    </tr>\n",
       "    <tr>\n",
       "      <th>160</th>\n",
       "      <td>2109-MAOR-GLO.pkl</td>\n",
       "      <td>[DD1_Seismic/Volcanic]</td>\n",
       "      <td>[Seismic/Volcanic, [[tensor([0.4299])], FOUND:...</td>\n",
       "      <td>[DD2_War/conflict]</td>\n",
       "      <td>[War/conflict, [[tensor([0.4330])], FOUND:  Di...</td>\n",
       "      <td>[DD3_Crops]</td>\n",
       "      <td>[Crops, [[tensor([0.2739])], FOUND:  • Communi...</td>\n",
       "      <td>[DD4_Pandemic]</td>\n",
       "      <td>[Pandemic, [[tensor([0.3110])], FOUND:  Inform...</td>\n",
       "    </tr>\n",
       "    <tr>\n",
       "      <th>161</th>\n",
       "      <td>2110-CBI-GLO.pkl</td>\n",
       "      <td>[DD1_Seismic/Volcanic]</td>\n",
       "      <td>[Seismic/Volcanic, [[tensor([0.4405])], FOUND:...</td>\n",
       "      <td>[DD2_War/conflict, DD2_Violence/Civil disrupti...</td>\n",
       "      <td>[War/conflict, [[tensor([0.5459])], FOUND:  Th...</td>\n",
       "      <td>[DD3_Livestoc]</td>\n",
       "      <td>[Livestoc, [[tensor([0.4082])], FOUND:   For e...</td>\n",
       "      <td>[DD4_Pandemic]</td>\n",
       "      <td>[Pandemic, [[tensor([0.4721])], FOUND:  When d...</td>\n",
       "    </tr>\n",
       "    <tr>\n",
       "      <th>162</th>\n",
       "      <td>2110-OCHA-PHL.pkl</td>\n",
       "      <td>[DD1_Seismic/Volcanic]</td>\n",
       "      <td>[Seismic/Volcanic, [[tensor([0.4339])], FOUND:...</td>\n",
       "      <td>[DD2_Acts of terrorism, DD2_War/conflict]</td>\n",
       "      <td>[Acts of terrorism, [[tensor([0.5732])], FOUND...</td>\n",
       "      <td>[DD3_Crops]</td>\n",
       "      <td>[Crops, [[tensor([0.3503])], FOUND:  As a resu...</td>\n",
       "      <td>[DD4_Other Health Emergencies]</td>\n",
       "      <td>[Other Health Emergencies, [[tensor([0.3731])]...</td>\n",
       "    </tr>\n",
       "  </tbody>\n",
       "</table>\n",
       "<p>163 rows × 9 columns</p>\n",
       "</div>"
      ],
      "text/plain": [
       "               doc_name                                D1_Natural  \\\n",
       "0    0000-BOURI-GLO.pkl                    [DD1_Seismic/Volcanic]   \n",
       "1    0000-CARBO-GLO.pkl  [DD1_Seismic/Volcanic, DD1_Hydrological]   \n",
       "2     0000-ELAN-PHL.pkl                    [DD1_Seismic/Volcanic]   \n",
       "3    0000-GURUN-GLO.pkl                    [DD1_Seismic/Volcanic]   \n",
       "4    0000-GURUN-GLO.pkl                    [DD1_Seismic/Volcanic]   \n",
       "..                  ...                                       ...   \n",
       "158  2109-BRITO-CLO.pkl                    [DD1_Seismic/Volcanic]   \n",
       "159  2109-Cozzo-GLO.pkl  [DD1_Seismic/Volcanic, DD1_Hydrological]   \n",
       "160   2109-MAOR-GLO.pkl                    [DD1_Seismic/Volcanic]   \n",
       "161    2110-CBI-GLO.pkl                    [DD1_Seismic/Volcanic]   \n",
       "162   2110-OCHA-PHL.pkl                    [DD1_Seismic/Volcanic]   \n",
       "\n",
       "                                    D1_Natural Details  \\\n",
       "0    [Seismic/Volcanic, [[tensor([0.3040])], FOUND:...   \n",
       "1    [Seismic/Volcanic, [[tensor([0.5487])], FOUND:...   \n",
       "2    [Seismic/Volcanic, [[tensor([0.4409])], FOUND:...   \n",
       "3    [Seismic/Volcanic, [[tensor([0.4871])], FOUND:...   \n",
       "4    [Seismic/Volcanic, [[tensor([0.4871])], FOUND:...   \n",
       "..                                                 ...   \n",
       "158  [Seismic/Volcanic, [[tensor([0.5281])], FOUND:...   \n",
       "159  [Seismic/Volcanic, [[tensor([0.6442])], FOUND:...   \n",
       "160  [Seismic/Volcanic, [[tensor([0.4299])], FOUND:...   \n",
       "161  [Seismic/Volcanic, [[tensor([0.4405])], FOUND:...   \n",
       "162  [Seismic/Volcanic, [[tensor([0.4339])], FOUND:...   \n",
       "\n",
       "                                           D2_Man-made  \\\n",
       "0                        [DD2_Radiological/Biological]   \n",
       "1                     [DD2_Violence/Civil disruptions]   \n",
       "2                     [DD2_Violence/Civil disruptions]   \n",
       "3                                   [DD2_War/conflict]   \n",
       "4                                   [DD2_War/conflict]   \n",
       "..                                                 ...   \n",
       "158                   [DD2_Violence/Civil disruptions]   \n",
       "159                   [DD2_Violence/Civil disruptions]   \n",
       "160                                 [DD2_War/conflict]   \n",
       "161  [DD2_War/conflict, DD2_Violence/Civil disrupti...   \n",
       "162          [DD2_Acts of terrorism, DD2_War/conflict]   \n",
       "\n",
       "                                   D2_Man-made Details D3_Agriculture related  \\\n",
       "0    [Radiological/Biological, [[tensor([0.3972])],...            [DD3_Crops]   \n",
       "1    [Violence/Civil disruptions, [[tensor([0.4528]...            [DD3_Crops]   \n",
       "2    [Violence/Civil disruptions, [[tensor([0.5019]...         [DD3_Livestoc]   \n",
       "3    [War/conflict, [[tensor([0.5302])], FOUND: 6 m...         [DD3_Livestoc]   \n",
       "4    [War/conflict, [[tensor([0.5302])], FOUND: 6 m...         [DD3_Livestoc]   \n",
       "..                                                 ...                    ...   \n",
       "158  [Violence/Civil disruptions, [[tensor([0.4650]...            [DD3_Crops]   \n",
       "159  [Violence/Civil disruptions, [[tensor([0.4804]...            [DD3_Crops]   \n",
       "160  [War/conflict, [[tensor([0.4330])], FOUND:  Di...            [DD3_Crops]   \n",
       "161  [War/conflict, [[tensor([0.5459])], FOUND:  Th...         [DD3_Livestoc]   \n",
       "162  [Acts of terrorism, [[tensor([0.5732])], FOUND...            [DD3_Crops]   \n",
       "\n",
       "                        D3_Agriculture related Details  \\\n",
       "0    [Crops, [[tensor([0.3705])], FOUND: HR IP IT L...   \n",
       "1    [Crops, [[tensor([0.3331])], FOUND:  Society a...   \n",
       "2    [Livestoc, [[tensor([0.3135])], FOUND:  This s...   \n",
       "3    [Livestoc, [[tensor([0.4524])], FOUND: the com...   \n",
       "4    [Livestoc, [[tensor([0.4524])], FOUND: the com...   \n",
       "..                                                 ...   \n",
       "158  [Crops, [[tensor([0.2902])], FOUND:   PARTICIP...   \n",
       "159  [Crops, [[tensor([0.3904])], FOUND: ,environme...   \n",
       "160  [Crops, [[tensor([0.2739])], FOUND:  • Communi...   \n",
       "161  [Livestoc, [[tensor([0.4082])], FOUND:   For e...   \n",
       "162  [Crops, [[tensor([0.3503])], FOUND:  As a resu...   \n",
       "\n",
       "                    D4_Human Helath  \\\n",
       "0                    [DD4_Epidemic]   \n",
       "1                    [DD4_Pandemic]   \n",
       "2                    [DD4_Epidemic]   \n",
       "3                    [DD4_Epidemic]   \n",
       "4                    [DD4_Epidemic]   \n",
       "..                              ...   \n",
       "158                  [DD4_Pandemic]   \n",
       "159  [DD4_Other Health Emergencies]   \n",
       "160                  [DD4_Pandemic]   \n",
       "161                  [DD4_Pandemic]   \n",
       "162  [DD4_Other Health Emergencies]   \n",
       "\n",
       "                               D4_Human Helath Details  \n",
       "0    [Epidemic, [[tensor([0.4261])], FOUND:  Betwee...  \n",
       "1    [Pandemic, [[tensor([0.3411])], FOUND:  The sp...  \n",
       "2    [Epidemic, [[tensor([0.3444])], FOUND:  Additi...  \n",
       "3    [Epidemic, [[tensor([0.4074])], FOUND: pdf 21 ...  \n",
       "4    [Epidemic, [[tensor([0.4074])], FOUND: pdf 21 ...  \n",
       "..                                                 ...  \n",
       "158  [Pandemic, [[tensor([0.4490])], FOUND:   These...  \n",
       "159  [Other Health Emergencies, [[tensor([0.4378])]...  \n",
       "160  [Pandemic, [[tensor([0.3110])], FOUND:  Inform...  \n",
       "161  [Pandemic, [[tensor([0.4721])], FOUND:  When d...  \n",
       "162  [Other Health Emergencies, [[tensor([0.3731])]...  \n",
       "\n",
       "[163 rows x 9 columns]"
      ]
     },
     "execution_count": 180,
     "metadata": {},
     "output_type": "execute_result"
    }
   ],
   "source": [
    "df_small_text[['doc_name', 'D1_Natural','D1_Natural Details', 'D2_Man-made','D2_Man-made Details', 'D3_Agriculture related', 'D3_Agriculture related Details', 'D4_Human Helath', 'D4_Human Helath Details'] ]"
   ]
  },
  {
   "cell_type": "code",
   "execution_count": 181,
   "id": "063a7a08",
   "metadata": {},
   "outputs": [],
   "source": [
    "final_df = pd.merge(f3_b3_df,\n",
    "                   df_small_text[['doc_name', 'D1_Natural','D1_Natural Details', 'D2_Man-made','D2_Man-made Details', 'D3_Agriculture related', 'D3_Agriculture related Details', 'D4_Human Helath', 'D4_Human Helath Details'] ],\n",
    "                   on='doc_name',\n",
    "                   how='inner')"
   ]
  },
  {
   "cell_type": "code",
   "execution_count": 182,
   "id": "f228388f",
   "metadata": {},
   "outputs": [],
   "source": [
    "final_df.to_excel(r\"C:\\Users\\Volha_Skidan\\projects\\HavosAi\\data\\Phase 2 Working Folder (EGM Documents)\\BHA_Evidence_Brief.xlsx\")"
   ]
  },
  {
   "cell_type": "code",
   "execution_count": null,
   "id": "daaaa4d8",
   "metadata": {},
   "outputs": [],
   "source": []
  },
  {
   "cell_type": "markdown",
   "id": "070b0c7e",
   "metadata": {},
   "source": [
    "## Saving"
   ]
  },
  {
   "cell_type": "code",
   "execution_count": 54,
   "id": "266768a9",
   "metadata": {},
   "outputs": [],
   "source": [
    "simple_df = pd.read_excel(\"simple_cat_2nd.xlsx\")"
   ]
  },
  {
   "cell_type": "code",
   "execution_count": 57,
   "id": "537fa5f9",
   "metadata": {},
   "outputs": [
    {
     "data": {
      "text/html": [
       "<div>\n",
       "<style scoped>\n",
       "    .dataframe tbody tr th:only-of-type {\n",
       "        vertical-align: middle;\n",
       "    }\n",
       "\n",
       "    .dataframe tbody tr th {\n",
       "        vertical-align: top;\n",
       "    }\n",
       "\n",
       "    .dataframe thead th {\n",
       "        text-align: right;\n",
       "    }\n",
       "</style>\n",
       "<table border=\"1\" class=\"dataframe\">\n",
       "  <thead>\n",
       "    <tr style=\"text-align: right;\">\n",
       "      <th></th>\n",
       "      <th>Unnamed: 0.1</th>\n",
       "      <th>doc_name</th>\n",
       "      <th>content</th>\n",
       "      <th>full_content</th>\n",
       "      <th>Document ID</th>\n",
       "      <th>Document Title</th>\n",
       "      <th>Author(s)</th>\n",
       "      <th>Name of Private Sector Partner(s)</th>\n",
       "      <th>Publishing Institution(s)</th>\n",
       "      <th>Year</th>\n",
       "      <th>...</th>\n",
       "      <th>document_name</th>\n",
       "      <th>Unnamed: 0</th>\n",
       "      <th>title_found</th>\n",
       "      <th>authors_organizations</th>\n",
       "      <th>authors_institutions</th>\n",
       "      <th>publishing_institutions</th>\n",
       "      <th>found_year</th>\n",
       "      <th>countries_found</th>\n",
       "      <th>countries_limited_by_freq_found</th>\n",
       "      <th>usaid_region_found</th>\n",
       "    </tr>\n",
       "  </thead>\n",
       "  <tbody>\n",
       "    <tr>\n",
       "      <th>0</th>\n",
       "      <td>0</td>\n",
       "      <td>0000-BOURI-GLO.pkl</td>\n",
       "      <td>USAID’s Center for Innovation and Impact (CII)...</td>\n",
       "      <td>['Unleashing Private \\nCapital for Global \\nHe...</td>\n",
       "      <td>0000-bouri-glo</td>\n",
       "      <td>Unleashing Private Capital for Global Health I...</td>\n",
       "      <td>Center for Innovation and Impact</td>\n",
       "      <td>NaN</td>\n",
       "      <td>USAID From the American People</td>\n",
       "      <td>NaN</td>\n",
       "      <td>...</td>\n",
       "      <td>0000-BOURI-GLO</td>\n",
       "      <td>1</td>\n",
       "      <td>Unleashing private capital for global health i...</td>\n",
       "      <td>{'USAID'}</td>\n",
       "      <td>{'Amit Bouri'}</td>\n",
       "      <td>{'USAID'}</td>\n",
       "      <td>NaN</td>\n",
       "      <td>{'Bangladesh': 1, 'Canada': 4, 'China': 1, 'Co...</td>\n",
       "      <td>['Canada', 'India', 'Kenya', 'Rwanda', 'Uganda']</td>\n",
       "      <td>['Afghanistan and Pakistan', 'Africa', 'Asia',...</td>\n",
       "    </tr>\n",
       "    <tr>\n",
       "      <th>1</th>\n",
       "      <td>1</td>\n",
       "      <td>0000-CARBO-GLO.pkl</td>\n",
       "      <td>Privatisation and outsourcing in wartime: the ...</td>\n",
       "      <td>['Privatisation and outsourcing in \\nwartime: ...</td>\n",
       "      <td>0000-carbo-glo</td>\n",
       "      <td>Privatisation and Outsourcing in Wartime: the ...</td>\n",
       "      <td>Gilles Carbonnier</td>\n",
       "      <td>NaN</td>\n",
       "      <td>Overseas Development Institute</td>\n",
       "      <td>2006.0</td>\n",
       "      <td>...</td>\n",
       "      <td>0000-CARBO-GLO</td>\n",
       "      <td>2</td>\n",
       "      <td>Privatisation and outsourcing in wartime: the ...</td>\n",
       "      <td>set()</td>\n",
       "      <td>{'Gilles Carbonnier'}</td>\n",
       "      <td>set()</td>\n",
       "      <td>2000.0</td>\n",
       "      <td>{'Afghanistan': 2, 'Argentina': 1, 'Australia'...</td>\n",
       "      <td>['Afghanistan', 'Switzerland', 'United Kingdom...</td>\n",
       "      <td>['Afghanistan and Pakistan', 'Africa', 'Asia',...</td>\n",
       "    </tr>\n",
       "  </tbody>\n",
       "</table>\n",
       "<p>2 rows × 40 columns</p>\n",
       "</div>"
      ],
      "text/plain": [
       "   Unnamed: 0.1            doc_name  \\\n",
       "0             0  0000-BOURI-GLO.pkl   \n",
       "1             1  0000-CARBO-GLO.pkl   \n",
       "\n",
       "                                             content  \\\n",
       "0  USAID’s Center for Innovation and Impact (CII)...   \n",
       "1  Privatisation and outsourcing in wartime: the ...   \n",
       "\n",
       "                                        full_content     Document ID  \\\n",
       "0  ['Unleashing Private \\nCapital for Global \\nHe...  0000-bouri-glo   \n",
       "1  ['Privatisation and outsourcing in \\nwartime: ...  0000-carbo-glo   \n",
       "\n",
       "                                      Document Title  \\\n",
       "0  Unleashing Private Capital for Global Health I...   \n",
       "1  Privatisation and Outsourcing in Wartime: the ...   \n",
       "\n",
       "                          Author(s) Name of Private Sector Partner(s)  \\\n",
       "0  Center for Innovation and Impact                               NaN   \n",
       "1                 Gilles Carbonnier                               NaN   \n",
       "\n",
       "        Publishing Institution(s)    Year  ...   document_name Unnamed: 0  \\\n",
       "0  USAID From the American People     NaN  ...  0000-BOURI-GLO          1   \n",
       "1  Overseas Development Institute  2006.0  ...  0000-CARBO-GLO          2   \n",
       "\n",
       "                                         title_found authors_organizations  \\\n",
       "0  Unleashing private capital for global health i...             {'USAID'}   \n",
       "1  Privatisation and outsourcing in wartime: the ...                 set()   \n",
       "\n",
       "    authors_institutions publishing_institutions found_year  \\\n",
       "0         {'Amit Bouri'}               {'USAID'}        NaN   \n",
       "1  {'Gilles Carbonnier'}                   set()     2000.0   \n",
       "\n",
       "                                     countries_found  \\\n",
       "0  {'Bangladesh': 1, 'Canada': 4, 'China': 1, 'Co...   \n",
       "1  {'Afghanistan': 2, 'Argentina': 1, 'Australia'...   \n",
       "\n",
       "                     countries_limited_by_freq_found  \\\n",
       "0   ['Canada', 'India', 'Kenya', 'Rwanda', 'Uganda']   \n",
       "1  ['Afghanistan', 'Switzerland', 'United Kingdom...   \n",
       "\n",
       "                                  usaid_region_found  \n",
       "0  ['Afghanistan and Pakistan', 'Africa', 'Asia',...  \n",
       "1  ['Afghanistan and Pakistan', 'Africa', 'Asia',...  \n",
       "\n",
       "[2 rows x 40 columns]"
      ]
     },
     "execution_count": 57,
     "metadata": {},
     "output_type": "execute_result"
    }
   ],
   "source": [
    "simple_df.head(2)"
   ]
  },
  {
   "cell_type": "code",
   "execution_count": 67,
   "id": "6c84894a",
   "metadata": {},
   "outputs": [
    {
     "data": {
      "text/html": [
       "<div>\n",
       "<style scoped>\n",
       "    .dataframe tbody tr th:only-of-type {\n",
       "        vertical-align: middle;\n",
       "    }\n",
       "\n",
       "    .dataframe tbody tr th {\n",
       "        vertical-align: top;\n",
       "    }\n",
       "\n",
       "    .dataframe thead th {\n",
       "        text-align: right;\n",
       "    }\n",
       "</style>\n",
       "<table border=\"1\" class=\"dataframe\">\n",
       "  <thead>\n",
       "    <tr style=\"text-align: right;\">\n",
       "      <th></th>\n",
       "      <th>Unnamed: 0.1</th>\n",
       "      <th>doc_name</th>\n",
       "      <th>Document ID</th>\n",
       "      <th>Document Title</th>\n",
       "      <th>Author(s)</th>\n",
       "      <th>Name of Private Sector Partner(s)</th>\n",
       "      <th>Publishing Institution(s)</th>\n",
       "      <th>Year</th>\n",
       "      <th>Technical Sector</th>\n",
       "      <th>Special Considerations</th>\n",
       "      <th>...</th>\n",
       "      <th>publishing_institutions</th>\n",
       "      <th>found_year</th>\n",
       "      <th>countries_found</th>\n",
       "      <th>countries_limited_by_freq_found</th>\n",
       "      <th>usaid_region_found</th>\n",
       "      <th>pse_ways_labels</th>\n",
       "      <th>pse_ways_prob_founded</th>\n",
       "      <th>pse_ways_prob_top_1_founded</th>\n",
       "      <th>pse_ways_prob_top_2_founded</th>\n",
       "      <th>pse_ways_prob_top_3_founded</th>\n",
       "    </tr>\n",
       "  </thead>\n",
       "  <tbody>\n",
       "    <tr>\n",
       "      <th>0</th>\n",
       "      <td>0</td>\n",
       "      <td>0000-BOURI-GLO.pkl</td>\n",
       "      <td>0000-bouri-glo</td>\n",
       "      <td>Unleashing Private Capital for Global Health I...</td>\n",
       "      <td>Center for Innovation and Impact</td>\n",
       "      <td>NaN</td>\n",
       "      <td>USAID From the American People</td>\n",
       "      <td>NaN</td>\n",
       "      <td>Humanitarian Assistance,Health</td>\n",
       "      <td>NaN</td>\n",
       "      <td>...</td>\n",
       "      <td>{'USAID'}</td>\n",
       "      <td>NaN</td>\n",
       "      <td>{'Bangladesh': 1, 'Canada': 4, 'China': 1, 'Co...</td>\n",
       "      <td>['Canada', 'India', 'Kenya', 'Rwanda', 'Uganda']</td>\n",
       "      <td>['Afghanistan and Pakistan', 'Africa', 'Asia',...</td>\n",
       "      <td>[Harnessing Private-Sector Expertise and Innov...</td>\n",
       "      <td>[(Harnessing Private-Sector Expertise and Inno...</td>\n",
       "      <td>(Harnessing Private-Sector Expertise and Innov...</td>\n",
       "      <td>(Catalyzing Private-Sector Resources;, [[tenso...</td>\n",
       "      <td>(Strengthening the Enabling Environment, [[ten...</td>\n",
       "    </tr>\n",
       "    <tr>\n",
       "      <th>1</th>\n",
       "      <td>1</td>\n",
       "      <td>0000-CARBO-GLO.pkl</td>\n",
       "      <td>0000-carbo-glo</td>\n",
       "      <td>Privatisation and Outsourcing in Wartime: the ...</td>\n",
       "      <td>Gilles Carbonnier</td>\n",
       "      <td>NaN</td>\n",
       "      <td>Overseas Development Institute</td>\n",
       "      <td>2006.0</td>\n",
       "      <td>Humanitarian Assistance,Peace &amp; Security,\"Demo...</td>\n",
       "      <td>Conflict</td>\n",
       "      <td>...</td>\n",
       "      <td>set()</td>\n",
       "      <td>2000.0</td>\n",
       "      <td>{'Afghanistan': 2, 'Argentina': 1, 'Australia'...</td>\n",
       "      <td>['Afghanistan', 'Switzerland', 'United Kingdom...</td>\n",
       "      <td>['Afghanistan and Pakistan', 'Africa', 'Asia',...</td>\n",
       "      <td>[Harnessing Private-Sector Expertise and Innov...</td>\n",
       "      <td>[(Harnessing Private-Sector Expertise and Inno...</td>\n",
       "      <td>(Harnessing Private-Sector Expertise and Innov...</td>\n",
       "      <td>(Catalyzing Private-Sector Resources;, [[tenso...</td>\n",
       "      <td>(Information-Sharing and Strategic Alignment, ...</td>\n",
       "    </tr>\n",
       "  </tbody>\n",
       "</table>\n",
       "<p>2 rows × 43 columns</p>\n",
       "</div>"
      ],
      "text/plain": [
       "   Unnamed: 0.1            doc_name     Document ID  \\\n",
       "0             0  0000-BOURI-GLO.pkl  0000-bouri-glo   \n",
       "1             1  0000-CARBO-GLO.pkl  0000-carbo-glo   \n",
       "\n",
       "                                      Document Title  \\\n",
       "0  Unleashing Private Capital for Global Health I...   \n",
       "1  Privatisation and Outsourcing in Wartime: the ...   \n",
       "\n",
       "                          Author(s) Name of Private Sector Partner(s)  \\\n",
       "0  Center for Innovation and Impact                               NaN   \n",
       "1                 Gilles Carbonnier                               NaN   \n",
       "\n",
       "        Publishing Institution(s)    Year  \\\n",
       "0  USAID From the American People     NaN   \n",
       "1  Overseas Development Institute  2006.0   \n",
       "\n",
       "                                    Technical Sector Special Considerations  \\\n",
       "0                    Humanitarian Assistance,Health                     NaN   \n",
       "1  Humanitarian Assistance,Peace & Security,\"Demo...               Conflict   \n",
       "\n",
       "   ... publishing_institutions found_year  \\\n",
       "0  ...               {'USAID'}        NaN   \n",
       "1  ...                   set()     2000.0   \n",
       "\n",
       "                                     countries_found  \\\n",
       "0  {'Bangladesh': 1, 'Canada': 4, 'China': 1, 'Co...   \n",
       "1  {'Afghanistan': 2, 'Argentina': 1, 'Australia'...   \n",
       "\n",
       "                     countries_limited_by_freq_found  \\\n",
       "0   ['Canada', 'India', 'Kenya', 'Rwanda', 'Uganda']   \n",
       "1  ['Afghanistan', 'Switzerland', 'United Kingdom...   \n",
       "\n",
       "                                  usaid_region_found  \\\n",
       "0  ['Afghanistan and Pakistan', 'Africa', 'Asia',...   \n",
       "1  ['Afghanistan and Pakistan', 'Africa', 'Asia',...   \n",
       "\n",
       "                                     pse_ways_labels  \\\n",
       "0  [Harnessing Private-Sector Expertise and Innov...   \n",
       "1  [Harnessing Private-Sector Expertise and Innov...   \n",
       "\n",
       "                               pse_ways_prob_founded  \\\n",
       "0  [(Harnessing Private-Sector Expertise and Inno...   \n",
       "1  [(Harnessing Private-Sector Expertise and Inno...   \n",
       "\n",
       "                         pse_ways_prob_top_1_founded  \\\n",
       "0  (Harnessing Private-Sector Expertise and Innov...   \n",
       "1  (Harnessing Private-Sector Expertise and Innov...   \n",
       "\n",
       "                         pse_ways_prob_top_2_founded  \\\n",
       "0  (Catalyzing Private-Sector Resources;, [[tenso...   \n",
       "1  (Catalyzing Private-Sector Resources;, [[tenso...   \n",
       "\n",
       "                         pse_ways_prob_top_3_founded  \n",
       "0  (Strengthening the Enabling Environment, [[ten...  \n",
       "1  (Information-Sharing and Strategic Alignment, ...  \n",
       "\n",
       "[2 rows x 43 columns]"
      ]
     },
     "execution_count": 67,
     "metadata": {},
     "output_type": "execute_result"
    }
   ],
   "source": [
    "df_new.drop(columns=['content', 'full_content'], inplace=True)\n",
    "df_new.head(2)"
   ]
  },
  {
   "cell_type": "code",
   "execution_count": 65,
   "id": "bd95958d",
   "metadata": {},
   "outputs": [],
   "source": [
    "df_new = pd.merge(simple_df,\n",
    "                df_small_text[['doc_name', 'pse_ways_labels','pse_ways_prob_founded','pse_ways_prob_top_1_founded','pse_ways_prob_top_2_founded','pse_ways_prob_top_3_founded']],\n",
    "                  on='doc_name')"
   ]
  },
  {
   "cell_type": "code",
   "execution_count": 68,
   "id": "95e99271",
   "metadata": {},
   "outputs": [],
   "source": [
    "df_new.to_excel(\"bha_2nd_set_example_with_all_student_labels.xlsx\")"
   ]
  },
  {
   "cell_type": "code",
   "execution_count": 72,
   "id": "d88070dd",
   "metadata": {},
   "outputs": [
    {
     "data": {
      "text/plain": [
       "Index(['Unnamed: 0.1', 'doc_name', 'content', 'full_content', 'Document ID',\n",
       "       'Document Title', 'Author(s)', 'Name of Private Sector Partner(s)',\n",
       "       'Publishing Institution(s)', 'Year', 'Technical Sector',\n",
       "       'Special Considerations', 'Private Sector Industry',\n",
       "       'Type of Enterprise', 'Country(ies)', 'USAID Region', 'USAID-Funded?',\n",
       "       'Type of Document', 'PSE Ways We Engage', 'PSE Key Values',\n",
       "       'PSE Key Values USAID Offers', 'Key Findings', 'Key Recommendations',\n",
       "       'Document Attachment', 'Google Drive Link', 'Internet URL of Document',\n",
       "       'Reviewer Name', 'Review Complete?', 'Review Stage', 'text_clean',\n",
       "       'document_name', 'Unnamed: 0', 'title_found', 'authors_organizations',\n",
       "       'authors_institutions', 'publishing_institutions', 'found_year',\n",
       "       'countries_found', 'countries_limited_by_freq_found',\n",
       "       'usaid_region_found'],\n",
       "      dtype='object')"
      ]
     },
     "execution_count": 72,
     "metadata": {},
     "output_type": "execute_result"
    }
   ],
   "source": [
    "simple_df.columns"
   ]
  },
  {
   "cell_type": "code",
   "execution_count": 78,
   "id": "f67670a9",
   "metadata": {},
   "outputs": [],
   "source": [
    "columns = ['doc_name', 'Document ID', 'Document Title','title_found', 'Author(s)', 'authors_organizations', 'authors_institutions', 'Year', 'found_year', 'Country(ies)', 'countries_found', 'countries_limited_by_freq_found', 'USAID Region', 'usaid_region_found', 'PSE Ways We Engage', 'pse_ways_prob_founded','pse_ways_prob_top_1_founded','pse_ways_prob_top_2_founded','pse_ways_prob_top_3_founded']\n",
    "df_new[columns].to_excel(\"bha_2nd_set_example_with_student_label_on_left.xlsx\")"
   ]
  },
  {
   "cell_type": "code",
   "execution_count": null,
   "id": "25517057",
   "metadata": {},
   "outputs": [],
   "source": []
  }
 ],
 "metadata": {
  "kernelspec": {
   "display_name": "Python 3",
   "language": "python",
   "name": "python3"
  },
  "language_info": {
   "codemirror_mode": {
    "name": "ipython",
    "version": 3
   },
   "file_extension": ".py",
   "mimetype": "text/x-python",
   "name": "python",
   "nbconvert_exporter": "python",
   "pygments_lexer": "ipython3",
   "version": "3.6.6"
  },
  "toc": {
   "base_numbering": 1,
   "nav_menu": {},
   "number_sections": true,
   "sideBar": true,
   "skip_h1_title": false,
   "title_cell": "Table of Contents",
   "title_sidebar": "Contents",
   "toc_cell": false,
   "toc_position": {},
   "toc_section_display": true,
   "toc_window_display": true
  }
 },
 "nbformat": 4,
 "nbformat_minor": 5
}
